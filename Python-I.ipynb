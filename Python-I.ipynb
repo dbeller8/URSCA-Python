{
 "cells": [
  {
   "cell_type": "markdown",
   "id": "ac4e0b20",
   "metadata": {
    "extensions": {
     "jupyter_dashboards": {
      "activeView": "grid_default",
      "version": 1,
      "views": {
       "grid_default": {
        "col": 0,
        "height": 2,
        "row": 0,
        "width": 12
       }
      }
     }
    },
    "rise": {
     "theme": "sky"
    },
    "slideshow": {
     "slide_type": "slide"
    }
   },
   "source": [
    "<h1 class=\"r-stretch\" style=\"text-align:center\"> Introduction to Python, Part I  </h1>\n",
    "\n",
    "<center>\n",
    "    <br>\n",
    "     <table style=\"background-color: white;\">\n",
    "        <tr>\n",
    "            <td>\n",
    "    <img src=\"https://www.python.org/static/community_logos/python-logo.png\" width=250 style=\"float:center\">\n",
    "            </td>\n",
    "            <td>\n",
    "    <img src=\"https://brand.jhu.edu/assets/uploads/sites/5/2014/06/university.logo_.small_.horizontal.blue_.jpg\" width=250 style=\"float:center\">\n",
    "            </td>\n",
    "            </tr>\n",
    "    </table>\n",
    "        <br>\n",
    "    Johns Hopkins University  <br>\n",
    "Krieger School of Arts and Sciences  <br>\n",
    "Office of Undergraduate Research, Scholarly and Creative Activity (URSCA) <br>\n",
    "May 23, 2022 <br>\n",
    "    <br>\n",
    "    Prof. Daniel Beller <br>\n",
    "    JHU Department of Physics &amp; Astronomy\n",
    "    </center>\n",
    " </section>"
   ]
  },
  {
   "cell_type": "markdown",
   "id": "9e83fa44",
   "metadata": {
    "extensions": {
     "jupyter_dashboards": {
      "activeView": "grid_default",
      "version": 1,
      "views": {
       "grid_default": {
        "col": 0,
        "height": 2,
        "row": 2,
        "width": 12
       }
      }
     }
    },
    "slideshow": {
     "slide_type": "slide"
    },
    "tags": []
   },
   "source": [
    "<div style=\"float:right\">\n",
    "    <img src=\"https://www.python.org/static/community_logos/python-logo.png\" width=250>\n",
    "</div>\n",
    "\n",
    "## What is Python?  \n",
    "\n",
    "<br>\n",
    "\n",
    "<table width=100%>\n",
    "    <tr>\n",
    "        <td>\n",
    "Python is a <span class=\"new_term\">computer programming language</span>: <br><span class=\"fragment\"> <ul><li> rules for turning a text document written by a human (the <span class=\"new_term\"> program file</span>) into instructions that a computer can run (the <span class=\"new_term\">executable</span>).</li></ul></span>   <br> <br> \n",
    "    <span class=\"fragment\">Compared to other programming languages, Python was designed to be more similar to English and easier to read.</span>\n",
    "        </td>\n",
    "        <td width=40%>\n",
    "            <table>\n",
    "                <tr>\n",
    "                    <td>\n",
    "            <img src=\"https://victoria.mediaplanet.com/app/uploads/sites/143/2020/03/Female-data-scientist-at-work-888x500.jpg\" width=250> \n",
    "                    </td>\n",
    "                    <td>→\n",
    "                    </td>\n",
    "                    <td>\n",
    "            \n",
    "<img src=\"https://cdn3.iconfinder.com/data/icons/data-sharing-flat-colorful/614/4963_-_Computer_Binary_Code-512.png\" width=250>\n",
    "                    </td>\n",
    "            </table>\n",
    "                </td>\n",
    "    </tr>\n",
    "    </table>\n",
    "\n"
   ]
  },
  {
   "cell_type": "markdown",
   "id": "e290ad21",
   "metadata": {
    "extensions": {
     "jupyter_dashboards": {
      "version": 1,
      "views": {
       "grid_default": {
        "col": 0,
        "height": 2,
        "row": 4,
        "width": 12
       }
      }
     }
    },
    "slideshow": {
     "slide_type": "slide"
    }
   },
   "source": [
    "## Why learn Python?"
   ]
  },
  {
   "cell_type": "markdown",
   "id": "27f4d791",
   "metadata": {
    "slideshow": {
     "slide_type": "-"
    }
   },
   "source": [
    "<div height=80%>\n",
    "        <div class = \"fragment fade-in-then-semi-out\">\n",
    "        <h4> Useful in a wide range of careers </h4>\n",
    "    Python has become one of the most popular programming languages for:\n",
    "        <ul>\n",
    "            <li> scientific computing </li>\n",
    "            <li> data science (\"big data\") </li>\n",
    "            <li> machine learning (artificial intelligence) </li>\n",
    "            <li> computerized tasks in a variety of industries such <br> as web development and finance </li>\n",
    "        </ul>\n",
    "    <img src=\"https://myseco.militaryonesource.mil/Portal/Media/Default/O-Images/businesswomen-discussing-coding-on-computer-g1180183927.jpg?content\" align=\"right\" width=25% style=\"  border: 2px solid #111;\">\n",
    "    </div>\n",
    "     <div class=\"fragment fade-in-then-semi-out\t\">\n",
    "         <h4> It's free </h4> \n",
    "         Unlike some popular alternatives such as Matlab.\n",
    "    </div>\n",
    "    <div class=\"fragment fade-in-then-semi-out\t\">\n",
    "        <h4> Python is a great language for <em>scripting</em> </h4>\n",
    "        <img src=\"https://automatetheboringstuff.com/images/cover_automate2_thumb.jpg\" style=\"float:right\" width=15%>\n",
    "           automating small tasks with text, math, and web data        \n",
    "    </div>\n",
    "    <div class=\"fragment fade-in-then-semi-out\t\">\n",
    "        <h4> Huge library of free software </h4>\n",
    "        from astrophysics to writing music to running <em> Minecraft </em>\n",
    "        <img src=\"https://pypi.org/static/images/logo-large.6bdbb439.svg\" style=\"float:right\">\n",
    "    </div>\n",
    "    <div class=\"fragment fade-in-then-semi-out\">\n",
    "        <h4>Gateway to programming </h4> \n",
    "            <table style=\"float:right;\" width=25%>\n",
    "                <tr>\n",
    "                    <td>\n",
    "            <img src=\"https://upload.wikimedia.org/wikipedia/commons/1/19/C_Logo.png\">\n",
    "                    </td>\n",
    "                    <td>\n",
    "            <img src=\"https://upload.wikimedia.org/wikipedia/commons/thumb/1/18/ISO_C%2B%2B_Logo.svg/306px-ISO_C%2B%2B_Logo.svg.png\">\n",
    "                    </td>        \n",
    "                    <td>\n",
    "            <img src=\"https://logoeps.com/wp-content/uploads/2013/03/java-eps-vector-logo.png\">\n",
    "                    </td>\n",
    "                </tr>\n",
    "        </table>\n",
    "        Python is pretty similar to other widely used programming languages like C, C++, and Java. <br>\n",
    "        Once you learn some Python, you have a big head start in learning other languages.             <br><br>\n",
    "    </div>\n",
    "</div>\n",
    "\n"
   ]
  },
  {
   "cell_type": "markdown",
   "id": "c665de57",
   "metadata": {
    "slideshow": {
     "slide_type": "slide"
    }
   },
   "source": [
    "## Goals for these sessions"
   ]
  },
  {
   "cell_type": "markdown",
   "id": "79e06520",
   "metadata": {
    "slideshow": {
     "slide_type": "fragment"
    }
   },
   "source": [
    "* Learn the fundamentals of the Python language"
   ]
  },
  {
   "cell_type": "markdown",
   "id": "7b7b31e6",
   "metadata": {
    "slideshow": {
     "slide_type": "fragment"
    }
   },
   "source": [
    "* Write and run your own program"
   ]
  },
  {
   "cell_type": "markdown",
   "id": "cd08a493",
   "metadata": {
    "slideshow": {
     "slide_type": "fragment"
    }
   },
   "source": [
    "* You'll gain the necessary foundation to teach yourself more, if you'd like \n",
    "<img class=\"fragment fade-up\" src=\"tutorial-screenshot.png\" style=\"float:right\" width=40%>"
   ]
  },
  {
   "cell_type": "markdown",
   "id": "948ca2e1",
   "metadata": {
    "extensions": {
     "jupyter_dashboards": {
      "version": 1,
      "views": {
       "grid_default": {
        "col": 0,
        "height": 2,
        "row": 6,
        "width": 12
       }
      }
     }
    },
    "slideshow": {
     "slide_type": "slide"
    }
   },
   "source": [
    "## How can I use Python?"
   ]
  },
  {
   "cell_type": "markdown",
   "id": "92915897",
   "metadata": {
    "slideshow": {
     "slide_type": "fragment"
    }
   },
   "source": [
    "We need a **Python interpreter**: Special program to translate our program file into an executable. \n",
    "\n",
    "* Usually when we say \"Python\" we mean both the language and the intepreter. "
   ]
  },
  {
   "cell_type": "markdown",
   "id": "e58bd417",
   "metadata": {
    "slideshow": {
     "slide_type": "fragment"
    }
   },
   "source": [
    "**The traditional way:** Download the interpreter from www.python.org and install. "
   ]
  },
  {
   "cell_type": "markdown",
   "id": "421d2bb8",
   "metadata": {
    "slideshow": {
     "slide_type": "fragment"
    }
   },
   "source": [
    "**What we'll do today:** Use a web-based interpreter. \n",
    "\n",
    "\n",
    "\n",
    "1. In web browser, go to [jupyter.org/try](https://jupyter.org/try).\n",
    "1. Scroll down and click on the Python symbol <img src=\"https://jupyter.org/assets/try/python.svg\" width=15%>\n",
    "1. Go File -> New -> Notebook \n",
    "1. Press `OK` to accept \"Pyolite\" as the kernel \n",
    "\n",
    "<img src=\"try-screenshot.png\" width=40% style=\"float:right\">\n",
    "<br>\n",
    "<br>"
   ]
  },
  {
   "cell_type": "markdown",
   "id": "e968d4b8",
   "metadata": {
    "extensions": {
     "jupyter_dashboards": {
      "activeView": "grid_default",
      "version": 1,
      "views": {
       "grid_default": {
        "col": 0,
        "height": 2,
        "row": 8,
        "width": 12
       }
      }
     }
    },
    "slideshow": {
     "slide_type": "slide"
    }
   },
   "source": [
    "## Writing your first Python program"
   ]
  },
  {
   "cell_type": "markdown",
   "id": "71a43af7",
   "metadata": {
    "slideshow": {
     "slide_type": "fragment"
    }
   },
   "source": [
    "Click on the empty gray bar to start typing. Enter this:"
   ]
  },
  {
   "cell_type": "code",
   "execution_count": null,
   "id": "d251c351",
   "metadata": {
    "collapsed": true,
    "slideshow": {
     "slide_type": "fragment"
    }
   },
   "outputs": [],
   "source": [
    "print(\"Hello world\")"
   ]
  },
  {
   "cell_type": "markdown",
   "id": "6c682f1b",
   "metadata": {
    "slideshow": {
     "slide_type": "fragment"
    }
   },
   "source": [
    "Then hold down `Shift` and press `Enter`. You should see:"
   ]
  },
  {
   "cell_type": "code",
   "execution_count": 35,
   "id": "0459fc47",
   "metadata": {
    "scrolled": true,
    "slideshow": {
     "slide_type": "-"
    }
   },
   "outputs": [
    {
     "name": "stdout",
     "output_type": "stream",
     "text": [
      "Hello world\n"
     ]
    }
   ],
   "source": [
    "print(\"Hello world\")"
   ]
  },
  {
   "cell_type": "markdown",
   "id": "baa6a3ce",
   "metadata": {},
   "source": [
    "That's it! You've written your first Python program! 🤗"
   ]
  },
  {
   "cell_type": "markdown",
   "id": "878955a9",
   "metadata": {
    "extensions": {
     "jupyter_dashboards": {
      "version": 1,
      "views": {
       "grid_default": {
        "col": 0,
        "height": 2,
        "row": 12,
        "width": 12
       }
      }
     }
    },
    "slideshow": {
     "slide_type": "slide"
    }
   },
   "source": [
    "## Math basics\n",
    "\n",
    "The Python interpreter can work as a calculator. Scientists who use Python rely on this extensively."
   ]
  },
  {
   "cell_type": "markdown",
   "id": "9beb55a0",
   "metadata": {
    "slideshow": {
     "slide_type": "fragment"
    }
   },
   "source": [
    "### Integers"
   ]
  },
  {
   "cell_type": "markdown",
   "id": "8abcf3dd",
   "metadata": {
    "slideshow": {
     "slide_type": "fragment"
    }
   },
   "source": [
    "Addition"
   ]
  },
  {
   "cell_type": "code",
   "execution_count": 36,
   "id": "0520a620",
   "metadata": {},
   "outputs": [
    {
     "data": {
      "text/plain": [
       "3"
      ]
     },
     "execution_count": 36,
     "metadata": {},
     "output_type": "execute_result"
    }
   ],
   "source": [
    "1 + 2"
   ]
  },
  {
   "cell_type": "markdown",
   "id": "0811a323",
   "metadata": {
    "slideshow": {
     "slide_type": "fragment"
    }
   },
   "source": [
    "Subtraction"
   ]
  },
  {
   "cell_type": "code",
   "execution_count": 234,
   "id": "3c2b967d",
   "metadata": {},
   "outputs": [
    {
     "data": {
      "text/plain": [
       "-6"
      ]
     },
     "execution_count": 234,
     "metadata": {},
     "output_type": "execute_result"
    }
   ],
   "source": [
    "2 - 8"
   ]
  },
  {
   "cell_type": "markdown",
   "id": "92699d86",
   "metadata": {},
   "source": [
    "  "
   ]
  },
  {
   "cell_type": "markdown",
   "id": "fd202550",
   "metadata": {
    "slideshow": {
     "slide_type": "subslide"
    }
   },
   "source": [
    "### Integers (continued)"
   ]
  },
  {
   "cell_type": "markdown",
   "id": "2f5bb092",
   "metadata": {
    "slideshow": {
     "slide_type": "fragment"
    }
   },
   "source": [
    "Use asterisk `*` for multiplication."
   ]
  },
  {
   "cell_type": "code",
   "execution_count": 2,
   "id": "9437d5b2",
   "metadata": {},
   "outputs": [
    {
     "data": {
      "text/plain": [
       "15"
      ]
     },
     "execution_count": 2,
     "metadata": {},
     "output_type": "execute_result"
    }
   ],
   "source": [
    "3 * 5"
   ]
  },
  {
   "cell_type": "markdown",
   "id": "9b6e214d",
   "metadata": {
    "slideshow": {
     "slide_type": "fragment"
    }
   },
   "source": [
    "Use `//` to divide one integer by another."
   ]
  },
  {
   "cell_type": "code",
   "execution_count": 39,
   "id": "43b8a912",
   "metadata": {},
   "outputs": [
    {
     "data": {
      "text/plain": [
       "8"
      ]
     },
     "execution_count": 39,
     "metadata": {},
     "output_type": "execute_result"
    }
   ],
   "source": [
    "16 // 2"
   ]
  },
  {
   "cell_type": "markdown",
   "id": "cd0b59a6",
   "metadata": {
    "slideshow": {
     "slide_type": "fragment"
    }
   },
   "source": [
    "Use `%` for remainder"
   ]
  },
  {
   "cell_type": "code",
   "execution_count": 40,
   "id": "abe28a63",
   "metadata": {},
   "outputs": [
    {
     "data": {
      "text/plain": [
       "3"
      ]
     },
     "execution_count": 40,
     "metadata": {},
     "output_type": "execute_result"
    }
   ],
   "source": [
    "7 // 2"
   ]
  },
  {
   "cell_type": "code",
   "execution_count": 41,
   "id": "dcf500b5",
   "metadata": {},
   "outputs": [
    {
     "data": {
      "text/plain": [
       "1"
      ]
     },
     "execution_count": 41,
     "metadata": {},
     "output_type": "execute_result"
    }
   ],
   "source": [
    "7 % 2"
   ]
  },
  {
   "cell_type": "markdown",
   "id": "48fca3f3",
   "metadata": {},
   "source": [
    " "
   ]
  },
  {
   "cell_type": "markdown",
   "id": "86e85aa2",
   "metadata": {
    "slideshow": {
     "slide_type": "subslide"
    }
   },
   "source": [
    "Exponents use `**`. \n",
    "\n",
    "For example, to calculate $3^2$:"
   ]
  },
  {
   "cell_type": "code",
   "execution_count": 43,
   "id": "ce07742c",
   "metadata": {},
   "outputs": [
    {
     "data": {
      "text/plain": [
       "9"
      ]
     },
     "execution_count": 43,
     "metadata": {},
     "output_type": "execute_result"
    }
   ],
   "source": [
    "3 ** 2 "
   ]
  },
  {
   "cell_type": "markdown",
   "id": "28e7e3df",
   "metadata": {
    "slideshow": {
     "slide_type": "fragment"
    }
   },
   "source": [
    "Python math obeys order of operations: "
   ]
  },
  {
   "cell_type": "code",
   "execution_count": 44,
   "id": "44185d1e",
   "metadata": {},
   "outputs": [
    {
     "data": {
      "text/plain": [
       "16"
      ]
     },
     "execution_count": 44,
     "metadata": {},
     "output_type": "execute_result"
    }
   ],
   "source": [
    "4 + 3 * 2**2"
   ]
  },
  {
   "cell_type": "markdown",
   "id": "beac87cb",
   "metadata": {
    "slideshow": {
     "slide_type": "fragment"
    }
   },
   "source": [
    "Use parentheses `()` to change order of operations"
   ]
  },
  {
   "cell_type": "code",
   "execution_count": 45,
   "id": "5d3f3c16",
   "metadata": {},
   "outputs": [
    {
     "data": {
      "text/plain": [
       "28"
      ]
     },
     "execution_count": 45,
     "metadata": {},
     "output_type": "execute_result"
    }
   ],
   "source": [
    "(4 + 3) * 2**2 "
   ]
  },
  {
   "cell_type": "markdown",
   "id": "04e62591",
   "metadata": {
    "slideshow": {
     "slide_type": "slide"
    }
   },
   "source": [
    "## Math basics: floats\n",
    "\n",
    "A number with a decimal point is called a <span class=\"new_term\">float</span>. \n",
    "\n",
    "Python math works mostly the same with floats as with integers. "
   ]
  },
  {
   "cell_type": "markdown",
   "id": "393d641f",
   "metadata": {
    "slideshow": {
     "slide_type": "subslide"
    }
   },
   "source": [
    "Let's divide a $76.15 dinner bill among four friends:"
   ]
  },
  {
   "cell_type": "code",
   "execution_count": 46,
   "id": "8a448c8e",
   "metadata": {},
   "outputs": [
    {
     "data": {
      "text/plain": [
       "19.0375"
      ]
     },
     "execution_count": 46,
     "metadata": {},
     "output_type": "execute_result"
    }
   ],
   "source": [
    "76.15 / 4"
   ]
  },
  {
   "cell_type": "markdown",
   "id": "ac4bc5cf",
   "metadata": {},
   "source": [
    "In real life we'd round to the nearest cent: $19.04. Python can even help us do this:"
   ]
  },
  {
   "cell_type": "code",
   "execution_count": 47,
   "id": "782cde32",
   "metadata": {},
   "outputs": [
    {
     "data": {
      "text/plain": [
       "19.04"
      ]
     },
     "execution_count": 47,
     "metadata": {},
     "output_type": "execute_result"
    }
   ],
   "source": [
    "round(76.15 / 4, 2)"
   ]
  },
  {
   "cell_type": "markdown",
   "id": "b64966cb",
   "metadata": {
    "slideshow": {
     "slide_type": "slide"
    }
   },
   "source": [
    "What's 71% of 505, out to 2 decimal places?"
   ]
  },
  {
   "cell_type": "code",
   "execution_count": 9,
   "id": "2a954cb4",
   "metadata": {
    "slideshow": {
     "slide_type": "fragment"
    }
   },
   "outputs": [
    {
     "data": {
      "text/plain": [
       "358.55"
      ]
     },
     "execution_count": 9,
     "metadata": {},
     "output_type": "execute_result"
    }
   ],
   "source": [
    "round(0.71 * 505, 2)"
   ]
  },
  {
   "cell_type": "markdown",
   "id": "e8279b91",
   "metadata": {
    "slideshow": {
     "slide_type": "fragment"
    }
   },
   "source": [
    "<span class=\"your_turn\"> Try it yourself </span>\n",
    "\n",
    "Use Python to calculate an **18%** tip for your waiter if your dinner bill was **$19.04**."
   ]
  },
  {
   "cell_type": "code",
   "execution_count": 48,
   "id": "2e19a3d4",
   "metadata": {
    "slideshow": {
     "slide_type": "fragment"
    }
   },
   "outputs": [
    {
     "data": {
      "text/plain": [
       "3.43"
      ]
     },
     "execution_count": 48,
     "metadata": {},
     "output_type": "execute_result"
    }
   ],
   "source": [
    "round(19.04 * 0.18, 2)"
   ]
  },
  {
   "cell_type": "markdown",
   "id": "32bbf8bb",
   "metadata": {},
   "source": [
    "The tip is $3.43."
   ]
  },
  {
   "cell_type": "markdown",
   "id": "9c24823e",
   "metadata": {
    "extensions": {
     "jupyter_dashboards": {
      "version": 1,
      "views": {
       "grid_default": {
        "col": 0,
        "height": 2,
        "row": 10,
        "width": 12
       }
      }
     }
    },
    "slideshow": {
     "slide_type": "slide"
    }
   },
   "source": [
    "## Comments\n",
    "\n",
    "If you type `#`, everything after that on the same line is a <span class=\"new_term\">comment</span>.   \n",
    "\n",
    "A comment is just for human programmers to read. The computer ignores it."
   ]
  },
  {
   "cell_type": "code",
   "execution_count": 2,
   "id": "dd80e08b",
   "metadata": {},
   "outputs": [
    {
     "data": {
      "text/plain": [
       "5.0"
      ]
     },
     "execution_count": 2,
     "metadata": {},
     "output_type": "execute_result"
    }
   ],
   "source": [
    "# This is a comment! \n",
    "\n",
    "2.5 * 2 # In this line we multiply 2.5 by 2"
   ]
  },
  {
   "cell_type": "markdown",
   "id": "7f8d73c5",
   "metadata": {
    "slideshow": {
     "slide_type": "fragment"
    }
   },
   "source": [
    "Use comments to explain your program in plain English."
   ]
  },
  {
   "cell_type": "code",
   "execution_count": null,
   "id": "b59e1c71",
   "metadata": {},
   "outputs": [],
   "source": [
    "(4 + 3) * 2**2 # use parentheses so addition happens first"
   ]
  },
  {
   "cell_type": "markdown",
   "id": "e1c64b4e",
   "metadata": {
    "slideshow": {
     "slide_type": "fragment"
    }
   },
   "source": [
    "<span class=\"your_turn\"> Try it yourself </span> — add a comment to your Hello World program.\n"
   ]
  },
  {
   "cell_type": "markdown",
   "id": "bfeb898d",
   "metadata": {
    "slideshow": {
     "slide_type": "slide"
    }
   },
   "source": [
    "## Errors\n",
    "\n",
    "If any line in your program doesn't make sense to the Python interpreter, the program will stop and show you an <span class=\"new_term\">Error</span> message."
   ]
  },
  {
   "cell_type": "code",
   "execution_count": 68,
   "id": "48d5ce79",
   "metadata": {
    "slideshow": {
     "slide_type": "fragment"
    }
   },
   "outputs": [
    {
     "ename": "SyntaxError",
     "evalue": "invalid syntax (<ipython-input-68-c15316683c82>, line 2)",
     "output_type": "error",
     "traceback": [
      "\u001b[0;36m  File \u001b[0;32m\"<ipython-input-68-c15316683c82>\"\u001b[0;36m, line \u001b[0;32m2\u001b[0m\n\u001b[0;31m    my second variable = 4.5\u001b[0m\n\u001b[0m       ^\u001b[0m\n\u001b[0;31mSyntaxError\u001b[0m\u001b[0;31m:\u001b[0m invalid syntax\n"
     ]
    }
   ],
   "source": [
    "my_first_variable = 3.5 \n",
    "my second variable = 4.5"
   ]
  },
  {
   "cell_type": "markdown",
   "id": "62d43c90",
   "metadata": {
    "slideshow": {
     "slide_type": "fragment"
    }
   },
   "source": [
    "Don't be embarassed. These \"bugs\" happen all the time to computer programmers. Python tries to help you \"debug\". \n",
    "\n",
    "<span class=\"your_turn\">Can you see how to fix the error?</span>\n"
   ]
  },
  {
   "cell_type": "markdown",
   "id": "4ae20199",
   "metadata": {
    "slideshow": {
     "slide_type": "fragment"
    }
   },
   "source": [
    "<code > my_first_variable = 3.5 </code><br>\n",
    "<code class=\"fragment highlight-blue\"> my_second_variable = 4.5 </code>\n",
    "<br><br><br>"
   ]
  },
  {
   "cell_type": "markdown",
   "id": "bf28db6f",
   "metadata": {
    "extensions": {
     "jupyter_dashboards": {
      "version": 1,
      "views": {
       "grid_default": {
        "col": 0,
        "height": 2,
        "row": 14,
        "width": 12
       }
      }
     }
    },
    "slideshow": {
     "slide_type": "slide"
    }
   },
   "source": [
    "## Variables and Assignment"
   ]
  },
  {
   "cell_type": "markdown",
   "id": "90932fef",
   "metadata": {
    "slideshow": {
     "slide_type": "fragment"
    }
   },
   "source": [
    "Using the `=` character, we can <span class=\"new_term\">assign</span> a value, such as `5`, to a variable name, such as `x`:"
   ]
  },
  {
   "cell_type": "code",
   "execution_count": 50,
   "id": "52b246dc",
   "metadata": {},
   "outputs": [],
   "source": [
    "x = 5 # assignment "
   ]
  },
  {
   "cell_type": "code",
   "execution_count": 51,
   "id": "df8361ef",
   "metadata": {
    "scrolled": true,
    "slideshow": {
     "slide_type": "fragment"
    }
   },
   "outputs": [
    {
     "data": {
      "text/plain": [
       "5"
      ]
     },
     "execution_count": 51,
     "metadata": {},
     "output_type": "execute_result"
    }
   ],
   "source": [
    "x     # show the value assigned to x"
   ]
  },
  {
   "cell_type": "code",
   "execution_count": 53,
   "id": "6672afb7",
   "metadata": {
    "slideshow": {
     "slide_type": "fragment"
    }
   },
   "outputs": [
    {
     "data": {
      "text/plain": [
       "16"
      ]
     },
     "execution_count": 53,
     "metadata": {},
     "output_type": "execute_result"
    }
   ],
   "source": [
    "x + 11 # do math with the variable in place of 5"
   ]
  },
  {
   "cell_type": "markdown",
   "id": "4870e5b4",
   "metadata": {
    "slideshow": {
     "slide_type": "subslide"
    }
   },
   "source": [
    "<h3 class=\"fragment semi-fade-out\"> Variables and Assignment </h3>\n",
    "\n",
    "<span class=\"fragment\">\n",
    "    By combining <span class=\"new_term\"> assignment </span> with Python math, we can break up a many-step calculation into easy chunks.\n",
    "    </span>"
   ]
  },
  {
   "cell_type": "code",
   "execution_count": 55,
   "id": "f9f48324",
   "metadata": {
    "slideshow": {
     "slide_type": "fragment"
    }
   },
   "outputs": [
    {
     "name": "stdout",
     "output_type": "stream",
     "text": [
      "22.46\n"
     ]
    }
   ],
   "source": [
    "# The dinner bill for all four friends:\n",
    "bill = 76.15 \n",
    "\n",
    "# The share of the bill owed by each friend:\n",
    "my_bill = bill / 4\n",
    "\n",
    "# Each friend's 18% tip:\n",
    "my_tip = my_bill * 0.18 \n",
    "\n",
    "# How much each friend should pay:\n",
    "my_total = my_bill + my_tip\n",
    "\n",
    "# Round to the nearest cent:\n",
    "my_total_rounded = round(my_total, 2)\n",
    "\n",
    "# Show how much I should pay\n",
    "print(my_total_rounded)"
   ]
  },
  {
   "cell_type": "markdown",
   "id": "d3b11047",
   "metadata": {},
   "source": [
    "<br><br><br>"
   ]
  },
  {
   "cell_type": "markdown",
   "id": "8340941d",
   "metadata": {
    "extensions": {
     "jupyter_dashboards": {
      "version": 1,
      "views": {
       "grid_default": {
        "col": 0,
        "height": 2,
        "row": 16,
        "width": 12
       }
      }
     }
    },
    "slideshow": {
     "slide_type": "slide"
    }
   },
   "source": [
    "## Strings\n",
    "\n",
    "Besides working with numbers, Python also makes it easy to work with **text**. \n",
    "\n",
    "Any chunk of text surrounded by `' '` or `\" \"` is called a <span class=\"new_term\">string</span>."
   ]
  },
  {
   "cell_type": "code",
   "execution_count": 56,
   "id": "716a3e30",
   "metadata": {
    "slideshow": {
     "slide_type": "fragment"
    }
   },
   "outputs": [
    {
     "name": "stdout",
     "output_type": "stream",
     "text": [
      "Python is a great computer programming language\n"
     ]
    }
   ],
   "source": [
    "print(\"Python is a great computer programming language\")"
   ]
  },
  {
   "cell_type": "markdown",
   "id": "7db89ac8",
   "metadata": {
    "slideshow": {
     "slide_type": "fragment"
    }
   },
   "source": [
    "A string can be assigned as the value of a variable."
   ]
  },
  {
   "cell_type": "code",
   "execution_count": 14,
   "id": "2d60d6b4",
   "metadata": {
    "slideshow": {
     "slide_type": "-"
    }
   },
   "outputs": [
    {
     "name": "stdout",
     "output_type": "stream",
     "text": [
      "Hakuna Matata\n"
     ]
    }
   ],
   "source": [
    "wonderful_phrase = \"Hakuna Matata\"\n",
    "\n",
    "print(wonderful_phrase)"
   ]
  },
  {
   "cell_type": "markdown",
   "id": "d2bb5404",
   "metadata": {
    "slideshow": {
     "slide_type": "subslide"
    }
   },
   "source": [
    "<h2 class=\"fragment fade-in-then-semi-out\">Strings</h2>"
   ]
  },
  {
   "cell_type": "markdown",
   "id": "29a6eade",
   "metadata": {
    "slideshow": {
     "slide_type": "fragment"
    }
   },
   "source": [
    "Use the `in` keyword  to check if a string contains a word (or letter, or phrase, etc.)"
   ]
  },
  {
   "cell_type": "code",
   "execution_count": 15,
   "id": "24cd2dda",
   "metadata": {
    "slideshow": {
     "slide_type": "fragment"
    }
   },
   "outputs": [
    {
     "data": {
      "text/plain": [
       "True"
      ]
     },
     "execution_count": 15,
     "metadata": {},
     "output_type": "execute_result"
    }
   ],
   "source": [
    "\"Matata\" in wonderful_phrase # check whether the string contains \"Matata\""
   ]
  },
  {
   "cell_type": "code",
   "execution_count": 16,
   "id": "eeb6ecef",
   "metadata": {
    "slideshow": {
     "slide_type": "fragment"
    }
   },
   "outputs": [
    {
     "data": {
      "text/plain": [
       "False"
      ]
     },
     "execution_count": 16,
     "metadata": {},
     "output_type": "execute_result"
    }
   ],
   "source": [
    "\"q\" in wonderful_phrase # check whether the letter q appears in the string"
   ]
  },
  {
   "cell_type": "markdown",
   "id": "bca53782",
   "metadata": {
    "slideshow": {
     "slide_type": "fragment"
    }
   },
   "source": [
    "We can \"add\" and \"multiply\" strings:"
   ]
  },
  {
   "cell_type": "code",
   "execution_count": 17,
   "id": "b73e2aeb",
   "metadata": {
    "slideshow": {
     "slide_type": "-"
    }
   },
   "outputs": [
    {
     "data": {
      "text/plain": [
       "\"Hakuna Matata Ain't no passing craze\""
      ]
     },
     "execution_count": 17,
     "metadata": {},
     "output_type": "execute_result"
    }
   ],
   "source": [
    "wonderful_phrase + \" Ain't no passing craze\""
   ]
  },
  {
   "cell_type": "code",
   "execution_count": 18,
   "id": "c26b0581",
   "metadata": {
    "slideshow": {
     "slide_type": "fragment"
    }
   },
   "outputs": [
    {
     "data": {
      "text/plain": [
       "'Hakuna Matata Hakuna Matata Hakuna Matata '"
      ]
     },
     "execution_count": 18,
     "metadata": {},
     "output_type": "execute_result"
    }
   ],
   "source": [
    "(wonderful_phrase + \" \") * 3"
   ]
  },
  {
   "cell_type": "markdown",
   "id": "41f5171b",
   "metadata": {
    "slideshow": {
     "slide_type": "fragment"
    }
   },
   "source": [
    "Use the `len()` function to find out how many characters are in our string (including the space!)"
   ]
  },
  {
   "cell_type": "code",
   "execution_count": 20,
   "id": "9b7eac5c",
   "metadata": {},
   "outputs": [
    {
     "data": {
      "text/plain": [
       "13"
      ]
     },
     "execution_count": 20,
     "metadata": {},
     "output_type": "execute_result"
    }
   ],
   "source": [
    "len(wonderful_phrase)"
   ]
  },
  {
   "cell_type": "markdown",
   "id": "033004b7",
   "metadata": {},
   "source": [
    "<br><br><br>"
   ]
  },
  {
   "cell_type": "markdown",
   "id": "14920d20",
   "metadata": {
    "slideshow": {
     "slide_type": "subslide"
    }
   },
   "source": [
    "If your string takes up multiple lines or has quotation marks in it, surround it by triple-quotes `\"\"\"   \"\"\"` to be safe.\n",
    "\n",
    "Here are the lyrics to an early Beatles song I like."
   ]
  },
  {
   "cell_type": "code",
   "execution_count": 235,
   "id": "01ad1dbc",
   "metadata": {
    "scrolled": true
   },
   "outputs": [],
   "source": [
    "lyrics = \"\"\"\n",
    "Oh yeah, I'll tell you something\n",
    "I think you'll understand\n",
    "When I say that something\n",
    "I wanna hold your hand\n",
    "I wanna hold your hand\n",
    "I wanna hold your hand\n",
    "\n",
    "Oh please, say to me\n",
    "You'll let me be your man\n",
    "And please, say to me\n",
    "You'll let me hold your hand\n",
    "You'll let me hold your hand\n",
    "I wanna hold your hand\n",
    "\n",
    "And when I touch you I feel happy\n",
    "Inside\n",
    "It's such a feeling that my love\n",
    "I can't hide\n",
    "I can't hide\n",
    "I can't hide\n",
    "\n",
    "Yeah, you got that something\n",
    "I think you'll understand\n",
    "When I say that something\n",
    "I wanna hold your hand\n",
    "I wanna hold your hand\n",
    "I wanna hold your hand\n",
    "\n",
    "And when I touch you I feel happy\n",
    "Inside\n",
    "It's such a feeling that my love\n",
    "I can't hide\n",
    "I can't hide\n",
    "I can't hide\n",
    "\n",
    "Yeah, you got that something\n",
    "I think you'll understand\n",
    "When I feel that something\n",
    "I wanna hold your hand\n",
    "I wanna hold your hand\n",
    "I wanna hold your hand\n",
    "I wanna hold your hand\n",
    "\"\"\""
   ]
  },
  {
   "cell_type": "markdown",
   "id": "628d6995",
   "metadata": {},
   "source": [
    "<br><br><br>\n"
   ]
  },
  {
   "cell_type": "markdown",
   "id": "860e7058",
   "metadata": {
    "slideshow": {
     "slide_type": "subslide"
    }
   },
   "source": [
    "<h2 class=\"fragment semi-fade-out\"> Strings (continued) </h2>"
   ]
  },
  {
   "cell_type": "code",
   "execution_count": 151,
   "id": "49a3299d",
   "metadata": {
    "scrolled": true,
    "slideshow": {
     "slide_type": "fragment"
    }
   },
   "outputs": [
    {
     "name": "stdout",
     "output_type": "stream",
     "text": [
      "\n",
      "Oh yeah, I'll tell you something\n",
      "I think you'll understand\n",
      "When I say that something\n",
      "I wanna hold your hand\n",
      "I wanna hold your hand\n",
      "I wanna hold your hand\n",
      "\n",
      "Oh please, say to me\n",
      "You'll let me be your man\n",
      "And please, say to me\n",
      "You'll let me hold your hand\n",
      "You'll let me hold your hand\n",
      "I wanna hold your hand\n",
      "\n",
      "And when I touch you I feel happy\n",
      "Inside\n",
      "It's such a feeling that my love\n",
      "I can't hide\n",
      "I can't hide\n",
      "I can't hide\n",
      "\n",
      "Yeah, you got that something\n",
      "I think you'll understand\n",
      "When I say that something\n",
      "I wanna hold your hand\n",
      "I wanna hold your hand\n",
      "I wanna hold your hand\n",
      "\n",
      "And when I touch you I feel happy\n",
      "Inside\n",
      "It's such a feeling that my love\n",
      "I can't hide\n",
      "I can't hide\n",
      "I can't hide\n",
      "\n",
      "Yeah, you got that something\n",
      "I think you'll understand\n",
      "When I feel that something\n",
      "I wanna hold your hand\n",
      "I wanna hold your hand\n",
      "I wanna hold your hand\n",
      "I wanna hold your hand\n",
      "\n"
     ]
    }
   ],
   "source": [
    "print(lyrics)"
   ]
  },
  {
   "cell_type": "markdown",
   "id": "8725aff1",
   "metadata": {},
   "source": [
    "Does the letter \"z\" ever appear in this song's lyrics? "
   ]
  },
  {
   "cell_type": "code",
   "execution_count": 236,
   "id": "873da863",
   "metadata": {
    "scrolled": true,
    "slideshow": {
     "slide_type": "-"
    }
   },
   "outputs": [
    {
     "data": {
      "text/plain": [
       "False"
      ]
     },
     "execution_count": 236,
     "metadata": {},
     "output_type": "execute_result"
    }
   ],
   "source": [
    "\"z\" in lyrics\n"
   ]
  },
  {
   "cell_type": "markdown",
   "id": "b449d325",
   "metadata": {},
   "source": [
    "Apparently not!"
   ]
  },
  {
   "cell_type": "markdown",
   "id": "20b71dd7",
   "metadata": {
    "slideshow": {
     "slide_type": "fragment"
    }
   },
   "source": [
    "<span class=\"your_turn\">Try it yourself: make a string</span>\n",
    "\n",
    "* Find the lyrics to a song you like (or a speech, poem, etc.)\n",
    "* Copy-paste the text into the Python notebook.\n",
    "* Use triple-quotes `\"\"\"  \"\"\"` to make a <span class=\"new_term\">string</span> out of this text, and assign it to a variable.\n",
    "* Does your song contain every letter of the alphabet? Use the `in` keyword to check for the least common letters (z, q, j, x).\n",
    "<br><br><br>"
   ]
  },
  {
   "cell_type": "markdown",
   "id": "caf4af32",
   "metadata": {
    "slideshow": {
     "slide_type": "subslide"
    }
   },
   "source": [
    "<h2 class=\"fragment semi-fade-out\"> Strings (continued) </h2>"
   ]
  },
  {
   "cell_type": "code",
   "execution_count": 239,
   "id": "9e17d9e8",
   "metadata": {
    "slideshow": {
     "slide_type": "fragment"
    }
   },
   "outputs": [
    {
     "name": "stdout",
     "output_type": "stream",
     "text": [
      "\n",
      "Oh yeah, I'll tell you something\n",
      "I think you'll understand\n",
      "When I say that something\n",
      "I wanna hold your elbow\n",
      "I wanna hold your elbow\n",
      "I wanna hold your elbow\n",
      "\n",
      "Oh please, say to me\n",
      "You'll let me be your man\n",
      "And please, say to me\n",
      "You'll let me hold your elbow\n",
      "You'll let me hold your elbow\n",
      "I wanna hold your elbow\n",
      "\n",
      "And when I touch you I feel happy\n",
      "Inside\n",
      "It's such a feeling that my love\n",
      "I can't hide\n",
      "I can't hide\n",
      "I can't hide\n",
      "\n",
      "Yeah, you got that something\n",
      "I think you'll understand\n",
      "When I say that something\n",
      "I wanna hold your elbow\n",
      "I wanna hold your elbow\n",
      "I wanna hold your elbow\n",
      "\n",
      "And when I touch you I feel happy\n",
      "Inside\n",
      "It's such a feeling that my love\n",
      "I can't hide\n",
      "I can't hide\n",
      "I can't hide\n",
      "\n",
      "Yeah, you got that something\n",
      "I think you'll understand\n",
      "When I feel that something\n",
      "I wanna hold your elbow\n",
      "I wanna hold your elbow\n",
      "I wanna hold your elbow\n",
      "I wanna hold your elbow\n",
      "\n"
     ]
    }
   ],
   "source": [
    "print(lyrics.replace(\"hand\", \"elbow\")) \n"
   ]
  },
  {
   "cell_type": "markdown",
   "id": "52f05cde",
   "metadata": {},
   "source": [
    "<br><br><br>"
   ]
  },
  {
   "cell_type": "markdown",
   "id": "f6d59993",
   "metadata": {
    "extensions": {
     "jupyter_dashboards": {
      "version": 1,
      "views": {
       "grid_default": {
        "col": 0,
        "height": 2,
        "row": 22,
        "width": 12
       }
      }
     }
    },
    "slideshow": {
     "slide_type": "slide"
    }
   },
   "source": [
    "## Comparisons\n",
    "\n",
    "There are several important symbols for comparing two numbers in Python."
   ]
  },
  {
   "cell_type": "code",
   "execution_count": 154,
   "id": "70ef73d9",
   "metadata": {
    "slideshow": {
     "slide_type": "fragment"
    }
   },
   "outputs": [
    {
     "data": {
      "text/plain": [
       "True"
      ]
     },
     "execution_count": 154,
     "metadata": {},
     "output_type": "execute_result"
    }
   ],
   "source": [
    "6 > 5 # greater than"
   ]
  },
  {
   "cell_type": "code",
   "execution_count": 155,
   "id": "5844532f",
   "metadata": {
    "scrolled": true
   },
   "outputs": [
    {
     "data": {
      "text/plain": [
       "False"
      ]
     },
     "execution_count": 155,
     "metadata": {},
     "output_type": "execute_result"
    }
   ],
   "source": [
    "5 > 6 "
   ]
  },
  {
   "cell_type": "code",
   "execution_count": 156,
   "id": "e6a65dec",
   "metadata": {
    "scrolled": true,
    "slideshow": {
     "slide_type": "fragment"
    }
   },
   "outputs": [
    {
     "data": {
      "text/plain": [
       "False"
      ]
     },
     "execution_count": 156,
     "metadata": {},
     "output_type": "execute_result"
    }
   ],
   "source": [
    "5 < 5 # less than"
   ]
  },
  {
   "cell_type": "code",
   "execution_count": 158,
   "id": "698cff0f",
   "metadata": {
    "slideshow": {
     "slide_type": "fragment"
    }
   },
   "outputs": [
    {
     "data": {
      "text/plain": [
       "True"
      ]
     },
     "execution_count": 158,
     "metadata": {},
     "output_type": "execute_result"
    }
   ],
   "source": [
    "5 <= 5 # less than or equal to (≤)"
   ]
  },
  {
   "cell_type": "code",
   "execution_count": 157,
   "id": "3d77a90f",
   "metadata": {
    "slideshow": {
     "slide_type": "fragment"
    }
   },
   "outputs": [
    {
     "data": {
      "text/plain": [
       "False"
      ]
     },
     "execution_count": 157,
     "metadata": {},
     "output_type": "execute_result"
    }
   ],
   "source": [
    "4 >= 5 # greater than or equal to (≥)"
   ]
  },
  {
   "cell_type": "markdown",
   "id": "ab212fed",
   "metadata": {
    "slideshow": {
     "slide_type": "subslide"
    }
   },
   "source": [
    "## Comparisons\n",
    "\n",
    "Because the `=` character is used for assignment, we test whether two numbers are ***equal*** using `==`."
   ]
  },
  {
   "cell_type": "code",
   "execution_count": 159,
   "id": "d366adea",
   "metadata": {},
   "outputs": [
    {
     "data": {
      "text/plain": [
       "True"
      ]
     },
     "execution_count": 159,
     "metadata": {},
     "output_type": "execute_result"
    }
   ],
   "source": [
    "len(\"Timon\") == len(\"Simba\")"
   ]
  },
  {
   "cell_type": "markdown",
   "id": "56524230",
   "metadata": {
    "slideshow": {
     "slide_type": "fragment"
    }
   },
   "source": [
    "To test whether two numbers are unequal ≠, use `!=`."
   ]
  },
  {
   "cell_type": "code",
   "execution_count": 160,
   "id": "442e87a2",
   "metadata": {},
   "outputs": [
    {
     "data": {
      "text/plain": [
       "True"
      ]
     },
     "execution_count": 160,
     "metadata": {},
     "output_type": "execute_result"
    }
   ],
   "source": [
    "len(\"Timon\") != len(\"Pumbaa\")"
   ]
  },
  {
   "cell_type": "markdown",
   "id": "6b2afef2",
   "metadata": {
    "extensions": {
     "jupyter_dashboards": {
      "version": 1,
      "views": {
       "grid_default": {
        "col": 0,
        "height": 2,
        "row": 26,
        "width": 12
       }
      }
     }
    },
    "slideshow": {
     "slide_type": "slide"
    }
   },
   "source": [
    "## Logic"
   ]
  },
  {
   "cell_type": "markdown",
   "id": "c2c81803",
   "metadata": {},
   "source": [
    "The `and` keyword between two `True`/`False` <span class=\"new_term\">conditionals</span> gives us \n",
    "* `True` if both are `True`\n",
    "* `False` if either one or both is `False`. "
   ]
  },
  {
   "cell_type": "code",
   "execution_count": 225,
   "id": "6237ae90",
   "metadata": {},
   "outputs": [
    {
     "data": {
      "text/plain": [
       "True"
      ]
     },
     "execution_count": 225,
     "metadata": {},
     "output_type": "execute_result"
    }
   ],
   "source": [
    "(\"a\" in \"cat\") and (\"g\" in \"dog\") # True and True -> True"
   ]
  },
  {
   "cell_type": "code",
   "execution_count": 231,
   "id": "411add68",
   "metadata": {},
   "outputs": [
    {
     "data": {
      "text/plain": [
       "False"
      ]
     },
     "execution_count": 231,
     "metadata": {},
     "output_type": "execute_result"
    }
   ],
   "source": [
    "(\"a\" in \"cat\") and (\"h\" in \"dog\") # True and False -> False"
   ]
  },
  {
   "cell_type": "markdown",
   "id": "96f0ecc4",
   "metadata": {
    "slideshow": {
     "slide_type": "subslide"
    }
   },
   "source": [
    "Similarly, the `or` keyword between two conditionals gives us \n",
    "\n",
    "* `True` if either one or both is `True`\n",
    "* `False` if both are `False`. "
   ]
  },
  {
   "cell_type": "code",
   "execution_count": 227,
   "id": "843bac2f",
   "metadata": {},
   "outputs": [
    {
     "data": {
      "text/plain": [
       "True"
      ]
     },
     "execution_count": 227,
     "metadata": {},
     "output_type": "execute_result"
    }
   ],
   "source": [
    "(\"a\" in \"cat\") or (\"h\" in \"dog\") # True or False -> True"
   ]
  },
  {
   "cell_type": "code",
   "execution_count": 228,
   "id": "10f07da6",
   "metadata": {},
   "outputs": [
    {
     "data": {
      "text/plain": [
       "True"
      ]
     },
     "execution_count": 228,
     "metadata": {},
     "output_type": "execute_result"
    }
   ],
   "source": [
    "(\"a\" in \"cat\") or (\"d\" in \"dog\") # True or True -> True"
   ]
  },
  {
   "cell_type": "code",
   "execution_count": 165,
   "id": "480bc07e",
   "metadata": {},
   "outputs": [
    {
     "data": {
      "text/plain": [
       "False"
      ]
     },
     "execution_count": 165,
     "metadata": {},
     "output_type": "execute_result"
    }
   ],
   "source": [
    "(\"h\" in \"cat\") or (\"k\" in \"dog\") # False or False -> False "
   ]
  },
  {
   "cell_type": "markdown",
   "id": "12434203",
   "metadata": {
    "slideshow": {
     "slide_type": "subslide"
    }
   },
   "source": [
    "`not` in front of any conditional turns `True` into `False` and vice versa."
   ]
  },
  {
   "cell_type": "code",
   "execution_count": 166,
   "id": "ad4f02a9",
   "metadata": {},
   "outputs": [
    {
     "data": {
      "text/plain": [
       "False"
      ]
     },
     "execution_count": 166,
     "metadata": {},
     "output_type": "execute_result"
    }
   ],
   "source": [
    "not True"
   ]
  },
  {
   "cell_type": "code",
   "execution_count": 232,
   "id": "f4761dbd",
   "metadata": {},
   "outputs": [
    {
     "data": {
      "text/plain": [
       "True"
      ]
     },
     "execution_count": 232,
     "metadata": {},
     "output_type": "execute_result"
    }
   ],
   "source": [
    "not \"w\" in \"pig\""
   ]
  },
  {
   "cell_type": "code",
   "execution_count": 233,
   "id": "6433fe34",
   "metadata": {
    "slideshow": {
     "slide_type": "fragment"
    }
   },
   "outputs": [
    {
     "data": {
      "text/plain": [
       "True"
      ]
     },
     "execution_count": 233,
     "metadata": {},
     "output_type": "execute_result"
    }
   ],
   "source": [
    "\"w\" not in \"pig\" # another way to write the same thing"
   ]
  },
  {
   "cell_type": "markdown",
   "id": "b00c8518",
   "metadata": {
    "slideshow": {
     "slide_type": "slide"
    }
   },
   "source": [
    "<span class=\"your_turn\">Try it yourself: Conditionals</span>\n",
    "\n",
    "* Using your text from the previous activity, come up with two words that *are* in your text and two other words that *aren't* in your text.\n",
    "* Make four conditionals of the format `<word> in <text>`. In my example, one conditional could be:"
   ]
  },
  {
   "cell_type": "code",
   "execution_count": 240,
   "id": "9be6a5b2",
   "metadata": {},
   "outputs": [
    {
     "data": {
      "text/plain": [
       "True"
      ]
     },
     "execution_count": 240,
     "metadata": {},
     "output_type": "execute_result"
    }
   ],
   "source": [
    "\"wanna\" in lyrics\n"
   ]
  },
  {
   "cell_type": "markdown",
   "id": "a3dee215",
   "metadata": {},
   "source": [
    "* Use `and` and `or` to put conditionals together. For example,"
   ]
  },
  {
   "cell_type": "code",
   "execution_count": 242,
   "id": "c20430c5",
   "metadata": {},
   "outputs": [
    {
     "data": {
      "text/plain": [
       "False"
      ]
     },
     "execution_count": 242,
     "metadata": {},
     "output_type": "execute_result"
    }
   ],
   "source": [
    "(\"wanna\" in lyrics) and (\"pony\" in lyrics)\n"
   ]
  },
  {
   "cell_type": "markdown",
   "id": "dfee96d5",
   "metadata": {},
   "source": [
    "* Try to come up with two such statements that evaluate to `True`, and two others that evaluate to `False`."
   ]
  },
  {
   "cell_type": "markdown",
   "id": "02bca7f8",
   "metadata": {
    "slideshow": {
     "slide_type": "slide"
    }
   },
   "source": [
    "## Summary of Part I \n",
    "\n",
    "* Today we introduced Python's fundamentals for\n",
    "    * math: <span class=\"new_term\">integers</span> and <span class=\"new_term\">floats</span>\n",
    "    * text: <span class=\"new_term\">strings</span>\n",
    "    * comparisons: (`>`, `==`, etc.)\n",
    "    * logic: `and`/`or`/`not`\n",
    "* Tomorrow we will introduce <span class=\"new_term\">functions</span>, which are the most important concept for making computer programs useful. <br><br><br>"
   ]
  },
  {
   "cell_type": "markdown",
   "id": "3eef03b6",
   "metadata": {
    "slideshow": {
     "slide_type": "slide"
    }
   },
   "source": [
    "<h1 class=\"r-stretch\" style=\"text-align:center\"> Introduction to Python, Part II  </h1>\n",
    "\n",
    "<center>\n",
    "    <br>\n",
    "     <table style=\"background-color: white;\">\n",
    "        <tr>\n",
    "            <td>\n",
    "    <img src=\"https://www.python.org/static/community_logos/python-logo.png\" width=250 style=\"float:center\">\n",
    "            </td>\n",
    "            <td>\n",
    "    <img src=\"https://brand.jhu.edu/assets/uploads/sites/5/2014/06/university.logo_.small_.horizontal.blue_.jpg\" width=250 style=\"float:center\">\n",
    "            </td>\n",
    "            </tr>\n",
    "    </table>\n",
    "        <br>\n",
    "    Johns Hopkins University  <br>\n",
    "Krieger School of Arts and Sciences  <br>\n",
    "Office of Undergraduate Research, Scholarly and Creative Activity (URSCA) <br>\n",
    "May 24, 2022 <br>\n",
    "    <br>\n",
    "    Prof. Daniel Beller <br>\n",
    "    JHU Department of Physics &amp; Astronomy\n",
    "    </center>\n",
    " </section>"
   ]
  },
  {
   "cell_type": "markdown",
   "id": "ac63270b",
   "metadata": {
    "extensions": {
     "jupyter_dashboards": {
      "version": 1,
      "views": {
       "grid_default": {
        "col": 0,
        "height": 2,
        "row": 28,
        "width": 12
       }
      }
     }
    },
    "slideshow": {
     "slide_type": "slide"
    }
   },
   "source": [
    "## `if` statements\n",
    "\n",
    "We usually want the program to *do* something if our <span class=\"new_term\">conditional</span> evaluates to `True`. The `if` statement is fundamental to Python logic."
   ]
  },
  {
   "cell_type": "code",
   "execution_count": 171,
   "id": "e413ca39",
   "metadata": {
    "slideshow": {
     "slide_type": "fragment"
    }
   },
   "outputs": [
    {
     "name": "stdout",
     "output_type": "stream",
     "text": [
      "x is less than 6\n",
      "Now y equals 12\n"
     ]
    }
   ],
   "source": [
    "x = 5\n",
    "y = 8\n",
    "\n",
    "if x < 6: \n",
    "    print(\"x is less than 6\") \n",
    "    y = 12                    \n",
    "    \n",
    "print(\"Now y equals\", y)  "
   ]
  },
  {
   "cell_type": "markdown",
   "id": "151c1bb1",
   "metadata": {
    "slideshow": {
     "slide_type": "fragment"
    }
   },
   "source": [
    "Notice formatting:\n",
    "\n",
    "* The `if` statement ends in colon `:`\n",
    "* Following this is an <span class=\"new_term\">indented code block</span> containing any number of lines. (Use 'tab' key.)\n",
    "* Delete the indent to leave the `if` block."
   ]
  },
  {
   "cell_type": "markdown",
   "id": "08d17417",
   "metadata": {
    "slideshow": {
     "slide_type": "fragment"
    }
   },
   "source": [
    "<span class=\"your_turn\">Try it!</span> – What happens if we change the conditional to a `False` one? \n",
    "<br><br><br>"
   ]
  },
  {
   "cell_type": "markdown",
   "id": "3e0d00b8",
   "metadata": {
    "slideshow": {
     "slide_type": "subslide"
    }
   },
   "source": [
    "### `if`-`else` \n",
    "\n",
    "Often we want our program to do something *different* if the conditional is `False`. For this, we follow the `if` block with an `else` block.\n"
   ]
  },
  {
   "cell_type": "code",
   "execution_count": 243,
   "id": "15d791d8",
   "metadata": {},
   "outputs": [
    {
     "name": "stdout",
     "output_type": "stream",
     "text": [
      "y equals 9\n"
     ]
    }
   ],
   "source": [
    "x = 5\n",
    "\n",
    "if x > 6:\n",
    "    y = 12\n",
    "else:\n",
    "    y = 9\n",
    "    \n",
    "print(\"y equals\", y)"
   ]
  },
  {
   "cell_type": "markdown",
   "id": "afd66915",
   "metadata": {
    "slideshow": {
     "slide_type": "subslide"
    }
   },
   "source": [
    "### `if`-`elif`-`else`\n",
    "\n",
    "When there are more than two possibilities to consider, we can put one or more `elif` blocks between the `if` block and the `else` block. Each block is only executed if the conditional above it was `False`."
   ]
  },
  {
   "cell_type": "code",
   "execution_count": 173,
   "id": "812699d4",
   "metadata": {
    "scrolled": true
   },
   "outputs": [
    {
     "name": "stdout",
     "output_type": "stream",
     "text": [
      "11\n"
     ]
    }
   ],
   "source": [
    "x = 6\n",
    "\n",
    "if x > 6:\n",
    "    y = 12\n",
    "elif x == 6: # another conditional!\n",
    "    y = 11\n",
    "else:\n",
    "    y = 10\n",
    "    \n",
    "print(y)"
   ]
  },
  {
   "cell_type": "markdown",
   "id": "c60e694e",
   "metadata": {
    "extensions": {
     "jupyter_dashboards": {
      "version": 1,
      "views": {
       "grid_default": {
        "col": 0,
        "height": 2,
        "row": 30,
        "width": 12
       }
      }
     }
    },
    "slideshow": {
     "slide_type": "slide"
    }
   },
   "source": [
    "## `while` loops\n",
    "\n",
    "What do we get if we add up all the integers $1, 2, \\dots 100$?\n",
    "\n",
    "It would be annoying if we had to type out all 100 numbers!\n",
    "\n",
    "Fortunately, programming languages allow <span class=\"new_term\">loops</span> that run a block of code repeatedly."
   ]
  },
  {
   "cell_type": "code",
   "execution_count": 174,
   "id": "eb7282c1",
   "metadata": {
    "slideshow": {
     "slide_type": "fragment"
    }
   },
   "outputs": [
    {
     "name": "stdout",
     "output_type": "stream",
     "text": [
      "1 1\n",
      "2 3\n",
      "3 6\n",
      "4 10\n",
      "5 15\n",
      "6 21\n",
      "7 28\n",
      "8 36\n",
      "9 45\n",
      "10 55\n",
      "11 66\n",
      "12 78\n",
      "13 91\n",
      "14 105\n",
      "15 120\n",
      "16 136\n",
      "17 153\n",
      "18 171\n",
      "19 190\n",
      "20 210\n",
      "21 231\n",
      "22 253\n",
      "23 276\n",
      "24 300\n",
      "25 325\n",
      "26 351\n",
      "27 378\n",
      "28 406\n",
      "29 435\n",
      "30 465\n",
      "31 496\n",
      "32 528\n",
      "33 561\n",
      "34 595\n",
      "35 630\n",
      "36 666\n",
      "37 703\n",
      "38 741\n",
      "39 780\n",
      "40 820\n",
      "41 861\n",
      "42 903\n",
      "43 946\n",
      "44 990\n",
      "45 1035\n",
      "46 1081\n",
      "47 1128\n",
      "48 1176\n",
      "49 1225\n",
      "50 1275\n",
      "51 1326\n",
      "52 1378\n",
      "53 1431\n",
      "54 1485\n",
      "55 1540\n",
      "56 1596\n",
      "57 1653\n",
      "58 1711\n",
      "59 1770\n",
      "60 1830\n",
      "61 1891\n",
      "62 1953\n",
      "63 2016\n",
      "64 2080\n",
      "65 2145\n",
      "66 2211\n",
      "67 2278\n",
      "68 2346\n",
      "69 2415\n",
      "70 2485\n",
      "71 2556\n",
      "72 2628\n",
      "73 2701\n",
      "74 2775\n",
      "75 2850\n",
      "76 2926\n",
      "77 3003\n",
      "78 3081\n",
      "79 3160\n",
      "80 3240\n",
      "81 3321\n",
      "82 3403\n",
      "83 3486\n",
      "84 3570\n",
      "85 3655\n",
      "86 3741\n",
      "87 3828\n",
      "88 3916\n",
      "89 4005\n",
      "90 4095\n",
      "91 4186\n",
      "92 4278\n",
      "93 4371\n",
      "94 4465\n",
      "95 4560\n",
      "96 4656\n",
      "97 4753\n",
      "98 4851\n",
      "99 4950\n",
      "100 5050\n"
     ]
    }
   ],
   "source": [
    "total = 0\n",
    "n = 1\n",
    "\n",
    "while n <= 100:         # loop until n > 100\n",
    "    total = total + n   # add n to total        \n",
    "    print(n, total)\n",
    "    n = n + 1           # add 1 to n     "
   ]
  },
  {
   "cell_type": "markdown",
   "id": "2d3a1296",
   "metadata": {
    "slideshow": {
     "slide_type": "fragment"
    }
   },
   "source": [
    "The answer is $5050$. <br><br>\n",
    "\n",
    "\n",
    "\n",
    "\n"
   ]
  },
  {
   "cell_type": "markdown",
   "id": "da2f6c40",
   "metadata": {
    "extensions": {
     "jupyter_dashboards": {
      "version": 1,
      "views": {
       "grid_default": {
        "col": 0,
        "height": 2,
        "row": 32,
        "width": 12
       }
      }
     }
    },
    "slideshow": {
     "slide_type": "slide"
    }
   },
   "source": [
    "## Functions \n",
    "\n",
    "<span class=\"new_term\">Functions</span> are the most important concept for *reusable* programs. \n",
    "\n",
    "A <span class=\"new_term\">function</span> is a rule for mapping inputs to outputs. \n",
    "\n"
   ]
  },
  {
   "cell_type": "markdown",
   "id": "d3d1ef7f",
   "metadata": {
    "slideshow": {
     "slide_type": "fragment"
    }
   },
   "source": [
    "This is similar to mathematical functions like \n",
    "\n",
    "$$ f(x) = 2x+1 $$ \n",
    "\n",
    "Here the input is $x$ and the output is $2x+1$. \n",
    "\n",
    "For example, an input of $3$ gets mapped to an output of $7$."
   ]
  },
  {
   "cell_type": "markdown",
   "id": "13a5b8fd",
   "metadata": {
    "slideshow": {
     "slide_type": "fragment"
    }
   },
   "source": [
    "The equivalent function in Python looks like this:"
   ]
  },
  {
   "cell_type": "code",
   "execution_count": 175,
   "id": "c0cc8eb3",
   "metadata": {},
   "outputs": [],
   "source": [
    "def f(x):\n",
    "    return 2 * x + 1"
   ]
  },
  {
   "cell_type": "markdown",
   "id": "4cba24d2",
   "metadata": {},
   "source": [
    "Important features:\n",
    "* `def` makes `f` a function \n",
    "* input (which we call an \"<span class=\"new_term\">argument</span>\") `x` goes inside parentheses `()`\n",
    "* output follows `return` (on same line)\n",
    "* colon and indent just like `if` blocks\n",
    "\n",
    "Now we can use the function for any input number!"
   ]
  },
  {
   "cell_type": "code",
   "execution_count": 176,
   "id": "cadda1c6",
   "metadata": {
    "slideshow": {
     "slide_type": "fragment"
    }
   },
   "outputs": [
    {
     "data": {
      "text/plain": [
       "7"
      ]
     },
     "execution_count": 176,
     "metadata": {},
     "output_type": "execute_result"
    }
   ],
   "source": [
    "f(3)"
   ]
  },
  {
   "cell_type": "code",
   "execution_count": 177,
   "id": "84a0679f",
   "metadata": {
    "slideshow": {
     "slide_type": "fragment"
    }
   },
   "outputs": [
    {
     "data": {
      "text/plain": [
       "-401"
      ]
     },
     "execution_count": 177,
     "metadata": {},
     "output_type": "execute_result"
    }
   ],
   "source": [
    "f(-201)"
   ]
  },
  {
   "cell_type": "markdown",
   "id": "266cc0dd",
   "metadata": {
    "slideshow": {
     "slide_type": "fragment"
    }
   },
   "source": [
    "<span class=\"your_turn\">Try it!</span> – Functions\n",
    "\n",
    "Write a function that calculates a 6% Maryland sales tax on any price. \n",
    "\n",
    "Then use it to find the sales tax for a book marked \\$12.99."
   ]
  },
  {
   "cell_type": "code",
   "execution_count": 245,
   "id": "599d8f45",
   "metadata": {
    "slideshow": {
     "slide_type": "fragment"
    }
   },
   "outputs": [
    {
     "data": {
      "text/plain": [
       "0.78"
      ]
     },
     "execution_count": 245,
     "metadata": {},
     "output_type": "execute_result"
    }
   ],
   "source": [
    "def sales_tax(price):\n",
    "    amount = price * 0.06\n",
    "    answer = round(amount, 2)\n",
    "    return answer \n",
    "\n",
    "sales_tax(12.99)"
   ]
  },
  {
   "cell_type": "markdown",
   "id": "befd6464",
   "metadata": {},
   "source": [
    "<br><br><br>"
   ]
  },
  {
   "cell_type": "markdown",
   "id": "e41710f8",
   "metadata": {
    "slideshow": {
     "slide_type": "slide"
    }
   },
   "source": [
    "## Lists and `for` loops\n",
    "\n",
    "<span class=\"new_term\">Lists</span> are one of Python's most convenient features. Make a list by putting any collection of values inside `[]` and separated by commas `,`."
   ]
  },
  {
   "cell_type": "code",
   "execution_count": 256,
   "id": "2dc8219c",
   "metadata": {},
   "outputs": [],
   "source": [
    "my_list = [3, -201, 11.1]"
   ]
  },
  {
   "cell_type": "markdown",
   "id": "e007336f",
   "metadata": {
    "slideshow": {
     "slide_type": "fragment"
    }
   },
   "source": [
    "A `for` loop is similar to a `while` loop, except that a `for` loop iterates over the contents of your list and then stops automatically."
   ]
  },
  {
   "cell_type": "code",
   "execution_count": 257,
   "id": "50824123",
   "metadata": {},
   "outputs": [
    {
     "name": "stdout",
     "output_type": "stream",
     "text": [
      "6\n",
      "-402\n",
      "22.2\n"
     ]
    }
   ],
   "source": [
    "for number in my_list: # for each item in my_list, labeled as \"number\"...\n",
    "    print(2 * number)  # multiply \"number\" by 2 and show me the result"
   ]
  },
  {
   "cell_type": "markdown",
   "id": "2e7d86ec",
   "metadata": {
    "slideshow": {
     "slide_type": "fragment"
    }
   },
   "source": [
    "Notice that `number` is just a placeholder, like $x$ in algebra. We'd get the same result with:"
   ]
  },
  {
   "cell_type": "code",
   "execution_count": 258,
   "id": "cc630b5e",
   "metadata": {},
   "outputs": [
    {
     "name": "stdout",
     "output_type": "stream",
     "text": [
      "6\n",
      "-402\n",
      "22.2\n"
     ]
    }
   ],
   "source": [
    "for banana in my_list:\n",
    "    print(2 * banana)"
   ]
  },
  {
   "cell_type": "markdown",
   "id": "49faa832",
   "metadata": {
    "slideshow": {
     "slide_type": "fragment"
    }
   },
   "source": [
    "We can combine <span class=\"new_term\">functions</span> with `for` loops. For example, using our `f(x)` from above:"
   ]
  },
  {
   "cell_type": "code",
   "execution_count": 259,
   "id": "5eb3d79d",
   "metadata": {
    "scrolled": false
   },
   "outputs": [
    {
     "name": "stdout",
     "output_type": "stream",
     "text": [
      "7\n",
      "-401\n",
      "23.2\n"
     ]
    }
   ],
   "source": [
    "for number in my_list:\n",
    "    print(f(number))"
   ]
  },
  {
   "cell_type": "markdown",
   "id": "0d91ab4c",
   "metadata": {},
   "source": [
    "<br><br><br>"
   ]
  },
  {
   "cell_type": "markdown",
   "id": "110f6a36",
   "metadata": {
    "slideshow": {
     "slide_type": "subslide"
    }
   },
   "source": [
    "### `range`\n",
    "\n",
    "<span class=\"fragment\">In a `for` loop, if we have a sequence of numbers like</span>"
   ]
  },
  {
   "cell_type": "code",
   "execution_count": 260,
   "id": "e07595f5",
   "metadata": {
    "slideshow": {
     "slide_type": "fragment"
    }
   },
   "outputs": [
    {
     "name": "stdout",
     "output_type": "stream",
     "text": [
      "3\n",
      "5\n",
      "7\n",
      "9\n"
     ]
    }
   ],
   "source": [
    "for i in [1, 2, 3, 4]:\n",
    "    print(f(i))"
   ]
  },
  {
   "cell_type": "markdown",
   "id": "6ad35b3f",
   "metadata": {
    "slideshow": {
     "slide_type": "fragment"
    }
   },
   "source": [
    "we can use a `range` instead:"
   ]
  },
  {
   "cell_type": "code",
   "execution_count": 261,
   "id": "10161eba",
   "metadata": {
    "slideshow": {
     "slide_type": "fragment"
    }
   },
   "outputs": [
    {
     "name": "stdout",
     "output_type": "stream",
     "text": [
      "3\n",
      "5\n",
      "7\n",
      "9\n"
     ]
    }
   ],
   "source": [
    "for i in range(1, 5): # start at 1, stop BEFORE 5\n",
    "    print(f(i))"
   ]
  },
  {
   "cell_type": "markdown",
   "id": "4cad2376",
   "metadata": {
    "slideshow": {
     "slide_type": "fragment"
    }
   },
   "source": [
    "Adding up all the integers $1, 2, \\dots, 100$ is easier this way:"
   ]
  },
  {
   "cell_type": "code",
   "execution_count": 262,
   "id": "6f11eac0",
   "metadata": {},
   "outputs": [
    {
     "name": "stdout",
     "output_type": "stream",
     "text": [
      "5050\n"
     ]
    }
   ],
   "source": [
    "total = 0\n",
    "\n",
    "for i in range(1, 101):\n",
    "    total = total + i\n",
    "    \n",
    "print(total)"
   ]
  },
  {
   "cell_type": "markdown",
   "id": "2bc9c260",
   "metadata": {
    "slideshow": {
     "slide_type": "fragment"
    }
   },
   "source": [
    "Actually, Python gives us an even better shortcut with its `sum` function:"
   ]
  },
  {
   "cell_type": "code",
   "execution_count": 263,
   "id": "57209ee8",
   "metadata": {
    "scrolled": true
   },
   "outputs": [
    {
     "data": {
      "text/plain": [
       "5050"
      ]
     },
     "execution_count": 263,
     "metadata": {},
     "output_type": "execute_result"
    }
   ],
   "source": [
    "sum(range(1,101))"
   ]
  },
  {
   "cell_type": "markdown",
   "id": "5c5c3690",
   "metadata": {},
   "source": [
    "<br><br><br>"
   ]
  },
  {
   "cell_type": "markdown",
   "id": "5c27bb59",
   "metadata": {
    "slideshow": {
     "slide_type": "subslide"
    }
   },
   "source": [
    "### Working with strings in `for` loops\n",
    "\n",
    "How many times do the Beatles say the word \"hand\" in the lyrics to \"I Want to Hold Your Hand\"?\n",
    "\n",
    "First we can use the `.split()` method to chop up a string into a <span class=\"new_term\">list</span> of one-word strings."
   ]
  },
  {
   "cell_type": "code",
   "execution_count": 264,
   "id": "e4101750",
   "metadata": {
    "scrolled": true,
    "slideshow": {
     "slide_type": "-"
    }
   },
   "outputs": [
    {
     "name": "stdout",
     "output_type": "stream",
     "text": [
      "['Oh', 'yeah,', \"I'll\", 'tell', 'you', 'something', 'I', 'think', \"you'll\", 'understand', 'When', 'I', 'say', 'that', 'something', 'I', 'wanna', 'hold', 'your', 'hand', 'I', 'wanna', 'hold', 'your', 'hand', 'I', 'wanna', 'hold', 'your', 'hand', 'Oh', 'please,', 'say', 'to', 'me', \"You'll\", 'let', 'me', 'be', 'your', 'man', 'And', 'please,', 'say', 'to', 'me', \"You'll\", 'let', 'me', 'hold', 'your', 'hand', \"You'll\", 'let', 'me', 'hold', 'your', 'hand', 'I', 'wanna', 'hold', 'your', 'hand', 'And', 'when', 'I', 'touch', 'you', 'I', 'feel', 'happy', 'Inside', \"It's\", 'such', 'a', 'feeling', 'that', 'my', 'love', 'I', \"can't\", 'hide', 'I', \"can't\", 'hide', 'I', \"can't\", 'hide', 'Yeah,', 'you', 'got', 'that', 'something', 'I', 'think', \"you'll\", 'understand', 'When', 'I', 'say', 'that', 'something', 'I', 'wanna', 'hold', 'your', 'hand', 'I', 'wanna', 'hold', 'your', 'hand', 'I', 'wanna', 'hold', 'your', 'hand', 'And', 'when', 'I', 'touch', 'you', 'I', 'feel', 'happy', 'Inside', \"It's\", 'such', 'a', 'feeling', 'that', 'my', 'love', 'I', \"can't\", 'hide', 'I', \"can't\", 'hide', 'I', \"can't\", 'hide', 'Yeah,', 'you', 'got', 'that', 'something', 'I', 'think', \"you'll\", 'understand', 'When', 'I', 'feel', 'that', 'something', 'I', 'wanna', 'hold', 'your', 'hand', 'I', 'wanna', 'hold', 'your', 'hand', 'I', 'wanna', 'hold', 'your', 'hand', 'I', 'wanna', 'hold', 'your', 'hand']\n"
     ]
    }
   ],
   "source": [
    "words = lyrics.split()\n",
    "\n",
    "print(words)"
   ]
  },
  {
   "cell_type": "code",
   "execution_count": 265,
   "id": "6eb442a2",
   "metadata": {
    "slideshow": {
     "slide_type": "fragment"
    }
   },
   "outputs": [
    {
     "name": "stdout",
     "output_type": "stream",
     "text": [
      "The word 'hand' appears 13 times in this song.\n"
     ]
    }
   ],
   "source": [
    "total = 0\n",
    "\n",
    "for word in words:\n",
    "    if word == \"hand\":  # string equality comparison \n",
    "        total = total + 1\n",
    "        \n",
    "print(\"The word 'hand' appears\", total, \"times in this song.\")       "
   ]
  },
  {
   "cell_type": "markdown",
   "id": "216f7dc9",
   "metadata": {},
   "source": [
    "<br><br><br>"
   ]
  },
  {
   "cell_type": "markdown",
   "id": "269b6ecb",
   "metadata": {
    "slideshow": {
     "slide_type": "subslide"
    }
   },
   "source": [
    "### List elements\n",
    "\n",
    "What is the 24th word in the song? Use square brackets `[]` to access an element of a list."
   ]
  },
  {
   "cell_type": "code",
   "execution_count": 188,
   "id": "814688ec",
   "metadata": {},
   "outputs": [
    {
     "data": {
      "text/plain": [
       "'your'"
      ]
     },
     "execution_count": 188,
     "metadata": {},
     "output_type": "execute_result"
    }
   ],
   "source": [
    "words[23]"
   ]
  },
  {
   "cell_type": "markdown",
   "id": "77ffa92d",
   "metadata": {
    "slideshow": {
     "slide_type": "fragment"
    }
   },
   "source": [
    "Why `23` and not `24`? Because **Python starts counting from zero, not one.**"
   ]
  },
  {
   "cell_type": "code",
   "execution_count": 189,
   "id": "e7844efa",
   "metadata": {},
   "outputs": [
    {
     "data": {
      "text/plain": [
       "'Oh'"
      ]
     },
     "execution_count": 189,
     "metadata": {},
     "output_type": "execute_result"
    }
   ],
   "source": [
    "words[0] # 1st word"
   ]
  },
  {
   "cell_type": "code",
   "execution_count": 190,
   "id": "6a994378",
   "metadata": {},
   "outputs": [
    {
     "data": {
      "text/plain": [
       "'yeah,'"
      ]
     },
     "execution_count": 190,
     "metadata": {},
     "output_type": "execute_result"
    }
   ],
   "source": [
    "words[1] # 2nd word"
   ]
  },
  {
   "cell_type": "markdown",
   "id": "54c961af",
   "metadata": {
    "slideshow": {
     "slide_type": "subslide"
    }
   },
   "source": [
    "How many words are in the song? "
   ]
  },
  {
   "cell_type": "code",
   "execution_count": 149,
   "id": "5c9cee65",
   "metadata": {
    "scrolled": true
   },
   "outputs": [
    {
     "data": {
      "text/plain": [
       "182"
      ]
     },
     "execution_count": 149,
     "metadata": {},
     "output_type": "execute_result"
    }
   ],
   "source": [
    "len(words)"
   ]
  },
  {
   "cell_type": "markdown",
   "id": "63cbbfbb",
   "metadata": {
    "slideshow": {
     "slide_type": "fragment"
    }
   },
   "source": [
    "What are the first 10 words in the song? For this we can use a <span class=\"new_term\">slice</span>"
   ]
  },
  {
   "cell_type": "code",
   "execution_count": 199,
   "id": "56ccb5fc",
   "metadata": {},
   "outputs": [
    {
     "name": "stdout",
     "output_type": "stream",
     "text": [
      "['Oh', 'yeah,', \"I'll\", 'tell', 'you', 'something', 'I', 'think', \"you'll\", 'understand']\n"
     ]
    }
   ],
   "source": [
    "first_ten = words[0:10] # start at 1st word, stop before 11th word\n",
    "print(first_ten)"
   ]
  },
  {
   "cell_type": "markdown",
   "id": "b9ef961e",
   "metadata": {
    "slideshow": {
     "slide_type": "fragment"
    }
   },
   "source": [
    "We can glue these words back together into a single string (with spaces in between the words) in this way:"
   ]
  },
  {
   "cell_type": "code",
   "execution_count": 200,
   "id": "5a2ac87e",
   "metadata": {},
   "outputs": [
    {
     "data": {
      "text/plain": [
       "\"Oh yeah, I'll tell you something I think you'll understand\""
      ]
     },
     "execution_count": 200,
     "metadata": {},
     "output_type": "execute_result"
    }
   ],
   "source": [
    "\" \".join(first_ten)"
   ]
  },
  {
   "cell_type": "markdown",
   "id": "99038e93",
   "metadata": {
    "slideshow": {
     "slide_type": "fragment"
    }
   },
   "source": [
    "When does the word \"something\" first appear in the song?"
   ]
  },
  {
   "cell_type": "code",
   "execution_count": 198,
   "id": "1902f251",
   "metadata": {},
   "outputs": [
    {
     "data": {
      "text/plain": [
       "5"
      ]
     },
     "execution_count": 198,
     "metadata": {},
     "output_type": "execute_result"
    }
   ],
   "source": [
    "words.index(\"something\") "
   ]
  },
  {
   "cell_type": "markdown",
   "id": "35a590b5",
   "metadata": {},
   "source": [
    "It's word number 6! (Since index 0 is word number 1.)  <br><br><br>"
   ]
  },
  {
   "cell_type": "markdown",
   "id": "df2ce1f3",
   "metadata": {
    "slideshow": {
     "slide_type": "slide"
    }
   },
   "source": [
    "## List comprehension \n",
    "\n",
    "You can construct lists from `for` loops in a single line. This is called a <span class=\"new_term\">list comprehension</span>.\n",
    "\n",
    "For example, to show the length of each word in the lyrics (in order):"
   ]
  },
  {
   "cell_type": "code",
   "execution_count": 12,
   "id": "934f3b9e",
   "metadata": {
    "scrolled": true
   },
   "outputs": [
    {
     "ename": "NameError",
     "evalue": "name 'words' is not defined",
     "output_type": "error",
     "traceback": [
      "\u001b[0;31m---------------------------------------------------------------------------\u001b[0m",
      "\u001b[0;31mNameError\u001b[0m                                 Traceback (most recent call last)",
      "\u001b[0;32m<ipython-input-12-941e02462cf7>\u001b[0m in \u001b[0;36m<module>\u001b[0;34m\u001b[0m\n\u001b[0;32m----> 1\u001b[0;31m \u001b[0mword_lengths\u001b[0m \u001b[0;34m=\u001b[0m \u001b[0;34m[\u001b[0m \u001b[0mlen\u001b[0m\u001b[0;34m(\u001b[0m\u001b[0mword\u001b[0m\u001b[0;34m)\u001b[0m \u001b[0;32mfor\u001b[0m \u001b[0mword\u001b[0m \u001b[0;32min\u001b[0m \u001b[0mwords\u001b[0m \u001b[0;34m]\u001b[0m\u001b[0;34m\u001b[0m\u001b[0;34m\u001b[0m\u001b[0m\n\u001b[0m\u001b[1;32m      2\u001b[0m \u001b[0mprint\u001b[0m\u001b[0;34m(\u001b[0m\u001b[0mword_lengths\u001b[0m\u001b[0;34m)\u001b[0m\u001b[0;34m\u001b[0m\u001b[0;34m\u001b[0m\u001b[0m\n",
      "\u001b[0;31mNameError\u001b[0m: name 'words' is not defined"
     ]
    }
   ],
   "source": [
    "word_lengths = [ len(word) for word in words ]\n",
    "print(word_lengths)"
   ]
  },
  {
   "cell_type": "markdown",
   "id": "7a8136d5",
   "metadata": {
    "slideshow": {
     "slide_type": "fragment"
    }
   },
   "source": [
    "How many characters does the longest word have? "
   ]
  },
  {
   "cell_type": "code",
   "execution_count": 11,
   "id": "ee818f8c",
   "metadata": {},
   "outputs": [
    {
     "ename": "NameError",
     "evalue": "name 'word_lengths' is not defined",
     "output_type": "error",
     "traceback": [
      "\u001b[0;31m---------------------------------------------------------------------------\u001b[0m",
      "\u001b[0;31mNameError\u001b[0m                                 Traceback (most recent call last)",
      "\u001b[0;32m<ipython-input-11-23fd86f1018a>\u001b[0m in \u001b[0;36m<module>\u001b[0;34m\u001b[0m\n\u001b[0;32m----> 1\u001b[0;31m \u001b[0mmax\u001b[0m\u001b[0;34m(\u001b[0m\u001b[0mword_lengths\u001b[0m\u001b[0;34m)\u001b[0m\u001b[0;34m\u001b[0m\u001b[0;34m\u001b[0m\u001b[0m\n\u001b[0m",
      "\u001b[0;31mNameError\u001b[0m: name 'word_lengths' is not defined"
     ]
    }
   ],
   "source": [
    "max(word_lengths)"
   ]
  },
  {
   "cell_type": "markdown",
   "id": "24064d9b",
   "metadata": {
    "slideshow": {
     "slide_type": "subslide"
    }
   },
   "source": [
    "<h3 class=\"fragment semi-fade-out\">List comprehension </h3>"
   ]
  },
  {
   "cell_type": "markdown",
   "id": "39d6ba54",
   "metadata": {
    "slideshow": {
     "slide_type": "fragment"
    }
   },
   "source": [
    "We can put an `if` statement inside a list comprehension to filter the list before it goes through the `for` loop. \n",
    "\n",
    "For example, to get all the words in `lyrics` that start with \"y\":"
   ]
  },
  {
   "cell_type": "code",
   "execution_count": 252,
   "id": "4a6cbbb6",
   "metadata": {
    "scrolled": false
   },
   "outputs": [
    {
     "name": "stdout",
     "output_type": "stream",
     "text": [
      "['yeah,', 'you', \"you'll\", 'your', 'your', 'your', 'your', 'your', 'your', 'your', 'you', 'you', \"you'll\", 'your', 'your', 'your', 'you', 'you', \"you'll\", 'your', 'your', 'your', 'your']\n"
     ]
    }
   ],
   "source": [
    "my_list = [ word for word in words if word.startswith(\"y\") ]\n",
    "print(my_list)"
   ]
  },
  {
   "cell_type": "markdown",
   "id": "cf3906d5",
   "metadata": {
    "slideshow": {
     "slide_type": "fragment"
    }
   },
   "source": [
    "This is a shortcut for the following `for` loop with `if` block inside it:"
   ]
  },
  {
   "cell_type": "code",
   "execution_count": 251,
   "id": "e944414e",
   "metadata": {
    "scrolled": true
   },
   "outputs": [
    {
     "name": "stdout",
     "output_type": "stream",
     "text": [
      "['yeah,', 'you', \"you'll\", 'your', 'your', 'your', 'your', 'your', 'your', 'your', 'you', 'you', \"you'll\", 'your', 'your', 'your', 'you', 'you', \"you'll\", 'your', 'your', 'your', 'your']\n"
     ]
    }
   ],
   "source": [
    "my_list = []\n",
    "\n",
    "for word in words:\n",
    "    if word.startswith(\"y\"):       \n",
    "        my_list.append(word)\n",
    "        \n",
    "print(my_list)        \n",
    "        "
   ]
  },
  {
   "cell_type": "markdown",
   "id": "d7122132",
   "metadata": {},
   "source": [
    "<br><br><br>"
   ]
  },
  {
   "cell_type": "markdown",
   "id": "77fdce49",
   "metadata": {
    "slideshow": {
     "slide_type": "slide"
    }
   },
   "source": [
    "## Summary\n",
    "\n",
    "* `if`-`elif`-`else` statements allow your program to make \"decisions\"\n",
    "* `while` loops, `for` loops, and functions let you use the same block of code repeatedly\n",
    "* lists make it easy to work with data such as a collection of numbers or long text.\n",
    "\n",
    "### Next steps:\n",
    "\n",
    "You can download Python from www.python.org and run your own programs on your computer. \n",
    "\n",
    "There are many free resources to help you learn Python at you own pace. \n",
    "\n",
    "* \"Automate the Boring Stuff with Python\" [automatetheboringstuff.com](https://automatetheboringstuff.com), a beginner's guide to Python scripting for everyday use\n",
    "* Many other options at [wiki.python.org](https://wiki.python.org) -> \"Beginners Guide\" \n",
    "\n",
    "Contact me at d.a.beller@jhu.edu if you have questions. These slides will be posted to [bellerphysics.gitlab.io/Code.html](https://bellerphysics.gitlab.io/Code.html) — which is a webpage created using Python!\n"
   ]
  },
  {
   "cell_type": "markdown",
   "id": "d8d684c2",
   "metadata": {},
   "source": [
    "<br><br><br>"
   ]
  },
  {
   "cell_type": "markdown",
   "id": "44a6845d",
   "metadata": {
    "slideshow": {
     "slide_type": "slide"
    }
   },
   "source": [
    "With just a few lines of Python, you can examine publicly available data from anywhere on the Internet. \n",
    "\n",
    "The example below goes beyond what we'll cover here, but you too can become a data expert with Python."
   ]
  },
  {
   "cell_type": "code",
   "execution_count": 80,
   "id": "e8b0f134",
   "metadata": {},
   "outputs": [
    {
     "data": {
      "application/vnd.plotly.v1+json": {
       "config": {
        "plotlyServerURL": "https://plot.ly"
       },
       "data": [
        {
         "hovertemplate": "variable=People_Fully_Vaccinated<br>Date=%{x}<br>value=%{y}<extra></extra>",
         "legendgroup": "People_Fully_Vaccinated",
         "line": {
          "color": "#636efa",
          "dash": "solid"
         },
         "marker": {
          "symbol": "circle"
         },
         "mode": "lines",
         "name": "People_Fully_Vaccinated",
         "orientation": "v",
         "showlegend": true,
         "type": "scatter",
         "x": [
          "2021-01-06",
          "2021-01-07",
          "2021-01-08",
          "2021-01-09",
          "2021-01-10",
          "2021-01-11",
          "2021-01-12",
          "2021-01-13",
          "2021-01-14",
          "2021-01-15",
          "2021-01-16",
          "2021-01-17",
          "2021-01-18",
          "2021-01-19",
          "2021-01-20",
          "2021-01-21",
          "2021-01-22",
          "2021-01-23",
          "2021-01-24",
          "2021-01-25",
          "2021-01-26",
          "2021-01-27",
          "2021-01-28",
          "2021-01-29",
          "2021-01-30",
          "2021-01-31",
          "2021-02-01",
          "2021-02-02",
          "2021-02-03",
          "2021-02-04",
          "2021-02-05",
          "2021-02-06",
          "2021-02-07",
          "2021-02-08",
          "2021-02-09",
          "2021-02-10",
          "2021-02-11",
          "2021-02-12",
          "2021-02-13",
          "2021-02-14",
          "2021-02-15",
          "2021-02-16",
          "2021-02-17",
          "2021-02-18",
          "2021-02-19",
          "2021-02-20",
          "2021-02-21",
          "2021-02-22",
          "2021-02-23",
          "2021-02-24",
          "2021-02-25",
          "2021-02-26",
          "2021-02-27",
          "2021-02-28",
          "2021-03-01",
          "2021-03-02",
          "2021-03-03",
          "2021-03-04",
          "2021-03-05",
          "2021-03-06",
          "2021-03-07",
          "2021-03-08",
          "2021-03-09",
          "2021-03-10",
          "2021-03-11",
          "2021-03-12",
          "2021-03-13",
          "2021-03-14",
          "2021-03-15",
          "2021-03-16",
          "2021-03-17",
          "2021-03-18",
          "2021-03-19",
          "2021-03-20",
          "2021-03-21",
          "2021-03-22",
          "2021-03-23",
          "2021-03-24",
          "2021-03-25",
          "2021-03-26",
          "2021-03-27",
          "2021-03-28",
          "2021-03-29",
          "2021-03-30",
          "2021-03-31",
          "2021-04-01",
          "2021-04-02",
          "2021-04-03",
          "2021-04-04",
          "2021-04-05",
          "2021-04-06",
          "2021-04-07",
          "2021-04-08",
          "2021-04-09",
          "2021-04-10",
          "2021-04-11",
          "2021-04-12",
          "2021-04-13",
          "2021-04-14",
          "2021-04-15",
          "2021-04-16",
          "2021-04-17",
          "2021-04-18",
          "2021-04-19",
          "2021-04-20",
          "2021-04-21",
          "2021-04-22",
          "2021-04-23",
          "2021-04-24",
          "2021-04-25",
          "2021-04-26",
          "2021-04-27",
          "2021-04-28",
          "2021-04-29",
          "2021-04-30",
          "2021-05-01",
          "2021-05-02",
          "2021-05-03",
          "2021-05-04",
          "2021-05-05",
          "2021-05-06",
          "2021-05-07",
          "2021-05-08",
          "2021-05-09",
          "2021-05-10",
          "2021-05-11",
          "2021-05-12",
          "2021-05-13",
          "2021-05-14",
          "2021-05-15",
          "2021-05-16",
          "2021-05-17",
          "2021-05-18",
          "2021-05-19",
          "2021-05-20",
          "2021-05-21",
          "2021-05-22",
          "2021-05-23",
          "2021-05-24",
          "2021-05-25",
          "2021-05-26",
          "2021-05-27",
          "2021-05-28",
          "2021-05-29",
          "2021-05-30",
          "2021-05-31",
          "2021-06-01",
          "2021-06-02",
          "2021-06-03",
          "2021-06-04",
          "2021-06-05",
          "2021-06-06",
          "2021-06-07",
          "2021-06-08",
          "2021-06-09",
          "2021-06-10",
          "2021-06-11",
          "2021-06-12",
          "2021-06-13",
          "2021-06-14",
          "2021-06-15",
          "2021-06-16",
          "2021-06-17",
          "2021-06-18",
          "2021-06-19",
          "2021-06-20",
          "2021-06-21",
          "2021-06-22",
          "2021-06-23",
          "2021-06-24",
          "2021-06-25",
          "2021-06-26",
          "2021-06-27",
          "2021-06-28",
          "2021-06-29",
          "2021-06-30",
          "2021-07-01",
          "2021-07-02",
          "2021-07-03",
          "2021-07-04",
          "2021-07-05",
          "2021-07-06",
          "2021-07-07",
          "2021-07-08",
          "2021-07-09",
          "2021-07-10",
          "2021-07-11",
          "2021-07-12",
          "2021-07-13",
          "2021-07-14",
          "2021-07-15",
          "2021-07-16",
          "2021-07-17",
          "2021-07-18",
          "2021-07-19",
          "2021-07-20",
          "2021-07-21",
          "2021-07-22",
          "2021-07-23",
          "2021-07-24",
          "2021-07-25",
          "2021-07-26",
          "2021-07-27",
          "2021-07-28",
          "2021-07-29",
          "2021-07-30",
          "2021-07-31",
          "2021-08-01",
          "2021-08-02",
          "2021-08-03",
          "2021-08-04",
          "2021-08-05",
          "2021-08-06",
          "2021-08-07",
          "2021-08-08",
          "2021-08-09",
          "2021-08-10",
          "2021-08-11",
          "2021-08-12",
          "2021-08-13",
          "2021-08-14",
          "2021-08-15",
          "2021-08-16",
          "2021-08-17",
          "2021-08-18",
          "2021-08-19",
          "2021-08-20",
          "2021-08-21",
          "2021-08-22",
          "2021-08-23",
          "2021-08-24",
          "2021-08-25",
          "2021-08-26",
          "2021-08-27",
          "2021-08-28",
          "2021-08-29",
          "2021-08-30",
          "2021-08-31",
          "2021-09-01",
          "2021-09-02",
          "2021-09-03",
          "2021-09-04",
          "2021-09-05",
          "2021-09-06",
          "2021-09-07",
          "2021-09-08",
          "2021-09-09",
          "2021-09-10",
          "2021-09-11",
          "2021-09-12",
          "2021-09-13",
          "2021-09-14",
          "2021-09-15",
          "2021-09-16",
          "2021-09-17",
          "2021-09-18",
          "2021-09-19",
          "2021-09-20",
          "2021-09-21",
          "2021-09-22",
          "2021-09-23",
          "2021-09-24",
          "2021-09-25",
          "2021-09-26",
          "2021-09-27",
          "2021-09-28",
          "2021-09-29",
          "2021-09-30",
          "2021-10-01",
          "2021-10-02",
          "2021-10-03",
          "2021-10-04",
          "2021-10-05",
          "2021-10-06",
          "2021-10-07",
          "2021-10-08",
          "2021-10-09",
          "2021-10-10",
          "2021-10-11",
          "2021-10-12",
          "2021-10-13",
          "2021-10-14",
          "2021-10-15",
          "2021-10-16",
          "2021-10-17",
          "2021-10-18",
          "2021-10-19",
          "2021-10-20",
          "2021-10-21",
          "2021-10-22",
          "2021-10-23",
          "2021-10-24",
          "2021-10-25",
          "2021-10-26",
          "2021-10-27",
          "2021-10-28",
          "2021-10-29",
          "2021-10-30",
          "2021-10-31",
          "2021-11-01",
          "2021-11-02",
          "2021-11-03",
          "2021-11-04",
          "2021-11-05",
          "2021-11-06",
          "2021-11-07",
          "2021-11-08",
          "2021-11-09",
          "2021-11-10",
          "2021-11-11",
          "2021-11-12",
          "2021-11-13",
          "2021-11-14",
          "2021-11-15",
          "2021-11-16",
          "2021-11-17",
          "2021-11-18",
          "2021-11-19",
          "2021-11-20",
          "2021-11-21",
          "2021-11-22",
          "2021-11-23",
          "2021-11-24",
          "2021-11-25",
          "2021-11-26",
          "2021-11-27",
          "2021-11-28",
          "2021-11-29",
          "2021-11-30",
          "2021-12-01",
          "2021-12-02",
          "2021-12-03",
          "2021-12-04",
          "2021-12-05",
          "2021-12-06",
          "2021-12-07",
          "2021-12-08",
          "2021-12-09",
          "2021-12-10",
          "2021-12-11",
          "2021-12-12",
          "2021-12-13",
          "2021-12-14",
          "2021-12-15",
          "2021-12-16",
          "2021-12-17",
          "2021-12-18",
          "2021-12-19",
          "2021-12-20",
          "2021-12-21",
          "2021-12-22",
          "2021-12-23",
          "2021-12-24",
          "2021-12-25",
          "2021-12-26",
          "2021-12-27",
          "2021-12-28",
          "2021-12-29",
          "2021-12-30",
          "2021-12-31",
          "2022-01-01",
          "2022-01-02",
          "2022-01-03",
          "2022-01-04",
          "2022-01-05",
          "2022-01-06",
          "2022-01-07",
          "2022-01-08",
          "2022-01-09",
          "2022-01-10",
          "2022-01-11",
          "2022-01-12",
          "2022-01-13",
          "2022-01-14",
          "2022-01-15",
          "2022-01-16",
          "2022-01-17",
          "2022-01-18",
          "2022-01-19",
          "2022-01-20",
          "2022-01-21",
          "2022-01-22",
          "2022-01-23",
          "2022-01-24",
          "2022-01-25",
          "2022-01-26",
          "2022-01-27",
          "2022-01-28",
          "2022-01-29",
          "2022-01-30",
          "2022-01-31",
          "2022-02-01",
          "2022-02-02",
          "2022-02-03",
          "2022-02-04",
          "2022-02-05",
          "2022-02-06",
          "2022-02-07",
          "2022-02-08",
          "2022-02-09",
          "2022-02-10",
          "2022-02-11",
          "2022-02-12",
          "2022-02-13",
          "2022-02-14",
          "2022-02-15",
          "2022-02-16",
          "2022-02-17",
          "2022-02-18",
          "2022-02-19",
          "2022-02-20",
          "2022-02-21",
          "2022-02-22",
          "2022-02-23",
          "2022-02-24",
          "2022-02-25",
          "2022-02-26",
          "2022-02-27",
          "2022-02-28",
          "2022-03-01",
          "2022-03-02",
          "2022-03-03",
          "2022-03-04",
          "2022-03-05",
          "2022-03-06",
          "2022-03-07",
          "2022-03-08",
          "2022-03-09",
          "2022-03-10",
          "2022-03-11",
          "2022-03-12",
          "2022-03-13",
          "2022-03-14",
          "2022-03-15",
          "2022-03-16",
          "2022-03-17",
          "2022-03-18",
          "2022-03-19",
          "2022-03-20",
          "2022-03-21",
          "2022-03-22",
          "2022-03-23",
          "2022-03-24",
          "2022-03-25",
          "2022-03-26",
          "2022-03-27",
          "2022-03-28",
          "2022-03-29",
          "2022-03-30",
          "2022-03-31",
          "2022-04-01",
          "2022-04-02",
          "2022-04-03",
          "2022-04-04",
          "2022-04-05",
          "2022-04-06",
          "2022-04-07",
          "2022-04-08",
          "2022-04-09",
          "2022-04-10",
          "2022-04-11",
          "2022-04-12",
          "2022-04-13",
          "2022-04-14",
          "2022-04-15",
          "2022-04-16",
          "2022-04-17",
          "2022-04-18",
          "2022-04-19",
          "2022-04-20",
          "2022-04-21",
          "2022-04-22",
          "2022-04-23",
          "2022-04-24",
          "2022-04-25",
          "2022-04-26",
          "2022-04-27",
          "2022-04-28",
          "2022-04-29",
          "2022-04-30",
          "2022-05-01",
          "2022-05-02",
          "2022-05-03",
          "2022-05-04",
          "2022-05-05",
          "2022-05-06",
          "2022-05-07",
          "2022-05-08",
          "2022-05-09",
          "2022-05-10",
          "2022-05-11",
          "2022-05-12",
          "2022-05-13",
          "2022-05-14",
          "2022-05-15",
          "2022-05-16",
          "2022-05-17"
         ],
         "xaxis": "x",
         "y": [
          742,
          1474,
          2924,
          4826,
          6189,
          6666,
          9655,
          12704,
          15840,
          17493,
          20646,
          21296,
          21801,
          21801,
          24363,
          28119,
          30880,
          34092,
          39255,
          39255,
          42228,
          48635,
          56297,
          66616,
          76981,
          82822,
          87139,
          88459,
          91571,
          115808,
          115808,
          130190,
          146555,
          151018,
          154640,
          168990,
          181541,
          197990,
          213068,
          237830,
          237830,
          244328,
          253702,
          265585,
          285860,
          326851,
          326851,
          349747,
          369686,
          381870,
          398749,
          414970,
          438535,
          463613,
          487671,
          503576,
          513499,
          534605,
          550801,
          568160,
          589659,
          602926,
          628959,
          647080,
          666478,
          688419,
          706296,
          725097,
          740659,
          752735,
          765676,
          782003,
          798449,
          812403,
          814202,
          841642,
          852814,
          864158,
          879431,
          896207,
          919958,
          943997,
          966962,
          980397,
          1007396,
          1039090,
          1075960,
          1115176,
          1157059,
          1186402,
          1196806,
          1222748,
          1258370,
          1300334,
          1342839,
          1398541,
          1435290,
          1436711,
          1498232,
          1567793,
          1609564,
          1613116,
          1679382,
          1699340,
          1727654,
          1767219,
          1805523,
          1846977,
          1881341,
          1916292,
          1928628,
          1957062,
          1987755,
          2023126,
          2065479,
          2096169,
          2111427,
          2125592,
          2148237,
          2186149,
          2219257,
          2253129,
          2296918,
          2332002,
          2363446,
          2395628,
          2432761,
          2467163,
          2502077,
          2533348,
          2558182,
          2575259,
          2592361,
          2640260,
          2675098,
          2713830,
          2742843,
          2764093,
          2775622,
          2789960,
          2810510,
          2836207,
          2854088,
          2886013,
          2902665,
          2910300,
          2915505,
          2931545,
          2946173,
          2965380,
          2991387,
          3011906,
          3021669,
          3035714,
          3057322,
          3086673,
          3117688,
          3137520,
          3148797,
          3155047,
          3179456,
          3201469,
          3219364,
          3236719,
          3249846,
          3250388,
          3250772,
          3265050,
          3275500,
          3290790,
          3302453,
          3330002,
          3366445,
          3373446,
          3379800,
          3387278,
          3395682,
          3406528,
          3413065,
          3419732,
          3422335,
          3424364,
          3431069,
          3438612,
          3446199,
          3452937,
          3457935,
          3461253,
          3466826,
          3473585,
          3479326,
          3487404,
          3493079,
          3498124,
          3501035,
          3505895,
          3513599,
          3519423,
          3524711,
          3530114,
          3534077,
          3536737,
          3539883,
          3546233,
          3551313,
          3556296,
          3563883,
          3565986,
          3569482,
          3573537,
          3578413,
          3585152,
          3590065,
          3595105,
          3599139,
          3601728,
          3605706,
          3610261,
          3615899,
          3622257,
          3627752,
          3631047,
          3634521,
          3639627,
          3645626,
          3652486,
          3658414,
          3664666,
          3669581,
          3673148,
          3678839,
          3685847,
          3692817,
          3699456,
          3706234,
          3714076,
          3718746,
          3725033,
          3732849,
          3740778,
          3747622,
          3755043,
          3761613,
          3765211,
          3767812,
          3771972,
          3780987,
          3787785,
          3793793,
          3801903,
          3806256,
          3810647,
          3816826,
          3823325,
          3828936,
          3835130,
          3840482,
          3844981,
          3849204,
          3855260,
          3860068,
          3865944,
          3872477,
          3877040,
          3880367,
          3884282,
          3887655,
          3892489,
          3895792,
          3903142,
          3910022,
          3912656,
          3916808,
          3919726,
          3925281,
          3929284,
          3933168,
          3936758,
          3938200,
          3940694,
          3940694,
          3940694,
          3940694,
          3940694,
          3940694,
          3966069,
          3970057,
          3975039,
          3979681,
          3983635,
          3988992,
          3992260,
          3995301,
          4000080,
          4008000,
          4011862,
          4018456,
          4025702,
          4030984,
          4034486,
          4039592,
          4046658,
          4030133,
          4034008,
          4041278,
          4048060,
          4049906,
          4053473,
          4060552,
          4066007,
          4029618,
          4035224,
          4038112,
          4039677,
          4042201,
          4045514,
          4049048,
          4052851,
          4056511,
          4059346,
          4060985,
          4063654,
          4067121,
          4067121,
          4067121,
          4074050,
          4077493,
          4084557,
          4090430,
          4099736,
          4108654,
          4118630,
          4124685,
          4134618,
          4138164,
          4150084,
          4158287,
          4165632,
          4173574,
          4180901,
          4187991,
          4191649,
          4198006,
          4204148,
          4209612,
          4214762,
          4218349,
          4221923,
          4223728,
          4231337,
          4235363,
          4239825,
          4239825,
          4239825,
          4246682,
          4247566,
          4251352,
          4255554,
          4259763,
          4259763,
          4259763,
          4267426,
          4268564,
          4270983,
          4274300,
          4278718,
          4283538,
          4287944,
          4292069,
          4294676,
          4298737,
          4303743,
          4315402,
          4330922,
          4335367,
          4337717,
          4339390,
          4341861,
          4347807,
          4352618,
          4357655,
          4361526,
          4363933,
          4365400,
          4368323,
          4372084,
          4376894,
          4381576,
          4385497,
          4388527,
          4390178,
          4393280,
          4397159,
          4401324,
          4405582,
          4410079,
          4413436,
          4415330,
          4419194,
          4422779,
          4427003,
          4430307,
          4434156,
          4436928,
          4438528,
          4438528,
          4438528,
          4451535,
          4454594,
          4463709,
          4463709,
          4463709,
          4469048,
          4471539,
          4474205,
          4477116,
          4480358,
          4483066,
          4484723,
          4486353,
          4488194,
          4490142,
          4491912,
          4493726,
          4494917,
          4495526,
          4496687,
          4498002,
          4499486,
          4500775,
          4502359,
          4503210,
          4503777,
          4504833,
          4505938,
          4507304,
          4508574,
          4509912,
          4510673,
          4511199,
          4512256,
          4513479,
          4514695,
          4517091,
          4522635,
          4524782,
          4525254,
          4527924,
          4527924,
          4527924,
          4538744,
          4538744,
          4538744,
          4542614,
          4543678,
          4545047,
          4546340,
          4585468,
          4585468,
          4585468,
          4588261,
          4589232,
          4590545,
          4592073,
          4593320,
          4593320,
          4593320,
          4595758,
          4596675,
          4598041,
          4599193,
          4600541,
          4600541,
          4600541,
          4600541,
          4600541,
          4600541,
          4600541,
          4600541,
          4600541,
          4600541,
          4600541,
          4600541,
          4600541,
          4600541,
          4600541,
          4600541,
          4600541,
          4600541,
          4600541,
          4600541,
          4600541,
          4600541,
          4600541,
          4600541,
          4600541,
          4600541
         ],
         "yaxis": "y"
        },
        {
         "hovertemplate": "variable=People_Partially_Vaccinated<br>Date=%{x}<br>value=%{y}<extra></extra>",
         "legendgroup": "People_Partially_Vaccinated",
         "line": {
          "color": "#EF553B",
          "dash": "solid"
         },
         "marker": {
          "symbol": "circle"
         },
         "mode": "lines",
         "name": "People_Partially_Vaccinated",
         "orientation": "v",
         "showlegend": true,
         "type": "scatter",
         "x": [
          "2021-01-06",
          "2021-01-07",
          "2021-01-08",
          "2021-01-09",
          "2021-01-10",
          "2021-01-11",
          "2021-01-12",
          "2021-01-13",
          "2021-01-14",
          "2021-01-15",
          "2021-01-16",
          "2021-01-17",
          "2021-01-18",
          "2021-01-19",
          "2021-01-20",
          "2021-01-21",
          "2021-01-22",
          "2021-01-23",
          "2021-01-24",
          "2021-01-25",
          "2021-01-26",
          "2021-01-27",
          "2021-01-28",
          "2021-01-29",
          "2021-01-30",
          "2021-01-31",
          "2021-02-01",
          "2021-02-02",
          "2021-02-03",
          "2021-02-04",
          "2021-02-05",
          "2021-02-06",
          "2021-02-07",
          "2021-02-08",
          "2021-02-09",
          "2021-02-10",
          "2021-02-11",
          "2021-02-12",
          "2021-02-13",
          "2021-02-14",
          "2021-02-15",
          "2021-02-16",
          "2021-02-17",
          "2021-02-18",
          "2021-02-19",
          "2021-02-20",
          "2021-02-21",
          "2021-02-22",
          "2021-02-23",
          "2021-02-24",
          "2021-02-25",
          "2021-02-26",
          "2021-02-27",
          "2021-02-28",
          "2021-03-01",
          "2021-03-02",
          "2021-03-03",
          "2021-03-04",
          "2021-03-05",
          "2021-03-06",
          "2021-03-07",
          "2021-03-08",
          "2021-03-09",
          "2021-03-10",
          "2021-03-11",
          "2021-03-12",
          "2021-03-13",
          "2021-03-14",
          "2021-03-15",
          "2021-03-16",
          "2021-03-17",
          "2021-03-18",
          "2021-03-19",
          "2021-03-20",
          "2021-03-21",
          "2021-03-22",
          "2021-03-23",
          "2021-03-24",
          "2021-03-25",
          "2021-03-26",
          "2021-03-27",
          "2021-03-28",
          "2021-03-29",
          "2021-03-30",
          "2021-03-31",
          "2021-04-01",
          "2021-04-02",
          "2021-04-03",
          "2021-04-04",
          "2021-04-05",
          "2021-04-06",
          "2021-04-07",
          "2021-04-08",
          "2021-04-09",
          "2021-04-10",
          "2021-04-11",
          "2021-04-12",
          "2021-04-13",
          "2021-04-14",
          "2021-04-15",
          "2021-04-16",
          "2021-04-17",
          "2021-04-18",
          "2021-04-19",
          "2021-04-20",
          "2021-04-21",
          "2021-04-22",
          "2021-04-23",
          "2021-04-24",
          "2021-04-25",
          "2021-04-26",
          "2021-04-27",
          "2021-04-28",
          "2021-04-29",
          "2021-04-30",
          "2021-05-01",
          "2021-05-02",
          "2021-05-03",
          "2021-05-04",
          "2021-05-05",
          "2021-05-06",
          "2021-05-07",
          "2021-05-08",
          "2021-05-09",
          "2021-05-10",
          "2021-05-11",
          "2021-05-12",
          "2021-05-13",
          "2021-05-14",
          "2021-05-15",
          "2021-05-16",
          "2021-05-17",
          "2021-05-18",
          "2021-05-19",
          "2021-05-20",
          "2021-05-21",
          "2021-05-22",
          "2021-05-23",
          "2021-05-24",
          "2021-05-25",
          "2021-05-26",
          "2021-05-27",
          "2021-05-28",
          "2021-05-29",
          "2021-05-30",
          "2021-05-31",
          "2021-06-01",
          "2021-06-02",
          "2021-06-03",
          "2021-06-04",
          "2021-06-05",
          "2021-06-06",
          "2021-06-07",
          "2021-06-08",
          "2021-06-09",
          "2021-06-10",
          "2021-06-11",
          "2021-06-12",
          "2021-06-13",
          "2021-06-14",
          "2021-06-15",
          "2021-06-16",
          "2021-06-17",
          "2021-06-18",
          "2021-06-19",
          "2021-06-20",
          "2021-06-21",
          "2021-06-22",
          "2021-06-23",
          "2021-06-24",
          "2021-06-25",
          "2021-06-26",
          "2021-06-27",
          "2021-06-28",
          "2021-06-29",
          "2021-06-30",
          "2021-07-01",
          "2021-07-02",
          "2021-07-03",
          "2021-07-04",
          "2021-07-05",
          "2021-07-06",
          "2021-07-07",
          "2021-07-08",
          "2021-07-09",
          "2021-07-10",
          "2021-07-11",
          "2021-07-12",
          "2021-07-13",
          "2021-07-14",
          "2021-07-15",
          "2021-07-16",
          "2021-07-17",
          "2021-07-18",
          "2021-07-19",
          "2021-07-20",
          "2021-07-21",
          "2021-07-22",
          "2021-07-23",
          "2021-07-24",
          "2021-07-25",
          "2021-07-26",
          "2021-07-27",
          "2021-07-28",
          "2021-07-29",
          "2021-07-30",
          "2021-07-31",
          "2021-08-01",
          "2021-08-02",
          "2021-08-03",
          "2021-08-04",
          "2021-08-05",
          "2021-08-06",
          "2021-08-07",
          "2021-08-08",
          "2021-08-09",
          "2021-08-10",
          "2021-08-11",
          "2021-08-12",
          "2021-08-13",
          "2021-08-14",
          "2021-08-15",
          "2021-08-16",
          "2021-08-17",
          "2021-08-18",
          "2021-08-19",
          "2021-08-20",
          "2021-08-21",
          "2021-08-22",
          "2021-08-23",
          "2021-08-24",
          "2021-08-25",
          "2021-08-26",
          "2021-08-27",
          "2021-08-28",
          "2021-08-29",
          "2021-08-30",
          "2021-08-31",
          "2021-09-01",
          "2021-09-02",
          "2021-09-03",
          "2021-09-04",
          "2021-09-05",
          "2021-09-06",
          "2021-09-07",
          "2021-09-08",
          "2021-09-09",
          "2021-09-10",
          "2021-09-11",
          "2021-09-12",
          "2021-09-13",
          "2021-09-14",
          "2021-09-15",
          "2021-09-16",
          "2021-09-17",
          "2021-09-18",
          "2021-09-19",
          "2021-09-20",
          "2021-09-21",
          "2021-09-22",
          "2021-09-23",
          "2021-09-24",
          "2021-09-25",
          "2021-09-26",
          "2021-09-27",
          "2021-09-28",
          "2021-09-29",
          "2021-09-30",
          "2021-10-01",
          "2021-10-02",
          "2021-10-03",
          "2021-10-04",
          "2021-10-05",
          "2021-10-06",
          "2021-10-07",
          "2021-10-08",
          "2021-10-09",
          "2021-10-10",
          "2021-10-11",
          "2021-10-12",
          "2021-10-13",
          "2021-10-14",
          "2021-10-15",
          "2021-10-16",
          "2021-10-17",
          "2021-10-18",
          "2021-10-19",
          "2021-10-20",
          "2021-10-21",
          "2021-10-22",
          "2021-10-23",
          "2021-10-24",
          "2021-10-25",
          "2021-10-26",
          "2021-10-27",
          "2021-10-28",
          "2021-10-29",
          "2021-10-30",
          "2021-10-31",
          "2021-11-01",
          "2021-11-02",
          "2021-11-03",
          "2021-11-04",
          "2021-11-05",
          "2021-11-06",
          "2021-11-07",
          "2021-11-08",
          "2021-11-09",
          "2021-11-10",
          "2021-11-11",
          "2021-11-12",
          "2021-11-13",
          "2021-11-14",
          "2021-11-15",
          "2021-11-16",
          "2021-11-17",
          "2021-11-18",
          "2021-11-19",
          "2021-11-20",
          "2021-11-21",
          "2021-11-22",
          "2021-11-23",
          "2021-11-24",
          "2021-11-25",
          "2021-11-26",
          "2021-11-27",
          "2021-11-28",
          "2021-11-29",
          "2021-11-30",
          "2021-12-01",
          "2021-12-02",
          "2021-12-03",
          "2021-12-04",
          "2021-12-05",
          "2021-12-06",
          "2021-12-07",
          "2021-12-08",
          "2021-12-09",
          "2021-12-10",
          "2021-12-11",
          "2021-12-12",
          "2021-12-13",
          "2021-12-14",
          "2021-12-15",
          "2021-12-16",
          "2021-12-17",
          "2021-12-18",
          "2021-12-19",
          "2021-12-20",
          "2021-12-21",
          "2021-12-22",
          "2021-12-23",
          "2021-12-24",
          "2021-12-25",
          "2021-12-26",
          "2021-12-27",
          "2021-12-28",
          "2021-12-29",
          "2021-12-30",
          "2021-12-31",
          "2022-01-01",
          "2022-01-02",
          "2022-01-03",
          "2022-01-04",
          "2022-01-05",
          "2022-01-06",
          "2022-01-07",
          "2022-01-08",
          "2022-01-09",
          "2022-01-10",
          "2022-01-11",
          "2022-01-12",
          "2022-01-13",
          "2022-01-14",
          "2022-01-15",
          "2022-01-16",
          "2022-01-17",
          "2022-01-18",
          "2022-01-19",
          "2022-01-20",
          "2022-01-21",
          "2022-01-22",
          "2022-01-23",
          "2022-01-24",
          "2022-01-25",
          "2022-01-26",
          "2022-01-27",
          "2022-01-28",
          "2022-01-29",
          "2022-01-30",
          "2022-01-31",
          "2022-02-01",
          "2022-02-02",
          "2022-02-03",
          "2022-02-04",
          "2022-02-05",
          "2022-02-06",
          "2022-02-07",
          "2022-02-08",
          "2022-02-09",
          "2022-02-10",
          "2022-02-11",
          "2022-02-12",
          "2022-02-13",
          "2022-02-14",
          "2022-02-15",
          "2022-02-16",
          "2022-02-17",
          "2022-02-18",
          "2022-02-19",
          "2022-02-20",
          "2022-02-21",
          "2022-02-22",
          "2022-02-23",
          "2022-02-24",
          "2022-02-25",
          "2022-02-26",
          "2022-02-27",
          "2022-02-28",
          "2022-03-01",
          "2022-03-02",
          "2022-03-03",
          "2022-03-04",
          "2022-03-05",
          "2022-03-06",
          "2022-03-07",
          "2022-03-08",
          "2022-03-09",
          "2022-03-10",
          "2022-03-11",
          "2022-03-12",
          "2022-03-13",
          "2022-03-14",
          "2022-03-15",
          "2022-03-16",
          "2022-03-17",
          "2022-03-18",
          "2022-03-19",
          "2022-03-20",
          "2022-03-21",
          "2022-03-22",
          "2022-03-23",
          "2022-03-24",
          "2022-03-25",
          "2022-03-26",
          "2022-03-27",
          "2022-03-28",
          "2022-03-29",
          "2022-03-30",
          "2022-03-31",
          "2022-04-01",
          "2022-04-02",
          "2022-04-03",
          "2022-04-04",
          "2022-04-05",
          "2022-04-06",
          "2022-04-07",
          "2022-04-08",
          "2022-04-09",
          "2022-04-10",
          "2022-04-11",
          "2022-04-12",
          "2022-04-13",
          "2022-04-14",
          "2022-04-15",
          "2022-04-16",
          "2022-04-17",
          "2022-04-18",
          "2022-04-19",
          "2022-04-20",
          "2022-04-21",
          "2022-04-22",
          "2022-04-23",
          "2022-04-24",
          "2022-04-25",
          "2022-04-26",
          "2022-04-27",
          "2022-04-28",
          "2022-04-29",
          "2022-04-30",
          "2022-05-01",
          "2022-05-02",
          "2022-05-03",
          "2022-05-04",
          "2022-05-05",
          "2022-05-06",
          "2022-05-07",
          "2022-05-08",
          "2022-05-09",
          "2022-05-10",
          "2022-05-11",
          "2022-05-12",
          "2022-05-13",
          "2022-05-14",
          "2022-05-15",
          "2022-05-16",
          "2022-05-17"
         ],
         "xaxis": "x",
         "y": [
          85249,
          95588,
          105912,
          114319,
          123835,
          126174,
          132819,
          149644,
          149478,
          161338,
          175328,
          181148,
          189707,
          203655,
          209080,
          215331,
          225341,
          238809,
          261354,
          271889,
          280632,
          291556,
          299187,
          308909,
          321406,
          339396,
          353624,
          359718,
          362866,
          348077,
          362665,
          366141,
          371493,
          380753,
          383165,
          382591,
          381783,
          389190,
          392342,
          387952,
          401672,
          405204,
          401575,
          398643,
          409833,
          405385,
          401535,
          426612,
          424382,
          419018,
          426271,
          420306,
          412964,
          413697,
          420966,
          427063,
          448180,
          459292,
          475496,
          493377,
          506613,
          480124,
          494389,
          508775,
          523453,
          538708,
          566329,
          576229,
          582406,
          597921,
          615255,
          629967,
          662633,
          664907,
          703492,
          714911,
          730072,
          752962,
          775031,
          798034,
          813714,
          824255,
          833288,
          834696,
          844979,
          847871,
          852734,
          855143,
          859479,
          863240,
          863184,
          873463,
          878463,
          887350,
          886752,
          888637,
          889365,
          888431,
          892808,
          899794,
          900141,
          899788,
          901996,
          909154,
          906670,
          898720,
          897693,
          892787,
          885826,
          884039,
          888585,
          891133,
          886667,
          880072,
          867942,
          862282,
          860175,
          857333,
          848052,
          831248,
          829818,
          802292,
          780797,
          762918,
          749428,
          730226,
          708098,
          686157,
          671301,
          664836,
          662818,
          656583,
          651750,
          638195,
          629632,
          629362,
          619921,
          615688,
          613880,
          610769,
          598884,
          589105,
          583329,
          572723,
          572545,
          572545,
          567874,
          567922,
          559934,
          555632,
          548750,
          533393,
          521751,
          517277,
          509907,
          498460,
          498437,
          485943,
          469202,
          459346,
          447916,
          426501,
          417322,
          409969,
          404510,
          404427,
          404431,
          398337,
          395989,
          390942,
          386326,
          386357,
          363265,
          360164,
          358616,
          357899,
          355939,
          352382,
          351247,
          349437,
          349437,
          348937,
          347651,
          345567,
          343151,
          342057,
          341613,
          341681,
          340821,
          339721,
          339252,
          338796,
          338936,
          338943,
          339178,
          339915,
          339017,
          339728,
          340687,
          342357,
          344480,
          345914,
          348268,
          349322,
          351874,
          354633,
          355098,
          356609,
          358475,
          360915,
          363917,
          368247,
          371194,
          374697,
          377876,
          379725,
          382119,
          384198,
          387114,
          389879,
          391684,
          392729,
          393871,
          395610,
          396550,
          398311,
          399482,
          400326,
          401023,
          401120,
          401125,
          401697,
          402535,
          403499,
          404147,
          404227,
          404282,
          404744,
          404978,
          405196,
          404549,
          404305,
          404305,
          404305,
          403734,
          403173,
          401780,
          401350,
          401491,
          401137,
          400921,
          401111,
          400739,
          400147,
          399544,
          398960,
          397854,
          396872,
          396202,
          395174,
          395174,
          394927,
          394308,
          393913,
          394077,
          394139,
          395068,
          395340,
          395495,
          395731,
          395894,
          396201,
          396413,
          397234,
          397531,
          398631,
          399334,
          399334,
          399334,
          400162,
          400162,
          400162,
          400162,
          400162,
          400162,
          402024,
          402272,
          402861,
          403085,
          404731,
          404895,
          405313,
          405922,
          406707,
          408267,
          410162,
          410863,
          411571,
          413361,
          414110,
          415636,
          419795,
          421637,
          422968,
          424113,
          425998,
          426973,
          428512,
          429507,
          429507,
          433800,
          435836,
          437545,
          438755,
          441041,
          443220,
          445530,
          447640,
          453211,
          454948,
          457044,
          551241,
          558406,
          558406,
          558406,
          558406,
          558406,
          566115,
          567404,
          565254,
          563875,
          562223,
          560249,
          557232,
          557582,
          557295,
          557105,
          557047,
          557441,
          558625,
          557632,
          558379,
          557929,
          559027,
          560618,
          564131,
          568906,
          571749,
          574619,
          576670,
          581275,
          585512,
          585512,
          585512,
          585512,
          596139,
          598609,
          602312,
          607551,
          607551,
          607551,
          607551,
          607551,
          619489,
          621659,
          624142,
          623816,
          626718,
          628420,
          629738,
          632186,
          635139,
          637497,
          631975,
          635616,
          635616,
          635616,
          643053,
          654477,
          656174,
          657621,
          660334,
          662277,
          663653,
          665350,
          666785,
          667092,
          667565,
          668183,
          668459,
          669017,
          669093,
          669039,
          668522,
          668178,
          667257,
          666586,
          666377,
          665133,
          664505,
          664280,
          663414,
          662580,
          662022,
          661809,
          661809,
          661809,
          657887,
          657628,
          657337,
          657337,
          657337,
          656237,
          655688,
          655293,
          654894,
          655451,
          655451,
          655467,
          655422,
          655603,
          655634,
          655854,
          655883,
          655928,
          655947,
          656113,
          656249,
          656371,
          656470,
          656423,
          656475,
          656356,
          656503,
          656653,
          656753,
          656770,
          656884,
          656911,
          656910,
          656866,
          656866,
          657005,
          656766,
          655852,
          655567,
          655591,
          655466,
          655014,
          655014,
          654355,
          653993,
          653875,
          653784,
          653914,
          653939,
          653991,
          647498,
          647508,
          647501,
          647471,
          647682,
          647856,
          648113,
          655232,
          655060,
          655086,
          655076,
          655099,
          655083,
          655106,
          655118,
          655094,
          655115,
          655077,
          655064,
          655125,
          655038,
          654978,
          654896,
          654917,
          654779,
          654915,
          654915,
          654905,
          655019,
          655017,
          654990,
          655009,
          655017,
          654982,
          654895,
          654937,
          654981,
          655012,
          654991,
          655085
         ],
         "yaxis": "y"
        }
       ],
       "layout": {
        "legend": {
         "title": {
          "text": "variable"
         },
         "tracegroupgap": 0
        },
        "template": {
         "data": {
          "bar": [
           {
            "error_x": {
             "color": "#2a3f5f"
            },
            "error_y": {
             "color": "#2a3f5f"
            },
            "marker": {
             "line": {
              "color": "#E5ECF6",
              "width": 0.5
             },
             "pattern": {
              "fillmode": "overlay",
              "size": 10,
              "solidity": 0.2
             }
            },
            "type": "bar"
           }
          ],
          "barpolar": [
           {
            "marker": {
             "line": {
              "color": "#E5ECF6",
              "width": 0.5
             },
             "pattern": {
              "fillmode": "overlay",
              "size": 10,
              "solidity": 0.2
             }
            },
            "type": "barpolar"
           }
          ],
          "carpet": [
           {
            "aaxis": {
             "endlinecolor": "#2a3f5f",
             "gridcolor": "white",
             "linecolor": "white",
             "minorgridcolor": "white",
             "startlinecolor": "#2a3f5f"
            },
            "baxis": {
             "endlinecolor": "#2a3f5f",
             "gridcolor": "white",
             "linecolor": "white",
             "minorgridcolor": "white",
             "startlinecolor": "#2a3f5f"
            },
            "type": "carpet"
           }
          ],
          "choropleth": [
           {
            "colorbar": {
             "outlinewidth": 0,
             "ticks": ""
            },
            "type": "choropleth"
           }
          ],
          "contour": [
           {
            "colorbar": {
             "outlinewidth": 0,
             "ticks": ""
            },
            "colorscale": [
             [
              0,
              "#0d0887"
             ],
             [
              0.1111111111111111,
              "#46039f"
             ],
             [
              0.2222222222222222,
              "#7201a8"
             ],
             [
              0.3333333333333333,
              "#9c179e"
             ],
             [
              0.4444444444444444,
              "#bd3786"
             ],
             [
              0.5555555555555556,
              "#d8576b"
             ],
             [
              0.6666666666666666,
              "#ed7953"
             ],
             [
              0.7777777777777778,
              "#fb9f3a"
             ],
             [
              0.8888888888888888,
              "#fdca26"
             ],
             [
              1,
              "#f0f921"
             ]
            ],
            "type": "contour"
           }
          ],
          "contourcarpet": [
           {
            "colorbar": {
             "outlinewidth": 0,
             "ticks": ""
            },
            "type": "contourcarpet"
           }
          ],
          "heatmap": [
           {
            "colorbar": {
             "outlinewidth": 0,
             "ticks": ""
            },
            "colorscale": [
             [
              0,
              "#0d0887"
             ],
             [
              0.1111111111111111,
              "#46039f"
             ],
             [
              0.2222222222222222,
              "#7201a8"
             ],
             [
              0.3333333333333333,
              "#9c179e"
             ],
             [
              0.4444444444444444,
              "#bd3786"
             ],
             [
              0.5555555555555556,
              "#d8576b"
             ],
             [
              0.6666666666666666,
              "#ed7953"
             ],
             [
              0.7777777777777778,
              "#fb9f3a"
             ],
             [
              0.8888888888888888,
              "#fdca26"
             ],
             [
              1,
              "#f0f921"
             ]
            ],
            "type": "heatmap"
           }
          ],
          "heatmapgl": [
           {
            "colorbar": {
             "outlinewidth": 0,
             "ticks": ""
            },
            "colorscale": [
             [
              0,
              "#0d0887"
             ],
             [
              0.1111111111111111,
              "#46039f"
             ],
             [
              0.2222222222222222,
              "#7201a8"
             ],
             [
              0.3333333333333333,
              "#9c179e"
             ],
             [
              0.4444444444444444,
              "#bd3786"
             ],
             [
              0.5555555555555556,
              "#d8576b"
             ],
             [
              0.6666666666666666,
              "#ed7953"
             ],
             [
              0.7777777777777778,
              "#fb9f3a"
             ],
             [
              0.8888888888888888,
              "#fdca26"
             ],
             [
              1,
              "#f0f921"
             ]
            ],
            "type": "heatmapgl"
           }
          ],
          "histogram": [
           {
            "marker": {
             "pattern": {
              "fillmode": "overlay",
              "size": 10,
              "solidity": 0.2
             }
            },
            "type": "histogram"
           }
          ],
          "histogram2d": [
           {
            "colorbar": {
             "outlinewidth": 0,
             "ticks": ""
            },
            "colorscale": [
             [
              0,
              "#0d0887"
             ],
             [
              0.1111111111111111,
              "#46039f"
             ],
             [
              0.2222222222222222,
              "#7201a8"
             ],
             [
              0.3333333333333333,
              "#9c179e"
             ],
             [
              0.4444444444444444,
              "#bd3786"
             ],
             [
              0.5555555555555556,
              "#d8576b"
             ],
             [
              0.6666666666666666,
              "#ed7953"
             ],
             [
              0.7777777777777778,
              "#fb9f3a"
             ],
             [
              0.8888888888888888,
              "#fdca26"
             ],
             [
              1,
              "#f0f921"
             ]
            ],
            "type": "histogram2d"
           }
          ],
          "histogram2dcontour": [
           {
            "colorbar": {
             "outlinewidth": 0,
             "ticks": ""
            },
            "colorscale": [
             [
              0,
              "#0d0887"
             ],
             [
              0.1111111111111111,
              "#46039f"
             ],
             [
              0.2222222222222222,
              "#7201a8"
             ],
             [
              0.3333333333333333,
              "#9c179e"
             ],
             [
              0.4444444444444444,
              "#bd3786"
             ],
             [
              0.5555555555555556,
              "#d8576b"
             ],
             [
              0.6666666666666666,
              "#ed7953"
             ],
             [
              0.7777777777777778,
              "#fb9f3a"
             ],
             [
              0.8888888888888888,
              "#fdca26"
             ],
             [
              1,
              "#f0f921"
             ]
            ],
            "type": "histogram2dcontour"
           }
          ],
          "mesh3d": [
           {
            "colorbar": {
             "outlinewidth": 0,
             "ticks": ""
            },
            "type": "mesh3d"
           }
          ],
          "parcoords": [
           {
            "line": {
             "colorbar": {
              "outlinewidth": 0,
              "ticks": ""
             }
            },
            "type": "parcoords"
           }
          ],
          "pie": [
           {
            "automargin": true,
            "type": "pie"
           }
          ],
          "scatter": [
           {
            "fillpattern": {
             "fillmode": "overlay",
             "size": 10,
             "solidity": 0.2
            },
            "type": "scatter"
           }
          ],
          "scatter3d": [
           {
            "line": {
             "colorbar": {
              "outlinewidth": 0,
              "ticks": ""
             }
            },
            "marker": {
             "colorbar": {
              "outlinewidth": 0,
              "ticks": ""
             }
            },
            "type": "scatter3d"
           }
          ],
          "scattercarpet": [
           {
            "marker": {
             "colorbar": {
              "outlinewidth": 0,
              "ticks": ""
             }
            },
            "type": "scattercarpet"
           }
          ],
          "scattergeo": [
           {
            "marker": {
             "colorbar": {
              "outlinewidth": 0,
              "ticks": ""
             }
            },
            "type": "scattergeo"
           }
          ],
          "scattergl": [
           {
            "marker": {
             "colorbar": {
              "outlinewidth": 0,
              "ticks": ""
             }
            },
            "type": "scattergl"
           }
          ],
          "scattermapbox": [
           {
            "marker": {
             "colorbar": {
              "outlinewidth": 0,
              "ticks": ""
             }
            },
            "type": "scattermapbox"
           }
          ],
          "scatterpolar": [
           {
            "marker": {
             "colorbar": {
              "outlinewidth": 0,
              "ticks": ""
             }
            },
            "type": "scatterpolar"
           }
          ],
          "scatterpolargl": [
           {
            "marker": {
             "colorbar": {
              "outlinewidth": 0,
              "ticks": ""
             }
            },
            "type": "scatterpolargl"
           }
          ],
          "scatterternary": [
           {
            "marker": {
             "colorbar": {
              "outlinewidth": 0,
              "ticks": ""
             }
            },
            "type": "scatterternary"
           }
          ],
          "surface": [
           {
            "colorbar": {
             "outlinewidth": 0,
             "ticks": ""
            },
            "colorscale": [
             [
              0,
              "#0d0887"
             ],
             [
              0.1111111111111111,
              "#46039f"
             ],
             [
              0.2222222222222222,
              "#7201a8"
             ],
             [
              0.3333333333333333,
              "#9c179e"
             ],
             [
              0.4444444444444444,
              "#bd3786"
             ],
             [
              0.5555555555555556,
              "#d8576b"
             ],
             [
              0.6666666666666666,
              "#ed7953"
             ],
             [
              0.7777777777777778,
              "#fb9f3a"
             ],
             [
              0.8888888888888888,
              "#fdca26"
             ],
             [
              1,
              "#f0f921"
             ]
            ],
            "type": "surface"
           }
          ],
          "table": [
           {
            "cells": {
             "fill": {
              "color": "#EBF0F8"
             },
             "line": {
              "color": "white"
             }
            },
            "header": {
             "fill": {
              "color": "#C8D4E3"
             },
             "line": {
              "color": "white"
             }
            },
            "type": "table"
           }
          ]
         },
         "layout": {
          "annotationdefaults": {
           "arrowcolor": "#2a3f5f",
           "arrowhead": 0,
           "arrowwidth": 1
          },
          "autotypenumbers": "strict",
          "coloraxis": {
           "colorbar": {
            "outlinewidth": 0,
            "ticks": ""
           }
          },
          "colorscale": {
           "diverging": [
            [
             0,
             "#8e0152"
            ],
            [
             0.1,
             "#c51b7d"
            ],
            [
             0.2,
             "#de77ae"
            ],
            [
             0.3,
             "#f1b6da"
            ],
            [
             0.4,
             "#fde0ef"
            ],
            [
             0.5,
             "#f7f7f7"
            ],
            [
             0.6,
             "#e6f5d0"
            ],
            [
             0.7,
             "#b8e186"
            ],
            [
             0.8,
             "#7fbc41"
            ],
            [
             0.9,
             "#4d9221"
            ],
            [
             1,
             "#276419"
            ]
           ],
           "sequential": [
            [
             0,
             "#0d0887"
            ],
            [
             0.1111111111111111,
             "#46039f"
            ],
            [
             0.2222222222222222,
             "#7201a8"
            ],
            [
             0.3333333333333333,
             "#9c179e"
            ],
            [
             0.4444444444444444,
             "#bd3786"
            ],
            [
             0.5555555555555556,
             "#d8576b"
            ],
            [
             0.6666666666666666,
             "#ed7953"
            ],
            [
             0.7777777777777778,
             "#fb9f3a"
            ],
            [
             0.8888888888888888,
             "#fdca26"
            ],
            [
             1,
             "#f0f921"
            ]
           ],
           "sequentialminus": [
            [
             0,
             "#0d0887"
            ],
            [
             0.1111111111111111,
             "#46039f"
            ],
            [
             0.2222222222222222,
             "#7201a8"
            ],
            [
             0.3333333333333333,
             "#9c179e"
            ],
            [
             0.4444444444444444,
             "#bd3786"
            ],
            [
             0.5555555555555556,
             "#d8576b"
            ],
            [
             0.6666666666666666,
             "#ed7953"
            ],
            [
             0.7777777777777778,
             "#fb9f3a"
            ],
            [
             0.8888888888888888,
             "#fdca26"
            ],
            [
             1,
             "#f0f921"
            ]
           ]
          },
          "colorway": [
           "#636efa",
           "#EF553B",
           "#00cc96",
           "#ab63fa",
           "#FFA15A",
           "#19d3f3",
           "#FF6692",
           "#B6E880",
           "#FF97FF",
           "#FECB52"
          ],
          "font": {
           "color": "#2a3f5f"
          },
          "geo": {
           "bgcolor": "white",
           "lakecolor": "white",
           "landcolor": "#E5ECF6",
           "showlakes": true,
           "showland": true,
           "subunitcolor": "white"
          },
          "hoverlabel": {
           "align": "left"
          },
          "hovermode": "closest",
          "mapbox": {
           "style": "light"
          },
          "paper_bgcolor": "white",
          "plot_bgcolor": "#E5ECF6",
          "polar": {
           "angularaxis": {
            "gridcolor": "white",
            "linecolor": "white",
            "ticks": ""
           },
           "bgcolor": "#E5ECF6",
           "radialaxis": {
            "gridcolor": "white",
            "linecolor": "white",
            "ticks": ""
           }
          },
          "scene": {
           "xaxis": {
            "backgroundcolor": "#E5ECF6",
            "gridcolor": "white",
            "gridwidth": 2,
            "linecolor": "white",
            "showbackground": true,
            "ticks": "",
            "zerolinecolor": "white"
           },
           "yaxis": {
            "backgroundcolor": "#E5ECF6",
            "gridcolor": "white",
            "gridwidth": 2,
            "linecolor": "white",
            "showbackground": true,
            "ticks": "",
            "zerolinecolor": "white"
           },
           "zaxis": {
            "backgroundcolor": "#E5ECF6",
            "gridcolor": "white",
            "gridwidth": 2,
            "linecolor": "white",
            "showbackground": true,
            "ticks": "",
            "zerolinecolor": "white"
           }
          },
          "shapedefaults": {
           "line": {
            "color": "#2a3f5f"
           }
          },
          "ternary": {
           "aaxis": {
            "gridcolor": "white",
            "linecolor": "white",
            "ticks": ""
           },
           "baxis": {
            "gridcolor": "white",
            "linecolor": "white",
            "ticks": ""
           },
           "bgcolor": "#E5ECF6",
           "caxis": {
            "gridcolor": "white",
            "linecolor": "white",
            "ticks": ""
           }
          },
          "title": {
           "x": 0.05
          },
          "xaxis": {
           "automargin": true,
           "gridcolor": "white",
           "linecolor": "white",
           "ticks": "",
           "title": {
            "standoff": 15
           },
           "zerolinecolor": "white",
           "zerolinewidth": 2
          },
          "yaxis": {
           "automargin": true,
           "gridcolor": "white",
           "linecolor": "white",
           "ticks": "",
           "title": {
            "standoff": 15
           },
           "zerolinecolor": "white",
           "zerolinewidth": 2
          }
         }
        },
        "title": {
         "text": "Number of people vaccinated against COVID-19 in Maryland (source: coronavirus.jhu.edu)"
        },
        "xaxis": {
         "anchor": "y",
         "domain": [
          0,
          1
         ],
         "title": {
          "text": "Date"
         }
        },
        "yaxis": {
         "anchor": "x",
         "domain": [
          0,
          1
         ],
         "title": {
          "text": "value"
         }
        }
       }
      },
      "text/html": [
       "<div>                            <div id=\"e1fd60a9-b36c-40fb-a17e-575801c7be6d\" class=\"plotly-graph-div\" style=\"height:525px; width:100%;\"></div>            <script type=\"text/javascript\">                require([\"plotly\"], function(Plotly) {                    window.PLOTLYENV=window.PLOTLYENV || {};                                    if (document.getElementById(\"e1fd60a9-b36c-40fb-a17e-575801c7be6d\")) {                    Plotly.newPlot(                        \"e1fd60a9-b36c-40fb-a17e-575801c7be6d\",                        [{\"hovertemplate\":\"variable=People_Fully_Vaccinated<br>Date=%{x}<br>value=%{y}<extra></extra>\",\"legendgroup\":\"People_Fully_Vaccinated\",\"line\":{\"color\":\"#636efa\",\"dash\":\"solid\"},\"marker\":{\"symbol\":\"circle\"},\"mode\":\"lines\",\"name\":\"People_Fully_Vaccinated\",\"orientation\":\"v\",\"showlegend\":true,\"x\":[\"2021-01-06\",\"2021-01-07\",\"2021-01-08\",\"2021-01-09\",\"2021-01-10\",\"2021-01-11\",\"2021-01-12\",\"2021-01-13\",\"2021-01-14\",\"2021-01-15\",\"2021-01-16\",\"2021-01-17\",\"2021-01-18\",\"2021-01-19\",\"2021-01-20\",\"2021-01-21\",\"2021-01-22\",\"2021-01-23\",\"2021-01-24\",\"2021-01-25\",\"2021-01-26\",\"2021-01-27\",\"2021-01-28\",\"2021-01-29\",\"2021-01-30\",\"2021-01-31\",\"2021-02-01\",\"2021-02-02\",\"2021-02-03\",\"2021-02-04\",\"2021-02-05\",\"2021-02-06\",\"2021-02-07\",\"2021-02-08\",\"2021-02-09\",\"2021-02-10\",\"2021-02-11\",\"2021-02-12\",\"2021-02-13\",\"2021-02-14\",\"2021-02-15\",\"2021-02-16\",\"2021-02-17\",\"2021-02-18\",\"2021-02-19\",\"2021-02-20\",\"2021-02-21\",\"2021-02-22\",\"2021-02-23\",\"2021-02-24\",\"2021-02-25\",\"2021-02-26\",\"2021-02-27\",\"2021-02-28\",\"2021-03-01\",\"2021-03-02\",\"2021-03-03\",\"2021-03-04\",\"2021-03-05\",\"2021-03-06\",\"2021-03-07\",\"2021-03-08\",\"2021-03-09\",\"2021-03-10\",\"2021-03-11\",\"2021-03-12\",\"2021-03-13\",\"2021-03-14\",\"2021-03-15\",\"2021-03-16\",\"2021-03-17\",\"2021-03-18\",\"2021-03-19\",\"2021-03-20\",\"2021-03-21\",\"2021-03-22\",\"2021-03-23\",\"2021-03-24\",\"2021-03-25\",\"2021-03-26\",\"2021-03-27\",\"2021-03-28\",\"2021-03-29\",\"2021-03-30\",\"2021-03-31\",\"2021-04-01\",\"2021-04-02\",\"2021-04-03\",\"2021-04-04\",\"2021-04-05\",\"2021-04-06\",\"2021-04-07\",\"2021-04-08\",\"2021-04-09\",\"2021-04-10\",\"2021-04-11\",\"2021-04-12\",\"2021-04-13\",\"2021-04-14\",\"2021-04-15\",\"2021-04-16\",\"2021-04-17\",\"2021-04-18\",\"2021-04-19\",\"2021-04-20\",\"2021-04-21\",\"2021-04-22\",\"2021-04-23\",\"2021-04-24\",\"2021-04-25\",\"2021-04-26\",\"2021-04-27\",\"2021-04-28\",\"2021-04-29\",\"2021-04-30\",\"2021-05-01\",\"2021-05-02\",\"2021-05-03\",\"2021-05-04\",\"2021-05-05\",\"2021-05-06\",\"2021-05-07\",\"2021-05-08\",\"2021-05-09\",\"2021-05-10\",\"2021-05-11\",\"2021-05-12\",\"2021-05-13\",\"2021-05-14\",\"2021-05-15\",\"2021-05-16\",\"2021-05-17\",\"2021-05-18\",\"2021-05-19\",\"2021-05-20\",\"2021-05-21\",\"2021-05-22\",\"2021-05-23\",\"2021-05-24\",\"2021-05-25\",\"2021-05-26\",\"2021-05-27\",\"2021-05-28\",\"2021-05-29\",\"2021-05-30\",\"2021-05-31\",\"2021-06-01\",\"2021-06-02\",\"2021-06-03\",\"2021-06-04\",\"2021-06-05\",\"2021-06-06\",\"2021-06-07\",\"2021-06-08\",\"2021-06-09\",\"2021-06-10\",\"2021-06-11\",\"2021-06-12\",\"2021-06-13\",\"2021-06-14\",\"2021-06-15\",\"2021-06-16\",\"2021-06-17\",\"2021-06-18\",\"2021-06-19\",\"2021-06-20\",\"2021-06-21\",\"2021-06-22\",\"2021-06-23\",\"2021-06-24\",\"2021-06-25\",\"2021-06-26\",\"2021-06-27\",\"2021-06-28\",\"2021-06-29\",\"2021-06-30\",\"2021-07-01\",\"2021-07-02\",\"2021-07-03\",\"2021-07-04\",\"2021-07-05\",\"2021-07-06\",\"2021-07-07\",\"2021-07-08\",\"2021-07-09\",\"2021-07-10\",\"2021-07-11\",\"2021-07-12\",\"2021-07-13\",\"2021-07-14\",\"2021-07-15\",\"2021-07-16\",\"2021-07-17\",\"2021-07-18\",\"2021-07-19\",\"2021-07-20\",\"2021-07-21\",\"2021-07-22\",\"2021-07-23\",\"2021-07-24\",\"2021-07-25\",\"2021-07-26\",\"2021-07-27\",\"2021-07-28\",\"2021-07-29\",\"2021-07-30\",\"2021-07-31\",\"2021-08-01\",\"2021-08-02\",\"2021-08-03\",\"2021-08-04\",\"2021-08-05\",\"2021-08-06\",\"2021-08-07\",\"2021-08-08\",\"2021-08-09\",\"2021-08-10\",\"2021-08-11\",\"2021-08-12\",\"2021-08-13\",\"2021-08-14\",\"2021-08-15\",\"2021-08-16\",\"2021-08-17\",\"2021-08-18\",\"2021-08-19\",\"2021-08-20\",\"2021-08-21\",\"2021-08-22\",\"2021-08-23\",\"2021-08-24\",\"2021-08-25\",\"2021-08-26\",\"2021-08-27\",\"2021-08-28\",\"2021-08-29\",\"2021-08-30\",\"2021-08-31\",\"2021-09-01\",\"2021-09-02\",\"2021-09-03\",\"2021-09-04\",\"2021-09-05\",\"2021-09-06\",\"2021-09-07\",\"2021-09-08\",\"2021-09-09\",\"2021-09-10\",\"2021-09-11\",\"2021-09-12\",\"2021-09-13\",\"2021-09-14\",\"2021-09-15\",\"2021-09-16\",\"2021-09-17\",\"2021-09-18\",\"2021-09-19\",\"2021-09-20\",\"2021-09-21\",\"2021-09-22\",\"2021-09-23\",\"2021-09-24\",\"2021-09-25\",\"2021-09-26\",\"2021-09-27\",\"2021-09-28\",\"2021-09-29\",\"2021-09-30\",\"2021-10-01\",\"2021-10-02\",\"2021-10-03\",\"2021-10-04\",\"2021-10-05\",\"2021-10-06\",\"2021-10-07\",\"2021-10-08\",\"2021-10-09\",\"2021-10-10\",\"2021-10-11\",\"2021-10-12\",\"2021-10-13\",\"2021-10-14\",\"2021-10-15\",\"2021-10-16\",\"2021-10-17\",\"2021-10-18\",\"2021-10-19\",\"2021-10-20\",\"2021-10-21\",\"2021-10-22\",\"2021-10-23\",\"2021-10-24\",\"2021-10-25\",\"2021-10-26\",\"2021-10-27\",\"2021-10-28\",\"2021-10-29\",\"2021-10-30\",\"2021-10-31\",\"2021-11-01\",\"2021-11-02\",\"2021-11-03\",\"2021-11-04\",\"2021-11-05\",\"2021-11-06\",\"2021-11-07\",\"2021-11-08\",\"2021-11-09\",\"2021-11-10\",\"2021-11-11\",\"2021-11-12\",\"2021-11-13\",\"2021-11-14\",\"2021-11-15\",\"2021-11-16\",\"2021-11-17\",\"2021-11-18\",\"2021-11-19\",\"2021-11-20\",\"2021-11-21\",\"2021-11-22\",\"2021-11-23\",\"2021-11-24\",\"2021-11-25\",\"2021-11-26\",\"2021-11-27\",\"2021-11-28\",\"2021-11-29\",\"2021-11-30\",\"2021-12-01\",\"2021-12-02\",\"2021-12-03\",\"2021-12-04\",\"2021-12-05\",\"2021-12-06\",\"2021-12-07\",\"2021-12-08\",\"2021-12-09\",\"2021-12-10\",\"2021-12-11\",\"2021-12-12\",\"2021-12-13\",\"2021-12-14\",\"2021-12-15\",\"2021-12-16\",\"2021-12-17\",\"2021-12-18\",\"2021-12-19\",\"2021-12-20\",\"2021-12-21\",\"2021-12-22\",\"2021-12-23\",\"2021-12-24\",\"2021-12-25\",\"2021-12-26\",\"2021-12-27\",\"2021-12-28\",\"2021-12-29\",\"2021-12-30\",\"2021-12-31\",\"2022-01-01\",\"2022-01-02\",\"2022-01-03\",\"2022-01-04\",\"2022-01-05\",\"2022-01-06\",\"2022-01-07\",\"2022-01-08\",\"2022-01-09\",\"2022-01-10\",\"2022-01-11\",\"2022-01-12\",\"2022-01-13\",\"2022-01-14\",\"2022-01-15\",\"2022-01-16\",\"2022-01-17\",\"2022-01-18\",\"2022-01-19\",\"2022-01-20\",\"2022-01-21\",\"2022-01-22\",\"2022-01-23\",\"2022-01-24\",\"2022-01-25\",\"2022-01-26\",\"2022-01-27\",\"2022-01-28\",\"2022-01-29\",\"2022-01-30\",\"2022-01-31\",\"2022-02-01\",\"2022-02-02\",\"2022-02-03\",\"2022-02-04\",\"2022-02-05\",\"2022-02-06\",\"2022-02-07\",\"2022-02-08\",\"2022-02-09\",\"2022-02-10\",\"2022-02-11\",\"2022-02-12\",\"2022-02-13\",\"2022-02-14\",\"2022-02-15\",\"2022-02-16\",\"2022-02-17\",\"2022-02-18\",\"2022-02-19\",\"2022-02-20\",\"2022-02-21\",\"2022-02-22\",\"2022-02-23\",\"2022-02-24\",\"2022-02-25\",\"2022-02-26\",\"2022-02-27\",\"2022-02-28\",\"2022-03-01\",\"2022-03-02\",\"2022-03-03\",\"2022-03-04\",\"2022-03-05\",\"2022-03-06\",\"2022-03-07\",\"2022-03-08\",\"2022-03-09\",\"2022-03-10\",\"2022-03-11\",\"2022-03-12\",\"2022-03-13\",\"2022-03-14\",\"2022-03-15\",\"2022-03-16\",\"2022-03-17\",\"2022-03-18\",\"2022-03-19\",\"2022-03-20\",\"2022-03-21\",\"2022-03-22\",\"2022-03-23\",\"2022-03-24\",\"2022-03-25\",\"2022-03-26\",\"2022-03-27\",\"2022-03-28\",\"2022-03-29\",\"2022-03-30\",\"2022-03-31\",\"2022-04-01\",\"2022-04-02\",\"2022-04-03\",\"2022-04-04\",\"2022-04-05\",\"2022-04-06\",\"2022-04-07\",\"2022-04-08\",\"2022-04-09\",\"2022-04-10\",\"2022-04-11\",\"2022-04-12\",\"2022-04-13\",\"2022-04-14\",\"2022-04-15\",\"2022-04-16\",\"2022-04-17\",\"2022-04-18\",\"2022-04-19\",\"2022-04-20\",\"2022-04-21\",\"2022-04-22\",\"2022-04-23\",\"2022-04-24\",\"2022-04-25\",\"2022-04-26\",\"2022-04-27\",\"2022-04-28\",\"2022-04-29\",\"2022-04-30\",\"2022-05-01\",\"2022-05-02\",\"2022-05-03\",\"2022-05-04\",\"2022-05-05\",\"2022-05-06\",\"2022-05-07\",\"2022-05-08\",\"2022-05-09\",\"2022-05-10\",\"2022-05-11\",\"2022-05-12\",\"2022-05-13\",\"2022-05-14\",\"2022-05-15\",\"2022-05-16\",\"2022-05-17\"],\"xaxis\":\"x\",\"y\":[742.0,1474.0,2924.0,4826.0,6189.0,6666.0,9655.0,12704.0,15840.0,17493.0,20646.0,21296.0,21801.0,21801.0,24363.0,28119.0,30880.0,34092.0,39255.0,39255.0,42228.0,48635.0,56297.0,66616.0,76981.0,82822.0,87139.0,88459.0,91571.0,115808.0,115808.0,130190.0,146555.0,151018.0,154640.0,168990.0,181541.0,197990.0,213068.0,237830.0,237830.0,244328.0,253702.0,265585.0,285860.0,326851.0,326851.0,349747.0,369686.0,381870.0,398749.0,414970.0,438535.0,463613.0,487671.0,503576.0,513499.0,534605.0,550801.0,568160.0,589659.0,602926.0,628959.0,647080.0,666478.0,688419.0,706296.0,725097.0,740659.0,752735.0,765676.0,782003.0,798449.0,812403.0,814202.0,841642.0,852814.0,864158.0,879431.0,896207.0,919958.0,943997.0,966962.0,980397.0,1007396.0,1039090.0,1075960.0,1115176.0,1157059.0,1186402.0,1196806.0,1222748.0,1258370.0,1300334.0,1342839.0,1398541.0,1435290.0,1436711.0,1498232.0,1567793.0,1609564.0,1613116.0,1679382.0,1699340.0,1727654.0,1767219.0,1805523.0,1846977.0,1881341.0,1916292.0,1928628.0,1957062.0,1987755.0,2023126.0,2065479.0,2096169.0,2111427.0,2125592.0,2148237.0,2186149.0,2219257.0,2253129.0,2296918.0,2332002.0,2363446.0,2395628.0,2432761.0,2467163.0,2502077.0,2533348.0,2558182.0,2575259.0,2592361.0,2640260.0,2675098.0,2713830.0,2742843.0,2764093.0,2775622.0,2789960.0,2810510.0,2836207.0,2854088.0,2886013.0,2902665.0,2910300.0,2915505.0,2931545.0,2946173.0,2965380.0,2991387.0,3011906.0,3021669.0,3035714.0,3057322.0,3086673.0,3117688.0,3137520.0,3148797.0,3155047.0,3179456.0,3201469.0,3219364.0,3236719.0,3249846.0,3250388.0,3250772.0,3265050.0,3275500.0,3290790.0,3302453.0,3330002.0,3366445.0,3373446.0,3379800.0,3387278.0,3395682.0,3406528.0,3413065.0,3419732.0,3422335.0,3424364.0,3431069.0,3438612.0,3446199.0,3452937.0,3457935.0,3461253.0,3466826.0,3473585.0,3479326.0,3487404.0,3493079.0,3498124.0,3501035.0,3505895.0,3513599.0,3519423.0,3524711.0,3530114.0,3534077.0,3536737.0,3539883.0,3546233.0,3551313.0,3556296.0,3563883.0,3565986.0,3569482.0,3573537.0,3578413.0,3585152.0,3590065.0,3595105.0,3599139.0,3601728.0,3605706.0,3610261.0,3615899.0,3622257.0,3627752.0,3631047.0,3634521.0,3639627.0,3645626.0,3652486.0,3658414.0,3664666.0,3669581.0,3673148.0,3678839.0,3685847.0,3692817.0,3699456.0,3706234.0,3714076.0,3718746.0,3725033.0,3732849.0,3740778.0,3747622.0,3755043.0,3761613.0,3765211.0,3767812.0,3771972.0,3780987.0,3787785.0,3793793.0,3801903.0,3806256.0,3810647.0,3816826.0,3823325.0,3828936.0,3835130.0,3840482.0,3844981.0,3849204.0,3855260.0,3860068.0,3865944.0,3872477.0,3877040.0,3880367.0,3884282.0,3887655.0,3892489.0,3895792.0,3903142.0,3910022.0,3912656.0,3916808.0,3919726.0,3925281.0,3929284.0,3933168.0,3936758.0,3938200.0,3940694.0,3940694.0,3940694.0,3940694.0,3940694.0,3940694.0,3966069.0,3970057.0,3975039.0,3979681.0,3983635.0,3988992.0,3992260.0,3995301.0,4000080.0,4008000.0,4011862.0,4018456.0,4025702.0,4030984.0,4034486.0,4039592.0,4046658.0,4030133.0,4034008.0,4041278.0,4048060.0,4049906.0,4053473.0,4060552.0,4066007.0,4029618.0,4035224.0,4038112.0,4039677.0,4042201.0,4045514.0,4049048.0,4052851.0,4056511.0,4059346.0,4060985.0,4063654.0,4067121.0,4067121.0,4067121.0,4074050.0,4077493.0,4084557.0,4090430.0,4099736.0,4108654.0,4118630.0,4124685.0,4134618.0,4138164.0,4150084.0,4158287.0,4165632.0,4173574.0,4180901.0,4187991.0,4191649.0,4198006.0,4204148.0,4209612.0,4214762.0,4218349.0,4221923.0,4223728.0,4231337.0,4235363.0,4239825.0,4239825.0,4239825.0,4246682.0,4247566.0,4251352.0,4255554.0,4259763.0,4259763.0,4259763.0,4267426.0,4268564.0,4270983.0,4274300.0,4278718.0,4283538.0,4287944.0,4292069.0,4294676.0,4298737.0,4303743.0,4315402.0,4330922.0,4335367.0,4337717.0,4339390.0,4341861.0,4347807.0,4352618.0,4357655.0,4361526.0,4363933.0,4365400.0,4368323.0,4372084.0,4376894.0,4381576.0,4385497.0,4388527.0,4390178.0,4393280.0,4397159.0,4401324.0,4405582.0,4410079.0,4413436.0,4415330.0,4419194.0,4422779.0,4427003.0,4430307.0,4434156.0,4436928.0,4438528.0,4438528.0,4438528.0,4451535.0,4454594.0,4463709.0,4463709.0,4463709.0,4469048.0,4471539.0,4474205.0,4477116.0,4480358.0,4483066.0,4484723.0,4486353.0,4488194.0,4490142.0,4491912.0,4493726.0,4494917.0,4495526.0,4496687.0,4498002.0,4499486.0,4500775.0,4502359.0,4503210.0,4503777.0,4504833.0,4505938.0,4507304.0,4508574.0,4509912.0,4510673.0,4511199.0,4512256.0,4513479.0,4514695.0,4517091.0,4522635.0,4524782.0,4525254.0,4527924.0,4527924.0,4527924.0,4538744.0,4538744.0,4538744.0,4542614.0,4543678.0,4545047.0,4546340.0,4585468.0,4585468.0,4585468.0,4588261.0,4589232.0,4590545.0,4592073.0,4593320.0,4593320.0,4593320.0,4595758.0,4596675.0,4598041.0,4599193.0,4600541.0,4600541.0,4600541.0,4600541.0,4600541.0,4600541.0,4600541.0,4600541.0,4600541.0,4600541.0,4600541.0,4600541.0,4600541.0,4600541.0,4600541.0,4600541.0,4600541.0,4600541.0,4600541.0,4600541.0,4600541.0,4600541.0,4600541.0,4600541.0,4600541.0,4600541.0],\"yaxis\":\"y\",\"type\":\"scatter\"},{\"hovertemplate\":\"variable=People_Partially_Vaccinated<br>Date=%{x}<br>value=%{y}<extra></extra>\",\"legendgroup\":\"People_Partially_Vaccinated\",\"line\":{\"color\":\"#EF553B\",\"dash\":\"solid\"},\"marker\":{\"symbol\":\"circle\"},\"mode\":\"lines\",\"name\":\"People_Partially_Vaccinated\",\"orientation\":\"v\",\"showlegend\":true,\"x\":[\"2021-01-06\",\"2021-01-07\",\"2021-01-08\",\"2021-01-09\",\"2021-01-10\",\"2021-01-11\",\"2021-01-12\",\"2021-01-13\",\"2021-01-14\",\"2021-01-15\",\"2021-01-16\",\"2021-01-17\",\"2021-01-18\",\"2021-01-19\",\"2021-01-20\",\"2021-01-21\",\"2021-01-22\",\"2021-01-23\",\"2021-01-24\",\"2021-01-25\",\"2021-01-26\",\"2021-01-27\",\"2021-01-28\",\"2021-01-29\",\"2021-01-30\",\"2021-01-31\",\"2021-02-01\",\"2021-02-02\",\"2021-02-03\",\"2021-02-04\",\"2021-02-05\",\"2021-02-06\",\"2021-02-07\",\"2021-02-08\",\"2021-02-09\",\"2021-02-10\",\"2021-02-11\",\"2021-02-12\",\"2021-02-13\",\"2021-02-14\",\"2021-02-15\",\"2021-02-16\",\"2021-02-17\",\"2021-02-18\",\"2021-02-19\",\"2021-02-20\",\"2021-02-21\",\"2021-02-22\",\"2021-02-23\",\"2021-02-24\",\"2021-02-25\",\"2021-02-26\",\"2021-02-27\",\"2021-02-28\",\"2021-03-01\",\"2021-03-02\",\"2021-03-03\",\"2021-03-04\",\"2021-03-05\",\"2021-03-06\",\"2021-03-07\",\"2021-03-08\",\"2021-03-09\",\"2021-03-10\",\"2021-03-11\",\"2021-03-12\",\"2021-03-13\",\"2021-03-14\",\"2021-03-15\",\"2021-03-16\",\"2021-03-17\",\"2021-03-18\",\"2021-03-19\",\"2021-03-20\",\"2021-03-21\",\"2021-03-22\",\"2021-03-23\",\"2021-03-24\",\"2021-03-25\",\"2021-03-26\",\"2021-03-27\",\"2021-03-28\",\"2021-03-29\",\"2021-03-30\",\"2021-03-31\",\"2021-04-01\",\"2021-04-02\",\"2021-04-03\",\"2021-04-04\",\"2021-04-05\",\"2021-04-06\",\"2021-04-07\",\"2021-04-08\",\"2021-04-09\",\"2021-04-10\",\"2021-04-11\",\"2021-04-12\",\"2021-04-13\",\"2021-04-14\",\"2021-04-15\",\"2021-04-16\",\"2021-04-17\",\"2021-04-18\",\"2021-04-19\",\"2021-04-20\",\"2021-04-21\",\"2021-04-22\",\"2021-04-23\",\"2021-04-24\",\"2021-04-25\",\"2021-04-26\",\"2021-04-27\",\"2021-04-28\",\"2021-04-29\",\"2021-04-30\",\"2021-05-01\",\"2021-05-02\",\"2021-05-03\",\"2021-05-04\",\"2021-05-05\",\"2021-05-06\",\"2021-05-07\",\"2021-05-08\",\"2021-05-09\",\"2021-05-10\",\"2021-05-11\",\"2021-05-12\",\"2021-05-13\",\"2021-05-14\",\"2021-05-15\",\"2021-05-16\",\"2021-05-17\",\"2021-05-18\",\"2021-05-19\",\"2021-05-20\",\"2021-05-21\",\"2021-05-22\",\"2021-05-23\",\"2021-05-24\",\"2021-05-25\",\"2021-05-26\",\"2021-05-27\",\"2021-05-28\",\"2021-05-29\",\"2021-05-30\",\"2021-05-31\",\"2021-06-01\",\"2021-06-02\",\"2021-06-03\",\"2021-06-04\",\"2021-06-05\",\"2021-06-06\",\"2021-06-07\",\"2021-06-08\",\"2021-06-09\",\"2021-06-10\",\"2021-06-11\",\"2021-06-12\",\"2021-06-13\",\"2021-06-14\",\"2021-06-15\",\"2021-06-16\",\"2021-06-17\",\"2021-06-18\",\"2021-06-19\",\"2021-06-20\",\"2021-06-21\",\"2021-06-22\",\"2021-06-23\",\"2021-06-24\",\"2021-06-25\",\"2021-06-26\",\"2021-06-27\",\"2021-06-28\",\"2021-06-29\",\"2021-06-30\",\"2021-07-01\",\"2021-07-02\",\"2021-07-03\",\"2021-07-04\",\"2021-07-05\",\"2021-07-06\",\"2021-07-07\",\"2021-07-08\",\"2021-07-09\",\"2021-07-10\",\"2021-07-11\",\"2021-07-12\",\"2021-07-13\",\"2021-07-14\",\"2021-07-15\",\"2021-07-16\",\"2021-07-17\",\"2021-07-18\",\"2021-07-19\",\"2021-07-20\",\"2021-07-21\",\"2021-07-22\",\"2021-07-23\",\"2021-07-24\",\"2021-07-25\",\"2021-07-26\",\"2021-07-27\",\"2021-07-28\",\"2021-07-29\",\"2021-07-30\",\"2021-07-31\",\"2021-08-01\",\"2021-08-02\",\"2021-08-03\",\"2021-08-04\",\"2021-08-05\",\"2021-08-06\",\"2021-08-07\",\"2021-08-08\",\"2021-08-09\",\"2021-08-10\",\"2021-08-11\",\"2021-08-12\",\"2021-08-13\",\"2021-08-14\",\"2021-08-15\",\"2021-08-16\",\"2021-08-17\",\"2021-08-18\",\"2021-08-19\",\"2021-08-20\",\"2021-08-21\",\"2021-08-22\",\"2021-08-23\",\"2021-08-24\",\"2021-08-25\",\"2021-08-26\",\"2021-08-27\",\"2021-08-28\",\"2021-08-29\",\"2021-08-30\",\"2021-08-31\",\"2021-09-01\",\"2021-09-02\",\"2021-09-03\",\"2021-09-04\",\"2021-09-05\",\"2021-09-06\",\"2021-09-07\",\"2021-09-08\",\"2021-09-09\",\"2021-09-10\",\"2021-09-11\",\"2021-09-12\",\"2021-09-13\",\"2021-09-14\",\"2021-09-15\",\"2021-09-16\",\"2021-09-17\",\"2021-09-18\",\"2021-09-19\",\"2021-09-20\",\"2021-09-21\",\"2021-09-22\",\"2021-09-23\",\"2021-09-24\",\"2021-09-25\",\"2021-09-26\",\"2021-09-27\",\"2021-09-28\",\"2021-09-29\",\"2021-09-30\",\"2021-10-01\",\"2021-10-02\",\"2021-10-03\",\"2021-10-04\",\"2021-10-05\",\"2021-10-06\",\"2021-10-07\",\"2021-10-08\",\"2021-10-09\",\"2021-10-10\",\"2021-10-11\",\"2021-10-12\",\"2021-10-13\",\"2021-10-14\",\"2021-10-15\",\"2021-10-16\",\"2021-10-17\",\"2021-10-18\",\"2021-10-19\",\"2021-10-20\",\"2021-10-21\",\"2021-10-22\",\"2021-10-23\",\"2021-10-24\",\"2021-10-25\",\"2021-10-26\",\"2021-10-27\",\"2021-10-28\",\"2021-10-29\",\"2021-10-30\",\"2021-10-31\",\"2021-11-01\",\"2021-11-02\",\"2021-11-03\",\"2021-11-04\",\"2021-11-05\",\"2021-11-06\",\"2021-11-07\",\"2021-11-08\",\"2021-11-09\",\"2021-11-10\",\"2021-11-11\",\"2021-11-12\",\"2021-11-13\",\"2021-11-14\",\"2021-11-15\",\"2021-11-16\",\"2021-11-17\",\"2021-11-18\",\"2021-11-19\",\"2021-11-20\",\"2021-11-21\",\"2021-11-22\",\"2021-11-23\",\"2021-11-24\",\"2021-11-25\",\"2021-11-26\",\"2021-11-27\",\"2021-11-28\",\"2021-11-29\",\"2021-11-30\",\"2021-12-01\",\"2021-12-02\",\"2021-12-03\",\"2021-12-04\",\"2021-12-05\",\"2021-12-06\",\"2021-12-07\",\"2021-12-08\",\"2021-12-09\",\"2021-12-10\",\"2021-12-11\",\"2021-12-12\",\"2021-12-13\",\"2021-12-14\",\"2021-12-15\",\"2021-12-16\",\"2021-12-17\",\"2021-12-18\",\"2021-12-19\",\"2021-12-20\",\"2021-12-21\",\"2021-12-22\",\"2021-12-23\",\"2021-12-24\",\"2021-12-25\",\"2021-12-26\",\"2021-12-27\",\"2021-12-28\",\"2021-12-29\",\"2021-12-30\",\"2021-12-31\",\"2022-01-01\",\"2022-01-02\",\"2022-01-03\",\"2022-01-04\",\"2022-01-05\",\"2022-01-06\",\"2022-01-07\",\"2022-01-08\",\"2022-01-09\",\"2022-01-10\",\"2022-01-11\",\"2022-01-12\",\"2022-01-13\",\"2022-01-14\",\"2022-01-15\",\"2022-01-16\",\"2022-01-17\",\"2022-01-18\",\"2022-01-19\",\"2022-01-20\",\"2022-01-21\",\"2022-01-22\",\"2022-01-23\",\"2022-01-24\",\"2022-01-25\",\"2022-01-26\",\"2022-01-27\",\"2022-01-28\",\"2022-01-29\",\"2022-01-30\",\"2022-01-31\",\"2022-02-01\",\"2022-02-02\",\"2022-02-03\",\"2022-02-04\",\"2022-02-05\",\"2022-02-06\",\"2022-02-07\",\"2022-02-08\",\"2022-02-09\",\"2022-02-10\",\"2022-02-11\",\"2022-02-12\",\"2022-02-13\",\"2022-02-14\",\"2022-02-15\",\"2022-02-16\",\"2022-02-17\",\"2022-02-18\",\"2022-02-19\",\"2022-02-20\",\"2022-02-21\",\"2022-02-22\",\"2022-02-23\",\"2022-02-24\",\"2022-02-25\",\"2022-02-26\",\"2022-02-27\",\"2022-02-28\",\"2022-03-01\",\"2022-03-02\",\"2022-03-03\",\"2022-03-04\",\"2022-03-05\",\"2022-03-06\",\"2022-03-07\",\"2022-03-08\",\"2022-03-09\",\"2022-03-10\",\"2022-03-11\",\"2022-03-12\",\"2022-03-13\",\"2022-03-14\",\"2022-03-15\",\"2022-03-16\",\"2022-03-17\",\"2022-03-18\",\"2022-03-19\",\"2022-03-20\",\"2022-03-21\",\"2022-03-22\",\"2022-03-23\",\"2022-03-24\",\"2022-03-25\",\"2022-03-26\",\"2022-03-27\",\"2022-03-28\",\"2022-03-29\",\"2022-03-30\",\"2022-03-31\",\"2022-04-01\",\"2022-04-02\",\"2022-04-03\",\"2022-04-04\",\"2022-04-05\",\"2022-04-06\",\"2022-04-07\",\"2022-04-08\",\"2022-04-09\",\"2022-04-10\",\"2022-04-11\",\"2022-04-12\",\"2022-04-13\",\"2022-04-14\",\"2022-04-15\",\"2022-04-16\",\"2022-04-17\",\"2022-04-18\",\"2022-04-19\",\"2022-04-20\",\"2022-04-21\",\"2022-04-22\",\"2022-04-23\",\"2022-04-24\",\"2022-04-25\",\"2022-04-26\",\"2022-04-27\",\"2022-04-28\",\"2022-04-29\",\"2022-04-30\",\"2022-05-01\",\"2022-05-02\",\"2022-05-03\",\"2022-05-04\",\"2022-05-05\",\"2022-05-06\",\"2022-05-07\",\"2022-05-08\",\"2022-05-09\",\"2022-05-10\",\"2022-05-11\",\"2022-05-12\",\"2022-05-13\",\"2022-05-14\",\"2022-05-15\",\"2022-05-16\",\"2022-05-17\"],\"xaxis\":\"x\",\"y\":[85249.0,95588.0,105912.0,114319.0,123835.0,126174.0,132819.0,149644.0,149478.0,161338.0,175328.0,181148.0,189707.0,203655.0,209080.0,215331.0,225341.0,238809.0,261354.0,271889.0,280632.0,291556.0,299187.0,308909.0,321406.0,339396.0,353624.0,359718.0,362866.0,348077.0,362665.0,366141.0,371493.0,380753.0,383165.0,382591.0,381783.0,389190.0,392342.0,387952.0,401672.0,405204.0,401575.0,398643.0,409833.0,405385.0,401535.0,426612.0,424382.0,419018.0,426271.0,420306.0,412964.0,413697.0,420966.0,427063.0,448180.0,459292.0,475496.0,493377.0,506613.0,480124.0,494389.0,508775.0,523453.0,538708.0,566329.0,576229.0,582406.0,597921.0,615255.0,629967.0,662633.0,664907.0,703492.0,714911.0,730072.0,752962.0,775031.0,798034.0,813714.0,824255.0,833288.0,834696.0,844979.0,847871.0,852734.0,855143.0,859479.0,863240.0,863184.0,873463.0,878463.0,887350.0,886752.0,888637.0,889365.0,888431.0,892808.0,899794.0,900141.0,899788.0,901996.0,909154.0,906670.0,898720.0,897693.0,892787.0,885826.0,884039.0,888585.0,891133.0,886667.0,880072.0,867942.0,862282.0,860175.0,857333.0,848052.0,831248.0,829818.0,802292.0,780797.0,762918.0,749428.0,730226.0,708098.0,686157.0,671301.0,664836.0,662818.0,656583.0,651750.0,638195.0,629632.0,629362.0,619921.0,615688.0,613880.0,610769.0,598884.0,589105.0,583329.0,572723.0,572545.0,572545.0,567874.0,567922.0,559934.0,555632.0,548750.0,533393.0,521751.0,517277.0,509907.0,498460.0,498437.0,485943.0,469202.0,459346.0,447916.0,426501.0,417322.0,409969.0,404510.0,404427.0,404431.0,398337.0,395989.0,390942.0,386326.0,386357.0,363265.0,360164.0,358616.0,357899.0,355939.0,352382.0,351247.0,349437.0,349437.0,348937.0,347651.0,345567.0,343151.0,342057.0,341613.0,341681.0,340821.0,339721.0,339252.0,338796.0,338936.0,338943.0,339178.0,339915.0,339017.0,339728.0,340687.0,342357.0,344480.0,345914.0,348268.0,349322.0,351874.0,354633.0,355098.0,356609.0,358475.0,360915.0,363917.0,368247.0,371194.0,374697.0,377876.0,379725.0,382119.0,384198.0,387114.0,389879.0,391684.0,392729.0,393871.0,395610.0,396550.0,398311.0,399482.0,400326.0,401023.0,401120.0,401125.0,401697.0,402535.0,403499.0,404147.0,404227.0,404282.0,404744.0,404978.0,405196.0,404549.0,404305.0,404305.0,404305.0,403734.0,403173.0,401780.0,401350.0,401491.0,401137.0,400921.0,401111.0,400739.0,400147.0,399544.0,398960.0,397854.0,396872.0,396202.0,395174.0,395174.0,394927.0,394308.0,393913.0,394077.0,394139.0,395068.0,395340.0,395495.0,395731.0,395894.0,396201.0,396413.0,397234.0,397531.0,398631.0,399334.0,399334.0,399334.0,400162.0,400162.0,400162.0,400162.0,400162.0,400162.0,402024.0,402272.0,402861.0,403085.0,404731.0,404895.0,405313.0,405922.0,406707.0,408267.0,410162.0,410863.0,411571.0,413361.0,414110.0,415636.0,419795.0,421637.0,422968.0,424113.0,425998.0,426973.0,428512.0,429507.0,429507.0,433800.0,435836.0,437545.0,438755.0,441041.0,443220.0,445530.0,447640.0,453211.0,454948.0,457044.0,551241.0,558406.0,558406.0,558406.0,558406.0,558406.0,566115.0,567404.0,565254.0,563875.0,562223.0,560249.0,557232.0,557582.0,557295.0,557105.0,557047.0,557441.0,558625.0,557632.0,558379.0,557929.0,559027.0,560618.0,564131.0,568906.0,571749.0,574619.0,576670.0,581275.0,585512.0,585512.0,585512.0,585512.0,596139.0,598609.0,602312.0,607551.0,607551.0,607551.0,607551.0,607551.0,619489.0,621659.0,624142.0,623816.0,626718.0,628420.0,629738.0,632186.0,635139.0,637497.0,631975.0,635616.0,635616.0,635616.0,643053.0,654477.0,656174.0,657621.0,660334.0,662277.0,663653.0,665350.0,666785.0,667092.0,667565.0,668183.0,668459.0,669017.0,669093.0,669039.0,668522.0,668178.0,667257.0,666586.0,666377.0,665133.0,664505.0,664280.0,663414.0,662580.0,662022.0,661809.0,661809.0,661809.0,657887.0,657628.0,657337.0,657337.0,657337.0,656237.0,655688.0,655293.0,654894.0,655451.0,655451.0,655467.0,655422.0,655603.0,655634.0,655854.0,655883.0,655928.0,655947.0,656113.0,656249.0,656371.0,656470.0,656423.0,656475.0,656356.0,656503.0,656653.0,656753.0,656770.0,656884.0,656911.0,656910.0,656866.0,656866.0,657005.0,656766.0,655852.0,655567.0,655591.0,655466.0,655014.0,655014.0,654355.0,653993.0,653875.0,653784.0,653914.0,653939.0,653991.0,647498.0,647508.0,647501.0,647471.0,647682.0,647856.0,648113.0,655232.0,655060.0,655086.0,655076.0,655099.0,655083.0,655106.0,655118.0,655094.0,655115.0,655077.0,655064.0,655125.0,655038.0,654978.0,654896.0,654917.0,654779.0,654915.0,654915.0,654905.0,655019.0,655017.0,654990.0,655009.0,655017.0,654982.0,654895.0,654937.0,654981.0,655012.0,654991.0,655085.0],\"yaxis\":\"y\",\"type\":\"scatter\"}],                        {\"template\":{\"data\":{\"histogram2dcontour\":[{\"type\":\"histogram2dcontour\",\"colorbar\":{\"outlinewidth\":0,\"ticks\":\"\"},\"colorscale\":[[0.0,\"#0d0887\"],[0.1111111111111111,\"#46039f\"],[0.2222222222222222,\"#7201a8\"],[0.3333333333333333,\"#9c179e\"],[0.4444444444444444,\"#bd3786\"],[0.5555555555555556,\"#d8576b\"],[0.6666666666666666,\"#ed7953\"],[0.7777777777777778,\"#fb9f3a\"],[0.8888888888888888,\"#fdca26\"],[1.0,\"#f0f921\"]]}],\"choropleth\":[{\"type\":\"choropleth\",\"colorbar\":{\"outlinewidth\":0,\"ticks\":\"\"}}],\"histogram2d\":[{\"type\":\"histogram2d\",\"colorbar\":{\"outlinewidth\":0,\"ticks\":\"\"},\"colorscale\":[[0.0,\"#0d0887\"],[0.1111111111111111,\"#46039f\"],[0.2222222222222222,\"#7201a8\"],[0.3333333333333333,\"#9c179e\"],[0.4444444444444444,\"#bd3786\"],[0.5555555555555556,\"#d8576b\"],[0.6666666666666666,\"#ed7953\"],[0.7777777777777778,\"#fb9f3a\"],[0.8888888888888888,\"#fdca26\"],[1.0,\"#f0f921\"]]}],\"heatmap\":[{\"type\":\"heatmap\",\"colorbar\":{\"outlinewidth\":0,\"ticks\":\"\"},\"colorscale\":[[0.0,\"#0d0887\"],[0.1111111111111111,\"#46039f\"],[0.2222222222222222,\"#7201a8\"],[0.3333333333333333,\"#9c179e\"],[0.4444444444444444,\"#bd3786\"],[0.5555555555555556,\"#d8576b\"],[0.6666666666666666,\"#ed7953\"],[0.7777777777777778,\"#fb9f3a\"],[0.8888888888888888,\"#fdca26\"],[1.0,\"#f0f921\"]]}],\"heatmapgl\":[{\"type\":\"heatmapgl\",\"colorbar\":{\"outlinewidth\":0,\"ticks\":\"\"},\"colorscale\":[[0.0,\"#0d0887\"],[0.1111111111111111,\"#46039f\"],[0.2222222222222222,\"#7201a8\"],[0.3333333333333333,\"#9c179e\"],[0.4444444444444444,\"#bd3786\"],[0.5555555555555556,\"#d8576b\"],[0.6666666666666666,\"#ed7953\"],[0.7777777777777778,\"#fb9f3a\"],[0.8888888888888888,\"#fdca26\"],[1.0,\"#f0f921\"]]}],\"contourcarpet\":[{\"type\":\"contourcarpet\",\"colorbar\":{\"outlinewidth\":0,\"ticks\":\"\"}}],\"contour\":[{\"type\":\"contour\",\"colorbar\":{\"outlinewidth\":0,\"ticks\":\"\"},\"colorscale\":[[0.0,\"#0d0887\"],[0.1111111111111111,\"#46039f\"],[0.2222222222222222,\"#7201a8\"],[0.3333333333333333,\"#9c179e\"],[0.4444444444444444,\"#bd3786\"],[0.5555555555555556,\"#d8576b\"],[0.6666666666666666,\"#ed7953\"],[0.7777777777777778,\"#fb9f3a\"],[0.8888888888888888,\"#fdca26\"],[1.0,\"#f0f921\"]]}],\"surface\":[{\"type\":\"surface\",\"colorbar\":{\"outlinewidth\":0,\"ticks\":\"\"},\"colorscale\":[[0.0,\"#0d0887\"],[0.1111111111111111,\"#46039f\"],[0.2222222222222222,\"#7201a8\"],[0.3333333333333333,\"#9c179e\"],[0.4444444444444444,\"#bd3786\"],[0.5555555555555556,\"#d8576b\"],[0.6666666666666666,\"#ed7953\"],[0.7777777777777778,\"#fb9f3a\"],[0.8888888888888888,\"#fdca26\"],[1.0,\"#f0f921\"]]}],\"mesh3d\":[{\"type\":\"mesh3d\",\"colorbar\":{\"outlinewidth\":0,\"ticks\":\"\"}}],\"scatter\":[{\"fillpattern\":{\"fillmode\":\"overlay\",\"size\":10,\"solidity\":0.2},\"type\":\"scatter\"}],\"parcoords\":[{\"type\":\"parcoords\",\"line\":{\"colorbar\":{\"outlinewidth\":0,\"ticks\":\"\"}}}],\"scatterpolargl\":[{\"type\":\"scatterpolargl\",\"marker\":{\"colorbar\":{\"outlinewidth\":0,\"ticks\":\"\"}}}],\"bar\":[{\"error_x\":{\"color\":\"#2a3f5f\"},\"error_y\":{\"color\":\"#2a3f5f\"},\"marker\":{\"line\":{\"color\":\"#E5ECF6\",\"width\":0.5},\"pattern\":{\"fillmode\":\"overlay\",\"size\":10,\"solidity\":0.2}},\"type\":\"bar\"}],\"scattergeo\":[{\"type\":\"scattergeo\",\"marker\":{\"colorbar\":{\"outlinewidth\":0,\"ticks\":\"\"}}}],\"scatterpolar\":[{\"type\":\"scatterpolar\",\"marker\":{\"colorbar\":{\"outlinewidth\":0,\"ticks\":\"\"}}}],\"histogram\":[{\"marker\":{\"pattern\":{\"fillmode\":\"overlay\",\"size\":10,\"solidity\":0.2}},\"type\":\"histogram\"}],\"scattergl\":[{\"type\":\"scattergl\",\"marker\":{\"colorbar\":{\"outlinewidth\":0,\"ticks\":\"\"}}}],\"scatter3d\":[{\"type\":\"scatter3d\",\"line\":{\"colorbar\":{\"outlinewidth\":0,\"ticks\":\"\"}},\"marker\":{\"colorbar\":{\"outlinewidth\":0,\"ticks\":\"\"}}}],\"scattermapbox\":[{\"type\":\"scattermapbox\",\"marker\":{\"colorbar\":{\"outlinewidth\":0,\"ticks\":\"\"}}}],\"scatterternary\":[{\"type\":\"scatterternary\",\"marker\":{\"colorbar\":{\"outlinewidth\":0,\"ticks\":\"\"}}}],\"scattercarpet\":[{\"type\":\"scattercarpet\",\"marker\":{\"colorbar\":{\"outlinewidth\":0,\"ticks\":\"\"}}}],\"carpet\":[{\"aaxis\":{\"endlinecolor\":\"#2a3f5f\",\"gridcolor\":\"white\",\"linecolor\":\"white\",\"minorgridcolor\":\"white\",\"startlinecolor\":\"#2a3f5f\"},\"baxis\":{\"endlinecolor\":\"#2a3f5f\",\"gridcolor\":\"white\",\"linecolor\":\"white\",\"minorgridcolor\":\"white\",\"startlinecolor\":\"#2a3f5f\"},\"type\":\"carpet\"}],\"table\":[{\"cells\":{\"fill\":{\"color\":\"#EBF0F8\"},\"line\":{\"color\":\"white\"}},\"header\":{\"fill\":{\"color\":\"#C8D4E3\"},\"line\":{\"color\":\"white\"}},\"type\":\"table\"}],\"barpolar\":[{\"marker\":{\"line\":{\"color\":\"#E5ECF6\",\"width\":0.5},\"pattern\":{\"fillmode\":\"overlay\",\"size\":10,\"solidity\":0.2}},\"type\":\"barpolar\"}],\"pie\":[{\"automargin\":true,\"type\":\"pie\"}]},\"layout\":{\"autotypenumbers\":\"strict\",\"colorway\":[\"#636efa\",\"#EF553B\",\"#00cc96\",\"#ab63fa\",\"#FFA15A\",\"#19d3f3\",\"#FF6692\",\"#B6E880\",\"#FF97FF\",\"#FECB52\"],\"font\":{\"color\":\"#2a3f5f\"},\"hovermode\":\"closest\",\"hoverlabel\":{\"align\":\"left\"},\"paper_bgcolor\":\"white\",\"plot_bgcolor\":\"#E5ECF6\",\"polar\":{\"bgcolor\":\"#E5ECF6\",\"angularaxis\":{\"gridcolor\":\"white\",\"linecolor\":\"white\",\"ticks\":\"\"},\"radialaxis\":{\"gridcolor\":\"white\",\"linecolor\":\"white\",\"ticks\":\"\"}},\"ternary\":{\"bgcolor\":\"#E5ECF6\",\"aaxis\":{\"gridcolor\":\"white\",\"linecolor\":\"white\",\"ticks\":\"\"},\"baxis\":{\"gridcolor\":\"white\",\"linecolor\":\"white\",\"ticks\":\"\"},\"caxis\":{\"gridcolor\":\"white\",\"linecolor\":\"white\",\"ticks\":\"\"}},\"coloraxis\":{\"colorbar\":{\"outlinewidth\":0,\"ticks\":\"\"}},\"colorscale\":{\"sequential\":[[0.0,\"#0d0887\"],[0.1111111111111111,\"#46039f\"],[0.2222222222222222,\"#7201a8\"],[0.3333333333333333,\"#9c179e\"],[0.4444444444444444,\"#bd3786\"],[0.5555555555555556,\"#d8576b\"],[0.6666666666666666,\"#ed7953\"],[0.7777777777777778,\"#fb9f3a\"],[0.8888888888888888,\"#fdca26\"],[1.0,\"#f0f921\"]],\"sequentialminus\":[[0.0,\"#0d0887\"],[0.1111111111111111,\"#46039f\"],[0.2222222222222222,\"#7201a8\"],[0.3333333333333333,\"#9c179e\"],[0.4444444444444444,\"#bd3786\"],[0.5555555555555556,\"#d8576b\"],[0.6666666666666666,\"#ed7953\"],[0.7777777777777778,\"#fb9f3a\"],[0.8888888888888888,\"#fdca26\"],[1.0,\"#f0f921\"]],\"diverging\":[[0,\"#8e0152\"],[0.1,\"#c51b7d\"],[0.2,\"#de77ae\"],[0.3,\"#f1b6da\"],[0.4,\"#fde0ef\"],[0.5,\"#f7f7f7\"],[0.6,\"#e6f5d0\"],[0.7,\"#b8e186\"],[0.8,\"#7fbc41\"],[0.9,\"#4d9221\"],[1,\"#276419\"]]},\"xaxis\":{\"gridcolor\":\"white\",\"linecolor\":\"white\",\"ticks\":\"\",\"title\":{\"standoff\":15},\"zerolinecolor\":\"white\",\"automargin\":true,\"zerolinewidth\":2},\"yaxis\":{\"gridcolor\":\"white\",\"linecolor\":\"white\",\"ticks\":\"\",\"title\":{\"standoff\":15},\"zerolinecolor\":\"white\",\"automargin\":true,\"zerolinewidth\":2},\"scene\":{\"xaxis\":{\"backgroundcolor\":\"#E5ECF6\",\"gridcolor\":\"white\",\"linecolor\":\"white\",\"showbackground\":true,\"ticks\":\"\",\"zerolinecolor\":\"white\",\"gridwidth\":2},\"yaxis\":{\"backgroundcolor\":\"#E5ECF6\",\"gridcolor\":\"white\",\"linecolor\":\"white\",\"showbackground\":true,\"ticks\":\"\",\"zerolinecolor\":\"white\",\"gridwidth\":2},\"zaxis\":{\"backgroundcolor\":\"#E5ECF6\",\"gridcolor\":\"white\",\"linecolor\":\"white\",\"showbackground\":true,\"ticks\":\"\",\"zerolinecolor\":\"white\",\"gridwidth\":2}},\"shapedefaults\":{\"line\":{\"color\":\"#2a3f5f\"}},\"annotationdefaults\":{\"arrowcolor\":\"#2a3f5f\",\"arrowhead\":0,\"arrowwidth\":1},\"geo\":{\"bgcolor\":\"white\",\"landcolor\":\"#E5ECF6\",\"subunitcolor\":\"white\",\"showland\":true,\"showlakes\":true,\"lakecolor\":\"white\"},\"title\":{\"x\":0.05},\"mapbox\":{\"style\":\"light\"}}},\"xaxis\":{\"anchor\":\"y\",\"domain\":[0.0,1.0],\"title\":{\"text\":\"Date\"}},\"yaxis\":{\"anchor\":\"x\",\"domain\":[0.0,1.0],\"title\":{\"text\":\"value\"}},\"legend\":{\"title\":{\"text\":\"variable\"},\"tracegroupgap\":0},\"title\":{\"text\":\"Number of people vaccinated against COVID-19 in Maryland (source: coronavirus.jhu.edu)\"}},                        {\"responsive\": true}                    ).then(function(){\n",
       "                            \n",
       "var gd = document.getElementById('e1fd60a9-b36c-40fb-a17e-575801c7be6d');\n",
       "var x = new MutationObserver(function (mutations, observer) {{\n",
       "        var display = window.getComputedStyle(gd).display;\n",
       "        if (!display || display === 'none') {{\n",
       "            console.log([gd, 'removed!']);\n",
       "            Plotly.purge(gd);\n",
       "            observer.disconnect();\n",
       "        }}\n",
       "}});\n",
       "\n",
       "// Listen for the removal of the full notebook cells\n",
       "var notebookContainer = gd.closest('#notebook-container');\n",
       "if (notebookContainer) {{\n",
       "    x.observe(notebookContainer, {childList: true});\n",
       "}}\n",
       "\n",
       "// Listen for the clearing of the current output cell\n",
       "var outputEl = gd.closest('.output');\n",
       "if (outputEl) {{\n",
       "    x.observe(outputEl, {childList: true});\n",
       "}}\n",
       "\n",
       "                        })                };                });            </script>        </div>"
      ]
     },
     "metadata": {},
     "output_type": "display_data"
    }
   ],
   "source": [
    "import pandas \n",
    "\n",
    "data = pandas.read_csv(\"https://raw.githubusercontent.com/govex/COVID-19/master/data_tables/vaccine_data/us_data/time_series/people_vaccinated_us_timeline.csv\")\n",
    "MD_data = data.loc[data[\"Province_State\"] == \"Maryland\"]\n",
    "MD_numvax = MD_data.set_index(\"Date\").loc[:,\n",
    "    [\"People_Fully_Vaccinated\",\n",
    "    \"People_Partially_Vaccinated\"]\n",
    "]\n",
    "MD_numvax.dropna().plot(\n",
    "    title=\"Number of people vaccinated against COVID-19 in Maryland (source: coronavirus.jhu.edu)\",\n",
    "    backend=\"plotly\"\n",
    ")"
   ]
  }
 ],
 "metadata": {
  "celltoolbar": "Slideshow",
  "extensions": {
   "jupyter_dashboards": {
    "activeView": "grid_default",
    "version": 1,
    "views": {
     "grid_default": {
      "cellMargin": 2,
      "defaultCellHeight": 60,
      "maxColumns": 12,
      "name": "grid",
      "type": "grid"
     }
    }
   }
  },
  "kernelspec": {
   "display_name": "conda-python39",
   "language": "python",
   "name": "conda-python39"
  },
  "language_info": {
   "codemirror_mode": {
    "name": "ipython",
    "version": 3
   },
   "file_extension": ".py",
   "mimetype": "text/x-python",
   "name": "python",
   "nbconvert_exporter": "python",
   "pygments_lexer": "ipython3",
   "version": "3.9.2"
  },
  "rise": {
   "scroll": true,
   "theme": "white"
  }
 },
 "nbformat": 4,
 "nbformat_minor": 5
}
