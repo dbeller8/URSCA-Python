{
 "cells": [
  {
   "cell_type": "markdown",
   "id": "fe728be4-57ad-4951-b159-5104c06b0f6f",
   "metadata": {},
   "source": [
    "<h1 align=\"center\"> Introduction to Data Analysis </h1>\n",
    "\n",
    "<h3 align=\"center\">    URSCA Summer 2022 <br><br>\n",
    "    Prof. Daniel Beller, <a href=\"d.a.beller@jhu.edu\">d.a.beller@jhu.edu</a> <br>\n",
    "assisted by Mr. Jimmy Gonzalez Nuñez <br>\n",
    "Johns Hopkins University Department of Physics and Astronomy\n",
    "</h3>\n",
    "\n",
    "<img src=\"https://brand.jhu.edu/assets/uploads/sites/5/2014/06/university_logo_small_vertical_blue.png\" alt=\"JHU logo\" width=300>"
   ]
  },
  {
   "cell_type": "markdown",
   "id": "5f982a34-15f5-41c4-a7d0-ab35cdbc6477",
   "metadata": {},
   "source": [
    "## Background\n",
    "\n",
    "All quantitative fields of study deal with data. **Data analysis** is, in general, a process of transforming data into useful information, such as\n",
    "\n",
    "* describing the data\n",
    "* fitting mathematical models to the data\n",
    "* testing hypotheses \n",
    "* guiding decision-making\n",
    "\n",
    "etc.\n",
    "\n",
    "<img src=\"https://st3.depositphotos.com/3591429/12851/i/950/depositphotos_128519820-stock-photo-people-discussing-about-data-analysis.jpg\" alt=\"data analysis stock photo\" width=400>"
   ]
  },
  {
   "cell_type": "markdown",
   "id": "30f4c5c8-4a21-4fb7-a0f4-5bbc5f80094c",
   "metadata": {},
   "source": [
    "You've probably heard of **big data** (very large datasets). For example, when Google collects information on our search habits, there's too much data for one person to ever even look at it! So computer algorithms play a key role.\n",
    "\n",
    "However, a lot of data is still **small**. This is often true in scientific studies, especially in studies on human subjects. With limited data, statistics must be employed carefully to reach correct and reproducible conclusions."
   ]
  },
  {
   "cell_type": "markdown",
   "id": "d9a27340-9271-441f-9263-c1b67928871b",
   "metadata": {
    "tags": []
   },
   "source": [
    "### You're going to college at a very interesting moment in science history...\n",
    "\n",
    "Over the past decade or so, many scientific fields have been confronting growing evidence that **false positive** results are common in peer-reviewed articles, even in highly reputable journals. A **false positive** is a claim of a **statistically significant effect** (we'll discuss this) where one doesn't exist. \n",
    "\n",
    "When other labs try to **replicate** (or \"reproduce\") the published findings, they will often fail to observe the claimed statistically significant effect, or they observe a much smaller effect. Good science produces results that can be reliably replicated by other labs. "
   ]
  },
  {
   "cell_type": "markdown",
   "id": "e817e2dd-4f97-40ad-8bc3-3a433aedd6ed",
   "metadata": {},
   "source": [
    "#### A replicability/reproducibility crisis?\n",
    "\n",
    "[<img src=\"https://www.westburg.eu/uploads/fckconnector/dcf5b597-d3ae-4c18-b07f-fce021e431f2\" alt=\"reproducibility crisis Nature poll\" width=400 style=\"float:right\">](https://www.nature.com/articles/533452a)\n",
    "\n",
    "Some people claim that science is experiencing a **reproducibility crisis**. For example:\n",
    "\n",
    "* Psychology: In replication of 100 published studies, < 40% of results were replicated. [Open Science Collaboration, Science (2015)](https://www.science.org/doi/full/10.1126/science.aac4716?casa_token=LSiFguKkX-QAAAAA:Z2ycWw829pfY2v4bfmejrqjCY9gVoSIBZffuZTeFSW1i9hG-Md1FHq7NQEzYWIlOMldJLF1AKnuYkrY)\n",
    "* Medicine: Almost two-thirds of supposedly promising new anti-cancer drug compounds didn't work when Bayer tested them. [Prinz et al., Nature Reviews Drug Discovery (2011)](https://www.nature.com/articles/nrd3439-c1.pdf)\n",
    "* Economics: A replicability study failed to replicate results from 7 of 18 (40%) high-profile previously published studies. [Camerer et al., Science (2016)](https://www.science.org/doi/10.1126/science.aaf0918)\n",
    "\n",
    "Is the replicability crisis due to outright **fraud** by scientists? While egregious fraud is sometimes committed, that's not the main culprit here. Instead, scientists are *rethinking how we use statistics* in making scientific claims and deciding what gets published. (See [\"Why Most Published Research Findings Are False\"](https://www.ncbi.nlm.nih.gov/pmc/articles/PMC1182327/pdf/pmed.0020124.pdf).)\n",
    "\n",
    "So should you run away from science? <img src=\"https://external-content.duckduckgo.com/iu/?u=https%3A%2F%2Fi.pinimg.com%2Foriginals%2F65%2F3c%2Fe8%2F653ce84017b822978ccafb594fe4d611.gif&f=1&nofb=1\" alt=\"snoopy running\" width=100> Is it all a bunch of baloney? <img src=\"https://upload.wikimedia.org/wikipedia/commons/thumb/c/c3/Bologna_lunch_meat_style_sausage.JPG/640px-Bologna_lunch_meat_style_sausage.JPG\" alt=\"balogna\" width=100>\n",
    "\n",
    "***No!!!*** Now is an especially exciting time to work in science, because many fields are in the process of transforming their practices to become more transparent and reproducible. [\"Science Isn’t Broken. It’s just a hell of a lot harder than we give it credit for.\"](https://fivethirtyeight.com/features/science-isnt-broken/)"
   ]
  },
  {
   "cell_type": "markdown",
   "id": "822ee12a-5374-43ad-a68e-17b29a71e2dc",
   "metadata": {},
   "source": [
    "## Goals for this session\n",
    "\n",
    "In this session, you'll learn the concept of **statistical significance**, and some ways it is often misused.\n",
    "\n",
    "Primarily, we'll use a simulated \"coin flip\" experiment to illustrate concepts. <img src=\"https://upload.wikimedia.org/wikipedia/commons/thumb/c/cc/United_States_Quarter.jpg/640px-United_States_Quarter.jpg\" alt=\"quarter\" width=150 style=\"float:right\">\n",
    "\n",
    "We'll use Python to simulate the random coin flips as well as to analyze the data. \n",
    "    \n",
    "<span style=\"color:purple\">Follow along by running the code yourself. Items in purple are for you to try, or think about.</span>\n",
    "\n",
    "In the process, you will learn some widely used techniques of **data analysis**. "
   ]
  },
  {
   "cell_type": "markdown",
   "id": "646e5fa0-0494-4d86-8936-898f14eb1d76",
   "metadata": {},
   "source": [
    "## Setting up the coin-flip experiment"
   ]
  },
  {
   "cell_type": "markdown",
   "id": "dc461b67-72ef-457e-af7d-5922caed46d6",
   "metadata": {},
   "source": [
    "We'll use the popular numerical Python package *NumPy*, abbreviated as `np`."
   ]
  },
  {
   "cell_type": "code",
   "execution_count": 1,
   "id": "27328209-f78f-4440-b5fe-a437ddebc9cd",
   "metadata": {},
   "outputs": [],
   "source": [
    "import numpy as np"
   ]
  },
  {
   "cell_type": "markdown",
   "id": "f47ed744-270b-45c0-8b05-8f3876925941",
   "metadata": {},
   "source": [
    "Let's start a pseudo-random number generator (rng). The parameter inside `()` is called the **seed**. <span style=\"color:purple\">Choose your own seed number.</span>"
   ]
  },
  {
   "cell_type": "code",
   "execution_count": 2,
   "id": "8a3522dc-d040-4209-872f-00a3224f7a8f",
   "metadata": {},
   "outputs": [],
   "source": [
    "rng = np.random.default_rng(726)"
   ]
  },
  {
   "cell_type": "markdown",
   "id": "3e50002a-91f6-475c-80e3-c2c4283142cd",
   "metadata": {},
   "source": [
    "Let's simulate a fair coin being flipped $N=10$ times. "
   ]
  },
  {
   "cell_type": "code",
   "execution_count": 3,
   "id": "253164a3-0077-4bcf-a2df-5810596c1012",
   "metadata": {},
   "outputs": [
    {
     "name": "stdout",
     "output_type": "stream",
     "text": [
      "['T' 'T' 'T' 'T' 'T' 'T' 'T' 'H' 'T' 'H']\n"
     ]
    }
   ],
   "source": [
    "def coin_flip_sample(rng, num_flips):\n",
    "    return rng.choice([\"T\", \"H\"], size=num_flips)\n",
    "\n",
    "print(coin_flip_sample(rng, 10))"
   ]
  },
  {
   "cell_type": "markdown",
   "id": "2aebe804-ab78-4f64-8f7f-00d5764a970d",
   "metadata": {},
   "source": [
    "We know the fair coin lands on heads half the time on average, but that doesn't mean every 10-coin sample gets exactly 5 heads!"
   ]
  },
  {
   "cell_type": "code",
   "execution_count": 4,
   "id": "f8960bc0-26a6-44c9-9d5f-dd7f2eba9721",
   "metadata": {},
   "outputs": [
    {
     "name": "stdout",
     "output_type": "stream",
     "text": [
      "['H' 'T' 'H' 'H' 'H' 'T' 'T' 'T' 'H' 'H'] 60.0 % heads\n",
      "['H' 'H' 'H' 'H' 'T' 'H' 'H' 'H' 'T' 'T'] 70.0 % heads\n",
      "['H' 'T' 'H' 'H' 'T' 'T' 'H' 'T' 'T' 'H'] 50.0 % heads\n",
      "['T' 'T' 'H' 'T' 'H' 'T' 'T' 'T' 'H' 'T'] 30.0 % heads\n",
      "['T' 'T' 'T' 'H' 'T' 'T' 'H' 'H' 'T' 'H'] 40.0 % heads\n",
      "['H' 'H' 'T' 'T' 'H' 'H' 'T' 'H' 'H' 'H'] 70.0 % heads\n"
     ]
    }
   ],
   "source": [
    "def frac_heads(coin_flip_results):\n",
    "    \"\"\" Calculate the fraction of heads in a coin-flip sample \"\"\"\n",
    "    num_flips = len(coin_flip_results)\n",
    "    num_heads = (coin_flip_results == \"H\").sum()\n",
    "    return num_heads / num_flips\n",
    "\n",
    "for i in range(6):\n",
    "    results = coin_flip_sample(rng, 10)\n",
    "    print(results, 100 * frac_heads(results), \"% heads\")"
   ]
  },
  {
   "cell_type": "markdown",
   "id": "a6f071ef-ca7a-44fd-9e3b-3ae37b069c01",
   "metadata": {},
   "source": [
    "<span style=\"color:purple\">Try this several times. How often do you get 50%? What is the most extreme value you get?</span>"
   ]
  },
  {
   "cell_type": "markdown",
   "id": "85e0954d-9679-47ab-a583-1557a6ed7497",
   "metadata": {},
   "source": [
    "## Describing data"
   ]
  },
  {
   "cell_type": "markdown",
   "id": "c15f8c66-95ed-450c-8d59-85a3cf4e4872",
   "metadata": {},
   "source": [
    "Let's automate obtaining a series of $N$-coin-flip samples."
   ]
  },
  {
   "cell_type": "code",
   "execution_count": 8,
   "id": "7798ca29-78e5-4bce-8227-faf435ea3646",
   "metadata": {},
   "outputs": [],
   "source": [
    "def coin_flip_sample_series(rng, num_trials, num_flips_per_trial):\n",
    "    results = np.array([\n",
    "        frac_heads(coin_flip_sample(rng, num_flips_per_trial))\n",
    "        for i in range(num_trials)\n",
    "    ])\n",
    "    return results\n",
    "\n",
    "heads_frac = coin_flip_sample_series(rng, 10000, 1000)"
   ]
  },
  {
   "cell_type": "markdown",
   "id": "26bbb9e6-e762-4c10-b6f7-f6953f7ac442",
   "metadata": {},
   "source": [
    "One way to visually summarize the results is a **histogram**."
   ]
  },
  {
   "cell_type": "code",
   "execution_count": 9,
   "id": "17265593-2e5d-4e24-b687-cf25c16f9b53",
   "metadata": {},
   "outputs": [],
   "source": [
    "import matplotlib.pyplot as plt\n",
    "import matplotlib\n",
    "matplotlib.rcParams[\"font.size\"] = 14  # make labels more readable\n",
    "matplotlib.rcParams[\"figure.figsize\"] = [8.0, 6.0]  # make plots bigger"
   ]
  },
  {
   "cell_type": "code",
   "execution_count": 7,
   "id": "5cc472df-84fe-411b-9c13-51e46f298e69",
   "metadata": {
    "tags": []
   },
   "outputs": [
    {
     "data": {
      "image/png": "[encoded data removed]",
      "text/plain": [
       "<Figure size 576x432 with 1 Axes>"
      ]
     },
     "metadata": {
      "needs_background": "light"
     },
     "output_type": "display_data"
    }
   ],
   "source": [
    "plt.hist(100 * heads_frac)  # multiply by 100 to view as percentages\n",
    "plt.xlabel(\"% heads\")\n",
    "plt.ylabel(\"counts\");"
   ]
  },
  {
   "cell_type": "markdown",
   "id": "5c9978ab-49d0-41fb-8edd-a626a3bf8667",
   "metadata": {},
   "source": [
    "<span style=\"color:purple\">Where is the distribution centered? How much is it spread around the center? Does this agree with your expectations?</span> \n",
    "\n",
    "To plot probability rather than counts, we can use `density=True` to divide all counts by the total count."
   ]
  },
  {
   "cell_type": "code",
   "execution_count": 544,
   "id": "a3278aba-8678-45eb-8f1e-57d95a1d3068",
   "metadata": {},
   "outputs": [
    {
     "data": {
      "image/png": "[encoded data removed]",
      "text/plain": [
       "<Figure size 576x432 with 1 Axes>"
      ]
     },
     "metadata": {
      "needs_background": "light"
     },
     "output_type": "display_data"
    }
   ],
   "source": [
    "plt.hist(100 * heads_frac, density=True)\n",
    "plt.xlabel(\"% heads\")\n",
    "plt.ylabel(\"probability\");"
   ]
  },
  {
   "cell_type": "markdown",
   "id": "ca97ee80-247b-468d-9f98-d41cf7e08f1a",
   "metadata": {},
   "source": [
    "The smallest value is the **minimum**."
   ]
  },
  {
   "cell_type": "code",
   "execution_count": 547,
   "id": "7cc12684-e736-430d-a7d9-08cb638c16ed",
   "metadata": {},
   "outputs": [
    {
     "data": {
      "text/plain": [
       "0.434"
      ]
     },
     "execution_count": 547,
     "metadata": {},
     "output_type": "execute_result"
    }
   ],
   "source": [
    "np.min(heads_frac)"
   ]
  },
  {
   "cell_type": "markdown",
   "id": "31a61f70-710b-432a-874f-5b02bc2ad8e7",
   "metadata": {},
   "source": [
    "The largest value is the **maximum**."
   ]
  },
  {
   "cell_type": "code",
   "execution_count": 548,
   "id": "6eb901b3-da94-4ccb-9bf5-f1b0b1ed4a39",
   "metadata": {},
   "outputs": [
    {
     "data": {
      "text/plain": [
       "0.557"
      ]
     },
     "execution_count": 548,
     "metadata": {},
     "output_type": "execute_result"
    }
   ],
   "source": [
    "np.max(heads_frac)"
   ]
  },
  {
   "cell_type": "markdown",
   "id": "b57c2207-ffc4-46fb-a5dc-1d00736e3e62",
   "metadata": {
    "tags": []
   },
   "source": [
    "### Measures of centrality"
   ]
  },
  {
   "cell_type": "markdown",
   "id": "c4af7eb4-a811-4ffe-a139-b1916a0704cc",
   "metadata": {},
   "source": [
    "The \"middle-most\" value is the **median**. Half the values lie above the median, while the other half lie below it."
   ]
  },
  {
   "cell_type": "code",
   "execution_count": 10,
   "id": "2476e9c4-92a4-4c25-a200-b06189085fbe",
   "metadata": {},
   "outputs": [
    {
     "data": {
      "text/plain": [
       "0.5"
      ]
     },
     "execution_count": 10,
     "metadata": {},
     "output_type": "execute_result"
    }
   ],
   "source": [
    "np.median(heads_frac)"
   ]
  },
  {
   "cell_type": "markdown",
   "id": "b53351b2-52bf-4ff2-80ca-d6c6af1045c6",
   "metadata": {},
   "source": [
    "The 25th percentile is the median of the lower half of the data. 25% of the data lies below it; the other 75% lies above it."
   ]
  },
  {
   "cell_type": "code",
   "execution_count": 11,
   "id": "d63cff08-1497-4c2a-bf43-d9683e89941f",
   "metadata": {},
   "outputs": [
    {
     "data": {
      "text/plain": [
       "0.4559975"
      ]
     },
     "execution_count": 11,
     "metadata": {},
     "output_type": "execute_result"
    }
   ],
   "source": [
    "np.percentile(heads_frac, 0.25)"
   ]
  },
  {
   "cell_type": "markdown",
   "id": "6d3652fd-43c2-46bf-b17c-b18303f41e8d",
   "metadata": {},
   "source": [
    "Likewise, the 75th percentile is the median of the upper half other data."
   ]
  },
  {
   "cell_type": "code",
   "execution_count": 12,
   "id": "c3cf836d-2b7b-481f-b8c7-8473da07b90a",
   "metadata": {},
   "outputs": [
    {
     "data": {
      "text/plain": [
       "0.463"
      ]
     },
     "execution_count": 12,
     "metadata": {},
     "output_type": "execute_result"
    }
   ],
   "source": [
    "np.percentile(heads_frac, 0.75)"
   ]
  },
  {
   "cell_type": "markdown",
   "id": "01e5dbc6-c6d1-4162-bd4c-9bd3be9c07ea",
   "metadata": {},
   "source": [
    "The 25th percentile, median, and 75th percentile make up the lines of the \"box\" in a **box-and-whisker plot**."
   ]
  },
  {
   "cell_type": "code",
   "execution_count": 13,
   "id": "a7c2c05e-3fde-4630-ab3b-f10af1155090",
   "metadata": {},
   "outputs": [
    {
     "data": {
      "image/png": "[encoded data removed]",
      "text/plain": [
       "<Figure size 576x432 with 1 Axes>"
      ]
     },
     "metadata": {
      "needs_background": "light"
     },
     "output_type": "display_data"
    }
   ],
   "source": [
    "plt.boxplot(heads_frac);"
   ]
  },
  {
   "cell_type": "markdown",
   "id": "b665c7bf-0033-4006-98a0-3b6b5b010001",
   "metadata": {},
   "source": [
    "### Mean\n",
    "\n",
    "The **mean** is the average value. \n",
    "\n",
    "$$ \\bar x = \\frac{1}{N} \\sum_{i=1}^N x_i $$\n",
    "\n",
    "Technically, this is the **arithmetic mean**. It is also frequently referred to as the **expectation value**. We can calculate it ourselves:"
   ]
  },
  {
   "cell_type": "code",
   "execution_count": 14,
   "id": "e9bb4fa7-741b-491d-bcdf-e1c86d28534c",
   "metadata": {},
   "outputs": [
    {
     "data": {
      "text/plain": [
       "0.499934"
      ]
     },
     "execution_count": 14,
     "metadata": {},
     "output_type": "execute_result"
    }
   ],
   "source": [
    "heads_frac.sum() / heads_frac.size"
   ]
  },
  {
   "cell_type": "markdown",
   "id": "22209e7b-8ff1-4398-90ed-2b6bec5911d1",
   "metadata": {},
   "source": [
    "Or we can use the `.mean()` method:"
   ]
  },
  {
   "cell_type": "code",
   "execution_count": 15,
   "id": "286187c9-268e-4903-92a7-812940dd225b",
   "metadata": {},
   "outputs": [
    {
     "data": {
      "text/plain": [
       "0.499934"
      ]
     },
     "execution_count": 15,
     "metadata": {},
     "output_type": "execute_result"
    }
   ],
   "source": [
    "xbar = heads_frac.mean()\n",
    "xbar"
   ]
  },
  {
   "cell_type": "markdown",
   "id": "07d14dd3-e5c7-431f-8c1e-159438022495",
   "metadata": {},
   "source": [
    "## Measures of variability"
   ]
  },
  {
   "cell_type": "markdown",
   "id": "19e469ac-8205-4cc4-ab30-1815e58efb0d",
   "metadata": {},
   "source": [
    "Of course, the average of many, many, many trials must be 50% heads, if the coin is fair! \n",
    "\n",
    "However, this does *not* mean that *every* trial measures exactly 50% heads. In fact, that only happened < 3% of the time for us. "
   ]
  },
  {
   "cell_type": "code",
   "execution_count": 1098,
   "id": "341964f3-0d72-4eb2-803a-af77db8212df",
   "metadata": {},
   "outputs": [
    {
     "data": {
      "text/plain": [
       "0.0258"
      ]
     },
     "execution_count": 1098,
     "metadata": {},
     "output_type": "execute_result"
    }
   ],
   "source": [
    "sum(heads_frac == 0.5) / len(heads_frac)"
   ]
  },
  {
   "cell_type": "markdown",
   "id": "1a004554-973a-44a1-bbb1-9d3481e39f07",
   "metadata": {},
   "source": [
    "Due to chance alone, values higher or lower than 50% will be obtained with some probability. \n",
    "\n",
    "But values *much* higher or lower ought to be very rare. \n",
    "\n",
    "How can we quantify the spread of data around the mean value? "
   ]
  },
  {
   "cell_type": "markdown",
   "id": "f4559a15-641b-4636-904f-e4b38b067d3c",
   "metadata": {},
   "source": [
    "First let's shift all values by $\\bar x$, so the new mean is zero (up to computational precision):"
   ]
  },
  {
   "cell_type": "code",
   "execution_count": 17,
   "id": "0084bde8-aba6-48af-a197-541e88298a5d",
   "metadata": {},
   "outputs": [
    {
     "name": "stdout",
     "output_type": "stream",
     "text": [
      "mean: 1.1507461650239748e-17\n"
     ]
    },
    {
     "data": {
      "image/png": "[encoded data removed]",
      "text/plain": [
       "<Figure size 576x432 with 1 Axes>"
      ]
     },
     "metadata": {
      "needs_background": "light"
     },
     "output_type": "display_data"
    }
   ],
   "source": [
    "shifted_data = heads_frac - xbar\n",
    "print(f\"mean: {shifted_data.mean()}\")\n",
    "plt.hist(100 * shifted_data, density=True);\n",
    "plt.xlabel(\"% heads - 50%\")\n",
    "plt.ylabel(\"probability\");"
   ]
  },
  {
   "cell_type": "markdown",
   "id": "b7d4e111-4215-43d6-b7cd-b359af94ec9d",
   "metadata": {},
   "source": [
    "#### Variance \n",
    "\n",
    "If we square the shifted values and then take the mean, we get something nonzero:"
   ]
  },
  {
   "cell_type": "code",
   "execution_count": 1101,
   "id": "e73a6ce5-91f3-40eb-9aa4-9fe90df1155b",
   "metadata": {},
   "outputs": [
    {
     "data": {
      "text/plain": [
       "0.0002479481859100004"
      ]
     },
     "execution_count": 1101,
     "metadata": {},
     "output_type": "execute_result"
    }
   ],
   "source": [
    "((heads_frac - xbar) ** 2).mean()"
   ]
  },
  {
   "cell_type": "markdown",
   "id": "dbfdc657-4c29-424d-9ef0-28cd9ffd1c36",
   "metadata": {},
   "source": [
    "This is called the **variance** and is a measure of the data's spread around the mean value.\n",
    "\n",
    "The `.var()` method gives thes same result:"
   ]
  },
  {
   "cell_type": "code",
   "execution_count": 1102,
   "id": "ff649264-ac7b-43b5-a784-1c80e9530af6",
   "metadata": {},
   "outputs": [
    {
     "data": {
      "text/plain": [
       "0.0002479481859100004"
      ]
     },
     "execution_count": 1102,
     "metadata": {},
     "output_type": "execute_result"
    }
   ],
   "source": [
    "variance = heads_frac.var()\n",
    "variance"
   ]
  },
  {
   "cell_type": "markdown",
   "id": "b5311cae-da6a-4e9a-a9d5-ee33a0114115",
   "metadata": {},
   "source": [
    "#### Standard deviation"
   ]
  },
  {
   "cell_type": "markdown",
   "id": "ef4a3b8c-a68c-4ff9-9061-9cf0c4e7b3a4",
   "metadata": {},
   "source": [
    "The square root of the variance is the **standard deviation**."
   ]
  },
  {
   "cell_type": "code",
   "execution_count": 1103,
   "id": "f118c405-78b1-4bb1-9718-713e96199eea",
   "metadata": {
    "tags": []
   },
   "outputs": [
    {
     "data": {
      "text/plain": [
       "0.015746370563085334"
      ]
     },
     "execution_count": 1103,
     "metadata": {},
     "output_type": "execute_result"
    }
   ],
   "source": [
    "np.sqrt(variance)"
   ]
  },
  {
   "cell_type": "markdown",
   "id": "9e7f3841-5f7e-4152-b994-0f4163312279",
   "metadata": {},
   "source": [
    "The `.std()` method computes this for us:"
   ]
  },
  {
   "cell_type": "code",
   "execution_count": 1104,
   "id": "480d55f6-8b0c-4596-8621-9d7cc86e4746",
   "metadata": {},
   "outputs": [
    {
     "data": {
      "text/plain": [
       "0.015746370563085334"
      ]
     },
     "execution_count": 1104,
     "metadata": {},
     "output_type": "execute_result"
    }
   ],
   "source": [
    "sigma = heads_frac.std()\n",
    "sigma"
   ]
  },
  {
   "cell_type": "markdown",
   "id": "d9d8f497-bb2a-475f-8725-be79f0d37e11",
   "metadata": {},
   "source": [
    "The **standard deviation** $\\sigma$ (\"sigma\") of a measure in a population is\n",
    "\n",
    "$$ \\sigma = \\sqrt{\\frac{1}{N} \\sum_{i=1}^N (x_i - \\mu)^2} $$\n",
    "\n",
    "where $\\mu$ is the population (true) mean value. \n",
    "\n",
    "For example, if three siblings have ages 3, 7, and 14, then their mean age is $\\mu = (3 + 7 + 14)/3 = 8$. The standard deviation of their ages is \n",
    "\n",
    "$$ \\sigma = \\sqrt{\\frac{1}{3} \\left((3-8)^2 + (7-8)^2 + (14-8)^2\\right) } \\approx 4.5 $$"
   ]
  },
  {
   "cell_type": "markdown",
   "id": "694da3c8-f839-4c7c-b05d-3a24a62309ea",
   "metadata": {},
   "source": [
    "In the siblings example, we considered the whole population (only three people). \n",
    "\n",
    "For large populations, we usually don't have data for the whole population. Rather, we have a sample of size $N$. We want to infer the population mean $\\mu$, but our observations give us the sample mean $\\bar x$.\n",
    "\n",
    "The **sample standard deviation** is \n",
    "\n",
    "$$ s = \\sqrt{\\frac{1}{N-1} \\sum_{i=1}^N (x_i - \\bar x)^2}. $$\n",
    "\n",
    "\n",
    "<span style=\"color:purple\">Find the two differences between the formula for $s$ and that of $\\sigma$.</span>\n",
    "\n"
   ]
  },
  {
   "cell_type": "markdown",
   "id": "570d59d3-7f9f-4aa1-a862-9ebed0bccd5e",
   "metadata": {},
   "source": [
    "For example, to find the mean age $\\mu$ of all people in the U.S., we might randomly select $N=100$ U.S. residents and take their mean age $\\bar x$. \n",
    "\n",
    "If we do this many times with independently chosen 100-person samples, we would get a range of values clustered around the true mean age. \n",
    "\n",
    "To see this, let's randomly generate some ages from a distribution with mean 46 and standard deviation 13, like this:"
   ]
  },
  {
   "cell_type": "code",
   "execution_count": 18,
   "id": "fcb5838b-d97b-45ed-9e06-69e2dc153017",
   "metadata": {},
   "outputs": [
    {
     "name": "stdout",
     "output_type": "stream",
     "text": [
      "[65, 54, 16, 19, 52, 67, 45, 47, 47, 42]\n"
     ]
    }
   ],
   "source": [
    "N = 10\n",
    "sigma = 13 \n",
    "print([int(age) for age in rng.normal(46, sigma, size=N)])"
   ]
  },
  {
   "cell_type": "markdown",
   "id": "4e861d89-f29c-4657-bae4-bd56c7833fc9",
   "metadata": {},
   "source": [
    "We'll take samples of size $N=100$ people, and we'll repeat the experiment 1000 times."
   ]
  },
  {
   "cell_type": "code",
   "execution_count": 22,
   "id": "641db704-0c68-461a-9032-caaeb3b42bb3",
   "metadata": {},
   "outputs": [
    {
     "data": {
      "image/png": "[encoded data removed]",
      "text/plain": [
       "<Figure size 576x432 with 1 Axes>"
      ]
     },
     "metadata": {
      "needs_background": "light"
     },
     "output_type": "display_data"
    }
   ],
   "source": [
    "N = 100\n",
    "sigma = 13\n",
    "\n",
    "sample_mean_ages = []\n",
    "for sample_num in range(1000):\n",
    "    trial_result = rng.normal(46, sigma, size=N)    \n",
    "    sample_mean_ages.append(trial_result.mean())\n",
    "\n",
    "# convert to NumPy array \n",
    "sample_mean_ages = np.array(sample_mean_ages)\n",
    "\n",
    "plt.hist(sample_mean_ages, density=True)\n",
    "plt.xlabel(\"age (years)\");"
   ]
  },
  {
   "cell_type": "markdown",
   "id": "117d4aa5-23db-4940-9bb0-9e86fd11b6c9",
   "metadata": {},
   "source": [
    "The sample means are clustered around 46, as expected. "
   ]
  },
  {
   "cell_type": "code",
   "execution_count": 23,
   "id": "14f83394-3caf-4d13-aa69-d22214a96682",
   "metadata": {},
   "outputs": [
    {
     "data": {
      "text/plain": [
       "45.97855043802121"
      ]
     },
     "execution_count": 23,
     "metadata": {},
     "output_type": "execute_result"
    }
   ],
   "source": [
    "sample_mean_ages.mean()"
   ]
  },
  {
   "cell_type": "markdown",
   "id": "300509fd-d08e-4139-980c-7e3b8e9e37f5",
   "metadata": {},
   "source": [
    "Let's think carefully abou the standard deviation of `sample_mean_ages`. \n",
    "\n",
    "Here, $s$ is the standard deviation *of sample means*, which is called the **standard error of the mean**, $\\sigma_{\\bar x}$. \n",
    "\n",
    "The **standard error of the mean** is related to the **population standard deviation** by:\n",
    "$$ \\sigma_{\\bar x} = \\frac{\\sigma}{\\sqrt{N}}. $$\n",
    "\n",
    "Rearranging, we get $\\sigma_{\\bar x} \\sqrt{N} = \\sigma$. Let's check:"
   ]
  },
  {
   "cell_type": "code",
   "execution_count": 24,
   "id": "94e70d66-ee38-44f2-8d8a-a41e4c193cdd",
   "metadata": {},
   "outputs": [
    {
     "data": {
      "text/plain": [
       "(13.196708679951241, 13)"
      ]
     },
     "execution_count": 24,
     "metadata": {},
     "output_type": "execute_result"
    }
   ],
   "source": [
    "std_err = sample_mean_ages.std()\n",
    "(std_err * np.sqrt(N), sigma)"
   ]
  },
  {
   "cell_type": "markdown",
   "id": "cde12c6a-b16a-4791-8311-22a7f1ad8be5",
   "metadata": {},
   "source": [
    "As predicted, the standard deviation of sample means is close to the population's standard deviation, divided by the square root of sample size."
   ]
  },
  {
   "cell_type": "markdown",
   "id": "62470b95-4134-43f7-9c6d-bb6cb395528e",
   "metadata": {},
   "source": [
    "### Back to the coin-flip experiment..."
   ]
  },
  {
   "cell_type": "markdown",
   "id": "75c07fc8-8264-4ecb-b0e3-dbcd608e9093",
   "metadata": {},
   "source": [
    "If we assign $H\\rightarrow 1$, $T\\rightarrow 0$, then the mean value $\\bar x$ from a sample of $N$ coin-flips is the same as the fraction of coin-flips that are heads. \n",
    "\n",
    "Example: $[H, T, H] \\rightarrow [1, 0, 1] \\Rightarrow \\bar x = 2/3=$ (fraction of heads). "
   ]
  },
  {
   "cell_type": "code",
   "execution_count": 25,
   "id": "6eb1b5f3-f80e-4beb-87f0-868225b2edde",
   "metadata": {},
   "outputs": [
    {
     "name": "stdout",
     "output_type": "stream",
     "text": [
      "[1 0 0 1 0]\n",
      "mean of 1s and 0s: 0.4\n",
      "fraction of heads: 0.4\n"
     ]
    }
   ],
   "source": [
    "def coin_flips_to_ints(coin_flip_results):\n",
    "    \"\"\" convert H to 1, T to 0 \"\"\"\n",
    "    return np.array([\n",
    "        1 if flip==\"H\" else 0 \n",
    "        for flip in coin_flip_results\n",
    "    ])\n",
    "\n",
    "example = np.array([\"H\", \"T\", \"T\", \"H\", \"T\"])\n",
    "print(coin_flips_to_ints(example))\n",
    "print(\"mean of 1s and 0s:\", coin_flips_to_ints(example).mean())\n",
    "print(\"fraction of heads:\", frac_heads(example))"
   ]
  },
  {
   "cell_type": "markdown",
   "id": "366a0710-8a69-4a98-b982-dca228077d24",
   "metadata": {},
   "source": [
    "With this in mind, let's check how the standard error of the mean $\\sigma_{\\bar x}$, depends on sample size $N$. \n",
    "\n",
    "Let's take 10,000 samples of size $N=10$, then 10,000 with $N=100$ and 10,000 with $N=1000$."
   ]
  },
  {
   "cell_type": "code",
   "execution_count": 26,
   "id": "90b24d84-1fc0-4d16-b1bf-b8397fc11333",
   "metadata": {},
   "outputs": [
    {
     "name": "stdout",
     "output_type": "stream",
     "text": [
      "N: 10, standard error of the mean: 0.159\n",
      "N: 100, standard error of the mean: 0.050\n",
      "N: 1000, standard error of the mean: 0.016\n"
     ]
    },
    {
     "data": {
      "image/png": "[encoded data removed]",
      "text/plain": [
       "<Figure size 576x432 with 1 Axes>"
      ]
     },
     "metadata": {
      "needs_background": "light"
     },
     "output_type": "display_data"
    }
   ],
   "source": [
    "sample_sizes = [10, 100, 1000]\n",
    "results = [coin_flip_sample_series(rng, 10000, N) for N in sample_sizes]\n",
    "for result, N in zip(results, sample_sizes):\n",
    "    plt.hist(100 * result, density=True, alpha=0.75)\n",
    "    print(f\"N: {N}, standard error of the mean: {result.std():.3f}\")\n",
    "plt.legend(sample_sizes, title=r\"$N$\")\n",
    "plt.xlabel(\"% heads\")\n",
    "plt.ylabel(\"probability\");"
   ]
  },
  {
   "cell_type": "markdown",
   "id": "71b5e729-7957-47fd-8b12-009c987e80d9",
   "metadata": {},
   "source": [
    "As sample size $N$ increases, $\\sigma_{\\bar x}$ decreases! *A larger sample gives a more precise estimate of the mean.*\n",
    "\n",
    "However, the **population standard deviation**, $\\sigma = \\sigma_{\\bar x} \\sqrt{N}$ should not depend on sample size. Let's check:"
   ]
  },
  {
   "cell_type": "code",
   "execution_count": 27,
   "id": "99f71cf4-d633-4574-b67b-df8a4e3c4a22",
   "metadata": {},
   "outputs": [
    {
     "name": "stdout",
     "output_type": "stream",
     "text": [
      "N: 10, sigma: 0.503\n",
      "N: 100, sigma: 0.497\n",
      "N: 1000, sigma: 0.497\n"
     ]
    }
   ],
   "source": [
    "for result, N in zip(results, sample_sizes):\n",
    "    sigma = result.std() * np.sqrt(N)\n",
    "    print(f\"N: {N}, sigma: {sigma:.3f}\")"
   ]
  },
  {
   "cell_type": "markdown",
   "id": "009344a9-3b0b-4b6b-be01-7d3b7c4ba735",
   "metadata": {},
   "source": [
    "We have found $\\sigma \\approx 0.5$, the **population standard deviation**, which is a property of the coin itself (independent of sample size). "
   ]
  },
  {
   "cell_type": "markdown",
   "id": "1a82fb82-dd9a-4d15-90f7-68c548971241",
   "metadata": {},
   "source": [
    "#### Standard error describes the spread of sample means around the population mean"
   ]
  },
  {
   "cell_type": "markdown",
   "id": "37b50128-eb84-4330-a65c-0bd1ba25521e",
   "metadata": {},
   "source": [
    "About 68% of the data lies $\\leq 1 \\sigma_{\\bar x}$ away from $\\mu$:"
   ]
  },
  {
   "cell_type": "code",
   "execution_count": 28,
   "id": "08ce1345-e80b-4b21-9772-51b582097d8c",
   "metadata": {},
   "outputs": [
    {
     "name": "stdout",
     "output_type": "stream",
     "text": [
      "67.19999999999999% of observations lie between 0.484 and 0.516.\n"
     ]
    }
   ],
   "source": [
    "heads_frac = coin_flip_sample_series(rng, 10000, 1000)\n",
    "xbar = heads_frac.mean()\n",
    "std_err = heads_frac.std()\n",
    "\n",
    "a = xbar - std_err\n",
    "b = xbar + std_err\n",
    "\n",
    "frac_obs = 1 - (sum(heads_frac < a) + sum(heads_frac > b)) / len(heads_frac)\n",
    "\n",
    "print(f\"{100 * frac_obs}% of observations lie between {a:.3f} and {b:.3f}.\")"
   ]
  },
  {
   "cell_type": "markdown",
   "id": "7cea58f6-b1a3-4ce5-8a5e-65897f7ad037",
   "metadata": {},
   "source": [
    "So, if the coin is a fair one, we expect around 32% of all 1000-flip trials to record $\\leq 484$ heads or $\\geq 516$ heads. "
   ]
  },
  {
   "cell_type": "markdown",
   "id": "9917e21e-b958-417a-b65a-a7dadae4cc74",
   "metadata": {},
   "source": [
    "About 95% of the data lies  $ \\leq 2 \\sigma_{\\bar x}$ away from $\\mu$:"
   ]
  },
  {
   "cell_type": "code",
   "execution_count": 29,
   "id": "b4441335-e382-4f6d-a36b-32f4618aff45",
   "metadata": {},
   "outputs": [
    {
     "name": "stdout",
     "output_type": "stream",
     "text": [
      "95.73% of observations lie between 0.468 and 0.532.\n"
     ]
    }
   ],
   "source": [
    "a = xbar - 2 * std_err\n",
    "b = xbar + 2 * std_err\n",
    "\n",
    "frac_obs = 1 - (sum(heads_frac < a) + sum(heads_frac > b)) / len(heads_frac)\n",
    "\n",
    "print(f\"{100 * frac_obs}% of observations lie between {a:.3f} and {b:.3f}.\")"
   ]
  },
  {
   "cell_type": "markdown",
   "id": "7581b2bb-64d1-4a08-8d1d-224c704ba337",
   "metadata": {},
   "source": [
    "About 99.7% of the data lies $\\leq 3 \\sigma_{\\bar x}$ away from $\\mu$:"
   ]
  },
  {
   "cell_type": "code",
   "execution_count": 30,
   "id": "9bb50b88-d561-4f52-ba5c-fbfdbfa44a0b",
   "metadata": {},
   "outputs": [
    {
     "name": "stdout",
     "output_type": "stream",
     "text": [
      "99.69% of observations lie between 0.453 and 0.547.\n"
     ]
    }
   ],
   "source": [
    "a = xbar - 3 * std_err\n",
    "b = xbar + 3 * std_err\n",
    "\n",
    "frac_obs = 1 - (sum(heads_frac < a) + sum(heads_frac > b)) / len(heads_frac)\n",
    "\n",
    "print(f\"{100 * frac_obs}% of observations lie between {a:.3f} and {b:.3f}.\")"
   ]
  },
  {
   "cell_type": "markdown",
   "id": "1cb090af-756c-4292-a8b2-983c387d7335",
   "metadata": {},
   "source": [
    "### Confidence interval and the $p$-value\n",
    "Often this is expressed as a ***confidence interval*** for a given ***confidence level***. From the $1\\sigma_{\\bar x}$ calculation, we have a confidence interval $[484, 516]$ at confidence level $0.68$. \n",
    "\n",
    "1 minus the confidence level is the **$p$-value**:  the probability that the observation will lie outside the confidence interval. In this case, $p=0.32$. \n",
    "\n",
    "Smaller $p$ indicates greater confidence that the true value lies within the confidence interval. "
   ]
  },
  {
   "cell_type": "markdown",
   "id": "cd72ffd6-bceb-49d3-b9a7-aaacf7f0e584",
   "metadata": {},
   "source": [
    "The **p-value** of an observation is the probability of obtaining an observation as extreme, or more, given that the null hypothesis is true.\n",
    "\n",
    "Thus, a low p-value indicates we were unlikely to get the result we got, if the null hypothesis were true. "
   ]
  },
  {
   "cell_type": "markdown",
   "id": "80289384-2e26-4c64-bca5-9b612447db17",
   "metadata": {
    "tags": []
   },
   "source": [
    "### Normal distribution\n",
    "\n",
    "How can we describe the distributions we've found for \"fraction of coin-flips in a trial that land heads-up\"?\n",
    "\n",
    "For $N=1$ flip, the result is \"0 heads\" with probability 0.5, \"1 head\" with probability 0.5.\n",
    "\n",
    "For $N=2$ flips, there are four equally likely sequences: \n",
    "$$ \\rm TT\\; TH\\; HT\\; HH.$$ Adding up the heads, we see \n",
    "* 0 heads with probability 1/4=0.25, \n",
    "* 1 head with probability 2/4=0.5, \n",
    "* 2 heads with probabiltiy 1/4=0.25. "
   ]
  },
  {
   "cell_type": "code",
   "execution_count": 32,
   "id": "faa6f7c1-dbfb-4e54-a485-85841fdc3eec",
   "metadata": {},
   "outputs": [
    {
     "data": {
      "image/png": "[encoded data removed]",
      "text/plain": [
       "<Figure size 288x216 with 1 Axes>"
      ]
     },
     "metadata": {
      "needs_background": "light"
     },
     "output_type": "display_data"
    }
   ],
   "source": [
    "n_heads = [0, 1, 2]\n",
    "plt.figure(figsize=(4,3))\n",
    "plt.bar(n_heads, [0.25, 0.5, 0.25])\n",
    "plt.xlabel(\"# heads\")\n",
    "plt.ylabel(\"probability\")\n",
    "plt.xticks(n_heads)\n",
    "plt.title(r\"$N=2$ coin flips\");\n"
   ]
  },
  {
   "cell_type": "markdown",
   "id": "6bcd33b0-9ab5-4f5f-b72c-50ca64470e1d",
   "metadata": {},
   "source": [
    "We could keep going for higher $N$. The general result is the **binomial distribution**. As $N$ becomes a large number, the binomial distribution more and more resembles a smooth function called the **normal distribution** or **bell curve**:\n",
    "\n",
    "$$ f(x) = \\frac{1}{\\sigma \\sqrt{2\\pi}} \\exp\\left[-\\frac{1}{2} \\frac{(x - \\mu)^2}{  \\sigma^2}  \\right] $$ "
   ]
  },
  {
   "cell_type": "code",
   "execution_count": 35,
   "id": "db220c8e-8fe2-4125-ae6a-ada20b7f4a9f",
   "metadata": {},
   "outputs": [
    {
     "data": {
      "image/png": "[encoded data removed]",
      "text/plain": [
       "<Figure size 576x432 with 1 Axes>"
      ]
     },
     "metadata": {
      "needs_background": "light"
     },
     "output_type": "display_data"
    }
   ],
   "source": [
    "def normal_distribution(x, mu, sigma):\n",
    "    return (\n",
    "        1. / (sigma * np.sqrt(2 * np.pi))\n",
    "        * np.exp(-(x - mu) ** 2 / (2 * sigma ** 2))\n",
    "    )\n",
    "\n",
    "x = np.linspace(-5, 5, 1000)\n",
    "plt.plot(x, normal_distribution(x, 0, 1))\n",
    "plt.title('Standard normal distribution (μ=0, σ=1)');"
   ]
  },
  {
   "cell_type": "markdown",
   "id": "9ed2d1c7-f462-4367-8b81-db5f84ac04e7",
   "metadata": {},
   "source": [
    "Let's check whether the heads-fraction results from our coin-flip trials are described by a normal distribution."
   ]
  },
  {
   "cell_type": "code",
   "execution_count": 41,
   "id": "17357c71-c4e6-4b2d-ab26-7e73e5b27534",
   "metadata": {},
   "outputs": [
    {
     "data": {
      "image/png": "[encoded data removed]",
      "text/plain": [
       "<Figure size 576x432 with 1 Axes>"
      ]
     },
     "metadata": {
      "needs_background": "light"
     },
     "output_type": "display_data"
    }
   ],
   "source": [
    "heads_frac = coin_flip_sample_series(rng, 1000, 1000)\n",
    "mu = heads_frac.mean()\n",
    "sigma = heads_frac.std()\n",
    "\n",
    "plt.hist(heads_frac, density=True, color=\"gray\")\n",
    "\n",
    "x = np.linspace(mu - 4 * sigma, mu + 4 * sigma, 1000)\n",
    "plt.plot(x, normal_distribution(x, mu, sigma))\n",
    "\n",
    "x_normalized = np.abs((x - mu) / sigma)\n",
    "\n",
    "shading_colors = ['red', 'yellow', 'green', 'cyan']\n",
    "for k in range(4):\n",
    "    x_vals_to_shade = (x_normalized > k) * (x_normalized < k + 1)\n",
    "    plt.fill_between(\n",
    "        x, 0, normal_distribution(x, mu, sigma), \n",
    "        alpha=0.5, color=shading_colors[k],\n",
    "        where=x_vals_to_shade\n",
    "    )\n",
    "    \n",
    "plt.legend(['', '68.2%', '27.2%', '4.2%', '0.2%'])\n",
    "plt.xlabel(\"% heads\")\n",
    "plt.ylabel(\"probability\")\n",
    "k_range = range(-4, 5)\n",
    "plt.xticks(\n",
    "    [mu + k * sigma for k in k_range], \n",
    "    labels=[\n",
    "        \"μ = \" + str(int(mu)) if k == 0 else str(k) + \" σ\" \n",
    "        for k in k_range\n",
    "    ]\n",
    ");\n"
   ]
  },
  {
   "cell_type": "markdown",
   "id": "c894a497-5f37-45e4-85f4-e824f8a0f7d5",
   "metadata": {},
   "source": [
    "The normal distribution is not just for coin flips! \n",
    "\n",
    "A theorem called the **central limit theorem** says that the mean values from many independent samples will tend toward a normal distribution centered at the true mean of the population."
   ]
  },
  {
   "cell_type": "markdown",
   "id": "cdf1942a-1415-4bd3-aac8-fae39fa2b365",
   "metadata": {},
   "source": [
    "## Hypothesis testing"
   ]
  },
  {
   "cell_type": "markdown",
   "id": "39914a3a-a26b-421a-8530-25709209add0",
   "metadata": {},
   "source": [
    "<img src=\"https://imgs.xkcd.com/comics/null_hypothesis.png\" alt=\"xkcd null hypothesis\" width=175 style=\"float:right\">\n",
    "\n",
    "Suppose we want to determine whether a coin is fair, or whether it's biased. \n",
    "\n",
    "We form a null hypothesis: The coin is fair, meaning that the expected fraction of heads is $\\mu_0 = 0.5$.\n"
   ]
  },
  {
   "cell_type": "markdown",
   "id": "86a53150-1f67-412b-afe6-854f97044661",
   "metadata": {},
   "source": [
    "We should select a confidence level before making observations. A common choice is a 95% confidence interval, i.e. $p=0.05$. Based on our calculations above, about 5% of the observations are expected to lie outside the range $[\\mu_0 - 2\\sigma_{\\bar x}, \\mu_0 + 2\\sigma_{\\bar x}]$.\n",
    "\n",
    "So we will reject the null hypothesis, at 95% confidence level, if $\\bar x - \\mu_0$ is $> 2 \\sigma_{\\bar x}$ or $<-2\\sigma_{\\bar x}$.\n",
    "\n",
    "$$ \\left| \\frac{\\bar x - \\mu_0}{\\sigma_{\\bar x}} \\right| > 2 \\;\\;\\text{(approximately)}. $$\n",
    "\n",
    "Actually, the value we wrote as \"2\" depends on $N$. The right way to do this is to use \"Student's $t$-score\":\n",
    "\n",
    "$$ t := \\frac{\\bar x - \\mu_0}{s / \\sqrt{N-1}} $$ \n",
    "\n",
    "where $s$ is the sample standard deviation. Then,\n",
    "\n",
    "$$ p \\leq 0.05 \\Leftrightarrow |t| \\geq T \\approx 2$$. \n",
    "\n",
    "Suppose we flipped a coin 30 times and got 20 heads."
   ]
  },
  {
   "cell_type": "code",
   "execution_count": 42,
   "id": "08ce955a-cec0-43d2-b17b-5259a0be2a8b",
   "metadata": {},
   "outputs": [
    {
     "name": "stdout",
     "output_type": "stream",
     "text": [
      "artificial data: [1 1 1 1 1 1 1 1 1 1 1 1 1 1 1 1 1 1 1 1 0 0 0 0 0 0 0 0 0 0]\n"
     ]
    }
   ],
   "source": [
    "N = 30 \n",
    "test_dat = np.array([1 if i < (2/3) * N else 0 for i in range(N)])\n",
    "print(\"artificial data:\", test_dat)"
   ]
  },
  {
   "cell_type": "markdown",
   "id": "79fa8c05-34f2-4154-ba9b-b4682aa28313",
   "metadata": {},
   "source": [
    "We can calculate the $t$-score ourselves:"
   ]
  },
  {
   "cell_type": "code",
   "execution_count": 43,
   "id": "3942a858-b4b0-437a-b100-3dad94dfab09",
   "metadata": {},
   "outputs": [
    {
     "name": "stdout",
     "output_type": "stream",
     "text": [
      "t: 1.904\n"
     ]
    }
   ],
   "source": [
    "t_score = (test_dat.mean() - 0.5) / (test_dat.std() / np.sqrt(N-1))\n",
    "print(f\"t: {t_score:.3f}\")"
   ]
  },
  {
   "cell_type": "markdown",
   "id": "5051a66e-e372-4b3c-8a7b-f1f6407c5f6d",
   "metadata": {},
   "source": [
    "but converting the $t$-score to a $p$-value is not so easy. \n",
    "\n",
    "Fortunately, the SciPy has a statistics module with a function for this, `scipy.stats.ttest_1samp()`. We give it the data and $\\mu_0$; it tells us $t$ and $p$. "
   ]
  },
  {
   "cell_type": "code",
   "execution_count": 45,
   "id": "d9894817-d42e-489c-a75b-3e4a401db5b5",
   "metadata": {},
   "outputs": [
    {
     "data": {
      "text/plain": [
       "Ttest_1sampResult(statistic=1.9039432764659767, pvalue=0.06688289079467755)"
      ]
     },
     "execution_count": 45,
     "metadata": {},
     "output_type": "execute_result"
    }
   ],
   "source": [
    "import scipy.stats \n",
    "\n",
    "ttest = scipy.stats.ttest_1samp(test_dat, 0.5)\n",
    "ttest"
   ]
  },
  {
   "cell_type": "markdown",
   "id": "691b0e5c-5a30-469e-96dd-9865f50b78a1",
   "metadata": {},
   "source": [
    "Use `.statistic` to get $t$, `.pvalue` to get $p$:"
   ]
  },
  {
   "cell_type": "code",
   "execution_count": 46,
   "id": "2303353d-207b-432b-8b26-d5acf212b1e5",
   "metadata": {},
   "outputs": [
    {
     "name": "stdout",
     "output_type": "stream",
     "text": [
      "t: 1.904\n",
      "p: 0.067\n"
     ]
    }
   ],
   "source": [
    "print(f\"t: {ttest.statistic:.3f}\")\n",
    "print(f\"p: {ttest.pvalue:.3f}\")"
   ]
  },
  {
   "cell_type": "markdown",
   "id": "1832b336-20f7-4aa1-b476-838242888a2a",
   "metadata": {},
   "source": [
    "Here, we got $p>0.05$ so we do *not* reject the null hypothesis. \n",
    "\n",
    "Even though $20/30\\approx 0.667$  is quite a bit higher than $0.5$, the results are **not statistically significant** at $p=0.05$: A fair coin is expected to produce this result more than once for every 20 trials, so we cannot declare that the coin is biased with 95% confidence.\n"
   ]
  },
  {
   "cell_type": "markdown",
   "id": "2b0395f2-4335-459c-894e-8bdb7ddb031d",
   "metadata": {},
   "source": [
    "However, suppose we had *instead* done three times as many coin flips and observed the same ratio of heads to tails:"
   ]
  },
  {
   "cell_type": "code",
   "execution_count": 47,
   "id": "8d44d3c5-3786-49a4-90c8-73c06e28d8a4",
   "metadata": {},
   "outputs": [
    {
     "name": "stdout",
     "output_type": "stream",
     "text": [
      "artificial data: [1 1 1 1 1 1 1 1 1 1 1 1 1 1 1 1 1 1 1 1 1 1 1 1 1 1 1 1 1 1 1 1 1 1 1 1 1\n",
      " 1 1 1 1 1 1 1 1 1 1 1 1 1 1 1 1 1 1 1 1 1 1 1 0 0 0 0 0 0 0 0 0 0 0 0 0 0\n",
      " 0 0 0 0 0 0 0 0 0 0 0 0 0 0 0 0]\n"
     ]
    },
    {
     "data": {
      "text/plain": [
       "Ttest_1sampResult(statistic=3.3354160160315827, pvalue=0.0012435163135804924)"
      ]
     },
     "execution_count": 47,
     "metadata": {},
     "output_type": "execute_result"
    }
   ],
   "source": [
    "N = 90\n",
    "\n",
    "test_dat_2 = np.array([1 if i < (2/3) * N else 0 for i in range(N)])\n",
    "print(\"artificial data:\", test_dat_2)\n",
    "\n",
    "scipy.stats.ttest_1samp(test_dat_2, 0.5)"
   ]
  },
  {
   "cell_type": "markdown",
   "id": "14b99c3a-df29-48de-bebd-da19917528d5",
   "metadata": {},
   "source": [
    "Since $p < 0.05$, the results are considered **statistically significant**: The probability of an observation this extreme or more, at this larger sample size, is less than 0.05 if the null hypothesis is true. We now **reject the null hypothesis** and conclude that the coin is biased. "
   ]
  },
  {
   "cell_type": "markdown",
   "id": "e22b7c37-e918-49c8-9780-cb6e99dc80a0",
   "metadata": {},
   "source": [
    "This artificial example illustrates how larger sample sizes increase the odds of correctly rejecting the null hypothesis, which is called **statistical power**. \n",
    "\n",
    "However, the example also hints at some drawbacks of the $p$-value approach, and ways it can be misused. "
   ]
  },
  {
   "cell_type": "markdown",
   "id": "f56265c9-7bdb-4eee-9979-2c3c0319d78e",
   "metadata": {},
   "source": [
    "## Types of error"
   ]
  },
  {
   "cell_type": "markdown",
   "id": "d77fc6a8-12e9-4034-b044-e311b780fd60",
   "metadata": {},
   "source": [
    "**False positive** (a.k.a. \"Type I Error\"): Rejecting the null hypothesis even though it's true. \n",
    "* The $p$-value is the probability of a false positive. \n",
    "* Small $p$ implies higher confidence in rejecting the null hypothesis.\n",
    "\n",
    "**False negative** (a.k.a. \"Type II Error\"): Not rejecting the null hypothesis even though it's false. \n",
    "* The probability of obtaining a false negative is called β (\"beta\").\n",
    "* 1-β is the **statistical power**. This is the probability of rejecting the null hypothesis if it is false.\n",
    "\n",
    "Example: COVID rapid test—\n",
    "* False positive: Don't have COVID but test positive.\n",
    "* False negative: Have COVID but test negative. \n",
    "\n",
    "\n",
    "\n"
   ]
  },
  {
   "cell_type": "markdown",
   "id": "fb13d9ac-20e9-4aa3-bec2-41df5277d2fc",
   "metadata": {},
   "source": [
    "When we choose $p=0.05$, we *expect* that 5%, or 1 in 20, of our observations will give a ***false positive***: We will reject the null hypothesis based on the observations, even though the null hypothesis is true. "
   ]
  },
  {
   "cell_type": "markdown",
   "id": "026ec92a-9f2c-401e-8324-f1828656c617",
   "metadata": {},
   "source": [
    "Let's check how often we will incorrectly reject the null hypothesis for a fair coin with single trials of $N=100$ flips."
   ]
  },
  {
   "cell_type": "code",
   "execution_count": 48,
   "id": "31a36b8c-f0fb-41e1-a60d-80c4bb5a86a1",
   "metadata": {
    "tags": []
   },
   "outputs": [
    {
     "name": "stdout",
     "output_type": "stream",
     "text": [
      "6.0 % false positives\n"
     ]
    }
   ],
   "source": [
    "N = 100\n",
    "\n",
    "p_vals = []\n",
    "for trial_num in range(100):\n",
    "    heads_tails = coin_flip_sample(rng, N)\n",
    "    ones_zeros = coin_flips_to_ints(heads_tails)\n",
    "    p_val = scipy.stats.ttest_1samp(ones_zeros, 0.5).pvalue\n",
    "    p_vals.append(p_val)\n",
    "\n",
    "num_significant = sum([p_val < 0.05 for p_val in p_vals]) \n",
    "frac_significant = num_significant / len(p_vals)\n",
    "print(100 * frac_significant, \"% false positives\")"
   ]
  },
  {
   "cell_type": "markdown",
   "id": "d3e9d137-2fa0-4c2f-ac0e-bdbcc1c94e7e",
   "metadata": {},
   "source": [
    "<span style=\"color:purple\">Try running the cell above several times and seeing the range of values you get.</span>"
   ]
  },
  {
   "cell_type": "markdown",
   "id": "933001e4-48cd-42df-a1a1-4df82e9a3127",
   "metadata": {},
   "source": [
    "#### Consider...\n",
    "\n",
    "Professor Coinsworthy has a hypothesis that a certain coin is biased. The professor assigns six student researchers to flip the coin $N=100$ times.\n",
    "\n",
    "* Student 1 gets 52 heads.\n",
    "* Student 2 gets 41 heads.\n",
    "* Student 3 gets 50 heads.\n",
    "* Student 4 gets 39 heads\n",
    "* Student 5 gets 53 heads.\n",
    "* Student 6 gets 48 heads.\n",
    "\n",
    "Only Student 4's observation is statistically significant. <span style=\"color:purple\">Can you show this?</span>\n",
    "\n",
    "Prof. Coinsworthy believes Student 4 is more capable than the other students, and makes Student 4 the lead author on a journal article about the statistically significant findings. The other students' findings are not published.\n",
    "\n",
    "<span style=\"color:purple\">Did Professor Coinsworthy make a good decision? Discuss.</span>"
   ]
  },
  {
   "cell_type": "markdown",
   "id": "11bb4379-2d79-447d-8e5b-75de17c0cb20",
   "metadata": {},
   "source": [
    "#### Example: a well-intentioned student researcher\n",
    "\n",
    "Alex is a well-intentioned student researcher in Prof. Coinsworthy's lab in the Department of Numismatics. Alex has a strong hunch that a certain coin is biased. A first experiment, involving only ten coin-flips, does not allow Alex to reject the null hypothesis:"
   ]
  },
  {
   "cell_type": "code",
   "execution_count": 54,
   "id": "f566577d-3ef7-4d64-a641-65c1a9992207",
   "metadata": {},
   "outputs": [
    {
     "name": "stdout",
     "output_type": "stream",
     "text": [
      "['H' 'H' 'H' 'H' 'H' 'H' 'H' 'T' 'T' 'H']\n"
     ]
    }
   ],
   "source": [
    "rng2 = np.random.default_rng(4)\n",
    "obs = rng2.choice([\"T\", \"H\"], size=10)\n",
    "print(obs)"
   ]
  },
  {
   "cell_type": "code",
   "execution_count": 55,
   "id": "82f7337d-a9d6-4e36-9326-111794d4b431",
   "metadata": {},
   "outputs": [
    {
     "data": {
      "text/plain": [
       "Ttest_1sampResult(statistic=2.2500000000000004, pvalue=0.05100326070695074)"
      ]
     },
     "execution_count": 55,
     "metadata": {},
     "output_type": "execute_result"
    }
   ],
   "source": [
    "scipy.stats.ttest_1samp(coin_flips_to_ints(obs), 0.5)"
   ]
  },
  {
   "cell_type": "markdown",
   "id": "c16460db-cc93-446c-b0df-3c8a8eadb1a0",
   "metadata": {},
   "source": [
    "Alex decides to add ten more coin-flips to the observations."
   ]
  },
  {
   "cell_type": "code",
   "execution_count": 56,
   "id": "8a70c04c-ebdd-4a54-8436-3bca55281589",
   "metadata": {},
   "outputs": [
    {
     "data": {
      "text/plain": [
       "Ttest_1sampResult(statistic=1.9023794624226835, pvalue=0.07239002577225488)"
      ]
     },
     "execution_count": 56,
     "metadata": {},
     "output_type": "execute_result"
    }
   ],
   "source": [
    "obs = np.append(obs, rng2.choice([\"T\", \"H\"], size=10))\n",
    "scipy.stats.ttest_1samp(coin_flips_to_ints(obs), 0.5)"
   ]
  },
  {
   "cell_type": "markdown",
   "id": "7ef2d81f-00cf-4d68-8d93-5c605301f0f7",
   "metadata": {},
   "source": [
    "Alex still can't reject the null hypothesis! But Alex is diligent and keeps taking data."
   ]
  },
  {
   "cell_type": "code",
   "execution_count": 57,
   "id": "9f619974-b7f9-4b3d-aed8-59e342e2858f",
   "metadata": {},
   "outputs": [],
   "source": [
    "dat = []\n",
    "for i in range(30):\n",
    "    obs = np.append(obs, rng2.choice([\"T\", \"H\"]))\n",
    "    p_val = scipy.stats.ttest_1samp(coin_flips_to_ints(obs), 0.5).pvalue\n",
    "    dat.append([len(obs), p_val])"
   ]
  },
  {
   "cell_type": "markdown",
   "id": "5e84b690-b61a-4d51-8e4b-c3b0f5fed6ee",
   "metadata": {},
   "source": [
    "Here's what the $p$-value looks like with each additional coin-flip."
   ]
  },
  {
   "cell_type": "code",
   "execution_count": 58,
   "id": "f82bf335-8267-4fd3-bb23-273a30f0d3f1",
   "metadata": {},
   "outputs": [
    {
     "data": {
      "image/png": "[encoded data removed]",
      "text/plain": [
       "<Figure size 576x432 with 1 Axes>"
      ]
     },
     "metadata": {
      "needs_background": "light"
     },
     "output_type": "display_data"
    }
   ],
   "source": [
    "n = [row[0] for row in dat]\n",
    "nstdevs = [row[1] for row in dat]\n",
    "plt.plot(n, nstdevs, 'o-')\n",
    "plt.xlabel('# coin flips')\n",
    "plt.hlines(0.05, 20, 50, color=\"red\")\n",
    "plt.ylabel(r'$p$');"
   ]
  },
  {
   "cell_type": "markdown",
   "id": "7262362d-4386-4949-8d8e-f4cef1ca7b3f",
   "metadata": {},
   "source": [
    "Look at that! If Alex had stopped at $N=36$ or $37$ coin flips, the observation would have $p<0.05$, allowing Alex to reject the null hypothesis... right!? \n",
    "\n",
    "<span style=\"color:purple\"> Think carefully: what are the flaws in Alex's procedure?<span>"
   ]
  },
  {
   "cell_type": "markdown",
   "id": "2602e112-bdcd-40ba-8cf0-441944d1ef1b",
   "metadata": {},
   "source": [
    "While there will always be *some* false positives, Alex's approach practically *guaranteed* a rejection of the null hypothesis. By changing the experimental design on the fly, in order to reach a desired conclusion, Alex generated a false result in a manner contrary to good science. Publishing this result would be misleading to other researchers and perhaps even the public, and could harm the reputation of Alex and Alex's advisor. \n",
    "\n",
    "What Alex has done here is an example of [**p-hacking**](https://www.methodspace.com/blog/primer-p-hacking). It is bad science... but it's unfortunately common because of the incentive to publish.\n",
    "\n",
    "<span style=\"color:purple\">Discuss: What practices could Alex have followed to avoid this situation?</span>"
   ]
  },
  {
   "cell_type": "markdown",
   "id": "36627c6b-7ce8-4b26-b3b6-e878b010a6cd",
   "metadata": {},
   "source": [
    "The website [fivethirtyeight.com](https://fivethirtyeight.com) put together a great demonstration of $p$-hacking in social science. \n",
    "\n",
    "<span style=\"color:purple\">Try it out... can you get two publishable results that contradict each other?</span>"
   ]
  },
  {
   "cell_type": "code",
   "execution_count": 59,
   "id": "de4bc4f2-7cb4-4b3b-89a1-468ef205704a",
   "metadata": {},
   "outputs": [
    {
     "data": {
      "text/html": [
       "\n",
       "<iframe \n",
       "    src=\"https://projects.fivethirtyeight.com/p-hacking/index.html\"\n",
       "    title=\"Hack Your Way To Scientific Glory\" \n",
       "    width=100% \n",
       "    height=500 \n",
       ">\n",
       "</iframe>\n"
      ],
      "text/plain": [
       "<IPython.core.display.HTML object>"
      ]
     },
     "execution_count": 59,
     "metadata": {},
     "output_type": "execute_result"
    }
   ],
   "source": [
    "from IPython.display import HTML\n",
    "\n",
    "HTML(\"\"\"\n",
    "<iframe \n",
    "    src=\"https://projects.fivethirtyeight.com/p-hacking/index.html\"\n",
    "    title=\"Hack Your Way To Scientific Glory\" \n",
    "    width=100% \n",
    "    height=500 \n",
    ">\n",
    "</iframe>\n",
    "\"\"\")"
   ]
  },
  {
   "cell_type": "markdown",
   "id": "d119e2ab-8321-499a-9f72-b82be61d3cf0",
   "metadata": {},
   "source": [
    "### False negatives"
   ]
  },
  {
   "cell_type": "markdown",
   "id": "a4e7edca-1ddd-40ed-bd82-697b0413a136",
   "metadata": {},
   "source": [
    "We can give our simulated coin a bias $b$, such that the probabilities are\n",
    "* heads: $0.5 + b$\n",
    "* tails: $0.5 - b$"
   ]
  },
  {
   "cell_type": "code",
   "execution_count": 60,
   "id": "36d8b328-c45a-429b-914a-7a9e7ff67968",
   "metadata": {},
   "outputs": [],
   "source": [
    "def biased_coin_flip_sample(rng, num_flips, bias=0.):\n",
    "    coin_flip_results = rng.choice([\"T\", \"H\"], size=num_flips, p=[0.5 - bias, 0.5 + bias])\n",
    "    return coin_flip_results"
   ]
  },
  {
   "cell_type": "markdown",
   "id": "40300c31-0467-439e-852b-a6a778aefb8f",
   "metadata": {},
   "source": [
    "An example with bias $=0.1$:"
   ]
  },
  {
   "cell_type": "code",
   "execution_count": 61,
   "id": "e7e04d78-f86e-4a42-9c68-29b80329f349",
   "metadata": {},
   "outputs": [
    {
     "data": {
      "image/png": "[encoded data removed]",
      "text/plain": [
       "<Figure size 576x432 with 1 Axes>"
      ]
     },
     "metadata": {
      "needs_background": "light"
     },
     "output_type": "display_data"
    }
   ],
   "source": [
    "N = 1000\n",
    "n_samples = 400\n",
    "samples = [    \n",
    "    100 * frac_heads(biased_coin_flip_sample(rng, N, bias=0.1)) \n",
    "    for i in range(n_samples)\n",
    "]\n",
    "\n",
    "plt.hist(samples, density=True)\n",
    "plt.xlabel(\"% heads\");"
   ]
  },
  {
   "cell_type": "markdown",
   "id": "d29858ec-033e-4d6b-a728-87e0d2714acf",
   "metadata": {},
   "source": [
    "We give the coin to Professor Coinsworthy to examine, without telling him whether it's a fair coin. He conducts an experiment to test the null hypothesis that the coin is fair. He takes one sample of $N=100$ flips."
   ]
  },
  {
   "cell_type": "code",
   "execution_count": 62,
   "id": "364756c2-6ada-4d89-81e1-31b26a1b96df",
   "metadata": {},
   "outputs": [
    {
     "data": {
      "text/plain": [
       "Ttest_1sampResult(statistic=1.6127570249962868, pvalue=0.10998066941759069)"
      ]
     },
     "execution_count": 62,
     "metadata": {},
     "output_type": "execute_result"
    }
   ],
   "source": [
    "N = 100\n",
    "obs = biased_coin_flip_sample(rng, N, bias=0.1)\n",
    "scipy.stats.ttest_1samp(coin_flips_to_ints(obs), 0.5)"
   ]
  },
  {
   "cell_type": "markdown",
   "id": "d7aa6505-5a09-49db-bf0f-5456f6cd1220",
   "metadata": {},
   "source": [
    "<span style=\"color:purple\">Does Professor Coinsworthy reject the null hypothesis? Raise your hand if so.</span>"
   ]
  },
  {
   "cell_type": "markdown",
   "id": "a329679c-2cc4-4408-967f-66ed5b2512e6",
   "metadata": {},
   "source": [
    "\n",
    "Let's make this harder for the professor and give him two coins: \n",
    "* Coin 1 has a 1% bias\n",
    "* Coin 2 is fair. \n",
    "\n",
    "Can the professor find a statistically significant difference based on 100 flips of each coin? \n",
    "\n",
    "We'll use the $t$-test comparison of two independent datasets: `scipy.stats.ttest_ind()`.\n",
    "\n",
    "Null hypothesis: both coins have the same probability of landing on heads."
   ]
  },
  {
   "cell_type": "code",
   "execution_count": 63,
   "id": "df6a3154-0c2f-4ba9-afb6-ab95d1f5360f",
   "metadata": {},
   "outputs": [
    {
     "data": {
      "text/plain": [
       "Ttest_indResult(statistic=-1.2721498683678332, pvalue=0.20481189960407287)"
      ]
     },
     "execution_count": 63,
     "metadata": {},
     "output_type": "execute_result"
    }
   ],
   "source": [
    "N = 100\n",
    "\n",
    "obs1 = biased_coin_flip_sample(rng, N, bias=0.01)\n",
    "obs2 = biased_coin_flip_sample(rng, N, bias=0.)\n",
    "scipy.stats.ttest_ind(\n",
    "    coin_flips_to_ints(obs1), \n",
    "    coin_flips_to_ints(obs2)\n",
    ")"
   ]
  },
  {
   "cell_type": "markdown",
   "id": "e0cbd35e-e725-42a2-9fa5-9e14779bee7b",
   "metadata": {},
   "source": [
    "<span style=\"color:purple\">Does Professor Coinsworthy reject the null hypothesis? Raise your hand if so.<br>\n",
    "If not, is this a Type I Error (false positive) or a Type II Error (false negative)?</span>"
   ]
  },
  {
   "cell_type": "markdown",
   "id": "9a6b910a-7405-495a-956a-84d43d78f6b3",
   "metadata": {},
   "source": [
    "Suppose Professor Coinsworthy had instead used $N=20000$. <span style=\"color:purple\">(Try it!) Raise your hand if he rejects the null hypothesis.</span>"
   ]
  },
  {
   "cell_type": "markdown",
   "id": "38a508ca-70da-463a-8572-8153478aa996",
   "metadata": {},
   "source": [
    "## Discussion of $p$-hacking\n",
    "\n",
    "We like to think of science as an objective enterprise, free from human bias. \n",
    "\n",
    "However, designing experiments and analyzing data always requires some decisions by the scientist. Unfortunately, it is far too common that these decisions are adjusted after the fact to obtain a publishable result with $p<0.05$. \n",
    "\n",
    "Thus, the scientific literature contains many **false positives**, results claiming a significant effect that other labs will fail to reproduce. \n",
    "\n",
    "Currently, there is debate about the use of $p<0.05$ as a common standard for publication."
   ]
  },
  {
   "cell_type": "markdown",
   "id": "43d8752c-bc1e-475f-8e15-e6594b74288e",
   "metadata": {
    "tags": []
   },
   "source": [
    "## Effect size"
   ]
  },
  {
   "cell_type": "markdown",
   "id": "17d353c4-989d-491b-9ff5-37ad6713b15f",
   "metadata": {},
   "source": [
    "There are times when we measure a large effect, but with high p-value (low confidence). \n",
    "\n",
    "There are other times when we have low p-value (high confidence in rejecting the null hypothesis), yet the **effect size** is small.\n",
    "\n",
    "That is to say, statistical significance does not equate to importance. \n",
    "\n",
    "For example, a study on aspirin found that it reduces heart attacks with very high statistical significance: $p < 0.00001$. Yet the effect size was very small: the mean reduction in heart attack chances was only 0.77%. ([Sullivan and Feinn, \"Using effect size—or why the $P$ value is not enough\". *J. Grad. Med. Educ.*, 2012](https://www.ncbi.nlm.nih.gov/pmc/articles/PMC3444174/)). \n"
   ]
  },
  {
   "cell_type": "markdown",
   "id": "453971e0-9df0-41fc-8808-081c2ad10c48",
   "metadata": {},
   "source": [
    "Example: Professor Coinsworthy spends two years and a lot of grant money to obtain a large $N=$ 10,000,000 sample of flips of the U.S. quarter. Suppose he gets 5,003,203 heads and 4,996,793 tails."
   ]
  },
  {
   "cell_type": "code",
   "execution_count": 64,
   "id": "a947f82e-7a67-4131-a4e8-2bd0be892084",
   "metadata": {},
   "outputs": [
    {
     "data": {
      "text/plain": [
       "Ttest_1sampResult(statistic=2.0282852070296538, pvalue=0.04253117432088234)"
      ]
     },
     "execution_count": 64,
     "metadata": {},
     "output_type": "execute_result"
    }
   ],
   "source": [
    "n_heads = 5003207\n",
    "n_tails = 4996793\n",
    "artificial_data = np.array([1] * n_heads + [0] * n_tails)\n",
    "scipy.stats.ttest_1samp(artificial_data, 0.5)"
   ]
  },
  {
   "cell_type": "markdown",
   "id": "77bfc137-ce68-40f5-96e1-76af913ebeef",
   "metadata": {},
   "source": [
    "It's a statistically significant result! \n",
    "\n",
    "Professor Coinsworthy thinks: \"The quarter is biased! This has huge implications for society... think of all the sports games where a coin-flip decides who gets the ball first! I will call my senator and a reporter from *Scientific American* to tell them about my discovery!\""
   ]
  },
  {
   "cell_type": "markdown",
   "id": "71b41bd8-24d0-48f3-a07a-8776c1b9d4ca",
   "metadata": {},
   "source": [
    "But what is the **effect size**? A standard measure is to take the difference between the measured mean and $\\mu_0$ (here, $0.5$), then divide by the sample standard deviation.\n",
    "\n",
    "$$ \\frac{\\bar x - \\mu_0}{s} $$ \n",
    "\n",
    "Values $\\lesssim 0.2$ are considered a \"small\" effect."
   ]
  },
  {
   "cell_type": "code",
   "execution_count": 65,
   "id": "5ef6ca9d-3ea3-4b98-8a4b-6bb1d1d01940",
   "metadata": {},
   "outputs": [
    {
     "data": {
      "text/plain": [
       "0.0006414001319339945"
      ]
     },
     "execution_count": 65,
     "metadata": {},
     "output_type": "execute_result"
    }
   ],
   "source": [
    "(artificial_data.mean() - 0.5) / artificial_data.std()"
   ]
  },
  {
   "cell_type": "markdown",
   "id": "03c08bfb-efb6-4daf-bfc4-99a0a481ebc8",
   "metadata": {},
   "source": [
    "That's a *very* small effect! The quarter might be a tiny bit biased, but this has no consequences for realistic usages of the quarter. "
   ]
  },
  {
   "cell_type": "markdown",
   "id": "068f23cb-00d6-496e-b92f-c7ecdd2e67b2",
   "metadata": {},
   "source": [
    "## Regression"
   ]
  },
  {
   "cell_type": "markdown",
   "id": "a71e94f7-eedd-42fa-8849-ddb972c8c0cf",
   "metadata": {},
   "source": [
    "Let's grab a dataset about penguins from the internet (data credit: Dr. Kristen Gorman via Allison Horst via [Seaborn](https://github.com/mwaskom/seaborn-data)).\n",
    "\n",
    "We will use the data analysis package \"Pandas\" to read the data. "
   ]
  },
  {
   "cell_type": "code",
   "execution_count": 153,
   "id": "b3ebd319-0d1a-4273-aec8-dac7d0c06908",
   "metadata": {},
   "outputs": [],
   "source": [
    "import pandas \n",
    "data_url = \"https://raw.githubusercontent.com/mwaskom/seaborn-data/master/penguins.csv\"\n",
    "data = pandas.read_csv(data_url).dropna()"
   ]
  },
  {
   "cell_type": "code",
   "execution_count": 154,
   "id": "51fe7d7c-7caa-4061-9850-07ac19e1320f",
   "metadata": {},
   "outputs": [
    {
     "data": {
      "text/html": [
       "<div>\n",
       "<style scoped>\n",
       "    .dataframe tbody tr th:only-of-type {\n",
       "        vertical-align: middle;\n",
       "    }\n",
       "\n",
       "    .dataframe tbody tr th {\n",
       "        vertical-align: top;\n",
       "    }\n",
       "\n",
       "    .dataframe thead th {\n",
       "        text-align: right;\n",
       "    }\n",
       "</style>\n",
       "<table border=\"1\" class=\"dataframe\">\n",
       "  <thead>\n",
       "    <tr style=\"text-align: right;\">\n",
       "      <th></th>\n",
       "      <th>species</th>\n",
       "      <th>island</th>\n",
       "      <th>bill_length_mm</th>\n",
       "      <th>bill_depth_mm</th>\n",
       "      <th>flipper_length_mm</th>\n",
       "      <th>body_mass_g</th>\n",
       "      <th>sex</th>\n",
       "    </tr>\n",
       "  </thead>\n",
       "  <tbody>\n",
       "    <tr>\n",
       "      <th>0</th>\n",
       "      <td>Adelie</td>\n",
       "      <td>Torgersen</td>\n",
       "      <td>39.1</td>\n",
       "      <td>18.7</td>\n",
       "      <td>181.0</td>\n",
       "      <td>3750.0</td>\n",
       "      <td>MALE</td>\n",
       "    </tr>\n",
       "    <tr>\n",
       "      <th>1</th>\n",
       "      <td>Adelie</td>\n",
       "      <td>Torgersen</td>\n",
       "      <td>39.5</td>\n",
       "      <td>17.4</td>\n",
       "      <td>186.0</td>\n",
       "      <td>3800.0</td>\n",
       "      <td>FEMALE</td>\n",
       "    </tr>\n",
       "    <tr>\n",
       "      <th>2</th>\n",
       "      <td>Adelie</td>\n",
       "      <td>Torgersen</td>\n",
       "      <td>40.3</td>\n",
       "      <td>18.0</td>\n",
       "      <td>195.0</td>\n",
       "      <td>3250.0</td>\n",
       "      <td>FEMALE</td>\n",
       "    </tr>\n",
       "    <tr>\n",
       "      <th>4</th>\n",
       "      <td>Adelie</td>\n",
       "      <td>Torgersen</td>\n",
       "      <td>36.7</td>\n",
       "      <td>19.3</td>\n",
       "      <td>193.0</td>\n",
       "      <td>3450.0</td>\n",
       "      <td>FEMALE</td>\n",
       "    </tr>\n",
       "    <tr>\n",
       "      <th>5</th>\n",
       "      <td>Adelie</td>\n",
       "      <td>Torgersen</td>\n",
       "      <td>39.3</td>\n",
       "      <td>20.6</td>\n",
       "      <td>190.0</td>\n",
       "      <td>3650.0</td>\n",
       "      <td>MALE</td>\n",
       "    </tr>\n",
       "    <tr>\n",
       "      <th>...</th>\n",
       "      <td>...</td>\n",
       "      <td>...</td>\n",
       "      <td>...</td>\n",
       "      <td>...</td>\n",
       "      <td>...</td>\n",
       "      <td>...</td>\n",
       "      <td>...</td>\n",
       "    </tr>\n",
       "    <tr>\n",
       "      <th>338</th>\n",
       "      <td>Gentoo</td>\n",
       "      <td>Biscoe</td>\n",
       "      <td>47.2</td>\n",
       "      <td>13.7</td>\n",
       "      <td>214.0</td>\n",
       "      <td>4925.0</td>\n",
       "      <td>FEMALE</td>\n",
       "    </tr>\n",
       "    <tr>\n",
       "      <th>340</th>\n",
       "      <td>Gentoo</td>\n",
       "      <td>Biscoe</td>\n",
       "      <td>46.8</td>\n",
       "      <td>14.3</td>\n",
       "      <td>215.0</td>\n",
       "      <td>4850.0</td>\n",
       "      <td>FEMALE</td>\n",
       "    </tr>\n",
       "    <tr>\n",
       "      <th>341</th>\n",
       "      <td>Gentoo</td>\n",
       "      <td>Biscoe</td>\n",
       "      <td>50.4</td>\n",
       "      <td>15.7</td>\n",
       "      <td>222.0</td>\n",
       "      <td>5750.0</td>\n",
       "      <td>MALE</td>\n",
       "    </tr>\n",
       "    <tr>\n",
       "      <th>342</th>\n",
       "      <td>Gentoo</td>\n",
       "      <td>Biscoe</td>\n",
       "      <td>45.2</td>\n",
       "      <td>14.8</td>\n",
       "      <td>212.0</td>\n",
       "      <td>5200.0</td>\n",
       "      <td>FEMALE</td>\n",
       "    </tr>\n",
       "    <tr>\n",
       "      <th>343</th>\n",
       "      <td>Gentoo</td>\n",
       "      <td>Biscoe</td>\n",
       "      <td>49.9</td>\n",
       "      <td>16.1</td>\n",
       "      <td>213.0</td>\n",
       "      <td>5400.0</td>\n",
       "      <td>MALE</td>\n",
       "    </tr>\n",
       "  </tbody>\n",
       "</table>\n",
       "<p>333 rows × 7 columns</p>\n",
       "</div>"
      ],
      "text/plain": [
       "    species     island  bill_length_mm  bill_depth_mm  flipper_length_mm  \\\n",
       "0    Adelie  Torgersen            39.1           18.7              181.0   \n",
       "1    Adelie  Torgersen            39.5           17.4              186.0   \n",
       "2    Adelie  Torgersen            40.3           18.0              195.0   \n",
       "4    Adelie  Torgersen            36.7           19.3              193.0   \n",
       "5    Adelie  Torgersen            39.3           20.6              190.0   \n",
       "..      ...        ...             ...            ...                ...   \n",
       "338  Gentoo     Biscoe            47.2           13.7              214.0   \n",
       "340  Gentoo     Biscoe            46.8           14.3              215.0   \n",
       "341  Gentoo     Biscoe            50.4           15.7              222.0   \n",
       "342  Gentoo     Biscoe            45.2           14.8              212.0   \n",
       "343  Gentoo     Biscoe            49.9           16.1              213.0   \n",
       "\n",
       "     body_mass_g     sex  \n",
       "0         3750.0    MALE  \n",
       "1         3800.0  FEMALE  \n",
       "2         3250.0  FEMALE  \n",
       "4         3450.0  FEMALE  \n",
       "5         3650.0    MALE  \n",
       "..           ...     ...  \n",
       "338       4925.0  FEMALE  \n",
       "340       4850.0  FEMALE  \n",
       "341       5750.0    MALE  \n",
       "342       5200.0  FEMALE  \n",
       "343       5400.0    MALE  \n",
       "\n",
       "[333 rows x 7 columns]"
      ]
     },
     "execution_count": 154,
     "metadata": {},
     "output_type": "execute_result"
    }
   ],
   "source": [
    "data"
   ]
  },
  {
   "cell_type": "markdown",
   "id": "1120a17a-0eb7-4633-9422-f6161f46fba7",
   "metadata": {},
   "source": [
    "Let's pick two columns and plot them together in a **scatter plot**."
   ]
  },
  {
   "cell_type": "code",
   "execution_count": 155,
   "id": "d29e648c-f3a1-4cfa-a83b-8c26acdb0cf8",
   "metadata": {},
   "outputs": [
    {
     "data": {
      "image/png": "[encoded data removed]",
      "text/plain": [
       "<Figure size 576x432 with 1 Axes>"
      ]
     },
     "metadata": {
      "needs_background": "light"
     },
     "output_type": "display_data"
    }
   ],
   "source": [
    "x_col = \"flipper_length_mm\"\n",
    "y_col = \"bill_length_mm\"\n",
    "\n",
    "plt.scatter(data[x_col], data[y_col])\n",
    "plt.xlabel(x_col)\n",
    "plt.ylabel(y_col);"
   ]
  },
  {
   "cell_type": "markdown",
   "id": "e0c267f7-06df-42f1-8b5e-cb28d88dcd3f",
   "metadata": {},
   "source": [
    "Would you say the two variables are **correlated**? (Is a change in one variable a good predictor of change in the other variable?)\n",
    "\n",
    "<span style=\"color:purple\"> Try replacing the values of `xcol` and `ycol` with a different choice of two column titles from among `[\"bill_length_mm\", \"bill_depth_mm\", \"flipper_length_mm\", \"body_mass_g\"]`. </span>"
   ]
  },
  {
   "cell_type": "markdown",
   "id": "4eb09a94-03b3-4a5f-ae52-47960454d37e",
   "metadata": {},
   "source": [
    "We can fit a line to the data using a **least-squares linear regression** with `scipy.stats.linregress()`."
   ]
  },
  {
   "cell_type": "code",
   "execution_count": 156,
   "id": "b97bf284-4ce1-4654-b291-16168d8b761a",
   "metadata": {},
   "outputs": [
    {
     "data": {
      "text/plain": [
       "LinregressResult(slope=0.2548247184821524, intercept=-7.218557988776581, rvalue=0.6530956386670858, pvalue=7.211340708097759e-42, stderr=0.016240696205560894, intercept_stderr=3.2717475483081766)"
      ]
     },
     "execution_count": 156,
     "metadata": {},
     "output_type": "execute_result"
    }
   ],
   "source": [
    "fit = scipy.stats.linregress(data[x_col], data[y_col])\n",
    "fit"
   ]
  },
  {
   "cell_type": "markdown",
   "id": "3d72c0ac-dd50-4670-8be8-b5f61d8c8535",
   "metadata": {},
   "source": [
    "Let's plot the fit on top of the data."
   ]
  },
  {
   "cell_type": "code",
   "execution_count": 157,
   "id": "9e86eac5-ba1b-4f73-9da6-650e011dd117",
   "metadata": {},
   "outputs": [
    {
     "data": {
      "image/png": "[encoded data removed]",
      "text/plain": [
       "<Figure size 576x432 with 1 Axes>"
      ]
     },
     "metadata": {
      "needs_background": "light"
     },
     "output_type": "display_data"
    }
   ],
   "source": [
    "x = np.linspace(np.min(data[x_col]), np.max(data[x_col]), 1000)\n",
    "y = fit.slope * x + fit.intercept\n",
    "\n",
    "plt.plot(x, y, color=\"red\")\n",
    "plt.scatter(data[x_col], data[y_col])\n",
    "plt.xlabel(x_col)\n",
    "plt.ylabel(y_col);"
   ]
  },
  {
   "cell_type": "markdown",
   "id": "18c5d4f6-2c81-468a-a823-edfea35510ac",
   "metadata": {},
   "source": [
    "The fit also gives us an \"$r$ value\":"
   ]
  },
  {
   "cell_type": "code",
   "execution_count": null,
   "id": "32718c8a-b383-4d41-9f57-91204994fa0d",
   "metadata": {},
   "outputs": [
    {
     "data": {
      "text/plain": [
       "0.6530956386670858"
      ]
     },
     "execution_count": 130,
     "metadata": {},
     "output_type": "execute_result"
    }
   ],
   "source": [
    "fit.rvalue"
   ]
  },
  {
   "cell_type": "markdown",
   "id": "310216ea-94b7-4fe2-a6b6-2798c9f139b0",
   "metadata": {},
   "source": [
    "What does this mean? First we need to understand **covariance**."
   ]
  },
  {
   "cell_type": "markdown",
   "id": "5b34d760-4162-4861-81b0-1414248cd031",
   "metadata": {},
   "source": [
    "**Covariance** is a measure of how much of the variation in one variable happens \"with\" variation in another variable. \n",
    "\n",
    "$$\\mathrm{cov}(X, Y) :=  \\frac{1}{N-1} \\sum_{i=1}^N (X_i - \\bar X)(Y_i - \\bar Y) $$\n",
    "\n",
    "where the line above indicates the mean value of the entire quantity. For our chosen data columns, the covariance is:"
   ]
  },
  {
   "cell_type": "code",
   "execution_count": 159,
   "id": "e0af8c4c-24ea-464b-98d6-9190aba8ef68",
   "metadata": {},
   "outputs": [
    {
     "name": "stdout",
     "output_type": "stream",
     "text": [
      "50.05819494192987\n"
     ]
    }
   ],
   "source": [
    "mu_x = data[x_col].mean()\n",
    "mu_y = data[y_col].mean()\n",
    "N = len(data)\n",
    "\n",
    "cov_XY = sum((data[x_col] - mu_x) * (data[y_col] - mu_y)) / (N - 1)\n",
    "print(cov_XY)"
   ]
  },
  {
   "cell_type": "markdown",
   "id": "00b92284-e0d4-406a-9839-3c72fabc8ebe",
   "metadata": {},
   "source": [
    "Notice that the covariance of a variable with itself is just its **variance**, the square of its standard deviation. \n",
    "\n",
    "$$ \\mathrm{cov}(X, X) = \\frac{1}{N-1} \\sum_{i=1}^N (X_i - \\bar X)^2 = s^2_X $$ "
   ]
  },
  {
   "cell_type": "code",
   "execution_count": 160,
   "id": "4f727858-38ae-49b6-8e1f-26a5a44c2add",
   "metadata": {},
   "outputs": [
    {
     "data": {
      "text/plain": [
       "(196.44167661637542, 29.906333441875603)"
      ]
     },
     "execution_count": 160,
     "metadata": {},
     "output_type": "execute_result"
    }
   ],
   "source": [
    "(data[x_col].var(), data[y_col].var())"
   ]
  },
  {
   "cell_type": "markdown",
   "id": "f0395796-d90c-4bfa-b979-708530278ca3",
   "metadata": {},
   "source": [
    "We can use `np.cov()` to get all these numbers in a **covariance marix**. "
   ]
  },
  {
   "cell_type": "code",
   "execution_count": 161,
   "id": "b5accbb1-1c91-43b7-a0b2-f8b28d8a109b",
   "metadata": {},
   "outputs": [
    {
     "name": "stdout",
     "output_type": "stream",
     "text": [
      "[[196.44167662  50.05819494]\n",
      " [ 50.05819494  29.90633344]]\n"
     ]
    }
   ],
   "source": [
    "cov_mat = np.cov(data[x_col], data[y_col])\n",
    "print(cov_mat)"
   ]
  },
  {
   "cell_type": "markdown",
   "id": "45036bb6-6935-4718-a558-4421585f686c",
   "metadata": {},
   "source": [
    "We can \"standardize\" the covariance values by defining the **Pearson correlation coefficient**\n",
    "\n",
    "$$ r_{X,Y} := \\frac{\\mathrm{cov}(X, Y)}{s_X s_Y} $$ "
   ]
  },
  {
   "cell_type": "code",
   "execution_count": 162,
   "id": "d1dc49e2-df18-4049-b779-fe4ba4a11089",
   "metadata": {},
   "outputs": [
    {
     "name": "stdout",
     "output_type": "stream",
     "text": [
      "0.6530956386670858\n"
     ]
    }
   ],
   "source": [
    "s_X = data[x_col].std()\n",
    "s_Y = data[y_col].std()\n",
    "\n",
    "r_XY = cov_XY / (s_X * s_Y)\n",
    "print(r_XY)"
   ]
  },
  {
   "cell_type": "markdown",
   "id": "9d69cc0d-30ad-460b-b7c8-49d53daa8b5e",
   "metadata": {},
   "source": [
    "The Pearson correlation coefficient is what the linear regression calculates as its \"$r$ value\":"
   ]
  },
  {
   "cell_type": "code",
   "execution_count": 163,
   "id": "23289d90-5754-4944-bd37-893b43099138",
   "metadata": {},
   "outputs": [
    {
     "data": {
      "text/plain": [
       "0.6530956386670858"
      ]
     },
     "execution_count": 163,
     "metadata": {},
     "output_type": "execute_result"
    }
   ],
   "source": [
    "fit.rvalue"
   ]
  },
  {
   "cell_type": "markdown",
   "id": "5a663efa-e03f-4f25-b7e2-0ec933bb68c4",
   "metadata": {},
   "source": [
    "Notice that $$ r_{X, X} = \\frac{\\mathrm{cov}(X, X)}{s_X^2} = \\frac{s_X^2}{s_X^2} = 1$$ \n",
    "\n",
    "and likewise $r_{Y, Y} = 1$. A value of $r=1$ implies \"perfect correlation\"; of course, a variable must be perfectly correlated with itself.\n",
    "\n",
    "In general, $r_{X, Y} = r_{Y, X}$ will always lie between -1 and 1. We can get a matrix of correlation coefficients using `np.corrcoef()`."
   ]
  },
  {
   "cell_type": "code",
   "execution_count": 136,
   "id": "ccfb64cf-1e8c-4b24-b45d-d5dfa0fc7753",
   "metadata": {},
   "outputs": [
    {
     "data": {
      "text/plain": [
       "array([[1.        , 0.65309564],\n",
       "       [0.65309564, 1.        ]])"
      ]
     },
     "execution_count": 136,
     "metadata": {},
     "output_type": "execute_result"
    }
   ],
   "source": [
    "np.corrcoef(data[x_col], data[y_col])"
   ]
  },
  {
   "cell_type": "markdown",
   "id": "6060f0d3-688b-414b-bf76-d26ba2e73ca9",
   "metadata": {},
   "source": [
    "Here, $r_{X,Y}$ is positive, indicating that a penguin with larger flipper length is likely to have larger bill length as well."
   ]
  },
  {
   "cell_type": "markdown",
   "id": "1b8b6eee-93ce-4ec2-9eff-14a654c770f5",
   "metadata": {},
   "source": [
    "On the other hand, if one variable most often *decreases* when the other increases, we get a negative correlation coefficient. For example:"
   ]
  },
  {
   "cell_type": "code",
   "execution_count": 193,
   "id": "21464217-a0e3-48fa-a36f-3789d785bd5a",
   "metadata": {},
   "outputs": [
    {
     "data": {
      "text/plain": [
       "array([[ 1.       , -0.5777917],\n",
       "       [-0.5777917,  1.       ]])"
      ]
     },
     "execution_count": 193,
     "metadata": {},
     "output_type": "execute_result"
    },
    {
     "data": {
      "image/png": "[encoded data removed]",
      "text/plain": [
       "<Figure size 576x432 with 1 Axes>"
      ]
     },
     "metadata": {
      "needs_background": "light"
     },
     "output_type": "display_data"
    }
   ],
   "source": [
    "x_col = \"flipper_length_mm\"\n",
    "y_col = \"bill_depth_mm\"\n",
    "plt.scatter(data[x_col], data[y_col])\n",
    "plt.xlabel(x_col)\n",
    "plt.ylabel(y_col)\n",
    "\n",
    "fit = scipy.stats.linregress(data[x_col], data[y_col])\n",
    "x = np.linspace(170, 230, 1000)\n",
    "y = fit.slope * x + fit.intercept\n",
    "plt.plot(x, y, color=\"red\")\n",
    "\n",
    "np.corrcoef(data[x_col], data[y_col])\n"
   ]
  },
  {
   "cell_type": "markdown",
   "id": "c3baff08-c26b-46bc-91cd-4ffe34768d6f",
   "metadata": {},
   "source": [
    "Since $r$ is always between $-1$ and $1$, $r^2$ must always lie between $0$ and $1$. \n",
    "* $r^2=1$ implies a perfect linear relationship: a change in one variable perfectly predicts a proportional change in the other.\n",
    "* $r^2\\approx 0$ implies a lack of linear relationship: the variables may be truly uncorrelated, or they may have a more complicated relationship than a linear one.\n",
    "\n",
    "As an artificial example: take $y = (x-205)^2$:"
   ]
  },
  {
   "cell_type": "code",
   "execution_count": 167,
   "id": "fe452d9e-20c1-4b21-9d35-186ddb27ab37",
   "metadata": {},
   "outputs": [
    {
     "name": "stdout",
     "output_type": "stream",
     "text": [
      "r^2 = 0.049738950637142766\n"
     ]
    },
    {
     "data": {
      "image/png": "[encoded data removed]",
      "text/plain": [
       "<Figure size 576x432 with 1 Axes>"
      ]
     },
     "metadata": {
      "needs_background": "light"
     },
     "output_type": "display_data"
    }
   ],
   "source": [
    "y_data = (data[x_col]-205)**2\n",
    "plt.scatter(data[x_col], y_data)\n",
    "fit = scipy.stats.linregress(data[x_col], y_data)\n",
    "x = np.linspace(170, 230)\n",
    "y = fit.slope * x + fit.intercept\n",
    "plt.plot(x, y, color=\"red\")\n",
    "\n",
    "print(f\"r^2 = {fit.rvalue**2}\")"
   ]
  },
  {
   "cell_type": "markdown",
   "id": "995e15dc-9839-4659-8479-653f39555e70",
   "metadata": {},
   "source": [
    "Clearly the datasets are correlated... just not in a linear way."
   ]
  },
  {
   "cell_type": "markdown",
   "id": "f02542b5-4b77-41b0-a937-4e0a59b97ce4",
   "metadata": {},
   "source": [
    "`np.corrcoef` can find the matrix of correlation coefficients across any number of variables:"
   ]
  },
  {
   "cell_type": "code",
   "execution_count": 195,
   "id": "837ffef8-01c3-46e8-a03e-71d44e69e45a",
   "metadata": {},
   "outputs": [
    {
     "name": "stdout",
     "output_type": "stream",
     "text": [
      "[[ 1.         -0.22862564  0.65309564  0.58945111]\n",
      " [-0.22862564  1.         -0.5777917  -0.47201566]\n",
      " [ 0.65309564 -0.5777917   1.          0.8729789 ]\n",
      " [ 0.58945111 -0.47201566  0.8729789   1.        ]]\n"
     ]
    }
   ],
   "source": [
    "corr_coef_mat = np.corrcoef(data[[\"bill_length_mm\", \"bill_depth_mm\", \"flipper_length_mm\", \"body_mass_g\"]].T)\n",
    "print(corr_coef_mat)"
   ]
  },
  {
   "cell_type": "markdown",
   "id": "2fb041fa-4b97-491e-b9a4-143cdb7ed03e",
   "metadata": {},
   "source": [
    "These matrices are often visualized using a **heat map** (also called a **density plot**):"
   ]
  },
  {
   "cell_type": "code",
   "execution_count": 196,
   "id": "dfbefc69-d51e-42cc-89eb-27bd2030c410",
   "metadata": {},
   "outputs": [
    {
     "data": {
      "image/png": "[encoded data removed]",
      "text/plain": [
       "<Figure size 576x432 with 2 Axes>"
      ]
     },
     "metadata": {
      "needs_background": "light"
     },
     "output_type": "display_data"
    }
   ],
   "source": [
    "plt.imshow(corr_coef_mat)  # heat map\n",
    "plt.colorbar(label=r\"$r$\")  # color bar\n",
    "plt.yticks(range(4))\n",
    "\n",
    "# labels for heat map\n",
    "for i in range(4):\n",
    "    for j in range(4):\n",
    "        r = corr_coef_mat[i,j]\n",
    "        color = \"white\" if r < 0 else \"black\"\n",
    "        plt.text(i, j, f\"{r:.2f}\", ha=\"center\", color=color)"
   ]
  }
 ],
 "metadata": {
  "kernelspec": {
   "display_name": "py39b",
   "language": "python",
   "name": "py39b"
  },
  "language_info": {
   "codemirror_mode": {
    "name": "ipython",
    "version": 3
   },
   "file_extension": ".py",
   "mimetype": "text/x-python",
   "name": "python",
   "nbconvert_exporter": "python",
   "pygments_lexer": "ipython3",
   "version": "3.9.10"
  }
 },
 "nbformat": 4,
 "nbformat_minor": 5
}
