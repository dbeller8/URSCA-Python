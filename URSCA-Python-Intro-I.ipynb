{
 "cells": [
  {
   "cell_type": "markdown",
   "id": "ac4e0b20",
   "metadata": {
    "extensions": {
     "jupyter_dashboards": {
      "activeView": "grid_default",
      "version": 1,
      "views": {
       "grid_default": {
        "col": 0,
        "height": 2,
        "row": 0,
        "width": 12
       }
      }
     }
    },
    "livereveal": {
     "autolaunch": true
    },
    "rise": {
     "theme": "white"
    },
    "slideshow": {
     "slide_type": "slide"
    }
   },
   "source": [
    "<h1 class=\"r-stretch\" style=\"text-align:center\"> Introduction to Python, Part I</h1>\n",
    "\n",
    "<center>\n",
    "    <br>\n",
    "     <table style=\"background-color: white;\" align=\"center\">\n",
    "        <tr>\n",
    "            <td width=350>\n",
    "                <center>\n",
    "    <img src=\"https://www.python.org/static/community_logos/python-logo.png\" width=308 align=\"center\">\n",
    "                </center>\n",
    "            </td>\n",
    "            <td width=350>\n",
    "                <center>\n",
    "    <img src=\"https://brand.jhu.edu/assets/uploads/sites/5/2014/06/university.logo_.small_.horizontal.blue_.jpg\" width=250 align=\"center\">\n",
    "                </center>\n",
    "            </td>\n",
    "            </tr>\n",
    "    </table>\n",
    "        <br>\n",
    "    Johns Hopkins University  <br>\n",
    "Krieger School of Arts and Sciences  <br>\n",
    "Office of Undergraduate Research, Scholarly and Creative Activity (URSCA) <br>\n",
    "June 2023 <br>\n",
    "    <br>\n",
    "    Prof. Daniel Beller <br>\n",
    "    JHU Department of Physics &amp; Astronomy\n",
    "    </center>"
   ]
  },
  {
   "cell_type": "markdown",
   "id": "9e83fa44",
   "metadata": {
    "extensions": {
     "jupyter_dashboards": {
      "activeView": "grid_default",
      "version": 1,
      "views": {
       "grid_default": {
        "col": 0,
        "height": 2,
        "row": 2,
        "width": 12
       }
      }
     }
    },
    "slideshow": {
     "slide_type": "slide"
    },
    "tags": []
   },
   "source": [
    "<div style=\"float:right\">\n",
    "    <img src=\"https://www.python.org/static/community_logos/python-logo.png\" width=250>\n",
    "</div>\n",
    "\n",
    "## What is Python?  \n",
    "\n",
    "<br>\n",
    "\n",
    "<table width=100%>\n",
    "    <tr>\n",
    "        <td>\n",
    "Python is a <span class=\"new_term\">computer programming language</span>: <br><span class=\"fragment\"> <ul><li> rules for turning a text document written by a human (the <span class=\"new_term\"> program file</span>) into instructions that a computer can run (the <span class=\"new_term\">executable</span>).</li></ul></span>   <br> <br> \n",
    "    <span class=\"fragment\">Compared to other programming languages, Python was designed to be more similar to English and easier to read.</span>\n",
    "        </td>\n",
    "        <td width=40%>\n",
    "            <table>\n",
    "                <tr>\n",
    "                    <td>\n",
    "            <img src=\"https://victoria.mediaplanet.com/app/uploads/sites/143/2020/03/Female-data-scientist-at-work-888x500.jpg\" width=250> \n",
    "                    </td>\n",
    "                    <td>→\n",
    "                    </td>\n",
    "                    <td>\n",
    "            \n",
    "<img src=\"https://cdn3.iconfinder.com/data/icons/data-sharing-flat-colorful/614/4963_-_Computer_Binary_Code-512.png\" width=250>\n",
    "                    </td>\n",
    "            </table>\n",
    "                </td>\n",
    "    </tr>\n",
    "    </table>\n",
    "\n"
   ]
  },
  {
   "cell_type": "markdown",
   "id": "e290ad21",
   "metadata": {
    "extensions": {
     "jupyter_dashboards": {
      "version": 1,
      "views": {
       "grid_default": {
        "col": 0,
        "height": 2,
        "row": 4,
        "width": 12
       }
      }
     }
    },
    "slideshow": {
     "slide_type": "slide"
    }
   },
   "source": [
    "## Why learn Python?"
   ]
  },
  {
   "cell_type": "markdown",
   "id": "27f4d791",
   "metadata": {
    "slideshow": {
     "slide_type": "-"
    }
   },
   "source": [
    "<div height=80%>\n",
    "        <div class = \"fragment fade-in-then-semi-out\">\n",
    "        <h4> Useful in a wide range of careers </h4>\n",
    "            <p>Python has become one of the most popular programming languages for: </p>\n",
    "        <ul style=\"margin-top:0px;\">\n",
    "            <li> scientific computing </li>\n",
    "            <li> data science (\"big data\") </li>\n",
    "            <li> machine learning (artificial intelligence) </li>\n",
    "            <li> web development, finance, and many other industries </li>\n",
    "        </ul>            \n",
    "    <img src=\"https://jakevdp.github.io/PythonDataScienceHandbook/figures/PDSH-cover.png\" align=\"right\" width=20% style=\"  border: 2px solid #111;\">\n",
    "    </div>\n",
    "     <div class=\"fragment fade-in-then-semi-out\t\">\n",
    "         <h4> It's free </h4> \n",
    "    <p>...unlike some popular alternatives such as Matlab.</p>\n",
    "    </div>\n",
    "    <div class=\"fragment fade-in-then-semi-out\t\">\n",
    " <img src=\"https://automatetheboringstuff.com/images/cover_automate2_thumb.jpg\" style=\"float:right\" width=15%>      \n",
    "        <h4> Python is a great language for <em>scripting</em> </h4>       \n",
    "        <p style=\"float:left\">automating small tasks with text, math, and web data        </p>\n",
    "    </div><br>\n",
    "    <div class=\"fragment fade-in-then-semi-out\t\">\n",
    "        <h4> Huge library of free software </h4>\n",
    "        <p>from astrophysics to writing music to running <em> Minecraft </em></p>\n",
    "        <img src=\"https://pypi.org/static/images/logo-large.9f732b5f.svg\" align=\"center\">\n",
    "    </div>\n",
    "    <div class=\"fragment fade-in-then-semi-out\">\n",
    "                <h4>Gateway to other languages </h4>            \n",
    "        <table width=25% style=\"float:left\">\n",
    "                <tr>\n",
    "                    <td>\n",
    "            <img src=\"https://upload.wikimedia.org/wikipedia/commons/1/19/C_Logo.png\">\n",
    "                    </td>\n",
    "                    <td>\n",
    "            <img src=\"https://upload.wikimedia.org/wikipedia/commons/thumb/1/18/ISO_C%2B%2B_Logo.svg/306px-ISO_C%2B%2B_Logo.svg.png\">\n",
    "                    </td>        \n",
    "                    <td>\n",
    "            <img src=\"https://logoeps.com/wp-content/uploads/2013/03/java-eps-vector-logo.png\">\n",
    "                    </td>\n",
    "                </tr>\n",
    "        </table>          \n",
    "           <p> Learning Python gives you a big head start on many similar programming languages. </p><br>\n",
    "        <br><br>\n",
    "    </div>\n",
    "</div>\n",
    "<br><br><br>\n"
   ]
  },
  {
   "cell_type": "markdown",
   "id": "0dc1a7ce",
   "metadata": {
    "slideshow": {
     "slide_type": "slide"
    }
   },
   "source": [
    "<h3> Python + data: an example </h3>\n",
    "\n",
    "With just a few lines of Python, you can examine publicly available data from anywhere on the Internet. \n",
    "\n",
    "The example below uses data on exoplanets (planets in other solar systems) from the [Open Exoplanet Catalog](https://github.com/OpenExoplanetCatalogue/open_exoplanet_catalogue).\n",
    "\n",
    "It goes beyond what we'll cover in these sessions, but gives a taste of what you can do with just a few lines of Python. "
   ]
  },
  {
   "cell_type": "code",
   "execution_count": 2,
   "id": "dd2ec564",
   "metadata": {},
   "outputs": [
    {
     "data": {
      "image/png": "[encoded data removed]",
      "text/plain": [
       "<Figure size 640x480 with 1 Axes>"
      ]
     },
     "metadata": {},
     "output_type": "display_data"
    }
   ],
   "source": [
    "from xml.etree.ElementTree import parse\n",
    "from urllib.request import urlopen\n",
    "from gzip import GzipFile\n",
    "from io import BytesIO\n",
    "from matplotlib import pyplot\n",
    "\n",
    "# download data\n",
    "url = \"https://github.com/OpenExoplanetCatalogue/oec_gzip/raw/master/systems.xml.gz\"\n",
    "oec = parse(GzipFile(fileobj=BytesIO(urlopen(url).read())))\n",
    "\n",
    "# extract expolanet discovery years from data \n",
    "planets = oec.findall(\".//planet\")\n",
    "discovery_year_strings = [planet.findtext(\"discoveryyear\") for planet in planets]\n",
    "planet_discovery_years = []\n",
    "for year_string in discovery_year_strings:\n",
    "    if year_string is not None:\n",
    "        discovery_year = int(year_string)\n",
    "        if discovery_year > 1930:  # Pluto was discovered in 1930\n",
    "            planet_discovery_years.append(discovery_year)\n",
    "            \n",
    "# plot cumulative expolanet discovery numbers vs year as histogram\n",
    "pyplot.hist(planet_discovery_years, cumulative=True, bins=40)\n",
    "pyplot.xlabel(\"year\")\n",
    "pyplot.ylabel(\"number of known exoplanets\")\n",
    "pyplot.title(\"Growth in number of known exoplanets with time\");"
   ]
  },
  {
   "cell_type": "markdown",
   "id": "b8320e34",
   "metadata": {
    "slideshow": {
     "slide_type": "slide"
    }
   },
   "source": [
    "## Goals for these sessions\n",
    "\n",
    "<ul>\n",
    "    <li class=\"fragment fade-up\">\n",
    "        <span style=\"font-size:24\">Learn the fundamentals of the Python language</span></li>\n",
    "    <li class=\"fragment fade-grow\">Write and run your own mini-programs</li>\n",
    "    <li class=\"fragment\"> You'll gain the necessary foundation to teach yourself more, if you'd like \n",
    "<img class=\"fragment fade-up\" src=\"tutorial-screenshot.png\" style=\"float:right\" width=40%>\n",
    "    </ul>"
   ]
  },
  {
   "cell_type": "markdown",
   "id": "948ca2e1",
   "metadata": {
    "extensions": {
     "jupyter_dashboards": {
      "version": 1,
      "views": {
       "grid_default": {
        "col": 0,
        "height": 2,
        "row": 6,
        "width": 12
       }
      }
     }
    },
    "slideshow": {
     "slide_type": "slide"
    }
   },
   "source": [
    "## How can I use Python?"
   ]
  },
  {
   "cell_type": "markdown",
   "id": "92915897",
   "metadata": {
    "slideshow": {
     "slide_type": "fragment"
    }
   },
   "source": [
    "We need a <span class=\"new_term\">Python interpreter</span>: a special program to translate our program file into an executable. \n",
    "\n",
    "&emsp;&emsp;Usually when we say \"Python\" we mean both the **language** and the **intepreter**. "
   ]
  },
  {
   "cell_type": "markdown",
   "id": "421d2bb8",
   "metadata": {
    "slideshow": {
     "slide_type": "fragment"
    }
   },
   "source": [
    "**The traditional way:** Download the interpreter from www.python.org and install. \n",
    "\n",
    "**What we'll do today instead:** Use a web-based interpreter.\n",
    "1. In web browser, go to [colab.research.google.com/](colab.research.google.com/). <br>\n",
    "(You will have to be logged in with your Google account.)\n",
    "1. Click \"New Notebook\".\n"
   ]
  },
  {
   "cell_type": "markdown",
   "id": "e968d4b8",
   "metadata": {
    "extensions": {
     "jupyter_dashboards": {
      "activeView": "grid_default",
      "version": 1,
      "views": {
       "grid_default": {
        "col": 0,
        "height": 2,
        "row": 8,
        "width": 12
       }
      }
     }
    },
    "slideshow": {
     "slide_type": "slide"
    }
   },
   "source": [
    "## Writing your first Python program\n",
    "\n",
    "<p class=\"fragment\">In the empty code cell at the top, type this:</p>"
   ]
  },
  {
   "cell_type": "markdown",
   "id": "267c4c66",
   "metadata": {
    "collapsed": true,
    "slideshow": {
     "slide_type": "fragment"
    }
   },
   "source": [
    "```python\n",
    "print(\"Hello world\")\n",
    "```"
   ]
  },
  {
   "cell_type": "markdown",
   "id": "0b587eeb",
   "metadata": {
    "slideshow": {
     "slide_type": "fragment"
    }
   },
   "source": [
    "Then hold down `Shift` and press `Enter`. You should see:"
   ]
  },
  {
   "cell_type": "code",
   "execution_count": 1,
   "id": "0459fc47",
   "metadata": {
    "scrolled": true,
    "slideshow": {
     "slide_type": "-"
    }
   },
   "outputs": [
    {
     "name": "stdout",
     "output_type": "stream",
     "text": [
      "Hello world\n"
     ]
    }
   ],
   "source": [
    "print(\"Hello world\")"
   ]
  },
  {
   "cell_type": "markdown",
   "id": "baa6a3ce",
   "metadata": {},
   "source": [
    "That's it! You've written your first Python program! 🤗"
   ]
  },
  {
   "cell_type": "markdown",
   "id": "878955a9",
   "metadata": {
    "extensions": {
     "jupyter_dashboards": {
      "version": 1,
      "views": {
       "grid_default": {
        "col": 0,
        "height": 2,
        "row": 12,
        "width": 12
       }
      }
     }
    },
    "slideshow": {
     "slide_type": "slide"
    }
   },
   "source": [
    "## Math basics\n",
    "\n",
    "The Python interpreter can work as a calculator. \n",
    "\n",
    "Scientists who use Python rely on this extensively!"
   ]
  },
  {
   "cell_type": "markdown",
   "id": "9beb55a0",
   "metadata": {
    "slideshow": {
     "slide_type": "fragment"
    }
   },
   "source": [
    "### Integer math"
   ]
  },
  {
   "cell_type": "markdown",
   "id": "8abcf3dd",
   "metadata": {
    "slideshow": {
     "slide_type": "fragment"
    }
   },
   "source": [
    "Addition"
   ]
  },
  {
   "cell_type": "code",
   "execution_count": 3,
   "id": "0520a620",
   "metadata": {},
   "outputs": [
    {
     "data": {
      "text/plain": [
       "3"
      ]
     },
     "execution_count": 3,
     "metadata": {},
     "output_type": "execute_result"
    }
   ],
   "source": [
    "1 + 2"
   ]
  },
  {
   "cell_type": "markdown",
   "id": "0811a323",
   "metadata": {
    "slideshow": {
     "slide_type": "fragment"
    }
   },
   "source": [
    "Subtraction"
   ]
  },
  {
   "cell_type": "code",
   "execution_count": 2,
   "id": "3c2b967d",
   "metadata": {},
   "outputs": [
    {
     "data": {
      "text/plain": [
       "-6"
      ]
     },
     "execution_count": 2,
     "metadata": {},
     "output_type": "execute_result"
    }
   ],
   "source": [
    "2 - 8"
   ]
  },
  {
   "cell_type": "markdown",
   "id": "92699d86",
   "metadata": {},
   "source": [
    "<br><br><br>"
   ]
  },
  {
   "cell_type": "markdown",
   "id": "fd202550",
   "metadata": {
    "slideshow": {
     "slide_type": "subslide"
    }
   },
   "source": [
    "<h3 class=\"fragment semi-fade-out\">Integer math</h3>"
   ]
  },
  {
   "cell_type": "markdown",
   "id": "2f5bb092",
   "metadata": {
    "slideshow": {
     "slide_type": "fragment"
    }
   },
   "source": [
    "Use asterisk `*` for multiplication."
   ]
  },
  {
   "cell_type": "code",
   "execution_count": 5,
   "id": "9437d5b2",
   "metadata": {},
   "outputs": [
    {
     "data": {
      "text/plain": [
       "15"
      ]
     },
     "execution_count": 5,
     "metadata": {},
     "output_type": "execute_result"
    }
   ],
   "source": [
    "3 * 5"
   ]
  },
  {
   "cell_type": "markdown",
   "id": "9b6e214d",
   "metadata": {
    "slideshow": {
     "slide_type": "fragment"
    }
   },
   "source": [
    "Use `//` to divide one integer by another."
   ]
  },
  {
   "cell_type": "code",
   "execution_count": 6,
   "id": "43b8a912",
   "metadata": {},
   "outputs": [
    {
     "data": {
      "text/plain": [
       "8"
      ]
     },
     "execution_count": 6,
     "metadata": {},
     "output_type": "execute_result"
    }
   ],
   "source": [
    "16 // 2"
   ]
  },
  {
   "cell_type": "markdown",
   "id": "cd0b59a6",
   "metadata": {
    "slideshow": {
     "slide_type": "fragment"
    }
   },
   "source": [
    "Use `%` for remainder"
   ]
  },
  {
   "cell_type": "code",
   "execution_count": 4,
   "id": "abe28a63",
   "metadata": {},
   "outputs": [
    {
     "data": {
      "text/plain": [
       "3.5"
      ]
     },
     "execution_count": 4,
     "metadata": {},
     "output_type": "execute_result"
    }
   ],
   "source": [
    "7 / 2"
   ]
  },
  {
   "cell_type": "code",
   "execution_count": 8,
   "id": "dcf500b5",
   "metadata": {},
   "outputs": [
    {
     "data": {
      "text/plain": [
       "1"
      ]
     },
     "execution_count": 8,
     "metadata": {},
     "output_type": "execute_result"
    }
   ],
   "source": [
    "7 % 2"
   ]
  },
  {
   "cell_type": "markdown",
   "id": "48fca3f3",
   "metadata": {},
   "source": [
    " <br><br><br>"
   ]
  },
  {
   "cell_type": "markdown",
   "id": "86e85aa2",
   "metadata": {
    "slideshow": {
     "slide_type": "subslide"
    }
   },
   "source": [
    "<h3 class=\"fragment semi-fade-out\">Integer math</h3>\n",
    "\n",
    "Exponents use `**`. \n",
    "\n",
    "For example, to calculate $3^2$:"
   ]
  },
  {
   "cell_type": "code",
   "execution_count": 9,
   "id": "ce07742c",
   "metadata": {},
   "outputs": [
    {
     "data": {
      "text/plain": [
       "9"
      ]
     },
     "execution_count": 9,
     "metadata": {},
     "output_type": "execute_result"
    }
   ],
   "source": [
    "3 ** 2 "
   ]
  },
  {
   "cell_type": "markdown",
   "id": "28e7e3df",
   "metadata": {
    "slideshow": {
     "slide_type": "fragment"
    }
   },
   "source": [
    "Python math obeys order of operations: "
   ]
  },
  {
   "cell_type": "code",
   "execution_count": 10,
   "id": "44185d1e",
   "metadata": {},
   "outputs": [
    {
     "data": {
      "text/plain": [
       "16"
      ]
     },
     "execution_count": 10,
     "metadata": {},
     "output_type": "execute_result"
    }
   ],
   "source": [
    "4 + 3 * 2**2"
   ]
  },
  {
   "cell_type": "markdown",
   "id": "beac87cb",
   "metadata": {
    "slideshow": {
     "slide_type": "fragment"
    }
   },
   "source": [
    "Use parentheses `()` to change order of operations"
   ]
  },
  {
   "cell_type": "code",
   "execution_count": 11,
   "id": "5d3f3c16",
   "metadata": {},
   "outputs": [
    {
     "data": {
      "text/plain": [
       "28"
      ]
     },
     "execution_count": 11,
     "metadata": {},
     "output_type": "execute_result"
    }
   ],
   "source": [
    "(4 + 3) * 2**2 "
   ]
  },
  {
   "cell_type": "markdown",
   "id": "95de104f",
   "metadata": {},
   "source": [
    "<br><br><br>"
   ]
  },
  {
   "cell_type": "markdown",
   "id": "04e62591",
   "metadata": {
    "slideshow": {
     "slide_type": "slide"
    }
   },
   "source": [
    "## Math basics: floats\n",
    "\n",
    "A number with a decimal point, such as `12.3`, is called a <span class=\"new_term\">float</span>. \n",
    "\n",
    "Python math works mostly the same with floats as with integers. "
   ]
  },
  {
   "cell_type": "markdown",
   "id": "393d641f",
   "metadata": {
    "slideshow": {
     "slide_type": "fragment"
    }
   },
   "source": [
    "Let's divide a $76.15 dinner bill among four friends:"
   ]
  },
  {
   "cell_type": "code",
   "execution_count": 12,
   "id": "8a448c8e",
   "metadata": {},
   "outputs": [
    {
     "data": {
      "text/plain": [
       "19.0375"
      ]
     },
     "execution_count": 12,
     "metadata": {},
     "output_type": "execute_result"
    }
   ],
   "source": [
    "76.15 / 4"
   ]
  },
  {
   "cell_type": "markdown",
   "id": "ac4bc5cf",
   "metadata": {},
   "source": [
    "In real life we'd round to the nearest cent: $19.04. Python can even help us do this:"
   ]
  },
  {
   "cell_type": "code",
   "execution_count": 13,
   "id": "782cde32",
   "metadata": {},
   "outputs": [
    {
     "data": {
      "text/plain": [
       "19.04"
      ]
     },
     "execution_count": 13,
     "metadata": {},
     "output_type": "execute_result"
    }
   ],
   "source": [
    "round(76.15 / 4, 2)"
   ]
  },
  {
   "cell_type": "markdown",
   "id": "8acd4b4e",
   "metadata": {},
   "source": [
    "<br><br><br>"
   ]
  },
  {
   "cell_type": "markdown",
   "id": "b64966cb",
   "metadata": {
    "slideshow": {
     "slide_type": "subslide"
    }
   },
   "source": [
    "<h3 class=\"fragment semi-fade-out\">Math with floats</h3>\n",
    "\n",
    "<p class=\"fragment\">What's 71% of 505, out to 2 decimal places?</p>"
   ]
  },
  {
   "cell_type": "code",
   "execution_count": 14,
   "id": "2a954cb4",
   "metadata": {
    "slideshow": {
     "slide_type": "fragment"
    }
   },
   "outputs": [
    {
     "data": {
      "text/plain": [
       "358.55"
      ]
     },
     "execution_count": 14,
     "metadata": {},
     "output_type": "execute_result"
    }
   ],
   "source": [
    "round(0.71 * 505, 2)"
   ]
  },
  {
   "cell_type": "markdown",
   "id": "e8279b91",
   "metadata": {
    "slideshow": {
     "slide_type": "fragment"
    }
   },
   "source": [
    "<span class=\"your_turn\"> Try it yourself </span>\n",
    "\n",
    "Use Python to calculate an **18%** tip for your waiter if your dinner bill was **$19.04**."
   ]
  },
  {
   "cell_type": "code",
   "execution_count": 10,
   "id": "2e19a3d4",
   "metadata": {
    "slideshow": {
     "slide_type": "fragment"
    }
   },
   "outputs": [
    {
     "data": {
      "text/plain": [
       "3.43"
      ]
     },
     "execution_count": 10,
     "metadata": {},
     "output_type": "execute_result"
    }
   ],
   "source": [
    "round(0.18 * 19.04, 2)  # 18% tip rounded to nearest cent"
   ]
  },
  {
   "cell_type": "markdown",
   "id": "32bbf8bb",
   "metadata": {},
   "source": [
    "The tip is $3.43."
   ]
  },
  {
   "cell_type": "markdown",
   "id": "9c24823e",
   "metadata": {
    "extensions": {
     "jupyter_dashboards": {
      "version": 1,
      "views": {
       "grid_default": {
        "col": 0,
        "height": 2,
        "row": 10,
        "width": 12
       }
      }
     }
    },
    "slideshow": {
     "slide_type": "slide"
    }
   },
   "source": [
    "## Comments\n",
    "\n",
    "If you type `#`, everything after that on the same line is a <span class=\"new_term\">comment</span>.   \n",
    "\n",
    "A comment is just for human programmers to read. The computer ignores it."
   ]
  },
  {
   "cell_type": "code",
   "execution_count": 7,
   "id": "dd80e08b",
   "metadata": {},
   "outputs": [
    {
     "data": {
      "text/plain": [
       "5.0"
      ]
     },
     "execution_count": 7,
     "metadata": {},
     "output_type": "execute_result"
    }
   ],
   "source": [
    "# This is a comment! \n",
    "\n",
    "2.5 * 2  # In this line we multiply 2.5 by 2"
   ]
  },
  {
   "cell_type": "markdown",
   "id": "7f8d73c5",
   "metadata": {
    "slideshow": {
     "slide_type": "fragment"
    }
   },
   "source": [
    "Use comments to explain your program in plain English."
   ]
  },
  {
   "cell_type": "code",
   "execution_count": 3,
   "id": "b59e1c71",
   "metadata": {},
   "outputs": [
    {
     "data": {
      "text/plain": [
       "28"
      ]
     },
     "execution_count": 3,
     "metadata": {},
     "output_type": "execute_result"
    }
   ],
   "source": [
    "(4 + 3) * 2**2  # parentheses ensure addition happens first"
   ]
  },
  {
   "cell_type": "markdown",
   "id": "e1c64b4e",
   "metadata": {
    "slideshow": {
     "slide_type": "fragment"
    }
   },
   "source": [
    "<span class=\"your_turn\"> Try it yourself </span> — add a comment to your restaurant tip calculation. \n",
    "\n",
    "Hint: You can go back to any previous code cell, edit it, and press shift-enter to run it again.\n",
    "\n",
    "<br><br><br>\n"
   ]
  },
  {
   "cell_type": "markdown",
   "id": "bf28db6f",
   "metadata": {
    "extensions": {
     "jupyter_dashboards": {
      "version": 1,
      "views": {
       "grid_default": {
        "col": 0,
        "height": 2,
        "row": 14,
        "width": 12
       }
      }
     }
    },
    "slideshow": {
     "slide_type": "slide"
    }
   },
   "source": [
    "## Variables and Assignment"
   ]
  },
  {
   "cell_type": "markdown",
   "id": "90932fef",
   "metadata": {
    "slideshow": {
     "slide_type": "fragment"
    }
   },
   "source": [
    "Using the `=` character, we can <span class=\"new_term\">assign</span> a value, such as `5`, to a variable name, such as `x`:"
   ]
  },
  {
   "cell_type": "code",
   "execution_count": 11,
   "id": "52b246dc",
   "metadata": {},
   "outputs": [],
   "source": [
    "x = 5  # assignment "
   ]
  },
  {
   "cell_type": "code",
   "execution_count": 12,
   "id": "ee23a53c",
   "metadata": {},
   "outputs": [
    {
     "data": {
      "text/plain": [
       "5"
      ]
     },
     "execution_count": 12,
     "metadata": {},
     "output_type": "execute_result"
    }
   ],
   "source": [
    "x  # show the value assigned to x"
   ]
  },
  {
   "cell_type": "code",
   "execution_count": 13,
   "id": "6672afb7",
   "metadata": {
    "slideshow": {
     "slide_type": "fragment"
    }
   },
   "outputs": [
    {
     "data": {
      "text/plain": [
       "16"
      ]
     },
     "execution_count": 13,
     "metadata": {},
     "output_type": "execute_result"
    }
   ],
   "source": [
    "x + 11  # do math with the variable in place of 5"
   ]
  },
  {
   "cell_type": "markdown",
   "id": "61ebae48",
   "metadata": {
    "slideshow": {
     "slide_type": "fragment"
    }
   },
   "source": [
    "Variable names can't contain spaces. Use underscore `_` instead. "
   ]
  },
  {
   "cell_type": "code",
   "execution_count": 14,
   "id": "46eb2d36",
   "metadata": {},
   "outputs": [],
   "source": [
    "how_many_Dalmatians = 101"
   ]
  },
  {
   "cell_type": "markdown",
   "id": "6a95e9f1",
   "metadata": {},
   "source": [
    "<br><br><br>"
   ]
  },
  {
   "cell_type": "markdown",
   "id": "4870e5b4",
   "metadata": {
    "slideshow": {
     "slide_type": "subslide"
    }
   },
   "source": [
    "<h3 class=\"fragment semi-fade-out\"> Variables and Assignment </h3>\n",
    "\n",
    "<p><span class=\"fragment\">\n",
    "    By combining <span class=\"new_term\"> assignment </span> with Python math, we can break up a many-step calculation into easy chunks.\n",
    "    </span></p>"
   ]
  },
  {
   "cell_type": "code",
   "execution_count": 15,
   "id": "f9f48324",
   "metadata": {
    "slideshow": {
     "slide_type": "fragment"
    }
   },
   "outputs": [
    {
     "name": "stdout",
     "output_type": "stream",
     "text": [
      "22.46\n"
     ]
    }
   ],
   "source": [
    "# The dinner bill for all four friends:\n",
    "bill = 76.15 \n",
    "\n",
    "# The share of the bill owed by each friend:\n",
    "my_bill = bill / 4\n",
    "\n",
    "# Each friend's 18% tip:\n",
    "my_tip = my_bill * 0.18 \n",
    "\n",
    "# How much each friend should pay:\n",
    "my_total = my_bill + my_tip\n",
    "\n",
    "# Round to the nearest cent:\n",
    "my_total_rounded = round(my_total, 2)\n",
    "\n",
    "# Show how much I should pay\n",
    "print(my_total_rounded)"
   ]
  },
  {
   "cell_type": "markdown",
   "id": "d3b11047",
   "metadata": {},
   "source": [
    "<br><br><br>"
   ]
  },
  {
   "cell_type": "markdown",
   "id": "893971bf",
   "metadata": {
    "slideshow": {
     "slide_type": "slide"
    }
   },
   "source": [
    "## Errors\n",
    "\n",
    "If any line in your program doesn't make sense to the Python interpreter, the program will stop and show you an <span class=\"new_term\">Error</span> message."
   ]
  },
  {
   "cell_type": "code",
   "execution_count": 19,
   "id": "8de3e48d",
   "metadata": {
    "scrolled": true,
    "slideshow": {
     "slide_type": "fragment"
    }
   },
   "outputs": [
    {
     "ename": "SyntaxError",
     "evalue": "invalid syntax (3627160891.py, line 2)",
     "output_type": "error",
     "traceback": [
      "\u001b[0;36m  Cell \u001b[0;32mIn[19], line 2\u001b[0;36m\u001b[0m\n\u001b[0;31m    my second variable = 4.5\u001b[0m\n\u001b[0m       ^\u001b[0m\n\u001b[0;31mSyntaxError\u001b[0m\u001b[0;31m:\u001b[0m invalid syntax\n"
     ]
    }
   ],
   "source": [
    "my_first_variable = 3.5 \n",
    "my second variable = 4.5"
   ]
  },
  {
   "cell_type": "markdown",
   "id": "87dbe24f",
   "metadata": {
    "slideshow": {
     "slide_type": "-"
    }
   },
   "source": [
    "<p class=\"fragment\">Don't be embarassed. These \"bugs\" happen all the time to computer programmers. Python tries to help you \"debug\". </p>\n",
    "<p class=\"fragment\"><span class=\"your_turn\">Can you see how to fix the error?</span></p>\n",
    "<div class=\"fragment\">\n",
    "    <span class=\"fragment\"><code class=\"fragment strike\"> my second variable = 4.5 </code> <br></span>\n",
    "    <code class=\"fragment\"> my_second_variable = 4.5 </code>\n",
    "    </div>\n",
    "<br><br><br>"
   ]
  },
  {
   "cell_type": "markdown",
   "id": "e71e2b6e",
   "metadata": {},
   "source": [
    "\n",
    "\n"
   ]
  },
  {
   "cell_type": "markdown",
   "id": "8340941d",
   "metadata": {
    "extensions": {
     "jupyter_dashboards": {
      "version": 1,
      "views": {
       "grid_default": {
        "col": 0,
        "height": 2,
        "row": 16,
        "width": 12
       }
      }
     }
    },
    "slideshow": {
     "slide_type": "slide"
    }
   },
   "source": [
    "## Strings\n",
    "\n",
    "Besides working with numbers, Python also makes it easy to work with **text**. \n",
    "\n",
    "Any chunk of text surrounded by `' '` or `\" \"` is called a <span class=\"new_term\">string</span>."
   ]
  },
  {
   "cell_type": "code",
   "execution_count": 20,
   "id": "716a3e30",
   "metadata": {
    "slideshow": {
     "slide_type": "fragment"
    }
   },
   "outputs": [
    {
     "name": "stdout",
     "output_type": "stream",
     "text": [
      "Python is a great computer programming language\n"
     ]
    }
   ],
   "source": [
    "print(\"Python is a great computer programming language\")"
   ]
  },
  {
   "cell_type": "markdown",
   "id": "7db89ac8",
   "metadata": {
    "slideshow": {
     "slide_type": "fragment"
    }
   },
   "source": [
    "A string can be assigned as the value of a variable."
   ]
  },
  {
   "cell_type": "code",
   "execution_count": 21,
   "id": "2d60d6b4",
   "metadata": {
    "slideshow": {
     "slide_type": "-"
    }
   },
   "outputs": [
    {
     "name": "stdout",
     "output_type": "stream",
     "text": [
      "Hakuna Matata\n"
     ]
    }
   ],
   "source": [
    "wonderful_phrase = \"Hakuna Matata\"\n",
    "\n",
    "print(wonderful_phrase)"
   ]
  },
  {
   "cell_type": "markdown",
   "id": "d2bb5404",
   "metadata": {
    "slideshow": {
     "slide_type": "subslide"
    }
   },
   "source": [
    "<h2 class=\"fragment fade-in-then-semi-out\">Strings</h2>\n",
    "\n",
    "<p class=\"fragment\">Use the <code>in</code> keyword  to check if a string contains a word (or letter, or phrase, etc.)"
   ]
  },
  {
   "cell_type": "code",
   "execution_count": 22,
   "id": "24cd2dda",
   "metadata": {
    "slideshow": {
     "slide_type": "fragment"
    }
   },
   "outputs": [
    {
     "data": {
      "text/plain": [
       "True"
      ]
     },
     "execution_count": 22,
     "metadata": {},
     "output_type": "execute_result"
    }
   ],
   "source": [
    "\"Matata\" in wonderful_phrase  # check whether the string contains \"Matata\""
   ]
  },
  {
   "cell_type": "code",
   "execution_count": 15,
   "id": "eeb6ecef",
   "metadata": {
    "slideshow": {
     "slide_type": "fragment"
    }
   },
   "outputs": [
    {
     "data": {
      "text/plain": [
       "False"
      ]
     },
     "execution_count": 15,
     "metadata": {},
     "output_type": "execute_result"
    }
   ],
   "source": [
    "\"q\" in wonderful_phrase  # check whether the letter \"q\" appears in the string"
   ]
  },
  {
   "cell_type": "markdown",
   "id": "bca53782",
   "metadata": {
    "slideshow": {
     "slide_type": "fragment"
    }
   },
   "source": [
    "We can \"add\" and \"multiply\" strings:"
   ]
  },
  {
   "cell_type": "code",
   "execution_count": 28,
   "id": "b73e2aeb",
   "metadata": {
    "slideshow": {
     "slide_type": "-"
    }
   },
   "outputs": [
    {
     "data": {
      "text/plain": [
       "\"Hakuna Matata Ain't no passing craze\""
      ]
     },
     "execution_count": 28,
     "metadata": {},
     "output_type": "execute_result"
    }
   ],
   "source": [
    "wonderful_phrase + \" Ain't no passing craze\""
   ]
  },
  {
   "cell_type": "code",
   "execution_count": 29,
   "id": "c26b0581",
   "metadata": {
    "slideshow": {
     "slide_type": "fragment"
    }
   },
   "outputs": [
    {
     "data": {
      "text/plain": [
       "'Hakuna Matata Hakuna Matata Hakuna Matata '"
      ]
     },
     "execution_count": 29,
     "metadata": {},
     "output_type": "execute_result"
    }
   ],
   "source": [
    "(wonderful_phrase + \" \") * 3"
   ]
  },
  {
   "cell_type": "markdown",
   "id": "41f5171b",
   "metadata": {
    "slideshow": {
     "slide_type": "fragment"
    }
   },
   "source": [
    "Use the `len()` function to find out how many characters are in our string (including the space!)"
   ]
  },
  {
   "cell_type": "code",
   "execution_count": 23,
   "id": "9b7eac5c",
   "metadata": {},
   "outputs": [
    {
     "data": {
      "text/plain": [
       "13"
      ]
     },
     "execution_count": 23,
     "metadata": {},
     "output_type": "execute_result"
    }
   ],
   "source": [
    "len(wonderful_phrase)"
   ]
  },
  {
   "cell_type": "markdown",
   "id": "033004b7",
   "metadata": {},
   "source": [
    "<br><br><br>"
   ]
  },
  {
   "cell_type": "markdown",
   "id": "14920d20",
   "metadata": {
    "slideshow": {
     "slide_type": "subslide"
    }
   },
   "source": [
    "<h2 class=\"fragment fade-in-then-semi-out\">Strings</h2>\n",
    "\n",
    "<p class=\"fragment\">\n",
    "    If your string takes up multiple lines or has quotation marks in it, surround it by triple-quotes <code>\"\"\"   \"\"\"</code> to be safe.\n",
    "    </p>\n",
    "\n",
    "<p class=\"fragment\">Here are the lyrics to an early Beatles song I like.</p>"
   ]
  },
  {
   "cell_type": "code",
   "execution_count": 24,
   "id": "01ad1dbc",
   "metadata": {
    "scrolled": true,
    "slideshow": {
     "slide_type": "fragment"
    }
   },
   "outputs": [],
   "source": [
    "lyrics = \"\"\"\n",
    "Oh yeah, I'll tell you something\n",
    "I think you'll understand\n",
    "When I say that something\n",
    "I wanna hold your hand\n",
    "I wanna hold your hand\n",
    "I wanna hold your hand\n",
    "\n",
    "Oh please, say to me\n",
    "You'll let me be your man\n",
    "And please, say to me\n",
    "You'll let me hold your hand\n",
    "You'll let me hold your hand\n",
    "I wanna hold your hand\n",
    "\n",
    "And when I touch you I feel happy\n",
    "Inside\n",
    "It's such a feeling that my love\n",
    "I can't hide\n",
    "I can't hide\n",
    "I can't hide\n",
    "\n",
    "Yeah, you got that something\n",
    "I think you'll understand\n",
    "When I say that something\n",
    "I wanna hold your hand\n",
    "I wanna hold your hand\n",
    "I wanna hold your hand\n",
    "\n",
    "And when I touch you I feel happy\n",
    "Inside\n",
    "It's such a feeling that my love\n",
    "I can't hide\n",
    "I can't hide\n",
    "I can't hide\n",
    "\n",
    "Yeah, you got that something\n",
    "I think you'll understand\n",
    "When I feel that something\n",
    "I wanna hold your hand\n",
    "I wanna hold your hand\n",
    "I wanna hold your hand\n",
    "I wanna hold your hand\n",
    "\"\"\""
   ]
  },
  {
   "cell_type": "markdown",
   "id": "628d6995",
   "metadata": {},
   "source": [
    "<br><br><br>\n"
   ]
  },
  {
   "cell_type": "markdown",
   "id": "860e7058",
   "metadata": {
    "slideshow": {
     "slide_type": "subslide"
    }
   },
   "source": [
    "<h3 class=\"fragment semi-fade-out\"> Strings </h3>"
   ]
  },
  {
   "cell_type": "code",
   "execution_count": 25,
   "id": "49a3299d",
   "metadata": {
    "scrolled": true,
    "slideshow": {
     "slide_type": "fragment"
    }
   },
   "outputs": [
    {
     "name": "stdout",
     "output_type": "stream",
     "text": [
      "\n",
      "Oh yeah, I'll tell you something\n",
      "I think you'll understand\n",
      "When I say that something\n",
      "I wanna hold your hand\n",
      "I wanna hold your hand\n",
      "I wanna hold your hand\n",
      "\n",
      "Oh please, say to me\n",
      "You'll let me be your man\n",
      "And please, say to me\n",
      "You'll let me hold your hand\n",
      "You'll let me hold your hand\n",
      "I wanna hold your hand\n",
      "\n",
      "And when I touch you I feel happy\n",
      "Inside\n",
      "It's such a feeling that my love\n",
      "I can't hide\n",
      "I can't hide\n",
      "I can't hide\n",
      "\n",
      "Yeah, you got that something\n",
      "I think you'll understand\n",
      "When I say that something\n",
      "I wanna hold your hand\n",
      "I wanna hold your hand\n",
      "I wanna hold your hand\n",
      "\n",
      "And when I touch you I feel happy\n",
      "Inside\n",
      "It's such a feeling that my love\n",
      "I can't hide\n",
      "I can't hide\n",
      "I can't hide\n",
      "\n",
      "Yeah, you got that something\n",
      "I think you'll understand\n",
      "When I feel that something\n",
      "I wanna hold your hand\n",
      "I wanna hold your hand\n",
      "I wanna hold your hand\n",
      "I wanna hold your hand\n",
      "\n"
     ]
    }
   ],
   "source": [
    "print(lyrics)"
   ]
  },
  {
   "cell_type": "markdown",
   "id": "8725aff1",
   "metadata": {},
   "source": [
    "Does the letter \"z\" ever appear in this song's lyrics? "
   ]
  },
  {
   "cell_type": "code",
   "execution_count": 31,
   "id": "873da863",
   "metadata": {
    "scrolled": false,
    "slideshow": {
     "slide_type": "-"
    }
   },
   "outputs": [
    {
     "data": {
      "text/plain": [
       "False"
      ]
     },
     "execution_count": 31,
     "metadata": {},
     "output_type": "execute_result"
    }
   ],
   "source": [
    "\"z\" in lyrics"
   ]
  },
  {
   "cell_type": "markdown",
   "id": "b449d325",
   "metadata": {},
   "source": [
    "Apparently not!"
   ]
  },
  {
   "cell_type": "markdown",
   "id": "20b71dd7",
   "metadata": {
    "slideshow": {
     "slide_type": "fragment"
    }
   },
   "source": [
    "<span class=\"your_turn\">Try it yourself: make a string</span>\n",
    "\n",
    "* Find the lyrics to a song you like (or a speech, poem, etc.)\n",
    "* Copy-paste the text into the Python notebook.\n",
    "* Use triple-quotes `\"\"\"  \"\"\"` to make a <span class=\"new_term\">string</span> out of this text, and assign it to a variable.\n",
    "* Does your song contain every letter of the alphabet? Use the `in` keyword to check for the least common letters (z, q, j, x).\n",
    "<br><br><br>"
   ]
  },
  {
   "cell_type": "markdown",
   "id": "f6d59993",
   "metadata": {
    "extensions": {
     "jupyter_dashboards": {
      "version": 1,
      "views": {
       "grid_default": {
        "col": 0,
        "height": 2,
        "row": 22,
        "width": 12
       }
      }
     }
    },
    "slideshow": {
     "slide_type": "slide"
    }
   },
   "source": [
    "## Comparisons\n",
    "\n",
    "There are several important symbols for comparing two numbers in Python."
   ]
  },
  {
   "cell_type": "code",
   "execution_count": 32,
   "id": "70ef73d9",
   "metadata": {
    "slideshow": {
     "slide_type": "fragment"
    }
   },
   "outputs": [
    {
     "data": {
      "text/plain": [
       "True"
      ]
     },
     "execution_count": 32,
     "metadata": {},
     "output_type": "execute_result"
    }
   ],
   "source": [
    "6 > 5  # greater than"
   ]
  },
  {
   "cell_type": "code",
   "execution_count": 33,
   "id": "5844532f",
   "metadata": {
    "scrolled": true
   },
   "outputs": [
    {
     "data": {
      "text/plain": [
       "False"
      ]
     },
     "execution_count": 33,
     "metadata": {},
     "output_type": "execute_result"
    }
   ],
   "source": [
    "5 > 6 "
   ]
  },
  {
   "cell_type": "code",
   "execution_count": 34,
   "id": "e6a65dec",
   "metadata": {
    "scrolled": true,
    "slideshow": {
     "slide_type": "fragment"
    }
   },
   "outputs": [
    {
     "data": {
      "text/plain": [
       "False"
      ]
     },
     "execution_count": 34,
     "metadata": {},
     "output_type": "execute_result"
    }
   ],
   "source": [
    "5 < 5  # less than"
   ]
  },
  {
   "cell_type": "code",
   "execution_count": 35,
   "id": "698cff0f",
   "metadata": {
    "slideshow": {
     "slide_type": "fragment"
    }
   },
   "outputs": [
    {
     "data": {
      "text/plain": [
       "True"
      ]
     },
     "execution_count": 35,
     "metadata": {},
     "output_type": "execute_result"
    }
   ],
   "source": [
    "5 <= 5  # less than or equal to (≤)"
   ]
  },
  {
   "cell_type": "code",
   "execution_count": 37,
   "id": "3d77a90f",
   "metadata": {
    "slideshow": {
     "slide_type": "fragment"
    }
   },
   "outputs": [
    {
     "data": {
      "text/plain": [
       "True"
      ]
     },
     "execution_count": 37,
     "metadata": {},
     "output_type": "execute_result"
    }
   ],
   "source": [
    "6 >= 5  # greater than or equal to (≥)"
   ]
  },
  {
   "cell_type": "markdown",
   "id": "4b4ca5ae",
   "metadata": {},
   "source": [
    "<br><br><br>"
   ]
  },
  {
   "cell_type": "markdown",
   "id": "ab212fed",
   "metadata": {
    "slideshow": {
     "slide_type": "subslide"
    }
   },
   "source": [
    "## Comparisons\n",
    "\n",
    "Because the `=` character is used for assignment, we test whether two numbers are ***equal*** using `==`."
   ]
  },
  {
   "cell_type": "code",
   "execution_count": 38,
   "id": "d366adea",
   "metadata": {},
   "outputs": [
    {
     "data": {
      "text/plain": [
       "True"
      ]
     },
     "execution_count": 38,
     "metadata": {},
     "output_type": "execute_result"
    }
   ],
   "source": [
    "len(\"Timon\") == len(\"Simba\")  # 5 is equal to 5"
   ]
  },
  {
   "cell_type": "markdown",
   "id": "56524230",
   "metadata": {
    "slideshow": {
     "slide_type": "fragment"
    }
   },
   "source": [
    "To test whether two numbers are unequal (≠), use `!=`."
   ]
  },
  {
   "cell_type": "code",
   "execution_count": 39,
   "id": "442e87a2",
   "metadata": {},
   "outputs": [
    {
     "data": {
      "text/plain": [
       "True"
      ]
     },
     "execution_count": 39,
     "metadata": {},
     "output_type": "execute_result"
    }
   ],
   "source": [
    "len(\"Timon\") != len(\"Pumbaa\")  # 5 is not equal to 6"
   ]
  },
  {
   "cell_type": "markdown",
   "id": "6b2afef2",
   "metadata": {
    "extensions": {
     "jupyter_dashboards": {
      "version": 1,
      "views": {
       "grid_default": {
        "col": 0,
        "height": 2,
        "row": 26,
        "width": 12
       }
      }
     }
    },
    "slideshow": {
     "slide_type": "slide"
    }
   },
   "source": [
    "## Logic"
   ]
  },
  {
   "cell_type": "markdown",
   "id": "c2c81803",
   "metadata": {},
   "source": [
    "The `and` keyword between two `True`/`False` <span class=\"new_term\">conditionals</span> gives us \n",
    "* `True` if both are `True`\n",
    "* `False` if either one or both is `False`. "
   ]
  },
  {
   "cell_type": "code",
   "execution_count": 40,
   "id": "6237ae90",
   "metadata": {},
   "outputs": [
    {
     "data": {
      "text/plain": [
       "True"
      ]
     },
     "execution_count": 40,
     "metadata": {},
     "output_type": "execute_result"
    }
   ],
   "source": [
    "(\"a\" in \"cat\") and (\"g\" in \"dog\")  # True and True -> True"
   ]
  },
  {
   "cell_type": "code",
   "execution_count": 41,
   "id": "411add68",
   "metadata": {},
   "outputs": [
    {
     "data": {
      "text/plain": [
       "False"
      ]
     },
     "execution_count": 41,
     "metadata": {},
     "output_type": "execute_result"
    }
   ],
   "source": [
    "(\"a\" in \"cat\") and (\"h\" in \"dog\")  # True and False -> False"
   ]
  },
  {
   "cell_type": "markdown",
   "id": "f8af27d0",
   "metadata": {
    "slideshow": {
     "slide_type": "subslide"
    }
   },
   "source": [
    "<h3 class=\"fragment semi-fade-out\"> Logic </h3>"
   ]
  },
  {
   "cell_type": "markdown",
   "id": "96f0ecc4",
   "metadata": {
    "slideshow": {
     "slide_type": "fragment"
    }
   },
   "source": [
    "Similarly, the `or` keyword between two conditionals gives us \n",
    "* `True` if either one or both is `True`\n",
    "* `False` if both are `False`. "
   ]
  },
  {
   "cell_type": "code",
   "execution_count": 29,
   "id": "843bac2f",
   "metadata": {},
   "outputs": [
    {
     "data": {
      "text/plain": [
       "True"
      ]
     },
     "execution_count": 29,
     "metadata": {},
     "output_type": "execute_result"
    }
   ],
   "source": [
    "(\"a\" in \"cat\") or (\"h\" in \"dog\")  # True or False -> True"
   ]
  },
  {
   "cell_type": "code",
   "execution_count": 30,
   "id": "10f07da6",
   "metadata": {},
   "outputs": [
    {
     "data": {
      "text/plain": [
       "True"
      ]
     },
     "execution_count": 30,
     "metadata": {},
     "output_type": "execute_result"
    }
   ],
   "source": [
    "(\"a\" in \"cat\") or (\"d\" in \"dog\")  # True or True -> True"
   ]
  },
  {
   "cell_type": "code",
   "execution_count": 46,
   "id": "480bc07e",
   "metadata": {},
   "outputs": [
    {
     "data": {
      "text/plain": [
       "False"
      ]
     },
     "execution_count": 46,
     "metadata": {},
     "output_type": "execute_result"
    }
   ],
   "source": [
    "(\"h\" in \"cat\") or (\"k\" in \"dog\")  # False or False -> False "
   ]
  },
  {
   "cell_type": "markdown",
   "id": "70fffb34",
   "metadata": {
    "slideshow": {
     "slide_type": "subslide"
    }
   },
   "source": [
    "<h3 class=\"fragment semi-fade-out\"> Logic </h3>"
   ]
  },
  {
   "cell_type": "markdown",
   "id": "12434203",
   "metadata": {
    "slideshow": {
     "slide_type": "fragment"
    }
   },
   "source": [
    "`not` in front of any conditional turns `True` into `False` and vice versa."
   ]
  },
  {
   "cell_type": "code",
   "execution_count": 43,
   "id": "ad4f02a9",
   "metadata": {},
   "outputs": [
    {
     "data": {
      "text/plain": [
       "True"
      ]
     },
     "execution_count": 43,
     "metadata": {},
     "output_type": "execute_result"
    }
   ],
   "source": [
    "not False"
   ]
  },
  {
   "cell_type": "code",
   "execution_count": 44,
   "id": "f4761dbd",
   "metadata": {},
   "outputs": [
    {
     "data": {
      "text/plain": [
       "True"
      ]
     },
     "execution_count": 44,
     "metadata": {},
     "output_type": "execute_result"
    }
   ],
   "source": [
    "not \"w\" in \"pig\""
   ]
  },
  {
   "cell_type": "code",
   "execution_count": 45,
   "id": "6433fe34",
   "metadata": {
    "slideshow": {
     "slide_type": "fragment"
    }
   },
   "outputs": [
    {
     "data": {
      "text/plain": [
       "True"
      ]
     },
     "execution_count": 45,
     "metadata": {},
     "output_type": "execute_result"
    }
   ],
   "source": [
    "\"w\" not in \"pig\"  # another way to write the same thing"
   ]
  },
  {
   "cell_type": "markdown",
   "id": "b00c8518",
   "metadata": {
    "slideshow": {
     "slide_type": "slide"
    }
   },
   "source": [
    "<span class=\"your_turn\">Try it yourself: Conditionals</span>\n",
    "\n",
    "* Using your text from the previous activity, come up with two words that *are* in your text and two other words that *aren't* in your text.\n",
    "* Make **two** conditionals (one `True`, one `False`) of the format \n",
    "`\"word\" in text`.\n",
    "In my example, one conditional could be:"
   ]
  },
  {
   "cell_type": "code",
   "execution_count": 47,
   "id": "9be6a5b2",
   "metadata": {},
   "outputs": [
    {
     "data": {
      "text/plain": [
       "True"
      ]
     },
     "execution_count": 47,
     "metadata": {},
     "output_type": "execute_result"
    }
   ],
   "source": [
    "\"wanna\" in lyrics"
   ]
  },
  {
   "cell_type": "markdown",
   "id": "a3dee215",
   "metadata": {},
   "source": [
    "* Use `and` and `or` to put the conditionals together. For example,"
   ]
  },
  {
   "cell_type": "code",
   "execution_count": 48,
   "id": "c20430c5",
   "metadata": {},
   "outputs": [
    {
     "data": {
      "text/plain": [
       "False"
      ]
     },
     "execution_count": 48,
     "metadata": {},
     "output_type": "execute_result"
    }
   ],
   "source": [
    "(\"wanna\" in lyrics) and (\"pony\" in lyrics)"
   ]
  },
  {
   "cell_type": "markdown",
   "id": "02bca7f8",
   "metadata": {
    "slideshow": {
     "slide_type": "slide"
    }
   },
   "source": [
    "##### Summary of Part I \n",
    "\n",
    "* In this first session, you learned Python's fundamental **data types**...\n",
    "    * math: <span class=\"new_term\">integers</span> (like `5`) and <span class=\"new_term\">floats</span> (like `5.1`)\n",
    "    * text: <span class=\"new_term\">strings</span> (like `\"hello\"`) \n",
    "    \n",
    "* ... and ways to put them together   \n",
    "    * comparisons: `>`, `==`, etc.\n",
    "    * logic: `and`/`or`/`not`\n",
    "* Next we will introduce <span class=\"new_term\">functions</span>: the most important concept for making computer programs re-usable. <br><br><br>"
   ]
  },
  {
   "cell_type": "markdown",
   "id": "1c25958f",
   "metadata": {
    "slideshow": {
     "slide_type": "fragment"
    }
   },
   "source": [
    "#### To access this material:\n",
    "\n",
    "* Direct link:\n",
    "    * https://colab.research.google.com/github/dbeller8/URSCA-Python/blob/main/URSCA-Python-Intro-I.ipynb\n",
    "* Or...\n",
    "    * In Colab, go to File -> Open Notebook.\n",
    "    * Click the GitHub tab\n",
    "    * Search for repositories by \"dbeller8\".\n",
    "    * Accept \"dbeller8/URSCA-Python\" as the repository.\n",
    "    * Click on \"URSCA-Python-Intro-I.ipynb\" to access today's material."
   ]
  },
  {
   "cell_type": "markdown",
   "id": "b5e4d2b4",
   "metadata": {},
   "source": [
    " "
   ]
  }
 ],
 "metadata": {
  "celltoolbar": "Slideshow",
  "extensions": {
   "jupyter_dashboards": {
    "activeView": "grid_default",
    "version": 1,
    "views": {
     "grid_default": {
      "cellMargin": 2,
      "defaultCellHeight": 60,
      "maxColumns": 12,
      "name": "grid",
      "type": "grid"
     }
    }
   }
  },
  "kernelspec": {
   "display_name": "Python 3 (ipykernel)",
   "language": "python",
   "name": "python3"
  },
  "language_info": {
   "codemirror_mode": {
    "name": "ipython",
    "version": 3
   },
   "file_extension": ".py",
   "mimetype": "text/x-python",
   "name": "python",
   "nbconvert_exporter": "python",
   "pygments_lexer": "ipython3",
   "version": "3.11.3"
  },
  "livereveal": {
   "autolaunch": true
  },
  "rise": {
   "scroll": true,
   "theme": "white"
  }
 },
 "nbformat": 4,
 "nbformat_minor": 5
}
