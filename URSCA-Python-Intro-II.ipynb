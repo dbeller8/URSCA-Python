{
 "cells": [
  {
   "cell_type": "markdown",
   "id": "3eef03b6",
   "metadata": {
    "slideshow": {
     "slide_type": "slide"
    }
   },
   "source": [
    "<h1 class=\"r-stretch\" style=\"text-align:center\"> Introduction to Python, Part II  </h1>\n",
    "\n",
    "<center>\n",
    "    <br>\n",
    "     <table style=\"background-color: white;\">\n",
    "        <tr>\n",
    "            <td>\n",
    "    <img src=\"https://www.python.org/static/community_logos/python-logo.png\" width=250 style=\"float:center\">\n",
    "            </td>\n",
    "            <td>\n",
    "    <img src=\"https://brand.jhu.edu/assets/uploads/sites/5/2014/06/university.logo_.small_.horizontal.blue_.jpg\" width=250 style=\"float:center\">\n",
    "            </td>\n",
    "            </tr>\n",
    "    </table>\n",
    "        <br>\n",
    "    Johns Hopkins University  <br>\n",
    "Krieger School of Arts and Sciences  <br>\n",
    "Office of Undergraduate Research, Scholarly and Creative Activity (URSCA) <br>\n",
    "May 24, 2022 <br>\n",
    "    <br>\n",
    "    Prof. Daniel Beller <br>\n",
    "    JHU Department of Physics &amp; Astronomy\n",
    "    </center>\n",
    " </section>"
   ]
  },
  {
   "cell_type": "markdown",
   "id": "7e560d50",
   "metadata": {
    "slideshow": {
     "slide_type": "slide"
    }
   },
   "source": [
    "### Yesterday\n",
    "\n",
    "We introduced Python's fundamentals for\n",
    "* math: <span class=\"new_term\">integers</span> and <span class=\"new_term\">floats</span>\n",
    "* text: <span class=\"new_term\">strings</span>\n",
    "* comparisons: (`>`, `==`, etc.)\n",
    "* logic: `and`/`or`/`not`\n",
    "\n",
    "Multi-line programs were run top-to-bottom. For example,"
   ]
  },
  {
   "cell_type": "code",
   "execution_count": 53,
   "id": "87393d54",
   "metadata": {},
   "outputs": [],
   "source": [
    "bill = 76.15            # runs 1st\n",
    "my_bill = bill / 4      # runs 2nd\n",
    "my_tip = my_bill * 0.18 # runs 3rd\n",
    "                        # ... "
   ]
  },
  {
   "cell_type": "markdown",
   "id": "630b5034",
   "metadata": {
    "slideshow": {
     "slide_type": "fragment"
    }
   },
   "source": [
    "### Today\n",
    "\n",
    "We will cover how to structure a Python program: <span class=\"new_term\">\"control flow\"</span>\n",
    "\n",
    "Different blocks of code will be run...\n",
    "* ...in different orders \n",
    "* ...or not at all\n",
    "* ...or repeatedly! \n",
    "\n",
    "depending on the input data.\n",
    "<br><br><br>\n"
   ]
  },
  {
   "cell_type": "markdown",
   "id": "ac63270b",
   "metadata": {
    "extensions": {
     "jupyter_dashboards": {
      "version": 1,
      "views": {
       "grid_default": {
        "col": 0,
        "height": 2,
        "row": 28,
        "width": 12
       }
      }
     }
    },
    "slideshow": {
     "slide_type": "slide"
    }
   },
   "source": [
    "## `if` statements\n",
    "\n",
    "In words, `if` statements let us implement this kind of logic:\n",
    "\n",
    ">if we have situation A: <br>\n",
    ">&emsp;&emsp;    then run this block of code..."
   ]
  },
  {
   "cell_type": "markdown",
   "id": "fc88a9ee",
   "metadata": {
    "slideshow": {
     "slide_type": "fragment"
    }
   },
   "source": [
    "To check whether we *do* have \"situation A\", we usually use <span class=\"new_term\">comparisons</span> to create a <span class=\"new_term\">conditional</span>: an expression that evaluates to `True` or `False`.\n",
    "\n",
    "For example:"
   ]
  },
  {
   "cell_type": "code",
   "execution_count": 2,
   "id": "e413ca39",
   "metadata": {
    "slideshow": {
     "slide_type": "fragment"
    }
   },
   "outputs": [
    {
     "name": "stdout",
     "output_type": "stream",
     "text": [
      "You are too young to drive.\n",
      "Wait 2.5 more years.\n"
     ]
    }
   ],
   "source": [
    "age = 14\n",
    "\n",
    "if age < 16.5:\n",
    "    print(\"You are too young to drive.\")\n",
    "    years_until_can_drive = 16.5 - age\n",
    "    print(\"Wait\", years_until_can_drive, \"more years.\")"
   ]
  },
  {
   "cell_type": "markdown",
   "id": "2af3f03d",
   "metadata": {
    "slideshow": {
     "slide_type": "fragment"
    }
   },
   "source": [
    "Here, the <span class=\"new_term\">conditional</span> is:"
   ]
  },
  {
   "cell_type": "code",
   "execution_count": 3,
   "id": "315bbc3d",
   "metadata": {},
   "outputs": [
    {
     "data": {
      "text/plain": [
       "True"
      ]
     },
     "execution_count": 3,
     "metadata": {},
     "output_type": "execute_result"
    }
   ],
   "source": [
    "age < 16.5"
   ]
  },
  {
   "cell_type": "markdown",
   "id": "151c1bb1",
   "metadata": {
    "slideshow": {
     "slide_type": "fragment"
    }
   },
   "source": [
    "Notice formatting:\n",
    "\n",
    "* The `if` statement ends in colon `:`\n",
    "* Following this is an <span class=\"new_term\">indented code block</span> containing any number of lines. (Use 'tab' key.)"
   ]
  },
  {
   "cell_type": "markdown",
   "id": "08d17417",
   "metadata": {
    "slideshow": {
     "slide_type": "fragment"
    }
   },
   "source": [
    "<span class=\"your_turn\">Try it!</span> – What happens if we change the conditional to a `True` one? \n",
    "<br><br><br>"
   ]
  },
  {
   "cell_type": "markdown",
   "id": "3e0d00b8",
   "metadata": {
    "slideshow": {
     "slide_type": "subslide"
    }
   },
   "source": [
    "### `if`-`else` \n",
    "\n",
    "Often we want our program to do something *different* if the conditional is `False`. \n",
    "\n",
    "For this, we follow the `if` block with an `else` block.\n"
   ]
  },
  {
   "cell_type": "code",
   "execution_count": 56,
   "id": "15d791d8",
   "metadata": {},
   "outputs": [
    {
     "name": "stdout",
     "output_type": "stream",
     "text": [
      "Here are the keys to your new car!\n"
     ]
    }
   ],
   "source": [
    "age = 20\n",
    "\n",
    "if age < 16.5:\n",
    "    print(\"You are too young to drive.\")\n",
    "else:\n",
    "    print(\"Here are the keys to your new car!\")"
   ]
  },
  {
   "cell_type": "markdown",
   "id": "afd66915",
   "metadata": {
    "slideshow": {
     "slide_type": "subslide"
    }
   },
   "source": [
    "### `if`-`elif`-`else`\n",
    "\n",
    "When there are more than two possibilities to consider, we can put one or more `elif` blocks between the `if` block and the `else` block. Each block is only executed if the conditional above it was `False`."
   ]
  },
  {
   "cell_type": "code",
   "execution_count": 57,
   "id": "812699d4",
   "metadata": {
    "scrolled": true
   },
   "outputs": [
    {
     "name": "stdout",
     "output_type": "stream",
     "text": [
      "You can drive, but you can't buy lottery tickets yet.\n"
     ]
    }
   ],
   "source": [
    "age = 17\n",
    "\n",
    "if age < 16.5:\n",
    "    print(\"You are too young to drive.\")\n",
    "elif age < 18: # another conditional!\n",
    "    print(\"You can drive, but you can't buy lottery tickets yet.\")\n",
    "else:\n",
    "    print(\"You can buy a new car with your lottery winnings!\")"
   ]
  },
  {
   "cell_type": "markdown",
   "id": "c60e694e",
   "metadata": {
    "extensions": {
     "jupyter_dashboards": {
      "version": 1,
      "views": {
       "grid_default": {
        "col": 0,
        "height": 2,
        "row": 30,
        "width": 12
       }
      }
     }
    },
    "slideshow": {
     "slide_type": "slide"
    }
   },
   "source": [
    "## `while` loops\n",
    "\n",
    "What do we get if we add up all the integers $1, 2, \\dots 100$?\n",
    "\n",
    "It would be annoying if we had to type out all 100 numbers!\n",
    "\n",
    "Fortunately, programming languages allow <span class=\"new_term\">loops</span> that run a block of code repeatedly."
   ]
  },
  {
   "cell_type": "code",
   "execution_count": 58,
   "id": "eb7282c1",
   "metadata": {
    "slideshow": {
     "slide_type": "fragment"
    }
   },
   "outputs": [
    {
     "name": "stdout",
     "output_type": "stream",
     "text": [
      "1 1\n",
      "2 3\n",
      "3 6\n",
      "4 10\n",
      "5 15\n",
      "6 21\n",
      "7 28\n",
      "8 36\n",
      "9 45\n",
      "10 55\n",
      "11 66\n",
      "12 78\n",
      "13 91\n",
      "14 105\n",
      "15 120\n",
      "16 136\n",
      "17 153\n",
      "18 171\n",
      "19 190\n",
      "20 210\n",
      "21 231\n",
      "22 253\n",
      "23 276\n",
      "24 300\n",
      "25 325\n",
      "26 351\n",
      "27 378\n",
      "28 406\n",
      "29 435\n",
      "30 465\n",
      "31 496\n",
      "32 528\n",
      "33 561\n",
      "34 595\n",
      "35 630\n",
      "36 666\n",
      "37 703\n",
      "38 741\n",
      "39 780\n",
      "40 820\n",
      "41 861\n",
      "42 903\n",
      "43 946\n",
      "44 990\n",
      "45 1035\n",
      "46 1081\n",
      "47 1128\n",
      "48 1176\n",
      "49 1225\n",
      "50 1275\n",
      "51 1326\n",
      "52 1378\n",
      "53 1431\n",
      "54 1485\n",
      "55 1540\n",
      "56 1596\n",
      "57 1653\n",
      "58 1711\n",
      "59 1770\n",
      "60 1830\n",
      "61 1891\n",
      "62 1953\n",
      "63 2016\n",
      "64 2080\n",
      "65 2145\n",
      "66 2211\n",
      "67 2278\n",
      "68 2346\n",
      "69 2415\n",
      "70 2485\n",
      "71 2556\n",
      "72 2628\n",
      "73 2701\n",
      "74 2775\n",
      "75 2850\n",
      "76 2926\n",
      "77 3003\n",
      "78 3081\n",
      "79 3160\n",
      "80 3240\n",
      "81 3321\n",
      "82 3403\n",
      "83 3486\n",
      "84 3570\n",
      "85 3655\n",
      "86 3741\n",
      "87 3828\n",
      "88 3916\n",
      "89 4005\n",
      "90 4095\n",
      "91 4186\n",
      "92 4278\n",
      "93 4371\n",
      "94 4465\n",
      "95 4560\n",
      "96 4656\n",
      "97 4753\n",
      "98 4851\n",
      "99 4950\n",
      "100 5050\n"
     ]
    }
   ],
   "source": [
    "total = 0\n",
    "n = 1\n",
    "\n",
    "while n <= 100:         # loop until n > 100\n",
    "    total = total + n   # add n to total        \n",
    "    print(n, total)\n",
    "    n = n + 1           # add 1 to n     "
   ]
  },
  {
   "cell_type": "markdown",
   "id": "2d3a1296",
   "metadata": {
    "slideshow": {
     "slide_type": "fragment"
    }
   },
   "source": [
    "The answer is $5050$. <br><br>\n",
    "\n",
    "\n",
    "\n",
    "\n"
   ]
  },
  {
   "cell_type": "markdown",
   "id": "da2f6c40",
   "metadata": {
    "extensions": {
     "jupyter_dashboards": {
      "version": 1,
      "views": {
       "grid_default": {
        "col": 0,
        "height": 2,
        "row": 32,
        "width": 12
       }
      }
     }
    },
    "slideshow": {
     "slide_type": "slide"
    }
   },
   "source": [
    "## Functions \n",
    "\n",
    "<span class=\"new_term\">Functions</span> are the most important concept for *reusable* programs. \n",
    "\n",
    "A <span class=\"new_term\">function</span> is a rule for mapping inputs to outputs. \n",
    "\n"
   ]
  },
  {
   "cell_type": "markdown",
   "id": "d3d1ef7f",
   "metadata": {
    "slideshow": {
     "slide_type": "fragment"
    }
   },
   "source": [
    "This is similar to mathematical functions like \n",
    "\n",
    "$$ f(x) = 2x+1 $$ \n",
    "\n",
    "Here the input is $x$ and the output is $2x+1$. \n",
    "\n",
    "For example, an input of $3$ gets mapped to an output of $7$."
   ]
  },
  {
   "cell_type": "markdown",
   "id": "13a5b8fd",
   "metadata": {
    "slideshow": {
     "slide_type": "fragment"
    }
   },
   "source": [
    "The equivalent function in Python looks like this:"
   ]
  },
  {
   "cell_type": "code",
   "execution_count": 59,
   "id": "c0cc8eb3",
   "metadata": {},
   "outputs": [],
   "source": [
    "def f(x):\n",
    "    return 2 * x + 1"
   ]
  },
  {
   "cell_type": "markdown",
   "id": "4cba24d2",
   "metadata": {},
   "source": [
    "Important features:\n",
    "* `def` makes `f` a function \n",
    "* input <span class=\"new_term\">argument</span> goes inside parentheses `()`\n",
    "* output follows `return` on same line\n",
    "* colon and indent just like `if` blocks\n",
    "\n",
    "Now we can use the function for *any* input number!"
   ]
  },
  {
   "cell_type": "code",
   "execution_count": 60,
   "id": "cadda1c6",
   "metadata": {
    "slideshow": {
     "slide_type": "fragment"
    }
   },
   "outputs": [
    {
     "data": {
      "text/plain": [
       "7"
      ]
     },
     "execution_count": 60,
     "metadata": {},
     "output_type": "execute_result"
    }
   ],
   "source": [
    "f(3)"
   ]
  },
  {
   "cell_type": "code",
   "execution_count": 61,
   "id": "84a0679f",
   "metadata": {
    "slideshow": {
     "slide_type": "fragment"
    }
   },
   "outputs": [
    {
     "data": {
      "text/plain": [
       "-401"
      ]
     },
     "execution_count": 61,
     "metadata": {},
     "output_type": "execute_result"
    }
   ],
   "source": [
    "f(-201)"
   ]
  },
  {
   "cell_type": "markdown",
   "id": "266cc0dd",
   "metadata": {
    "slideshow": {
     "slide_type": "fragment"
    }
   },
   "source": [
    "<span class=\"your_turn\">Try it!</span> – Functions\n",
    "\n",
    "Write a function that calculates a 6% Maryland sales tax on any price. \n",
    "\n",
    "Then use it to find the sales tax for a book marked \\$12.99."
   ]
  },
  {
   "cell_type": "code",
   "execution_count": 62,
   "id": "599d8f45",
   "metadata": {
    "slideshow": {
     "slide_type": "fragment"
    }
   },
   "outputs": [
    {
     "data": {
      "text/plain": [
       "0.78"
      ]
     },
     "execution_count": 62,
     "metadata": {},
     "output_type": "execute_result"
    }
   ],
   "source": [
    "def sales_tax(price):\n",
    "    amount = price * 0.06\n",
    "    answer = round(amount, 2)\n",
    "    return answer \n",
    "\n",
    "sales_tax(12.99)"
   ]
  },
  {
   "cell_type": "markdown",
   "id": "befd6464",
   "metadata": {},
   "source": [
    "<br><br><br>"
   ]
  },
  {
   "cell_type": "markdown",
   "id": "e41710f8",
   "metadata": {
    "slideshow": {
     "slide_type": "slide"
    }
   },
   "source": [
    "## Lists and `for` loops\n",
    "\n",
    "<span class=\"new_term\">Lists</span> are one of Python's most convenient features. Make a list by putting any collection of values inside `[]` and separated by commas `,`."
   ]
  },
  {
   "cell_type": "code",
   "execution_count": 63,
   "id": "2dc8219c",
   "metadata": {},
   "outputs": [],
   "source": [
    "my_list = [3, -201, 11.1]"
   ]
  },
  {
   "cell_type": "markdown",
   "id": "e007336f",
   "metadata": {
    "slideshow": {
     "slide_type": "fragment"
    }
   },
   "source": [
    "A `for` loop is similar to a `while` loop, except that a `for` loop iterates over the contents of your list and then stops automatically."
   ]
  },
  {
   "cell_type": "code",
   "execution_count": 64,
   "id": "50824123",
   "metadata": {},
   "outputs": [
    {
     "name": "stdout",
     "output_type": "stream",
     "text": [
      "6\n",
      "-402\n",
      "22.2\n"
     ]
    }
   ],
   "source": [
    "for number in my_list: # for each item in my_list, labeled as \"number\"...\n",
    "    print(2 * number)  # multiply \"number\" by 2 and show me the result"
   ]
  },
  {
   "cell_type": "markdown",
   "id": "2e7d86ec",
   "metadata": {
    "slideshow": {
     "slide_type": "fragment"
    }
   },
   "source": [
    "Notice that `number` is just a placeholder, like $x$ in algebra. We'd get the same result with:"
   ]
  },
  {
   "cell_type": "code",
   "execution_count": 65,
   "id": "cc630b5e",
   "metadata": {},
   "outputs": [
    {
     "name": "stdout",
     "output_type": "stream",
     "text": [
      "6\n",
      "-402\n",
      "22.2\n"
     ]
    }
   ],
   "source": [
    "for banana in my_list:\n",
    "    print(2 * banana)"
   ]
  },
  {
   "cell_type": "markdown",
   "id": "49faa832",
   "metadata": {
    "slideshow": {
     "slide_type": "fragment"
    }
   },
   "source": [
    "We can combine <span class=\"new_term\">functions</span> with `for` loops. For example, using our `f(x)` from above:"
   ]
  },
  {
   "cell_type": "code",
   "execution_count": 66,
   "id": "5eb3d79d",
   "metadata": {
    "scrolled": false
   },
   "outputs": [
    {
     "name": "stdout",
     "output_type": "stream",
     "text": [
      "7\n",
      "-401\n",
      "23.2\n"
     ]
    }
   ],
   "source": [
    "for number in my_list:\n",
    "    print(f(number))"
   ]
  },
  {
   "cell_type": "markdown",
   "id": "0d91ab4c",
   "metadata": {},
   "source": [
    "<br><br><br>"
   ]
  },
  {
   "cell_type": "markdown",
   "id": "110f6a36",
   "metadata": {
    "slideshow": {
     "slide_type": "subslide"
    }
   },
   "source": [
    "### `range`\n",
    "\n",
    "<span class=\"fragment\">In a `for` loop, if we have a sequence of numbers like</span>"
   ]
  },
  {
   "cell_type": "code",
   "execution_count": 67,
   "id": "e07595f5",
   "metadata": {
    "slideshow": {
     "slide_type": "fragment"
    }
   },
   "outputs": [
    {
     "name": "stdout",
     "output_type": "stream",
     "text": [
      "3\n",
      "5\n",
      "7\n",
      "9\n"
     ]
    }
   ],
   "source": [
    "for i in [1, 2, 3, 4]:\n",
    "    print(f(i))"
   ]
  },
  {
   "cell_type": "markdown",
   "id": "6ad35b3f",
   "metadata": {
    "slideshow": {
     "slide_type": "fragment"
    }
   },
   "source": [
    "we can use a `range` instead:"
   ]
  },
  {
   "cell_type": "code",
   "execution_count": 68,
   "id": "10161eba",
   "metadata": {
    "slideshow": {
     "slide_type": "fragment"
    }
   },
   "outputs": [
    {
     "name": "stdout",
     "output_type": "stream",
     "text": [
      "3\n",
      "5\n",
      "7\n",
      "9\n"
     ]
    }
   ],
   "source": [
    "for i in range(1, 5): # start at 1, stop BEFORE 5\n",
    "    print(f(i))"
   ]
  },
  {
   "cell_type": "markdown",
   "id": "4cad2376",
   "metadata": {
    "slideshow": {
     "slide_type": "fragment"
    }
   },
   "source": [
    "Adding up all the integers $1, 2, \\dots, 100$ is easier this way:"
   ]
  },
  {
   "cell_type": "code",
   "execution_count": 69,
   "id": "6f11eac0",
   "metadata": {},
   "outputs": [
    {
     "name": "stdout",
     "output_type": "stream",
     "text": [
      "5050\n"
     ]
    }
   ],
   "source": [
    "total = 0\n",
    "\n",
    "for i in range(1, 101):\n",
    "    total = total + i\n",
    "    \n",
    "print(total)"
   ]
  },
  {
   "cell_type": "markdown",
   "id": "2bc9c260",
   "metadata": {
    "slideshow": {
     "slide_type": "fragment"
    }
   },
   "source": [
    "Actually, Python gives us an even better shortcut with its `sum` function:"
   ]
  },
  {
   "cell_type": "code",
   "execution_count": 70,
   "id": "57209ee8",
   "metadata": {
    "scrolled": true
   },
   "outputs": [
    {
     "data": {
      "text/plain": [
       "5050"
      ]
     },
     "execution_count": 70,
     "metadata": {},
     "output_type": "execute_result"
    }
   ],
   "source": [
    "sum(range(1,101))"
   ]
  },
  {
   "cell_type": "markdown",
   "id": "5c5c3690",
   "metadata": {},
   "source": [
    "<br><br><br>"
   ]
  },
  {
   "cell_type": "markdown",
   "id": "5c27bb59",
   "metadata": {
    "slideshow": {
     "slide_type": "subslide"
    }
   },
   "source": [
    "### Working with strings in `for` loops\n",
    "\n",
    "How many times do the Beatles say the word \"hand\" in the lyrics to \"I Want to Hold Your Hand\"?\n",
    "\n",
    "First we can use the `.split()` method to chop up a string into a <span class=\"new_term\">list</span> of one-word strings."
   ]
  },
  {
   "cell_type": "code",
   "execution_count": 6,
   "id": "6ea5177c",
   "metadata": {
    "slideshow": {
     "slide_type": "fragment"
    }
   },
   "outputs": [],
   "source": [
    "lyrics = \"\"\"\n",
    "Oh yeah, I'll tell you something\n",
    "I think you'll understand\n",
    "When I say that something\n",
    "I wanna hold your hand\n",
    "I wanna hold your hand\n",
    "I wanna hold your hand\n",
    "\n",
    "Oh please, say to me\n",
    "You'll let me be your man\n",
    "And please, say to me\n",
    "You'll let me hold your hand\n",
    "You'll let me hold your hand\n",
    "I wanna hold your hand\n",
    "\n",
    "And when I touch you I feel happy\n",
    "Inside\n",
    "It's such a feeling that my love\n",
    "I can't hide\n",
    "I can't hide\n",
    "I can't hide\n",
    "\n",
    "Yeah, you got that something\n",
    "I think you'll understand\n",
    "When I say that something\n",
    "I wanna hold your hand\n",
    "I wanna hold your hand\n",
    "I wanna hold your hand\n",
    "\n",
    "And when I touch you I feel happy\n",
    "Inside\n",
    "It's such a feeling that my love\n",
    "I can't hide\n",
    "I can't hide\n",
    "I can't hide\n",
    "\n",
    "Yeah, you got that something\n",
    "I think you'll understand\n",
    "When I feel that something\n",
    "I wanna hold your hand\n",
    "I wanna hold your hand\n",
    "I wanna hold your hand\n",
    "I wanna hold your hand\n",
    "\"\"\""
   ]
  },
  {
   "cell_type": "code",
   "execution_count": 7,
   "id": "e4101750",
   "metadata": {
    "scrolled": false,
    "slideshow": {
     "slide_type": "-"
    }
   },
   "outputs": [
    {
     "name": "stdout",
     "output_type": "stream",
     "text": [
      "['Oh', 'yeah,', \"I'll\", 'tell', 'you', 'something', 'I', 'think', \"you'll\", 'understand', 'When', 'I', 'say', 'that', 'something', 'I', 'wanna', 'hold', 'your', 'hand', 'I', 'wanna', 'hold', 'your', 'hand', 'I', 'wanna', 'hold', 'your', 'hand', 'Oh', 'please,', 'say', 'to', 'me', \"You'll\", 'let', 'me', 'be', 'your', 'man', 'And', 'please,', 'say', 'to', 'me', \"You'll\", 'let', 'me', 'hold', 'your', 'hand', \"You'll\", 'let', 'me', 'hold', 'your', 'hand', 'I', 'wanna', 'hold', 'your', 'hand', 'And', 'when', 'I', 'touch', 'you', 'I', 'feel', 'happy', 'Inside', \"It's\", 'such', 'a', 'feeling', 'that', 'my', 'love', 'I', \"can't\", 'hide', 'I', \"can't\", 'hide', 'I', \"can't\", 'hide', 'Yeah,', 'you', 'got', 'that', 'something', 'I', 'think', \"you'll\", 'understand', 'When', 'I', 'say', 'that', 'something', 'I', 'wanna', 'hold', 'your', 'hand', 'I', 'wanna', 'hold', 'your', 'hand', 'I', 'wanna', 'hold', 'your', 'hand', 'And', 'when', 'I', 'touch', 'you', 'I', 'feel', 'happy', 'Inside', \"It's\", 'such', 'a', 'feeling', 'that', 'my', 'love', 'I', \"can't\", 'hide', 'I', \"can't\", 'hide', 'I', \"can't\", 'hide', 'Yeah,', 'you', 'got', 'that', 'something', 'I', 'think', \"you'll\", 'understand', 'When', 'I', 'feel', 'that', 'something', 'I', 'wanna', 'hold', 'your', 'hand', 'I', 'wanna', 'hold', 'your', 'hand', 'I', 'wanna', 'hold', 'your', 'hand', 'I', 'wanna', 'hold', 'your', 'hand']\n"
     ]
    }
   ],
   "source": [
    "words = lyrics.split()\n",
    "\n",
    "print(words)"
   ]
  },
  {
   "cell_type": "markdown",
   "id": "58c23902",
   "metadata": {},
   "source": [
    "Then we can do a `for` loop over the elements of the list `words`, using an `if` statement to check if each word is \"hand\":"
   ]
  },
  {
   "cell_type": "code",
   "execution_count": 8,
   "id": "6eb442a2",
   "metadata": {
    "slideshow": {
     "slide_type": "fragment"
    }
   },
   "outputs": [
    {
     "name": "stdout",
     "output_type": "stream",
     "text": [
      "The word 'hand' appears 13 times in this song.\n"
     ]
    }
   ],
   "source": [
    "total = 0\n",
    "\n",
    "for word in words:\n",
    "    if word == \"hand\":  # string equality comparison \n",
    "        total = total + 1\n",
    "        \n",
    "print(\"The word 'hand' appears\", total, \"times in this song.\")       "
   ]
  },
  {
   "cell_type": "markdown",
   "id": "216f7dc9",
   "metadata": {},
   "source": [
    "<br><br><br>"
   ]
  },
  {
   "cell_type": "markdown",
   "id": "269b6ecb",
   "metadata": {
    "slideshow": {
     "slide_type": "subslide"
    }
   },
   "source": [
    "### List elements\n",
    "\n",
    "What is the 24th word in the song? Use square brackets `[]` to access an element of a list."
   ]
  },
  {
   "cell_type": "code",
   "execution_count": 9,
   "id": "814688ec",
   "metadata": {},
   "outputs": [
    {
     "data": {
      "text/plain": [
       "'your'"
      ]
     },
     "execution_count": 9,
     "metadata": {},
     "output_type": "execute_result"
    }
   ],
   "source": [
    "words[23]"
   ]
  },
  {
   "cell_type": "markdown",
   "id": "77ffa92d",
   "metadata": {
    "slideshow": {
     "slide_type": "fragment"
    }
   },
   "source": [
    "Why `23` and not `24`? Because **Python starts counting from zero, not one.**"
   ]
  },
  {
   "cell_type": "code",
   "execution_count": 10,
   "id": "e7844efa",
   "metadata": {},
   "outputs": [
    {
     "data": {
      "text/plain": [
       "'Oh'"
      ]
     },
     "execution_count": 10,
     "metadata": {},
     "output_type": "execute_result"
    }
   ],
   "source": [
    "words[0] # 1st word"
   ]
  },
  {
   "cell_type": "code",
   "execution_count": 11,
   "id": "6a994378",
   "metadata": {},
   "outputs": [
    {
     "data": {
      "text/plain": [
       "'yeah,'"
      ]
     },
     "execution_count": 11,
     "metadata": {},
     "output_type": "execute_result"
    }
   ],
   "source": [
    "words[1] # 2nd word"
   ]
  },
  {
   "cell_type": "markdown",
   "id": "54c961af",
   "metadata": {
    "slideshow": {
     "slide_type": "subslide"
    }
   },
   "source": [
    "How many words are in the song? "
   ]
  },
  {
   "cell_type": "code",
   "execution_count": 12,
   "id": "5c9cee65",
   "metadata": {
    "scrolled": true
   },
   "outputs": [
    {
     "data": {
      "text/plain": [
       "176"
      ]
     },
     "execution_count": 12,
     "metadata": {},
     "output_type": "execute_result"
    }
   ],
   "source": [
    "len(words)"
   ]
  },
  {
   "cell_type": "markdown",
   "id": "63cbbfbb",
   "metadata": {
    "slideshow": {
     "slide_type": "fragment"
    }
   },
   "source": [
    "What are the first 10 words in the song? For this we can use a <span class=\"new_term\">slice</span>"
   ]
  },
  {
   "cell_type": "code",
   "execution_count": 13,
   "id": "56ccb5fc",
   "metadata": {},
   "outputs": [
    {
     "name": "stdout",
     "output_type": "stream",
     "text": [
      "['Oh', 'yeah,', \"I'll\", 'tell', 'you', 'something', 'I', 'think', \"you'll\", 'understand']\n"
     ]
    }
   ],
   "source": [
    "first_ten = words[0:10] # start at 1st word, stop before 11th word\n",
    "print(first_ten)"
   ]
  },
  {
   "cell_type": "markdown",
   "id": "b9ef961e",
   "metadata": {
    "slideshow": {
     "slide_type": "fragment"
    }
   },
   "source": [
    "We can glue these words back together into a single string (with spaces in between the words) in this way:"
   ]
  },
  {
   "cell_type": "code",
   "execution_count": 14,
   "id": "5a2ac87e",
   "metadata": {},
   "outputs": [
    {
     "data": {
      "text/plain": [
       "\"Oh yeah, I'll tell you something I think you'll understand\""
      ]
     },
     "execution_count": 14,
     "metadata": {},
     "output_type": "execute_result"
    }
   ],
   "source": [
    "\" \".join(first_ten)"
   ]
  },
  {
   "cell_type": "markdown",
   "id": "99038e93",
   "metadata": {
    "slideshow": {
     "slide_type": "fragment"
    }
   },
   "source": [
    "When does the word \"something\" first appear in the song?"
   ]
  },
  {
   "cell_type": "code",
   "execution_count": 15,
   "id": "1902f251",
   "metadata": {},
   "outputs": [
    {
     "data": {
      "text/plain": [
       "5"
      ]
     },
     "execution_count": 15,
     "metadata": {},
     "output_type": "execute_result"
    }
   ],
   "source": [
    "words.index(\"something\") "
   ]
  },
  {
   "cell_type": "markdown",
   "id": "35a590b5",
   "metadata": {},
   "source": [
    "It's word number 6! (Since index 0 is word number 1.)  <br><br><br>"
   ]
  },
  {
   "cell_type": "markdown",
   "id": "df2ce1f3",
   "metadata": {
    "slideshow": {
     "slide_type": "slide"
    }
   },
   "source": [
    "## List comprehension \n",
    "\n",
    "You can construct lists from `for` loops in a single line. This is called a <span class=\"new_term\">list comprehension</span>.\n",
    "\n",
    "For example, to show the length of each word in the lyrics (in order):"
   ]
  },
  {
   "cell_type": "code",
   "execution_count": 16,
   "id": "934f3b9e",
   "metadata": {
    "scrolled": true
   },
   "outputs": [
    {
     "name": "stdout",
     "output_type": "stream",
     "text": [
      "[2, 5, 4, 4, 3, 9, 1, 5, 6, 10, 4, 1, 3, 4, 9, 1, 5, 4, 4, 4, 1, 5, 4, 4, 4, 1, 5, 4, 4, 4, 2, 7, 3, 2, 2, 6, 3, 2, 2, 4, 3, 3, 7, 3, 2, 2, 6, 3, 2, 4, 4, 4, 6, 3, 2, 4, 4, 4, 1, 5, 4, 4, 4, 3, 4, 1, 5, 3, 1, 4, 5, 6, 4, 4, 1, 7, 4, 2, 4, 1, 5, 4, 1, 5, 4, 1, 5, 4, 5, 3, 3, 4, 9, 1, 5, 6, 10, 4, 1, 3, 4, 9, 1, 5, 4, 4, 4, 1, 5, 4, 4, 4, 1, 5, 4, 4, 4, 3, 4, 1, 5, 3, 1, 4, 5, 6, 4, 4, 1, 7, 4, 2, 4, 1, 5, 4, 1, 5, 4, 1, 5, 4, 5, 3, 3, 4, 9, 1, 5, 6, 10, 4, 1, 4, 4, 9, 1, 5, 4, 4, 4, 1, 5, 4, 4, 4, 1, 5, 4, 4, 4, 1, 5, 4, 4, 4]\n"
     ]
    }
   ],
   "source": [
    "word_lengths = [ len(word) for word in words ]\n",
    "print(word_lengths)"
   ]
  },
  {
   "cell_type": "markdown",
   "id": "7a8136d5",
   "metadata": {
    "slideshow": {
     "slide_type": "fragment"
    }
   },
   "source": [
    "How many characters does the longest word have? "
   ]
  },
  {
   "cell_type": "code",
   "execution_count": 17,
   "id": "ee818f8c",
   "metadata": {},
   "outputs": [
    {
     "data": {
      "text/plain": [
       "10"
      ]
     },
     "execution_count": 17,
     "metadata": {},
     "output_type": "execute_result"
    }
   ],
   "source": [
    "max(word_lengths)"
   ]
  },
  {
   "cell_type": "markdown",
   "id": "24064d9b",
   "metadata": {
    "slideshow": {
     "slide_type": "subslide"
    }
   },
   "source": [
    "<h3 class=\"fragment semi-fade-out\">List comprehension </h3>"
   ]
  },
  {
   "cell_type": "markdown",
   "id": "39d6ba54",
   "metadata": {
    "slideshow": {
     "slide_type": "fragment"
    }
   },
   "source": [
    "We can put an `if` statement inside a list comprehension to filter the list before it goes through the `for` loop. \n",
    "\n",
    "For example, to get all the words in `lyrics` that start with \"y\":"
   ]
  },
  {
   "cell_type": "code",
   "execution_count": 18,
   "id": "4a6cbbb6",
   "metadata": {
    "scrolled": false
   },
   "outputs": [
    {
     "name": "stdout",
     "output_type": "stream",
     "text": [
      "['yeah,', 'you', \"you'll\", 'your', 'your', 'your', 'your', 'your', 'your', 'your', 'you', 'you', \"you'll\", 'your', 'your', 'your', 'you', 'you', \"you'll\", 'your', 'your', 'your', 'your']\n"
     ]
    }
   ],
   "source": [
    "my_list = [ word for word in words if word.startswith(\"y\") ]\n",
    "print(my_list)"
   ]
  },
  {
   "cell_type": "markdown",
   "id": "cf3906d5",
   "metadata": {
    "slideshow": {
     "slide_type": "fragment"
    }
   },
   "source": [
    "This is a shortcut for the following `for` loop with `if` block inside it:"
   ]
  },
  {
   "cell_type": "code",
   "execution_count": 19,
   "id": "e944414e",
   "metadata": {
    "scrolled": true
   },
   "outputs": [
    {
     "name": "stdout",
     "output_type": "stream",
     "text": [
      "['yeah,', 'you', \"you'll\", 'your', 'your', 'your', 'your', 'your', 'your', 'your', 'you', 'you', \"you'll\", 'your', 'your', 'your', 'you', 'you', \"you'll\", 'your', 'your', 'your', 'your']\n"
     ]
    }
   ],
   "source": [
    "my_list = []\n",
    "\n",
    "for word in words:\n",
    "    if word.startswith(\"y\"):       \n",
    "        my_list.append(word)\n",
    "        \n",
    "print(my_list)        \n",
    "        "
   ]
  },
  {
   "cell_type": "markdown",
   "id": "ed81d434",
   "metadata": {
    "slideshow": {
     "slide_type": "fragment"
    }
   },
   "source": [
    "<span class=\"your_turn\">Try it yourself!</span> — In your song lyrics from yesterday, find all the words whose first letter is \"h\".\n",
    "\n",
    "Can you use `len()` to get the *number* of these words? "
   ]
  },
  {
   "cell_type": "code",
   "execution_count": 22,
   "id": "5ff5294a",
   "metadata": {
    "slideshow": {
     "slide_type": "fragment"
    }
   },
   "outputs": [
    {
     "name": "stdout",
     "output_type": "stream",
     "text": [
      "['hold', 'hand', 'hold', 'hand', 'hold', 'hand', 'hold', 'hand', 'hold', 'hand', 'hold', 'hand', 'happy', 'hide', 'hide', 'hide', 'hold', 'hand', 'hold', 'hand', 'hold', 'hand', 'happy', 'hide', 'hide', 'hide', 'hold', 'hand', 'hold', 'hand', 'hold', 'hand', 'hold', 'hand']\n",
      "34\n"
     ]
    }
   ],
   "source": [
    "words_starting_with_D = [ word for word in lyrics.split() if word.startswith(\"h\") ]\n",
    "print(words_starting_with_D)\n",
    "print(len(words_starting_with_D))"
   ]
  },
  {
   "cell_type": "markdown",
   "id": "d7122132",
   "metadata": {},
   "source": [
    "<br><br><br>"
   ]
  },
  {
   "cell_type": "markdown",
   "id": "be25d03d",
   "metadata": {
    "slideshow": {
     "slide_type": "slide"
    }
   },
   "source": [
    "## Summary\n",
    "\n",
    "* `if`-`elif`-`else` statements allow your program to make \"decisions\"\n",
    "* `while` loops, `for` loops, and <span class=\"new_term\">functions</span> let you use the same block of code repeatedly.\n",
    "* <span class=\"new_term\">Lists</span> make it easy to work with data such as a collection of numbers or long text."
   ]
  },
  {
   "cell_type": "markdown",
   "id": "d8d684c2",
   "metadata": {
    "slideshow": {
     "slide_type": "fragment"
    }
   },
   "source": [
    "### Next steps:\n",
    "\n",
    "You can download Python from www.python.org and run your own programs on your computer. \n",
    "\n",
    "\n",
    "\n",
    "There are many free resources to help you learn Python at you own pace. \n",
    "\n",
    "<ul style=\"margin-top:-0px;\">\n",
    "    <li>\"Automate the Boring Stuff with Python\" <a href=\"https://automatetheboringstuff.com\">automatetheboringstuff.com</a>, a beginner's guide to Python scripting for everyday use </li>\n",
    "    <li> Many other options at <a href=\"https://wiki.python.org\">wiki.python.org</a></li>\n",
    "    </ul>\n",
    "\n",
    "We didn't have time to cover some of the most fun and useful elements of Python, such as <span class=\"new_term\">classes</span> and <span class=\"new_term\">modules</span>... look these up next! \n",
    "\n",
    "These slides will be posted and linked from [bellerphysics.gitlab.io/Code.html](https://bellerphysics.gitlab.io/Code.html) — which is a webpage created using Python!\n",
    "\n",
    "Happy coding!\n",
    "\n",
    "<br><br><br>"
   ]
  }
 ],
 "metadata": {
  "celltoolbar": "Slideshow",
  "extensions": {
   "jupyter_dashboards": {
    "activeView": "grid_default",
    "version": 1,
    "views": {
     "grid_default": {
      "cellMargin": 2,
      "defaultCellHeight": 60,
      "maxColumns": 12,
      "name": "grid",
      "type": "grid"
     }
    }
   }
  },
  "kernelspec": {
   "display_name": "conda-python39",
   "language": "python",
   "name": "conda-python39"
  },
  "language_info": {
   "codemirror_mode": {
    "name": "ipython",
    "version": 3
   },
   "file_extension": ".py",
   "mimetype": "text/x-python",
   "name": "python",
   "nbconvert_exporter": "python",
   "pygments_lexer": "ipython3",
   "version": "3.9.2"
  },
  "rise": {
   "scroll": true,
   "theme": "white"
  }
 },
 "nbformat": 4,
 "nbformat_minor": 5
}
