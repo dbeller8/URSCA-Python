{
 "cells": [
  {
   "cell_type": "markdown",
   "id": "c58315a8",
   "metadata": {
    "slideshow": {
     "slide_type": "slide"
    }
   },
   "source": [
    "<h1 class=\"r-stretch\" style=\"text-align:center\"> Introduction to Python, Part III</h1>\n",
    "\n",
    "<center>\n",
    "    <br>\n",
    "     <table style=\"background-color: white;\" align=\"center\">\n",
    "        <tr>\n",
    "            <td width=350>\n",
    "                <center>\n",
    "    <img src=\"https://www.python.org/static/community_logos/python-logo.png\" width=308 align=\"center\">\n",
    "                </center>\n",
    "            </td>\n",
    "            <td width=350>\n",
    "                <center>\n",
    "    <img src=\"https://brand.jhu.edu/assets/uploads/sites/5/2014/06/university.logo_.small_.horizontal.blue_.jpg\" width=250 align=\"center\">\n",
    "                </center>\n",
    "            </td>\n",
    "            </tr>\n",
    "    </table>\n",
    "        <br>\n",
    "    Johns Hopkins University  <br>\n",
    "Krieger School of Arts and Sciences  <br>\n",
    "Office of Undergraduate Research, Scholarly and Creative Activity (URSCA) <br>\n",
    "June 2023 <br>\n",
    "    <br>\n",
    "    Prof. Daniel Beller <br>\n",
    "    JHU Department of Physics &amp; Astronomy\n",
    "    </center>"
   ]
  },
  {
   "cell_type": "markdown",
   "id": "579b28ca",
   "metadata": {
    "slideshow": {
     "slide_type": "slide"
    }
   },
   "source": [
    "## Functions (continued)"
   ]
  },
  {
   "cell_type": "markdown",
   "id": "2e635f65",
   "metadata": {},
   "source": [
    "### Function arguments"
   ]
  },
  {
   "cell_type": "markdown",
   "id": "8e181c89",
   "metadata": {
    "slideshow": {
     "slide_type": "fragment"
    }
   },
   "source": [
    "Functions can have multiple arguments."
   ]
  },
  {
   "cell_type": "code",
   "execution_count": 61,
   "id": "01d64ba2",
   "metadata": {},
   "outputs": [
    {
     "name": "stdout",
     "output_type": "stream",
     "text": [
      "x =  5\n",
      "y =  2\n"
     ]
    },
    {
     "data": {
      "text/plain": [
       "17.5"
      ]
     },
     "execution_count": 61,
     "metadata": {},
     "output_type": "execute_result"
    }
   ],
   "source": [
    "def g(x, y):\n",
    "    print(\"x = \", x)\n",
    "    print(\"y = \", y)\n",
    "    return (x + y) * x / y\n",
    "\n",
    "g(5, 2)"
   ]
  },
  {
   "cell_type": "markdown",
   "id": "b246b36e",
   "metadata": {
    "slideshow": {
     "slide_type": "fragment"
    }
   },
   "source": [
    "Order of arguments matters. For this reason, Python calls them <span class=\"new_term\">positional arguments</span>."
   ]
  },
  {
   "cell_type": "code",
   "execution_count": 62,
   "id": "9e30c658",
   "metadata": {},
   "outputs": [
    {
     "name": "stdout",
     "output_type": "stream",
     "text": [
      "x =  2\n",
      "y =  5\n"
     ]
    },
    {
     "data": {
      "text/plain": [
       "2.8"
      ]
     },
     "execution_count": 62,
     "metadata": {},
     "output_type": "execute_result"
    }
   ],
   "source": [
    "g(2, 5)"
   ]
  },
  {
   "cell_type": "markdown",
   "id": "cc13035c",
   "metadata": {},
   "source": [
    "All arguments are required."
   ]
  },
  {
   "cell_type": "code",
   "execution_count": 63,
   "id": "3964b3e0",
   "metadata": {},
   "outputs": [
    {
     "ename": "TypeError",
     "evalue": "g() missing 1 required positional argument: 'y'",
     "output_type": "error",
     "traceback": [
      "\u001b[0;31m---------------------------------------------------------------------------\u001b[0m",
      "\u001b[0;31mTypeError\u001b[0m                                 Traceback (most recent call last)",
      "\u001b[0;32m<ipython-input-63-63c238822453>\u001b[0m in \u001b[0;36m<module>\u001b[0;34m\u001b[0m\n\u001b[0;32m----> 1\u001b[0;31m \u001b[0mg\u001b[0m\u001b[0;34m(\u001b[0m\u001b[0;36m2\u001b[0m\u001b[0;34m)\u001b[0m\u001b[0;34m\u001b[0m\u001b[0;34m\u001b[0m\u001b[0m\n\u001b[0m",
      "\u001b[0;31mTypeError\u001b[0m: g() missing 1 required positional argument: 'y'"
     ]
    }
   ],
   "source": [
    "g(2)"
   ]
  },
  {
   "cell_type": "markdown",
   "id": "3b68512f",
   "metadata": {
    "slideshow": {
     "slide_type": "subslide"
    }
   },
   "source": [
    "### Keyword arguments"
   ]
  },
  {
   "cell_type": "markdown",
   "id": "35d31c6c",
   "metadata": {},
   "source": [
    "<span class=\"new_term\">Keyword arguments</span>, or <span class=\"new_term\">\"kwargs\"</span>, are function arguments with a default value provided. Thus they are optional when calling the function."
   ]
  },
  {
   "cell_type": "code",
   "execution_count": 64,
   "id": "a3575c7e",
   "metadata": {},
   "outputs": [
    {
     "name": "stdout",
     "output_type": "stream",
     "text": [
      "c = 1\n",
      "city = Baltimore\n"
     ]
    },
    {
     "data": {
      "text/plain": [
       "3"
      ]
     },
     "execution_count": 64,
     "metadata": {},
     "output_type": "execute_result"
    }
   ],
   "source": [
    "def h(a, b, c=1, city=\"Baltimore\"):\n",
    "    print(\"c =\", c)\n",
    "    print(\"city =\", city)\n",
    "    if city == \"Milwaukee\":\n",
    "        return \"Go Brewers!\"\n",
    "    else:    \n",
    "        return (a + b) * c \n",
    "        \n",
    "\n",
    "h(1, 2)"
   ]
  },
  {
   "cell_type": "code",
   "execution_count": 65,
   "id": "f6722e25",
   "metadata": {},
   "outputs": [
    {
     "name": "stdout",
     "output_type": "stream",
     "text": [
      "c = 0\n",
      "city = Baltimore\n"
     ]
    },
    {
     "data": {
      "text/plain": [
       "0"
      ]
     },
     "execution_count": 65,
     "metadata": {},
     "output_type": "execute_result"
    }
   ],
   "source": [
    "h(1, 2, c=0)"
   ]
  },
  {
   "cell_type": "code",
   "execution_count": 66,
   "id": "c2810838",
   "metadata": {
    "scrolled": true
   },
   "outputs": [
    {
     "name": "stdout",
     "output_type": "stream",
     "text": [
      "c = 1\n",
      "city = Milwaukee\n"
     ]
    },
    {
     "data": {
      "text/plain": [
       "'Go Brewers!'"
      ]
     },
     "execution_count": 66,
     "metadata": {},
     "output_type": "execute_result"
    }
   ],
   "source": [
    "h(1, 2, city=\"Milwaukee\")"
   ]
  },
  {
   "cell_type": "code",
   "execution_count": 67,
   "id": "613904b9",
   "metadata": {},
   "outputs": [
    {
     "name": "stdout",
     "output_type": "stream",
     "text": [
      "c = 0\n",
      "city = Detroit\n"
     ]
    },
    {
     "data": {
      "text/plain": [
       "0"
      ]
     },
     "execution_count": 67,
     "metadata": {},
     "output_type": "execute_result"
    }
   ],
   "source": [
    "h(1, 2, c=0, city=\"Detroit\")"
   ]
  },
  {
   "cell_type": "markdown",
   "id": "83826ddc",
   "metadata": {
    "slideshow": {
     "slide_type": "fragment"
    }
   },
   "source": [
    "Keyword arguments can go in any order."
   ]
  },
  {
   "cell_type": "code",
   "execution_count": 68,
   "id": "ef7606d2",
   "metadata": {},
   "outputs": [
    {
     "name": "stdout",
     "output_type": "stream",
     "text": [
      "c = 3\n",
      "city = San Diego\n"
     ]
    },
    {
     "data": {
      "text/plain": [
       "9"
      ]
     },
     "execution_count": 68,
     "metadata": {},
     "output_type": "execute_result"
    }
   ],
   "source": [
    "h(1, 2, city=\"San Diego\", c=3)"
   ]
  },
  {
   "cell_type": "markdown",
   "id": "5c1b0bfd",
   "metadata": {
    "slideshow": {
     "slide_type": "fragment"
    }
   },
   "source": [
    "But keyword arguments must come after positional arguments."
   ]
  },
  {
   "cell_type": "code",
   "execution_count": 69,
   "id": "ba57a430",
   "metadata": {},
   "outputs": [
    {
     "ename": "SyntaxError",
     "evalue": "positional argument follows keyword argument (<ipython-input-69-09b061fe9aae>, line 1)",
     "output_type": "error",
     "traceback": [
      "\u001b[0;36m  File \u001b[0;32m\"<ipython-input-69-09b061fe9aae>\"\u001b[0;36m, line \u001b[0;32m1\u001b[0m\n\u001b[0;31m    h(city=\"San Diego\", 1, 2, c=3) # wrong!\u001b[0m\n\u001b[0m                                 ^\u001b[0m\n\u001b[0;31mSyntaxError\u001b[0m\u001b[0;31m:\u001b[0m positional argument follows keyword argument\n"
     ]
    }
   ],
   "source": [
    "h(city=\"San Diego\", 1, 2, c=3) # wrong!"
   ]
  },
  {
   "cell_type": "markdown",
   "id": "042e63c1",
   "metadata": {},
   "source": [
    "You can treat keyword arguments as positional arguments, if you put them in the right order. "
   ]
  },
  {
   "cell_type": "code",
   "execution_count": 70,
   "id": "cc046ae2",
   "metadata": {},
   "outputs": [
    {
     "name": "stdout",
     "output_type": "stream",
     "text": [
      "c = 3\n",
      "city = Baltimore\n"
     ]
    },
    {
     "data": {
      "text/plain": [
       "9"
      ]
     },
     "execution_count": 70,
     "metadata": {},
     "output_type": "execute_result"
    }
   ],
   "source": [
    "h(1, 2, 3)"
   ]
  },
  {
   "cell_type": "markdown",
   "id": "ad353587",
   "metadata": {},
   "source": [
    "<br><br><br>"
   ]
  },
  {
   "cell_type": "markdown",
   "id": "1bb6883d",
   "metadata": {
    "slideshow": {
     "slide_type": "slide"
    }
   },
   "source": [
    "## Collections"
   ]
  },
  {
   "cell_type": "markdown",
   "id": "0da3f960",
   "metadata": {
    "slideshow": {
     "slide_type": "fragment"
    }
   },
   "source": [
    "Yesterday we encountered <span class=\"new_term\">lists</span>, such as "
   ]
  },
  {
   "cell_type": "code",
   "execution_count": 71,
   "id": "8eee4cd7",
   "metadata": {},
   "outputs": [],
   "source": [
    "my_list = [3, False, \"tomato\"]"
   ]
  },
  {
   "cell_type": "markdown",
   "id": "dc76b4f2",
   "metadata": {
    "slideshow": {
     "slide_type": "fragment"
    }
   },
   "source": [
    "A <span class=\"new_term\">list</span> is an *ordered* collection, allowing us to view the $n$th element: "
   ]
  },
  {
   "cell_type": "code",
   "execution_count": 72,
   "id": "ab1c6af0",
   "metadata": {},
   "outputs": [
    {
     "data": {
      "text/plain": [
       "False"
      ]
     },
     "execution_count": 72,
     "metadata": {},
     "output_type": "execute_result"
    }
   ],
   "source": [
    "my_list[1]"
   ]
  },
  {
   "cell_type": "markdown",
   "id": "f1a35e48",
   "metadata": {
    "slideshow": {
     "slide_type": "fragment"
    }
   },
   "source": [
    "Its elements are changeable:"
   ]
  },
  {
   "cell_type": "code",
   "execution_count": 73,
   "id": "febfd400",
   "metadata": {},
   "outputs": [
    {
     "name": "stdout",
     "output_type": "stream",
     "text": [
      "[3, 'lettuce', 'tomato']\n"
     ]
    }
   ],
   "source": [
    "my_list[1] = \"lettuce\"\n",
    "print(my_list)"
   ]
  },
  {
   "cell_type": "markdown",
   "id": "c1343425",
   "metadata": {
    "slideshow": {
     "slide_type": "fragment"
    }
   },
   "source": [
    "Besides lists, Python has three other built-in <span class=\"new_term\">collection</span> data types:\n",
    "\n",
    "* <span class=\"new_term\">tuple</span>\n",
    "* <span class=\"new_term\">dictionary</span>\n",
    "* <span class=\"new_term\">set</span>"
   ]
  },
  {
   "cell_type": "markdown",
   "id": "074428c1",
   "metadata": {},
   "source": [
    "<br><br><br>"
   ]
  },
  {
   "cell_type": "markdown",
   "id": "6ddf86f4",
   "metadata": {
    "slideshow": {
     "slide_type": "slide"
    }
   },
   "source": [
    "### Tuples "
   ]
  },
  {
   "cell_type": "markdown",
   "id": "98a2c21d",
   "metadata": {
    "slideshow": {
     "slide_type": "fragment"
    }
   },
   "source": [
    "A <span class=\"new_term\">tuple</span> is an *ordered* collection of *unchangeable* elements."
   ]
  },
  {
   "cell_type": "code",
   "execution_count": 75,
   "id": "b004e362",
   "metadata": {},
   "outputs": [],
   "source": [
    "my_tuple = (\"terrific\", 71, False)"
   ]
  },
  {
   "cell_type": "code",
   "execution_count": 76,
   "id": "b2580a49",
   "metadata": {
    "slideshow": {
     "slide_type": "fragment"
    }
   },
   "outputs": [
    {
     "data": {
      "text/plain": [
       "71"
      ]
     },
     "execution_count": 76,
     "metadata": {},
     "output_type": "execute_result"
    }
   ],
   "source": [
    "my_tuple[1] # Can view elements"
   ]
  },
  {
   "cell_type": "code",
   "execution_count": 77,
   "id": "51a8571c",
   "metadata": {
    "slideshow": {
     "slide_type": "fragment"
    }
   },
   "outputs": [
    {
     "ename": "TypeError",
     "evalue": "'tuple' object does not support item assignment",
     "output_type": "error",
     "traceback": [
      "\u001b[0;31m---------------------------------------------------------------------------\u001b[0m",
      "\u001b[0;31mTypeError\u001b[0m                                 Traceback (most recent call last)",
      "\u001b[0;32m<ipython-input-77-e408e921b967>\u001b[0m in \u001b[0;36m<module>\u001b[0;34m\u001b[0m\n\u001b[0;32m----> 1\u001b[0;31m \u001b[0mmy_tuple\u001b[0m\u001b[0;34m[\u001b[0m\u001b[0;36m1\u001b[0m\u001b[0;34m]\u001b[0m \u001b[0;34m=\u001b[0m \u001b[0;36m83\u001b[0m \u001b[0;31m# wrong! Can't assign elements.\u001b[0m\u001b[0;34m\u001b[0m\u001b[0;34m\u001b[0m\u001b[0m\n\u001b[0m",
      "\u001b[0;31mTypeError\u001b[0m: 'tuple' object does not support item assignment"
     ]
    }
   ],
   "source": [
    "my_tuple[1] = 83 # wrong! Can't assign elements."
   ]
  },
  {
   "cell_type": "markdown",
   "id": "f1f32747",
   "metadata": {
    "slideshow": {
     "slide_type": "subslide"
    }
   },
   "source": [
    "Anything surrounded by `()` and containing `,` is a tuple."
   ]
  },
  {
   "cell_type": "code",
   "execution_count": 78,
   "id": "acb9857e",
   "metadata": {
    "slideshow": {
     "slide_type": "fragment"
    }
   },
   "outputs": [
    {
     "data": {
      "text/plain": [
       "tuple"
      ]
     },
     "execution_count": 78,
     "metadata": {},
     "output_type": "execute_result"
    }
   ],
   "source": [
    "thing = (5,)\n",
    "type(thing)"
   ]
  },
  {
   "cell_type": "code",
   "execution_count": 79,
   "id": "3ccebbb9",
   "metadata": {
    "slideshow": {
     "slide_type": "fragment"
    }
   },
   "outputs": [
    {
     "data": {
      "text/plain": [
       "int"
      ]
     },
     "execution_count": 79,
     "metadata": {},
     "output_type": "execute_result"
    }
   ],
   "source": [
    "thing = (5) # without comma, parentheses just mean order-of-operations\n",
    "type(thing)"
   ]
  },
  {
   "cell_type": "markdown",
   "id": "ff0fccf3",
   "metadata": {
    "slideshow": {
     "slide_type": "fragment"
    }
   },
   "source": [
    "Often you can leave out the `()`"
   ]
  },
  {
   "cell_type": "code",
   "execution_count": 80,
   "id": "75e9222e",
   "metadata": {},
   "outputs": [
    {
     "data": {
      "text/plain": [
       "(5, 3)"
      ]
     },
     "execution_count": 80,
     "metadata": {},
     "output_type": "execute_result"
    }
   ],
   "source": [
    "my_tuple = 5, 3\n",
    "my_tuple"
   ]
  },
  {
   "cell_type": "markdown",
   "id": "cded22b5",
   "metadata": {
    "slideshow": {
     "slide_type": "subslide"
    }
   },
   "source": [
    "Variables can be assigned from within a tuple. This is called <span class=\"new_term\">unpacking</span> the tuple."
   ]
  },
  {
   "cell_type": "code",
   "execution_count": 81,
   "id": "f7337037",
   "metadata": {},
   "outputs": [
    {
     "name": "stdout",
     "output_type": "stream",
     "text": [
      "(5, 3)\n",
      "5\n"
     ]
    },
    {
     "data": {
      "text/plain": [
       "int"
      ]
     },
     "execution_count": 81,
     "metadata": {},
     "output_type": "execute_result"
    }
   ],
   "source": [
    "x, y = my_tuple\n",
    "print(my_tuple)\n",
    "print(x)\n",
    "type(x)"
   ]
  },
  {
   "cell_type": "markdown",
   "id": "cbdf9838",
   "metadata": {
    "slideshow": {
     "slide_type": "subslide"
    }
   },
   "source": [
    "Turning a tuple into a list or vice versa is straightforward:"
   ]
  },
  {
   "cell_type": "code",
   "execution_count": 85,
   "id": "44c25dfb",
   "metadata": {
    "slideshow": {
     "slide_type": "fragment"
    }
   },
   "outputs": [
    {
     "data": {
      "text/plain": [
       "[5, 3]"
      ]
     },
     "execution_count": 85,
     "metadata": {},
     "output_type": "execute_result"
    }
   ],
   "source": [
    "a_list = list(my_tuple)\n",
    "a_list"
   ]
  },
  {
   "cell_type": "code",
   "execution_count": 86,
   "id": "514ec58c",
   "metadata": {
    "slideshow": {
     "slide_type": "fragment"
    }
   },
   "outputs": [
    {
     "data": {
      "text/plain": [
       "(5, 8)"
      ]
     },
     "execution_count": 86,
     "metadata": {},
     "output_type": "execute_result"
    }
   ],
   "source": [
    "a_list[1] = 8\n",
    "a_tuple = tuple(a_list)\n",
    "a_tuple"
   ]
  },
  {
   "cell_type": "markdown",
   "id": "3410212f",
   "metadata": {
    "slideshow": {
     "slide_type": "subslide"
    }
   },
   "source": [
    "We can \"add\" tuples:"
   ]
  },
  {
   "cell_type": "code",
   "execution_count": 87,
   "id": "052c2fcb",
   "metadata": {},
   "outputs": [
    {
     "data": {
      "text/plain": [
       "(5, 3, 5, 8)"
      ]
     },
     "execution_count": 87,
     "metadata": {},
     "output_type": "execute_result"
    }
   ],
   "source": [
    "my_tuple + a_tuple"
   ]
  },
  {
   "cell_type": "markdown",
   "id": "ae2a59d3",
   "metadata": {
    "slideshow": {
     "slide_type": "fragment"
    }
   },
   "source": [
    "and \"multiply\" by an integer:"
   ]
  },
  {
   "cell_type": "code",
   "execution_count": 88,
   "id": "f7a5e66e",
   "metadata": {},
   "outputs": [
    {
     "data": {
      "text/plain": [
       "(5, 8, 5, 8, 5, 8)"
      ]
     },
     "execution_count": 88,
     "metadata": {},
     "output_type": "execute_result"
    }
   ],
   "source": [
    "a_tuple * 3"
   ]
  },
  {
   "cell_type": "markdown",
   "id": "7158b4e2",
   "metadata": {
    "slideshow": {
     "slide_type": "subslide"
    }
   },
   "source": [
    "### Tuples in `for` loops"
   ]
  },
  {
   "cell_type": "markdown",
   "id": "26f99c9a",
   "metadata": {},
   "source": [
    "Like lists, tuples are an <span class=\"new_term\">iterable</span> type, meaning we can iterate over them in a `for` loop."
   ]
  },
  {
   "cell_type": "code",
   "execution_count": 89,
   "id": "abf0d1c0",
   "metadata": {},
   "outputs": [
    {
     "name": "stdout",
     "output_type": "stream",
     "text": [
      "My favorite color is red\n",
      "My favorite color is green\n",
      "My favorite color is orange\n"
     ]
    }
   ],
   "source": [
    "my_tuple = (\"red\", \"green\", \"orange\")\n",
    "\n",
    "for c in my_tuple:\n",
    "    print(\"My favorite color is\", c)\n",
    "    "
   ]
  },
  {
   "cell_type": "markdown",
   "id": "b00b37e6",
   "metadata": {
    "slideshow": {
     "slide_type": "subslide"
    }
   },
   "source": [
    "### Function positional arguments as tuples"
   ]
  },
  {
   "cell_type": "markdown",
   "id": "18e134a7",
   "metadata": {},
   "source": [
    "Suppose we have a function like"
   ]
  },
  {
   "cell_type": "code",
   "execution_count": 90,
   "id": "a62e6067",
   "metadata": {},
   "outputs": [],
   "source": [
    "def my_func(a, b, c):\n",
    "    return (a + b) * c"
   ]
  },
  {
   "cell_type": "markdown",
   "id": "64cc1b5f",
   "metadata": {},
   "source": [
    "As an alternative to calling `my_func` like"
   ]
  },
  {
   "cell_type": "code",
   "execution_count": 91,
   "id": "ab2c23a7",
   "metadata": {},
   "outputs": [
    {
     "data": {
      "text/plain": [
       "5"
      ]
     },
     "execution_count": 91,
     "metadata": {},
     "output_type": "execute_result"
    }
   ],
   "source": [
    "my_func(3, 2, 1)"
   ]
  },
  {
   "cell_type": "markdown",
   "id": "1484dd79",
   "metadata": {},
   "source": [
    "we can <span class=\"new_term\">pack</span> a tuple,"
   ]
  },
  {
   "cell_type": "code",
   "execution_count": 92,
   "id": "e0263c86",
   "metadata": {},
   "outputs": [],
   "source": [
    "another_tuple = (3, 2, 1)"
   ]
  },
  {
   "cell_type": "markdown",
   "id": "fe210bde",
   "metadata": {},
   "source": [
    "and then <span class=\"new_term\">unpack</span> it as the function's positional arguments, using the `*` operator:"
   ]
  },
  {
   "cell_type": "code",
   "execution_count": 93,
   "id": "ea3bde53",
   "metadata": {},
   "outputs": [
    {
     "data": {
      "text/plain": [
       "5"
      ]
     },
     "execution_count": 93,
     "metadata": {},
     "output_type": "execute_result"
    }
   ],
   "source": [
    "my_func(*another_tuple)"
   ]
  },
  {
   "cell_type": "markdown",
   "id": "7f7db2ca",
   "metadata": {},
   "source": [
    "This is useful if the program needs to decide which information to send to a function."
   ]
  },
  {
   "cell_type": "code",
   "execution_count": 94,
   "id": "029e8b1b",
   "metadata": {},
   "outputs": [
    {
     "name": "stdout",
     "output_type": "stream",
     "text": [
      "I like grapefruit more than cantaloupe\n"
     ]
    }
   ],
   "source": [
    "tuple_a = (\"grapefruit\", \"cantaloupe\")\n",
    "tuple_b = (\"broccoli\", \"spinach\")\n",
    "\n",
    "def foods_opinion(food1, food2):\n",
    "    print(\"I like\", food1, \"more than\", food2)\n",
    "\n",
    "foods_opinion(*tuple_a)"
   ]
  },
  {
   "cell_type": "code",
   "execution_count": 95,
   "id": "a09deb69",
   "metadata": {},
   "outputs": [
    {
     "name": "stdout",
     "output_type": "stream",
     "text": [
      "I like broccoli more than spinach\n"
     ]
    }
   ],
   "source": [
    "foods_opinion(*tuple_b)"
   ]
  },
  {
   "cell_type": "markdown",
   "id": "41dcb9b2",
   "metadata": {},
   "source": [
    "<br><br><br>"
   ]
  },
  {
   "cell_type": "markdown",
   "id": "c8102e5f",
   "metadata": {
    "slideshow": {
     "slide_type": "subslide"
    }
   },
   "source": [
    "### Functions with multiple return values"
   ]
  },
  {
   "cell_type": "markdown",
   "id": "8c1a2eb8",
   "metadata": {},
   "source": [
    "A function can return any number of values, separated by commas. Python packs them together into a tuple."
   ]
  },
  {
   "cell_type": "code",
   "execution_count": 96,
   "id": "d7579d5a",
   "metadata": {},
   "outputs": [
    {
     "data": {
      "text/plain": [
       "(11, -1, 30, 0.8333333333333334)"
      ]
     },
     "execution_count": 96,
     "metadata": {},
     "output_type": "execute_result"
    }
   ],
   "source": [
    "def f(x, y):\n",
    "    return x + y, x - y, x * y, x / y\n",
    "\n",
    "f(5, 6)"
   ]
  },
  {
   "cell_type": "markdown",
   "id": "e4f5594a",
   "metadata": {
    "slideshow": {
     "slide_type": "fragment"
    }
   },
   "source": [
    "A common practice is to immediately unpack the returned values into separate assignments:"
   ]
  },
  {
   "cell_type": "code",
   "execution_count": 98,
   "id": "946bee7d",
   "metadata": {},
   "outputs": [
    {
     "data": {
      "text/plain": [
       "30"
      ]
     },
     "execution_count": 98,
     "metadata": {},
     "output_type": "execute_result"
    }
   ],
   "source": [
    "my_sum, my_difference, my_product, my_quotient = f(5, 6)\n",
    "\n",
    "my_product"
   ]
  },
  {
   "cell_type": "markdown",
   "id": "a536d378",
   "metadata": {},
   "source": [
    "<br><br><br>"
   ]
  },
  {
   "cell_type": "markdown",
   "id": "84cac02f",
   "metadata": {
    "slideshow": {
     "slide_type": "slide"
    }
   },
   "source": [
    "### Dictionaries"
   ]
  },
  {
   "cell_type": "markdown",
   "id": "5ffbd41a",
   "metadata": {},
   "source": [
    "<span class=\"new_term\">Dictionaries</span> are *unordered*,  collections of *changeable* values. \n",
    "\n",
    "Rather than being associated with an integer index, like `my_list[5]`, each value in the dictionary is associated to a string <span class=\"new_term\">key</span>."
   ]
  },
  {
   "cell_type": "code",
   "execution_count": 103,
   "id": "3b28f8d6",
   "metadata": {},
   "outputs": [],
   "source": [
    "animal_sounds = {\"dog\":\"woof\", \"cat\":\"meow\", \"bird\":\"tweet\"}"
   ]
  },
  {
   "cell_type": "code",
   "execution_count": 104,
   "id": "e22b95db",
   "metadata": {},
   "outputs": [
    {
     "data": {
      "text/plain": [
       "dict_keys(['dog', 'cat', 'bird'])"
      ]
     },
     "execution_count": 104,
     "metadata": {},
     "output_type": "execute_result"
    }
   ],
   "source": [
    "animal_sounds.keys()"
   ]
  },
  {
   "cell_type": "code",
   "execution_count": 105,
   "id": "66e9ede5",
   "metadata": {},
   "outputs": [
    {
     "data": {
      "text/plain": [
       "dict_values(['woof', 'meow', 'tweet'])"
      ]
     },
     "execution_count": 105,
     "metadata": {},
     "output_type": "execute_result"
    }
   ],
   "source": [
    "animal_sounds.values()"
   ]
  },
  {
   "cell_type": "markdown",
   "id": "b3eb68c6",
   "metadata": {},
   "source": [
    "We view and assign elements of dictionaries similarly to those of lists, but with the string key in place of the integer index."
   ]
  },
  {
   "cell_type": "code",
   "execution_count": 106,
   "id": "19307512",
   "metadata": {},
   "outputs": [
    {
     "data": {
      "text/plain": [
       "'meow'"
      ]
     },
     "execution_count": 106,
     "metadata": {},
     "output_type": "execute_result"
    }
   ],
   "source": [
    "animal_sounds[\"cat\"]"
   ]
  },
  {
   "cell_type": "code",
   "execution_count": 107,
   "id": "a829d826",
   "metadata": {},
   "outputs": [
    {
     "data": {
      "text/plain": [
       "{'dog': 7, 'cat': 'meow', 'bird': 'tweet'}"
      ]
     },
     "execution_count": 107,
     "metadata": {},
     "output_type": "execute_result"
    }
   ],
   "source": [
    "animal_sounds[\"dog\"] = 7\n",
    "\n",
    "animal_sounds"
   ]
  },
  {
   "cell_type": "markdown",
   "id": "d598ab82",
   "metadata": {},
   "source": [
    "We can iterate over the dictionary keys like so:"
   ]
  },
  {
   "cell_type": "code",
   "execution_count": 109,
   "id": "27c3940f",
   "metadata": {},
   "outputs": [
    {
     "name": "stdout",
     "output_type": "stream",
     "text": [
      "dog goes 7\n",
      "cat goes meow\n",
      "bird goes tweet\n"
     ]
    }
   ],
   "source": [
    "for animal in animal_sounds.keys():\n",
    "    sound = animal_sounds[animal]\n",
    "    print(animal, \"goes\", sound)"
   ]
  },
  {
   "cell_type": "markdown",
   "id": "a0928e2d",
   "metadata": {},
   "source": [
    "As an alternative to the `{\"key\": value, ...}` notation, you can write"
   ]
  },
  {
   "cell_type": "code",
   "execution_count": 110,
   "id": "480e9ae9",
   "metadata": {},
   "outputs": [
    {
     "data": {
      "text/plain": [
       "{'dog': 'woof', 'cat': 'meow', 'bird': 'tweet'}"
      ]
     },
     "execution_count": 110,
     "metadata": {},
     "output_type": "execute_result"
    }
   ],
   "source": [
    "animal_sounds = dict(dog=\"woof\", cat=\"meow\", bird=\"tweet\") \n",
    "# no quotes needed for keys! \n",
    "\n",
    "animal_sounds"
   ]
  },
  {
   "cell_type": "markdown",
   "id": "aba60965",
   "metadata": {},
   "source": [
    "<br><br><br>"
   ]
  },
  {
   "cell_type": "markdown",
   "id": "1182665a",
   "metadata": {
    "slideshow": {
     "slide_type": "slide"
    }
   },
   "source": [
    "### Kwargs as dictionaries"
   ]
  },
  {
   "cell_type": "markdown",
   "id": "07d3e352",
   "metadata": {},
   "source": [
    "Just as we can pack a function's positional arguments into a tuple, we can pack a function's keyword arguments as a dictionary using the `**` operator."
   ]
  },
  {
   "cell_type": "code",
   "execution_count": 111,
   "id": "f17da56b",
   "metadata": {},
   "outputs": [
    {
     "name": "stdout",
     "output_type": "stream",
     "text": [
      "10\n",
      "12\n",
      "14\n",
      "16\n",
      "18\n"
     ]
    }
   ],
   "source": [
    "def print_range(start=0, stop=10, step=1):\n",
    "    i = start\n",
    "    while i < stop:\n",
    "        print(i)\n",
    "        i = i + step\n",
    "        \n",
    "my_range_kwargs = dict(start=10, stop=20, step=2)\n",
    "# print_range()\n",
    "print_range(**my_range_kwargs)"
   ]
  },
  {
   "cell_type": "markdown",
   "id": "7d1fbcec",
   "metadata": {},
   "source": [
    "<br><br><br>"
   ]
  },
  {
   "cell_type": "markdown",
   "id": "7d3e496c",
   "metadata": {
    "slideshow": {
     "slide_type": "slide"
    }
   },
   "source": [
    "### Sets"
   ]
  },
  {
   "cell_type": "markdown",
   "id": "a5c5dd47",
   "metadata": {},
   "source": [
    "<span class=\"new_term\">Sets</span> are *unindexed* collections of unchangeable elements, with no duplicates allowed."
   ]
  },
  {
   "cell_type": "code",
   "execution_count": 112,
   "id": "e764648f",
   "metadata": {},
   "outputs": [
    {
     "data": {
      "text/plain": [
       "{1, 3, 4}"
      ]
     },
     "execution_count": 112,
     "metadata": {},
     "output_type": "execute_result"
    }
   ],
   "source": [
    "my_set = {1, 4, 3, 4}\n",
    "my_set"
   ]
  },
  {
   "cell_type": "markdown",
   "id": "f3c148e0",
   "metadata": {},
   "source": [
    "Sets are iterable:"
   ]
  },
  {
   "cell_type": "code",
   "execution_count": 113,
   "id": "5f6c5956",
   "metadata": {},
   "outputs": [
    {
     "name": "stdout",
     "output_type": "stream",
     "text": [
      "1\n",
      "3\n",
      "4\n"
     ]
    }
   ],
   "source": [
    "for thing in my_set:\n",
    "    print(thing)"
   ]
  },
  {
   "cell_type": "markdown",
   "id": "b7d67c85",
   "metadata": {},
   "source": [
    "One common use is to remove duplicates from a list."
   ]
  },
  {
   "cell_type": "code",
   "execution_count": 114,
   "id": "6a654320",
   "metadata": {},
   "outputs": [
    {
     "name": "stdout",
     "output_type": "stream",
     "text": [
      "{1, 3, 5, 6, 7, 9, 10}\n",
      "[1, 3, 5, 6, 7, 9, 10]\n"
     ]
    }
   ],
   "source": [
    "my_list = [5, 10, 10, 10, 9, 6, 10, 1, 7, 3, 7, 5]\n",
    "\n",
    "as_set = set(my_list)\n",
    "print(as_set)\n",
    "\n",
    "back_to_list = list(as_set)\n",
    "print(back_to_list)"
   ]
  },
  {
   "cell_type": "markdown",
   "id": "ddc1128c",
   "metadata": {
    "slideshow": {
     "slide_type": "slide"
    }
   },
   "source": [
    "## Variable scope"
   ]
  },
  {
   "cell_type": "markdown",
   "id": "65a66484",
   "metadata": {},
   "source": [
    "Consider this code snippet:"
   ]
  },
  {
   "cell_type": "code",
   "execution_count": 115,
   "id": "16939663",
   "metadata": {},
   "outputs": [
    {
     "data": {
      "text/plain": [
       "6"
      ]
     },
     "execution_count": 115,
     "metadata": {},
     "output_type": "execute_result"
    }
   ],
   "source": [
    "a = 5\n",
    "\n",
    "def my_func(a):\n",
    "    a = a + 1\n",
    "    return a\n",
    "\n",
    "my_func(a)"
   ]
  },
  {
   "cell_type": "markdown",
   "id": "7fde28f5",
   "metadata": {},
   "source": [
    "You might think that the value of `a` is now `6`. However:"
   ]
  },
  {
   "cell_type": "code",
   "execution_count": 116,
   "id": "6e8a97ac",
   "metadata": {},
   "outputs": [
    {
     "data": {
      "text/plain": [
       "5"
      ]
     },
     "execution_count": 116,
     "metadata": {},
     "output_type": "execute_result"
    }
   ],
   "source": [
    "a"
   ]
  },
  {
   "cell_type": "markdown",
   "id": "ee24015d",
   "metadata": {},
   "source": [
    "Why? Because we have actually created two different entities called `a`. \n",
    "\n",
    "The line `a = 5` creates a variable in the <span class=\"new_term\">outer</span> scope to the function. \n",
    "\n",
    "But inside `my_func`, the argument `a` is a newly created <span class=\"new_term\">local</span> variable that is erased after the function exits. \n",
    "\n",
    "If you try using an outer-scope variable inside the function, you sometimes get an error:"
   ]
  },
  {
   "cell_type": "code",
   "execution_count": 117,
   "id": "a04959fd",
   "metadata": {
    "scrolled": true
   },
   "outputs": [
    {
     "ename": "UnboundLocalError",
     "evalue": "local variable 'a' referenced before assignment",
     "output_type": "error",
     "traceback": [
      "\u001b[0;31m---------------------------------------------------------------------------\u001b[0m",
      "\u001b[0;31mUnboundLocalError\u001b[0m                         Traceback (most recent call last)",
      "\u001b[0;32m<ipython-input-117-6c6f1e995351>\u001b[0m in \u001b[0;36m<module>\u001b[0;34m\u001b[0m\n\u001b[1;32m      6\u001b[0m     \u001b[0;32mreturn\u001b[0m \u001b[0mb\u001b[0m\u001b[0;34m\u001b[0m\u001b[0;34m\u001b[0m\u001b[0m\n\u001b[1;32m      7\u001b[0m \u001b[0;34m\u001b[0m\u001b[0m\n\u001b[0;32m----> 8\u001b[0;31m \u001b[0mmy_func2\u001b[0m\u001b[0;34m(\u001b[0m\u001b[0ma\u001b[0m\u001b[0;34m)\u001b[0m\u001b[0;34m\u001b[0m\u001b[0;34m\u001b[0m\u001b[0m\n\u001b[0m",
      "\u001b[0;32m<ipython-input-117-6c6f1e995351>\u001b[0m in \u001b[0;36mmy_func2\u001b[0;34m(b)\u001b[0m\n\u001b[1;32m      2\u001b[0m \u001b[0;34m\u001b[0m\u001b[0m\n\u001b[1;32m      3\u001b[0m \u001b[0;32mdef\u001b[0m \u001b[0mmy_func2\u001b[0m\u001b[0;34m(\u001b[0m\u001b[0mb\u001b[0m\u001b[0;34m)\u001b[0m\u001b[0;34m:\u001b[0m\u001b[0;34m\u001b[0m\u001b[0;34m\u001b[0m\u001b[0m\n\u001b[0;32m----> 4\u001b[0;31m     \u001b[0ma\u001b[0m \u001b[0;34m=\u001b[0m \u001b[0mb\u001b[0m \u001b[0;34m+\u001b[0m \u001b[0ma\u001b[0m\u001b[0;34m\u001b[0m\u001b[0;34m\u001b[0m\u001b[0m\n\u001b[0m\u001b[1;32m      5\u001b[0m     \u001b[0mb\u001b[0m \u001b[0;34m=\u001b[0m \u001b[0ma\u001b[0m \u001b[0;34m*\u001b[0m \u001b[0mb\u001b[0m\u001b[0;34m\u001b[0m\u001b[0;34m\u001b[0m\u001b[0m\n\u001b[1;32m      6\u001b[0m     \u001b[0;32mreturn\u001b[0m \u001b[0mb\u001b[0m\u001b[0;34m\u001b[0m\u001b[0;34m\u001b[0m\u001b[0m\n",
      "\u001b[0;31mUnboundLocalError\u001b[0m: local variable 'a' referenced before assignment"
     ]
    }
   ],
   "source": [
    "a = 5 \n",
    "\n",
    "def my_func2(b):\n",
    "    a = b + a \n",
    "    b = a * b\n",
    "    return b\n",
    "\n",
    "my_func2(a)"
   ]
  },
  {
   "cell_type": "markdown",
   "id": "be1add75",
   "metadata": {},
   "source": [
    "You can use the outer-scope `a` with the `global` keyword, but this is not considered good practice."
   ]
  },
  {
   "cell_type": "code",
   "execution_count": 118,
   "id": "754ede8c",
   "metadata": {
    "scrolled": true
   },
   "outputs": [
    {
     "name": "stdout",
     "output_type": "stream",
     "text": [
      "14\n",
      "a = 7\n"
     ]
    }
   ],
   "source": [
    "a = 5 \n",
    "\n",
    "def my_func3(b):\n",
    "    global a \n",
    "    a = b + a \n",
    "    b = a * b\n",
    "    return b\n",
    "\n",
    "print(my_func3(2))\n",
    "print(\"a =\", a)"
   ]
  },
  {
   "cell_type": "markdown",
   "id": "69cd1df6",
   "metadata": {},
   "source": [
    "It's better to <span class=\"new_term\">pass</span> the variable as an argument. Then, if we want the function to modify the value of `a` in the outer scope:"
   ]
  },
  {
   "cell_type": "code",
   "execution_count": 119,
   "id": "67dfa47b",
   "metadata": {
    "scrolled": true
   },
   "outputs": [
    {
     "name": "stdout",
     "output_type": "stream",
     "text": [
      "a = 9 b = 36\n",
      "a = 13 b = 52\n"
     ]
    }
   ],
   "source": [
    "a = 5\n",
    "\n",
    "def my_func3(a, b):\n",
    "    a = b + a\n",
    "    b = a * b\n",
    "    return a, b\n",
    "\n",
    "a, b = my_func3(a, 4)\n",
    "print(\"a =\", a, \"b =\", b)\n",
    "\n",
    "a, b = my_func3(a, 4)\n",
    "print(\"a =\", a, \"b =\", b)"
   ]
  },
  {
   "cell_type": "markdown",
   "id": "9eca946f",
   "metadata": {},
   "source": [
    "<br><br><br>"
   ]
  },
  {
   "cell_type": "markdown",
   "id": "ab01026c",
   "metadata": {
    "slideshow": {
     "slide_type": "slide"
    }
   },
   "source": [
    "## `break`, `continue`"
   ]
  },
  {
   "cell_type": "markdown",
   "id": "9ad5337f",
   "metadata": {},
   "source": [
    "There are two special keywords to use inside `while` loops and `for` loops to change their looping behavior:\n",
    "\n",
    "* `break` exits the `for` or `while` loop\n",
    "* `continue` skips to the next iteration"
   ]
  },
  {
   "cell_type": "code",
   "execution_count": 120,
   "id": "04b2f8c3",
   "metadata": {
    "slideshow": {
     "slide_type": "fragment"
    }
   },
   "outputs": [],
   "source": [
    "some_integers = [1, 7, 5, 2, 6, 3, 15]"
   ]
  },
  {
   "cell_type": "code",
   "execution_count": 121,
   "id": "40c7d10c",
   "metadata": {
    "scrolled": true,
    "slideshow": {
     "slide_type": "fragment"
    }
   },
   "outputs": [
    {
     "name": "stdout",
     "output_type": "stream",
     "text": [
      "1\n",
      "7\n",
      "5\n",
      "2\n"
     ]
    }
   ],
   "source": [
    "# print the integers but stop when we hit the first even number:\n",
    "for num in some_integers:\n",
    "    print(num)\n",
    "    if num % 2 == 0:\n",
    "        break"
   ]
  },
  {
   "cell_type": "code",
   "execution_count": 122,
   "id": "ae07f448",
   "metadata": {
    "slideshow": {
     "slide_type": "fragment"
    }
   },
   "outputs": [
    {
     "name": "stdout",
     "output_type": "stream",
     "text": [
      "1\n",
      "7\n",
      "5\n",
      "3\n",
      "15\n"
     ]
    }
   ],
   "source": [
    "# print the integers but skip all the even numbers\n",
    "for num in some_integers:\n",
    "    if num % 2 == 0:\n",
    "        continue    \n",
    "    print(num)"
   ]
  },
  {
   "cell_type": "markdown",
   "id": "20cb1207",
   "metadata": {},
   "source": [
    "<br><br><br>"
   ]
  },
  {
   "cell_type": "markdown",
   "id": "c9895513",
   "metadata": {
    "slideshow": {
     "slide_type": "subslide"
    }
   },
   "source": [
    "When the conditions for exiting a `while` loop are complicated, often Python programmers create an infinite loop that `break`s on specific conditions:"
   ]
  },
  {
   "cell_type": "code",
   "execution_count": 123,
   "id": "31183d5e",
   "metadata": {},
   "outputs": [
    {
     "name": "stdout",
     "output_type": "stream",
     "text": [
      "[1, 7, 5, 2, 6, 3, 15]\n",
      "[1, 7, 5, 2, 6, 3]\n",
      "[1, 7, 5, 2, 6]\n",
      "[1, 7, 5, 2]\n"
     ]
    },
    {
     "data": {
      "text/plain": [
       "[1, 7, 5]"
      ]
     },
     "execution_count": 123,
     "metadata": {},
     "output_type": "execute_result"
    }
   ],
   "source": [
    "while True:\n",
    "    if some_integers[-1] == 5: # stop if last element is 5\n",
    "        break\n",
    "    print(some_integers)\n",
    "    some_integers = some_integers[0:-1] # slice from index 0 to (stop before) last\n",
    "    if sum(some_integers) == 100:\n",
    "        break\n",
    "        \n",
    "some_integers"
   ]
  },
  {
   "cell_type": "markdown",
   "id": "c60e3f17",
   "metadata": {
    "slideshow": {
     "slide_type": "slide"
    }
   },
   "source": [
    "## Summary"
   ]
  },
  {
   "cell_type": "markdown",
   "id": "9b7fcfed",
   "metadata": {
    "slideshow": {
     "slide_type": "fragment"
    }
   },
   "source": [
    "* Tuples, dicts, and sets are collections with different properties than lists."
   ]
  },
  {
   "cell_type": "markdown",
   "id": "d092b849",
   "metadata": {
    "slideshow": {
     "slide_type": "fragment"
    }
   },
   "source": [
    "* Python functions can \n",
    "    * receive multiple positional arguments (possibly packed as tuple)\n",
    "    * receive multiple keyword arguments (possibly packed as dict)\n",
    "    * return multiple values (as tuple)"
   ]
  },
  {
   "cell_type": "markdown",
   "id": "f7ff54bf",
   "metadata": {
    "slideshow": {
     "slide_type": "fragment"
    }
   },
   "source": [
    "* Be careful about variable scope, and pass variables as function arguments when in doubt."
   ]
  },
  {
   "cell_type": "markdown",
   "id": "9a6ebf44",
   "metadata": {
    "slideshow": {
     "slide_type": "fragment"
    }
   },
   "source": [
    "* Use `break` and `continue` to control iterations of your `while` and `for` loops"
   ]
  },
  {
   "cell_type": "markdown",
   "id": "340d2795",
   "metadata": {
    "slideshow": {
     "slide_type": "slide"
    }
   },
   "source": [
    "## <span class=\"your_turn\">Activity: Mad Libs</span>"
   ]
  },
  {
   "cell_type": "markdown",
   "id": "c911081a",
   "metadata": {},
   "source": [
    "* Write a very short story, just 5 or 6 sentences. \n",
    "* Choose ≥ 6 words to replace with blanks. For example, \n",
    "> My ___ got lost at the fair.\n",
    "* Make a function that prints the story with the blanks filled by keyword arguments like `noun = `.\n",
    "* Make a dictionary with a key for every blank, like {\"noun\": \"\"} (empty value)\n",
    "* Get your neighbors to provide values for the dictionary. Feed that dictionary to your function to complete the story."
   ]
  },
  {
   "cell_type": "markdown",
   "id": "39a0cdff",
   "metadata": {
    "slideshow": {
     "slide_type": "slide"
    }
   },
   "source": [
    "### Next steps:\n",
    "\n",
    "You can download Python from www.python.org and run your own programs on your computer. \n",
    "\n",
    "There are many free resources to help you learn Python at you own pace. \n",
    "\n",
    "<ul style=\"margin-top:-0px;\">\n",
    "    <li>\"Automate the Boring Stuff with Python\" <a href=\"https://automatetheboringstuff.com\">automatetheboringstuff.com</a>, a beginner's guide to Python scripting for everyday use </li>\n",
    "    <li> Many other options at <a href=\"https://wiki.python.org\">wiki.python.org</a></li>\n",
    "    </ul>\n",
    "\n",
    "We didn't have time to cover some of the most fun and useful elements of Python, such as <span class=\"new_term\">classes</span> and <span class=\"new_term\">modules</span>... look these up next! \n",
    "\n",
    "These slides will be posted and linked from [https://pages.jh.edu/dbeller3/education-outreach.html](https://pages.jh.edu/dbeller3/education-outreach.html) — which is a webpage created using Python!\n",
    "\n",
    "Happy coding!"
   ]
  },
  {
   "cell_type": "code",
   "execution_count": null,
   "id": "e897bb1f",
   "metadata": {},
   "outputs": [],
   "source": []
  }
 ],
 "metadata": {
  "celltoolbar": "Slideshow",
  "kernelspec": {
   "display_name": "conda-python39",
   "language": "python",
   "name": "conda-python39"
  },
  "language_info": {
   "codemirror_mode": {
    "name": "ipython",
    "version": 3
   },
   "file_extension": ".py",
   "mimetype": "text/x-python",
   "name": "python",
   "nbconvert_exporter": "python",
   "pygments_lexer": "ipython3",
   "version": "3.9.2"
  }
 },
 "nbformat": 4,
 "nbformat_minor": 5
}
