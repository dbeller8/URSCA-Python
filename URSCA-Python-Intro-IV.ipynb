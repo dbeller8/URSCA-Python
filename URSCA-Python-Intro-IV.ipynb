{
 "cells": [
  {
   "cell_type": "markdown",
   "id": "80057546",
   "metadata": {
    "slideshow": {
     "slide_type": "slide"
    }
   },
   "source": [
    "<h1 class=\"r-stretch\" style=\"text-align:center\"> Introduction to Python, Part IV</h1>\n",
    "\n",
    "<center>\n",
    "    <br>\n",
    "     <table style=\"background-color: white;\" align=\"center\">\n",
    "        <tr>\n",
    "            <td width=350>\n",
    "                <center>\n",
    "    <img src=\"https://www.python.org/static/community_logos/python-logo.png\" width=308 align=\"center\">\n",
    "                </center>\n",
    "            </td>\n",
    "            <td width=350>\n",
    "                <center>\n",
    "    <img src=\"https://brand.jhu.edu/assets/uploads/sites/5/2014/06/university.logo_.small_.horizontal.blue_.jpg\" width=250 align=\"center\">\n",
    "                </center>\n",
    "            </td>\n",
    "            </tr>\n",
    "    </table>\n",
    "        <br>\n",
    "    Johns Hopkins University  <br>\n",
    "Krieger School of Arts and Sciences  <br>\n",
    "Office of Undergraduate Research, Scholarly and Creative Activity (URSCA) <br>\n",
    "May 24, 2022 <br>\n",
    "    <br>\n",
    "    Prof. Daniel Beller <br>\n",
    "    JHU Department of Physics &amp; Astronomy\n",
    "    </center>"
   ]
  },
  {
   "cell_type": "markdown",
   "id": "3ab3e805",
   "metadata": {
    "slideshow": {
     "slide_type": "slide"
    }
   },
   "source": [
    "## Using Python packages"
   ]
  },
  {
   "cell_type": "markdown",
   "id": "17c64881",
   "metadata": {
    "slideshow": {
     "slide_type": "-"
    }
   },
   "source": [
    "* A vast amount of functionality beyond \"native\" Python is available through Python <span class=\"new_term\">packages</span>.\n",
    "* In this session, we'll overview how to use some common packages that are included in the Colab interface."
   ]
  },
  {
   "cell_type": "markdown",
   "id": "d6dc914d",
   "metadata": {
    "slideshow": {
     "slide_type": "fragment"
    }
   },
   "source": [
    "* A Python <span class=\"new_term\">package</span> contains one or more <span class=\"new_term\">modules</span>.\n",
    "\n",
    "* A Python <span class=\"new_term\">module</span> can be loaded with the `import` keyword.\n",
    "\n",
    "* Then we can use methods from a module with the syntax `module.method(...)`\n",
    "\n",
    "* As a first example, let's load  the `random` module, which comes included with Python itself."
   ]
  },
  {
   "cell_type": "code",
   "execution_count": 75,
   "id": "4803f6a6",
   "metadata": {
    "slideshow": {
     "slide_type": "fragment"
    }
   },
   "outputs": [
    {
     "data": {
      "text/plain": [
       "5"
      ]
     },
     "execution_count": 75,
     "metadata": {},
     "output_type": "execute_result"
    }
   ],
   "source": [
    "import random\n",
    "\n",
    "random.randint(0, 100)  # get a random integer between 0 and 99"
   ]
  },
  {
   "cell_type": "markdown",
   "id": "04158322",
   "metadata": {
    "slideshow": {
     "slide_type": "fragment"
    }
   },
   "source": [
    "Alternatively, if we know which specific methods we want, we can import those with the syntax \n",
    "```python\n",
    "from module import method1, method2, ...    \n",
    "method1(...)\n",
    "```\n",
    "\n",
    "Example:"
   ]
  },
  {
   "cell_type": "code",
   "execution_count": 79,
   "id": "02fc05e9",
   "metadata": {},
   "outputs": [
    {
     "data": {
      "text/plain": [
       "'a'"
      ]
     },
     "execution_count": 79,
     "metadata": {},
     "output_type": "execute_result"
    }
   ],
   "source": [
    "from random import choice\n",
    "\n",
    "choice([\"a\", \"b\", \"c\"])  # choose randomly from among these three options"
   ]
  },
  {
   "cell_type": "markdown",
   "id": "d4faefbc",
   "metadata": {
    "slideshow": {
     "slide_type": "fragment"
    }
   },
   "source": [
    "Use `*` to import everything (not always a good idea!) "
   ]
  },
  {
   "cell_type": "code",
   "execution_count": 80,
   "id": "da22fdbb",
   "metadata": {},
   "outputs": [
    {
     "data": {
      "text/plain": [
       "0.8576692813577352"
      ]
     },
     "execution_count": 80,
     "metadata": {},
     "output_type": "execute_result"
    }
   ],
   "source": [
    "from random import *\n",
    "\n",
    "uniform(0, 1)  # get a random float between 0 and 1"
   ]
  },
  {
   "cell_type": "markdown",
   "id": "670a99cb",
   "metadata": {},
   "source": [
    "<br><br><br>"
   ]
  },
  {
   "cell_type": "markdown",
   "id": "c491376e",
   "metadata": {
    "slideshow": {
     "slide_type": "slide"
    }
   },
   "source": [
    "## Getting help"
   ]
  },
  {
   "cell_type": "markdown",
   "id": "48c7bceb",
   "metadata": {
    "slideshow": {
     "slide_type": "fragment"
    }
   },
   "source": [
    "In the Colab notebook, we can type `?` to get a little hint about how to use each imported function."
   ]
  },
  {
   "cell_type": "code",
   "execution_count": 81,
   "id": "301dcb27",
   "metadata": {
    "scrolled": true
   },
   "outputs": [],
   "source": [
    "?randint"
   ]
  },
  {
   "cell_type": "markdown",
   "id": "04d03126",
   "metadata": {
    "slideshow": {
     "slide_type": "fragment"
    }
   },
   "source": [
    "Also, Python has a `help()` function."
   ]
  },
  {
   "cell_type": "code",
   "execution_count": 82,
   "id": "a5f53645",
   "metadata": {},
   "outputs": [
    {
     "name": "stdout",
     "output_type": "stream",
     "text": [
      "Help on method randint in module random:\n",
      "\n",
      "randint(a, b) method of random.Random instance\n",
      "    Return random integer in range [a, b], including both end points.\n",
      "\n"
     ]
    }
   ],
   "source": [
    "help(randint)"
   ]
  },
  {
   "cell_type": "markdown",
   "id": "a074a9b1",
   "metadata": {
    "slideshow": {
     "slide_type": "fragment"
    }
   },
   "source": [
    "For more extensive documentation, search for the function at [docs.python.org](https://docs.python.org)."
   ]
  },
  {
   "cell_type": "markdown",
   "id": "e2645b47",
   "metadata": {},
   "source": [
    "<br><br><br>"
   ]
  },
  {
   "cell_type": "markdown",
   "id": "68e598d8",
   "metadata": {
    "slideshow": {
     "slide_type": "slide"
    }
   },
   "source": [
    "## *NumPy* for numerics \n",
    "\n",
    "One of the most commonly used Python packages for numerical tasks is *NumPy*. \n",
    "\n",
    "NumPy does math on <span class=\"new_term\">arrays</span> much faster than \"native\" Python can with lists."
   ]
  },
  {
   "cell_type": "code",
   "execution_count": 6,
   "id": "5582b5d0",
   "metadata": {},
   "outputs": [
    {
     "data": {
      "text/plain": [
       "array([ 2, 18, 12])"
      ]
     },
     "execution_count": 6,
     "metadata": {},
     "output_type": "execute_result"
    }
   ],
   "source": [
    "import numpy \n",
    "\n",
    "my_array = numpy.array([1, 9, 6])\n",
    "2 * my_array"
   ]
  },
  {
   "cell_type": "markdown",
   "id": "a7e1cd32",
   "metadata": {
    "slideshow": {
     "slide_type": "fragment"
    }
   },
   "source": [
    "Use the `as` keyword with an `import` to make your own abbreviation."
   ]
  },
  {
   "cell_type": "code",
   "execution_count": 7,
   "id": "6dcecd63",
   "metadata": {},
   "outputs": [
    {
     "data": {
      "text/plain": [
       "9"
      ]
     },
     "execution_count": 7,
     "metadata": {},
     "output_type": "execute_result"
    }
   ],
   "source": [
    "import numpy as np\n",
    "\n",
    "my_array = np.array([1, 9, 6])\n",
    "np.max(my_array)"
   ]
  },
  {
   "cell_type": "markdown",
   "id": "fcf0776e",
   "metadata": {
    "slideshow": {
     "slide_type": "fragment"
    }
   },
   "source": [
    "NumPy lets you do the same operation in parallel on every element of the array."
   ]
  },
  {
   "cell_type": "code",
   "execution_count": 8,
   "id": "1671856b",
   "metadata": {},
   "outputs": [
    {
     "name": "stdout",
     "output_type": "stream",
     "text": [
      "[2 2 0]\n"
     ]
    }
   ],
   "source": [
    "another_array = 2 * (my_array % 2)\n",
    "print(another_array)"
   ]
  },
  {
   "cell_type": "markdown",
   "id": "98bff5b6",
   "metadata": {
    "slideshow": {
     "slide_type": "fragment"
    }
   },
   "source": [
    "Arrays can one-dimensional (like a vector), two-dimensional (like a matrix), or any number of dimensions. "
   ]
  },
  {
   "cell_type": "code",
   "execution_count": 9,
   "id": "21e7ad64",
   "metadata": {},
   "outputs": [
    {
     "name": "stdout",
     "output_type": "stream",
     "text": [
      "[ 0  1  2  3  4  5  6  7  8  9 10 11 12 13 14]\n",
      "(15,)\n"
     ]
    }
   ],
   "source": [
    "arr1D = np.array(range(0, 15))\n",
    "print(arr1D)\n",
    "print(arr1D.shape)"
   ]
  },
  {
   "cell_type": "code",
   "execution_count": 10,
   "id": "956d9997",
   "metadata": {
    "scrolled": true,
    "slideshow": {
     "slide_type": "fragment"
    }
   },
   "outputs": [
    {
     "name": "stdout",
     "output_type": "stream",
     "text": [
      "[[ 0  1  2]\n",
      " [ 3  4  5]\n",
      " [ 6  7  8]\n",
      " [ 9 10 11]\n",
      " [12 13 14]]\n",
      "(5, 3)\n"
     ]
    }
   ],
   "source": [
    "arr2D = arr1D.reshape(5, 3)\n",
    "print(arr2D)\n",
    "print(arr2D.shape)"
   ]
  },
  {
   "cell_type": "code",
   "execution_count": 11,
   "id": "6268515c",
   "metadata": {
    "scrolled": true,
    "slideshow": {
     "slide_type": "fragment"
    }
   },
   "outputs": [
    {
     "name": "stdout",
     "output_type": "stream",
     "text": [
      "[[0 1 0]\n",
      " [1 0 1]\n",
      " [0 1 0]\n",
      " [1 0 1]\n",
      " [0 1 0]]\n",
      "(5, 3)\n"
     ]
    }
   ],
   "source": [
    "arr2D_2 = arr2D % 2\n",
    "print(arr2D_2)\n",
    "print(arr2D_2.shape)"
   ]
  },
  {
   "cell_type": "markdown",
   "id": "cd747a09",
   "metadata": {
    "slideshow": {
     "slide_type": "fragment"
    }
   },
   "source": [
    "If two arrays have the same shape, then we can do pairwise operations on their elements."
   ]
  },
  {
   "cell_type": "code",
   "execution_count": 12,
   "id": "4d4d58b0",
   "metadata": {},
   "outputs": [
    {
     "name": "stdout",
     "output_type": "stream",
     "text": [
      "[[ 0  0  2]\n",
      " [ 2  4  4]\n",
      " [ 6  6  8]\n",
      " [ 8 10 10]\n",
      " [12 12 14]]\n"
     ]
    }
   ],
   "source": [
    "arr2D_3 = arr2D - arr2D_2\n",
    "print(arr2D_3)"
   ]
  },
  {
   "cell_type": "markdown",
   "id": "e2f8dda2",
   "metadata": {},
   "source": [
    "  "
   ]
  },
  {
   "cell_type": "markdown",
   "id": "56c8c180",
   "metadata": {
    "slideshow": {
     "slide_type": "subslide"
    }
   },
   "source": [
    "### Indexing NumPy arrays"
   ]
  },
  {
   "cell_type": "markdown",
   "id": "4ce4cf60",
   "metadata": {},
   "source": [
    "For 1D arrays, <span class=\"new_term\">indexing</span> works just like Python with lists, including <span class=\"new_term\">assignment</span> and <span class=\"new_term\">slices</span>."
   ]
  },
  {
   "cell_type": "code",
   "execution_count": 83,
   "id": "1942c668",
   "metadata": {},
   "outputs": [
    {
     "data": {
      "text/plain": [
       "0"
      ]
     },
     "execution_count": 83,
     "metadata": {},
     "output_type": "execute_result"
    }
   ],
   "source": [
    "arr1D[5]"
   ]
  },
  {
   "cell_type": "code",
   "execution_count": 84,
   "id": "7f547d84",
   "metadata": {},
   "outputs": [
    {
     "name": "stdout",
     "output_type": "stream",
     "text": [
      "[   0 -100   11 -100    4    0    6    7    0    9   10    0   12   13\n",
      "    0]\n"
     ]
    }
   ],
   "source": [
    "arr1D[2] = 11\n",
    "print(arr1D)"
   ]
  },
  {
   "cell_type": "code",
   "execution_count": 86,
   "id": "ec969632",
   "metadata": {},
   "outputs": [
    {
     "name": "stdout",
     "output_type": "stream",
     "text": [
      "[   0 -100 -100 -100    4    0    6    7    0    9   10    0   12   13\n",
      "    0]\n"
     ]
    }
   ],
   "source": [
    "arr1D[1:4] = -100\n",
    "print(arr1D)"
   ]
  },
  {
   "cell_type": "markdown",
   "id": "c4879e8a",
   "metadata": {
    "slideshow": {
     "slide_type": "fragment"
    }
   },
   "source": [
    "For 2D (and higher) arrays, use commas to address along different axes."
   ]
  },
  {
   "cell_type": "code",
   "execution_count": 87,
   "id": "b015485d",
   "metadata": {},
   "outputs": [
    {
     "data": {
      "text/plain": [
       "10"
      ]
     },
     "execution_count": 87,
     "metadata": {},
     "output_type": "execute_result"
    }
   ],
   "source": [
    "arr2D[3, 1]"
   ]
  },
  {
   "cell_type": "code",
   "execution_count": 88,
   "id": "f78fc1e1",
   "metadata": {},
   "outputs": [
    {
     "name": "stdout",
     "output_type": "stream",
     "text": [
      "[[   0 -100    0]\n",
      " [-100    4    0]\n",
      " [   6    7    0]\n",
      " [   9   10    0]\n",
      " [  12   13    0]]\n"
     ]
    }
   ],
   "source": [
    "arr2D[:, 2] = 0\n",
    "print(arr2D)"
   ]
  },
  {
   "cell_type": "markdown",
   "id": "fe261593",
   "metadata": {},
   "source": [
    "<br><br><br>"
   ]
  },
  {
   "cell_type": "markdown",
   "id": "031d475a",
   "metadata": {
    "slideshow": {
     "slide_type": "subslide"
    }
   },
   "source": [
    "#### NumPy's `arange`\n",
    "\n",
    "Recall that \"native\" Python has a `range()` function, which works only for integers.  \n",
    "* The syntax is `range(START, STOP, STEP)`."
   ]
  },
  {
   "cell_type": "code",
   "execution_count": 89,
   "id": "208feb7c",
   "metadata": {},
   "outputs": [
    {
     "name": "stdout",
     "output_type": "stream",
     "text": [
      "1\n",
      "4\n",
      "7\n",
      "10\n",
      "13\n"
     ]
    }
   ],
   "source": [
    "for i in range(1, 15, 3):\n",
    "    print(i)"
   ]
  },
  {
   "cell_type": "markdown",
   "id": "6dc907f2",
   "metadata": {
    "slideshow": {
     "slide_type": "fragment"
    }
   },
   "source": [
    "NumPy has a similar function called `arange` that can be used for floats (numbers with decimal points) as well as integers. It returns an array."
   ]
  },
  {
   "cell_type": "code",
   "execution_count": 90,
   "id": "800a44b9",
   "metadata": {},
   "outputs": [
    {
     "name": "stdout",
     "output_type": "stream",
     "text": [
      "[0.1 0.4 0.7 1.  1.3]\n"
     ]
    }
   ],
   "source": [
    "my_array = np.arange(0.1, 1.5, 0.3)\n",
    "print(my_array)"
   ]
  },
  {
   "cell_type": "markdown",
   "id": "46f0a567",
   "metadata": {},
   "source": [
    " "
   ]
  },
  {
   "cell_type": "markdown",
   "id": "d1088f75",
   "metadata": {
    "slideshow": {
     "slide_type": "subslide"
    }
   },
   "source": [
    "#### NumPy stats\n",
    "\n",
    "NumPy has some basic statistics capabilities."
   ]
  },
  {
   "cell_type": "code",
   "execution_count": 20,
   "id": "dc129277",
   "metadata": {},
   "outputs": [
    {
     "data": {
      "text/plain": [
       "6.533333333333333"
      ]
     },
     "execution_count": 20,
     "metadata": {},
     "output_type": "execute_result"
    }
   ],
   "source": [
    "# mean value of array\n",
    "np.average(arr2D_3)"
   ]
  },
  {
   "cell_type": "code",
   "execution_count": 21,
   "id": "7e1ade42",
   "metadata": {},
   "outputs": [
    {
     "data": {
      "text/plain": [
       "4.349201714746691"
      ]
     },
     "execution_count": 21,
     "metadata": {},
     "output_type": "execute_result"
    }
   ],
   "source": [
    "# standard deviation of array\n",
    "np.std(arr2D_3)"
   ]
  },
  {
   "cell_type": "markdown",
   "id": "b7f7025f",
   "metadata": {
    "slideshow": {
     "slide_type": "slide"
    }
   },
   "source": [
    "### *SciPy* for science \n",
    "\n",
    "\n",
    "Closely tied with NumPy is SciPy, a huge library of tools for scientific computing.\n",
    "\n",
    "SciPy has much more comprehensive statistics capabilities."
   ]
  },
  {
   "cell_type": "code",
   "execution_count": 91,
   "id": "76ed63a5",
   "metadata": {
    "scrolled": true
   },
   "outputs": [
    {
     "name": "stdout",
     "output_type": "stream",
     "text": [
      "DescribeResult(nobs=5, minmax=(array([0, 0, 2]), array([12, 12, 14])), mean=array([5.6, 6.4, 7.6]), variance=array([22.8, 22.8, 22.8]), skewness=array([ 0.13802317, -0.13802317,  0.13802317]), kurtosis=array([-1.27931671, -1.27931671, -1.27931671]))\n"
     ]
    }
   ],
   "source": [
    "from scipy import stats  # stats is a module in the scipy package\n",
    "\n",
    "print(stats.describe(arr2D_3))"
   ]
  },
  {
   "cell_type": "markdown",
   "id": "a0235463",
   "metadata": {
    "slideshow": {
     "slide_type": "slide"
    }
   },
   "source": [
    "## MatPlotLib for plotting"
   ]
  },
  {
   "cell_type": "markdown",
   "id": "7e646134",
   "metadata": {},
   "source": [
    "MatPlotLib is the most widely used plotting library in Python."
   ]
  },
  {
   "cell_type": "code",
   "execution_count": 92,
   "id": "0e117df3",
   "metadata": {},
   "outputs": [],
   "source": [
    "from matplotlib import pyplot as plt"
   ]
  },
  {
   "cell_type": "code",
   "execution_count": 93,
   "id": "1a168628",
   "metadata": {
    "slideshow": {
     "slide_type": "fragment"
    }
   },
   "outputs": [
    {
     "data": {
      "image/png": "[encoded data removed]",
      "text/plain": [
       "<Figure size 432x288 with 1 Axes>"
      ]
     },
     "metadata": {
      "needs_background": "light"
     },
     "output_type": "display_data"
    }
   ],
   "source": [
    "x_values = np.arange(-20, 21)\n",
    "y_values = 5 * x_values**2\n",
    "\n",
    "plt.scatter(x_values, y_values)\n",
    "plt.title(\"y = 5 x^2\");"
   ]
  },
  {
   "cell_type": "markdown",
   "id": "efdc25eb",
   "metadata": {
    "slideshow": {
     "slide_type": "fragment"
    }
   },
   "source": [
    "Heatmaps are a way to view 2-dimensional data, and can be created using `imshow()`."
   ]
  },
  {
   "cell_type": "code",
   "execution_count": 94,
   "id": "174d5e2a",
   "metadata": {
    "slideshow": {
     "slide_type": "-"
    }
   },
   "outputs": [
    {
     "data": {
      "image/png": "[encoded data removed]",
      "text/plain": [
       "<Figure size 432x288 with 2 Axes>"
      ]
     },
     "metadata": {
      "needs_background": "light"
     },
     "output_type": "display_data"
    }
   ],
   "source": [
    "random_data = np.random.random((5, 5))  # 5x5 array of random values between 0 and 1\n",
    "plt.imshow(random_data)\n",
    "plt.title(\"Heatmap of some random values\")\n",
    "plt.colorbar();"
   ]
  },
  {
   "cell_type": "markdown",
   "id": "fd27abe6",
   "metadata": {
    "slideshow": {
     "slide_type": "slide"
    }
   },
   "source": [
    "## Summary"
   ]
  },
  {
   "cell_type": "markdown",
   "id": "0409252e",
   "metadata": {
    "slideshow": {
     "slide_type": "fragment"
    }
   },
   "source": [
    "* Vast functionality beyond \"native\" Python is available from *packages*. "
   ]
  },
  {
   "cell_type": "markdown",
   "id": "9a4ebdfd",
   "metadata": {
    "slideshow": {
     "slide_type": "fragment"
    }
   },
   "source": [
    "* `import` *modules* from *packages* to use their *methods*\n",
    "    ```python\n",
    "    from [package] import [module] as [abbreviation]\n",
    "    [abbreviation].[method](...)\n",
    "    ```"
   ]
  },
  {
   "cell_type": "markdown",
   "id": "c06a439b",
   "metadata": {
    "slideshow": {
     "slide_type": "fragment"
    }
   },
   "source": [
    "* Use NumPy arrays for fast array math -- [numpy.org](https://numpy.org/)"
   ]
  },
  {
   "cell_type": "markdown",
   "id": "200958bb",
   "metadata": {
    "slideshow": {
     "slide_type": "fragment"
    }
   },
   "source": [
    "* SciPy does science-relevant calculations on NumPy arrays -- [scipy.org](https://scipy.org/)"
   ]
  },
  {
   "cell_type": "markdown",
   "id": "f1030b37",
   "metadata": {
    "slideshow": {
     "slide_type": "fragment"
    }
   },
   "source": [
    "* MatPlotLib lets us view and share the results -- [matplotlib.org](https://matplotlib.org/)"
   ]
  },
  {
   "cell_type": "markdown",
   "id": "c5b8f3dd",
   "metadata": {
    "slideshow": {
     "slide_type": "fragment"
    }
   },
   "source": [
    "### Next steps"
   ]
  },
  {
   "cell_type": "markdown",
   "id": "b9bb1317",
   "metadata": {},
   "source": [
    "* You can download Python from www.python.org and run your own programs on your computer. \n",
    "\n",
    "* An important item we couldn't cover in this format is **running Python files from the command line**. If a grad student in your lab wrote a Python script, this is how you would probably use it... so ask your mentor! \n",
    "\n",
    "* We didn't have time to cover **object-oriented programming** and <span class=\"new_term\">classes</span>. If you want to learn more, look for tutorials such as [https://docs.python.org/3/tutorial/classes.html](https://docs.python.org/3/tutorial/classes.html).\n",
    "\n",
    "\n",
    "These slides will be posted and linked from [pages.jh.edu/dbeller3/education-outreach.html](pages.jh.edu/dbeller3/education-outreach.html) — which is a webpage created using Python!\n",
    "\n",
    "Happy coding!\n",
    "\n",
    "<br><br><br>"
   ]
  },
  {
   "cell_type": "markdown",
   "id": "31095da2",
   "metadata": {},
   "source": [
    "<br><br><br>"
   ]
  }
 ],
 "metadata": {
  "celltoolbar": "Slideshow",
  "kernelspec": {
   "display_name": "conda-python39",
   "language": "python",
   "name": "conda-python39"
  },
  "language_info": {
   "codemirror_mode": {
    "name": "ipython",
    "version": 3
   },
   "file_extension": ".py",
   "mimetype": "text/x-python",
   "name": "python",
   "nbconvert_exporter": "python",
   "pygments_lexer": "ipython3",
   "version": "3.9.2"
  }
 },
 "nbformat": 4,
 "nbformat_minor": 5
}
